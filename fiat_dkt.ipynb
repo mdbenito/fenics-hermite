{
 "cells": [
  {
   "cell_type": "markdown",
   "metadata": {},
   "source": [
    "# DKTs implementation for FIAT\n",
    "\n",
    "Main issues:\n",
    "\n",
    "* Implement the constraint. `__call__` is not used, `to_riesz()` is. Since the constraint is a linear combination of previously defined ones, this is not an issue.\n",
    "* Number of basis functions < number of expansion functions $\\implies$ discrepancies in matrix sizes (e.g. dmats) and reported dimensions. Currently a lot of hacks seem to get us going."
   ]
  },
  {
   "cell_type": "code",
   "execution_count": null,
   "metadata": {
    "collapsed": false
   },
   "outputs": [],
   "source": [
    "from FIAT import polynomial_set, finite_element, functional, dual_set\n",
    "from FIAT.reference_element import DefaultTriangle\n",
    "from __future__ import print_function\n",
    "import nbimporter\n",
    "import numpy as np\n",
    "np.set_printoptions(precision=2, linewidth=100, threshold=1000)\n",
    "import matplotlib.pyplot as pl\n",
    "%matplotlib inline"
   ]
  },
  {
   "cell_type": "code",
   "execution_count": null,
   "metadata": {
    "collapsed": false
   },
   "outputs": [],
   "source": [
    "class DKTConstraint(functional.Functional):\n",
    "    \"\"\"Functional representing the DKT constraint.\"\"\"\n",
    "\n",
    "    def __init__(self, ref_el, x):\n",
    "        pt_dict = {x: [(1.0, tuple())]}  # {point: [weight, coefficient]}\n",
    "        super(DKTConstraint, self).__init__(ref_el, tuple(), pt_dict, {}, \"DKTConstraint\")\n",
    "\n",
    "    def __call__(self, fn):\n",
    "        \"\"\"Evaluate the functional on the function fn.\"\"\"\n",
    "        xt, yt = tuple(self.pt_dict.keys())[0]\n",
    "        r = -fn((xt,yt))\n",
    "        for x,y in [(0.,0.), (1.,0.), (0.,1.)]:\n",
    "            dx = functional.PointDerivative(self.ref_el, (x,y), (1,0))\n",
    "            dy = functional.PointDerivative(self.ref_el, (x,y), (0,1))\n",
    "            r += (fn((x,y)) + dx(fn)*(xt-x) + dy(fn)*(yt-y))/3.\n",
    "        return r\n",
    "\n",
    "    def to_riesz(self, poly_set):\n",
    "        \"\"\"Constructs an array representation of the functional over\n",
    "        the base of the given polynomial_set so that f(phi) for any\n",
    "        phi in poly_set is given by a dot product.\"\"\"\n",
    "        \n",
    "        xt, yt = tuple(self.pt_dict.keys())[0]\n",
    "        f = functional.PointEvaluation(self.ref_el, (xt,yt))\n",
    "        r = -f.to_riesz(poly_set)\n",
    "        for x,y in [(0.,0.), (1.,0.), (0.,1.)]:\n",
    "            dx = functional.PointDerivative(self.ref_el, (x,y), (1,0))\n",
    "            dy = functional.PointDerivative(self.ref_el, (x,y), (0,1))\n",
    "            f = functional.PointEvaluation(self.ref_el, (x,y))\n",
    "            r += (f.to_riesz(poly_set) + \n",
    "                  dx.to_riesz(poly_set)*(xt-x) + \n",
    "                  dy.to_riesz(poly_set)*(yt-y))/3.\n",
    "        return r\n",
    "   \n",
    "    def tostr(self):\n",
    "        x = list(map(str, list(self.pt_dict.keys())[0]))\n",
    "        return \"constraint at (%s)\" % (','.join(x),)"
   ]
  },
  {
   "cell_type": "code",
   "execution_count": null,
   "metadata": {
    "collapsed": false
   },
   "outputs": [],
   "source": [
    "class DKTDualSet(dual_set.DualSet):\n",
    "    \"\"\"The dual basis for Discrete Kirchhoff Triangles.\n",
    "    This class works for simplices of any dimension.\n",
    "    Nodes are point evaluation and derivatives at vertices,\n",
    "    plus a constraint at the barycenter.\n",
    "    Spatial dimension must be 2. \"\"\"\n",
    "\n",
    "    def __init__(self, ref_el):\n",
    "        entity_ids = {}\n",
    "        nodes = []\n",
    "        cur = 0  # counter for the nodes (Functionals) added (yes?)\n",
    "\n",
    "        top = ref_el.get_topology()\n",
    "        verts = ref_el.get_vertices()\n",
    "        sd = ref_el.get_spatial_dimension()\n",
    "        assert sd == 2, \"DKT only defined for spatial dimension 2 (was %d)\" % sd\n",
    "        # Vertex dofs: one point evaluation and sd partial derivatives\n",
    "        entity_ids[0] = {}\n",
    "        for v in sorted(top[0]):\n",
    "            nodes.append(functional.PointEvaluation(ref_el, verts[v]))\n",
    "            pd = functional.PointDerivative\n",
    "            for i in range(sd):\n",
    "                alpha = [0] * sd\n",
    "                alpha[i] = 1\n",
    "                nodes.append(pd(ref_el, verts[v], alpha))\n",
    "\n",
    "            entity_ids[0][v] = list(range(cur, cur + 1 + sd))\n",
    "            cur += sd + 1\n",
    "\n",
    "        # no edge dofs\n",
    "        entity_ids[1] = {}\n",
    "        for e in sorted(top[1]):\n",
    "            entity_ids[1][e] = []\n",
    "\n",
    "        # Constraint at the barycenter\n",
    "        entity_ids[2] = {}\n",
    "        face = 0\n",
    "        #pt = ref_el.make_points(2, face, 3)[0]  # Returns (-0.3, -0.3) !?!?\n",
    "        #nodes.append(DKTConstraint(ref_el, pt))\n",
    "        nodes.append(DKTConstraint(ref_el, (1./3, 1./3)))\n",
    "        entity_ids[2] = {face: [cur]}\n",
    "\n",
    "        super(DKTDualSet, self).__init__(nodes, ref_el, entity_ids)"
   ]
  },
  {
   "cell_type": "code",
   "execution_count": null,
   "metadata": {
    "collapsed": false
   },
   "outputs": [],
   "source": [
    "class DiscreteKirchhoffTriangle(finite_element.CiarletElement):\n",
    "    \"\"\"The Kirchhoff Discrete Triangle element.\n",
    "\n",
    "    This is only defined over triangles. There are three degrees\n",
    "    of freedom per vertex: one point evaluation and both partial\n",
    "    derivatives.\n",
    "    \"\"\"\n",
    "\n",
    "    def __init__(self, ref_el, degree=3):\n",
    "        # Degree is fixed to 3 for DKTs.\n",
    "        if ref_el.get_spatial_dimension() != 2:\n",
    "            raise Exception(\"DKT requires spatial dimension 2 (was %d)\" % sd)\n",
    "        # TODO: check that we have a triangle!\n",
    "        poly_set = polynomial_set.ONPolynomialSet(ref_el, 3)\n",
    "        dual = DKTDualSet(ref_el)\n",
    "\n",
    "        super(DiscreteKirchhoffTriangle, self).__init__(poly_set, dual, 3)\n",
    "\n",
    "    def mapping(self):\n",
    "        \"\"\" \"\"\"\n",
    "        # FIXME: is this correct?\n",
    "        mappings = []\n",
    "        for f in self.dual_basis():\n",
    "            if isinstance(f, functional.PointEvaluation):\n",
    "                mappings.append(\"affine\")\n",
    "            elif isinstance(f, functional.PointDerivative):\n",
    "                mappings.append(\"hermite\")\n",
    "            elif isinstance(f, DKTConstraint):\n",
    "                # HACK: tell FFC to ignore this dof\n",
    "                mappings.append(\"zero\")\n",
    "        return mappings\n",
    "\n",
    "    ###### From here on, things get TRULY hacky\n",
    "    def space_dimension(self):\n",
    "        \"\"\"Return the dimension of the finite element space.\"\"\"\n",
    "        return 9\n",
    "    \n",
    "    def degree(self):\n",
    "        \"\"\"Return the degree of the (embedding) polynomial space.\"\"\"\n",
    "        return 3\n",
    "\n",
    "    def dual_basis(self):\n",
    "        \"\"\"Return the dual basis (list of functionals) for the finite\n",
    "        element.\"\"\"\n",
    "        return self.dual.get_nodes()[:-1]\n",
    "    \n",
    "    def tabulate(self, order, points, entity=None):\n",
    "        \"\"\"Return tabulated values of derivatives up to given order of\n",
    "        basis functions at given points.\n",
    "\n",
    "        :arg order: The maximum order of derivative.\n",
    "        :arg points: An iterable of points.\n",
    "        :arg entity: Optional (dimension, entity number) pair\n",
    "                     indicating which topological entity of the\n",
    "                     reference element to tabulate on.  If ``None``,\n",
    "                     default cell-wise tabulation is performed.\n",
    "        \"\"\"\n",
    "        if entity is None:\n",
    "            entity = (self.ref_el.get_spatial_dimension(), 0)\n",
    "\n",
    "        entity_dim, entity_id = entity\n",
    "        transform = self.ref_el.get_entity_transform(entity_dim, entity_id)\n",
    "        tabulated = self.poly_set.tabulate(list(map(transform, points)), order)\n",
    "        # Remove last row (constraint polynomial)\n",
    "        return {k: v[:-1, :] for k, v in tabulated.items()}\n",
    "\n",
    "    def get_num_members(self, arg):\n",
    "        \"Return number of members of the expansion set.\"\n",
    "        # FIXME: the expansion set has size 10, but we declare a space_dimension of 9\n",
    "        # This will most likely lead to issues / bugs.\n",
    "        return self.get_nodal_basis().get_expansion_set().get_num_members(arg)\n",
    "\n",
    "    def entity_dofs(self):\n",
    "        \"\"\"Return the map of topological entities to degrees of\n",
    "        freedom for the finite element.\"\"\"\n",
    "        return {0: {0: [0, 1, 2], 1: [3, 4, 5], 2: [6, 7, 8]},\n",
    "                1: {0: [], 1: [], 2: []},\n",
    "                2: {0: []}}\n",
    "\n",
    "    def entity_closure_dofs(self):\n",
    "        \"\"\"Return the map of topological entities to degrees of\n",
    "        freedom on the closure of those entities for the finite element.\"\"\"\n",
    "        return {0: {0: [0, 1, 2], 1: [3, 4, 5], 2: [6, 7, 8]},\n",
    "                1: {0: [3, 4, 5, 6, 7, 8], 1: [0, 1, 2, 6, 7, 8], 2: [0, 1, 2, 3, 4, 5]},\n",
    "                2: {0: [0, 1, 2, 3, 4, 5, 6, 7, 8]}}\n",
    "\n",
    "    def get_formdegree(self):\n",
    "        \"\"\"Return the degree of the associated form (FEEC)\"\"\"\n",
    "        return self.formdegree"
   ]
  },
  {
   "cell_type": "markdown",
   "metadata": {},
   "source": [
    "This won't work:"
   ]
  },
  {
   "cell_type": "markdown",
   "metadata": {
    "collapsed": true
   },
   "source": [
    "```python\n",
    "from FIAT.polynomial_set import PolynomialSet\n",
    "\n",
    "ref_el = DefaultTriangle()\n",
    "e = DiscreteKirchhoffTriangle(ref_el)\n",
    "ps = e.get_nodal_basis()\n",
    "coeffs = ps.get_coeffs()[:-1,]\n",
    "dmats = map(lambda a: a[:-1,], ps.get_dmats())\n",
    "ps2 = PolynomialSet(ref_el, \n",
    "                    ps.get_degree(),\n",
    "                    ps.get_embedded_degree(),\n",
    "                    ps.get_expansion_set(),\n",
    "                    coeffs,\n",
    "                    dmats)\n",
    "ps2.tabulate([0.,0.])\n",
    "-> ValueError: shapes (9,9) and (10,) not aligned: 9 (dim 1) != 10 (dim 0)\n",
    "```"
   ]
  },
  {
   "cell_type": "code",
   "execution_count": null,
   "metadata": {
    "collapsed": false
   },
   "outputs": [],
   "source": [
    "ref_el = DefaultTriangle()\n",
    "fe = DiscreteKirchhoffTriangle(ref_el)\n",
    "ps = fe.get_nodal_basis()\n",
    "coeffs = ps.get_coeffs()\n",
    "fe.get_coeffs().round(1)\n",
    "\n",
    "f = functional.PointEvaluation(ref_el, (0.,0.))\n",
    "dx = functional.PointDerivative(ref_el, (0.,0.), (1,0))\n",
    "f.to_riesz(ps), dx.to_riesz(ps)\n",
    "\n",
    "# tabulate doesn't really do what I think or I'm missing part of the trafo\n",
    "#zz = fe.tabulate(1, mesh.coordinates())[(1,0)]\n",
    "#zz = fe.tabulate(0, mesh.coordinates())[(0,0)]"
   ]
  },
  {
   "cell_type": "markdown",
   "metadata": {},
   "source": [
    "# FFC compilation and dolfin Element\n",
    "\n",
    "Once we paste the above code into FIAT and FFC can access the new element we may compile and use it from within dolfin.\n",
    "\n",
    "We first plot the basis functions over the reference triangle. For this we need to evaluate them onto a triangle"
   ]
  },
  {
   "cell_type": "code",
   "execution_count": null,
   "metadata": {
    "collapsed": false
   },
   "outputs": [],
   "source": [
    "from dolfin import UnitTriangleMesh, refine, Cell, FiniteElement, Point\n",
    "\n",
    "def evaluate_shape_functions_reference(element, points):\n",
    "    \"\"\" Evaluates shape functions over points in the reference simplex.\n",
    "\n",
    "    Arguments\n",
    "    ---------\n",
    "        element: dolfin.cpp.fem.FiniteElement \n",
    "        points: (n,d) array of *reference* coordinates (i.e. in [0,1])\n",
    "        \n",
    "    Returns\n",
    "    -------\n",
    "        An ndarray values of shape = (element.space_dimension(), points.size).\n",
    "    \"\"\"\n",
    "    for x,y in points:\n",
    "        assert 0. <= x <= 1-y and 0 <= y, \\\n",
    "               \"Points for evaluation must lie in the reference simplex\"\n",
    "    assert len(points.shape) == 2 and points.shape[1] == 2,\\\n",
    "           \"I need a list of 2D points as an ndarray of shape (n,2)\"\n",
    "\n",
    "    coordinate_dofs = UnitTriangleMesh().coordinates()\n",
    "    dim = element.space_dimension()\n",
    "    val = np.zeros(dim)\n",
    "    values = np.zeros((dim, points.shape[0]))\n",
    "    for j, x in enumerate(points):\n",
    "        element.evaluate_basis_all(val, x, coordinate_dofs, 0)\n",
    "        values[:,j] = val.copy()\n",
    "    return values"
   ]
  },
  {
   "cell_type": "markdown",
   "metadata": {},
   "source": [
    "In order to use the previous plotting function we compile the dolfin element:"
   ]
  },
  {
   "cell_type": "code",
   "execution_count": null,
   "metadata": {
    "collapsed": false
   },
   "outputs": [],
   "source": [
    "import ufl\n",
    "from dolfin.compilemodules.jit import jit\n",
    "import dolfin.cpp\n",
    "\n",
    "ue = ufl.FiniteElement('DKT', 'triangle', 3)\n",
    "mesh = UnitTriangleMesh()\n",
    "ufc_element, ufc_dofmap = jit(ue, mpi_comm=mesh.mpi_comm())\n",
    "dolfin_element = dolfin.cpp.FiniteElement(ufc_element)"
   ]
  },
  {
   "cell_type": "code",
   "execution_count": null,
   "metadata": {
    "collapsed": false
   },
   "outputs": [],
   "source": [
    "mesh = refine(refine(refine(refine(refine(refine(UnitTriangleMesh()))))))\n",
    "x,y = mesh.coordinates()[:, 0], mesh.coordinates()[:, 1]\n",
    "zz = evaluate_shape_functions_reference(dolfin_element, mesh.coordinates())"
   ]
  },
  {
   "cell_type": "code",
   "execution_count": null,
   "metadata": {
    "collapsed": false
   },
   "outputs": [],
   "source": [
    "from mpl_toolkits.mplot3d import Axes3D\n",
    "from matplotlib import cm\n",
    "\n",
    "def plot_scalar(xx, yy, zz):\n",
    "    \"\"\" Plots scalar functions as scatterplots.\"\"\"\n",
    "    assert xx.shape == yy.shape, \"duh!\"\n",
    "    white = (1.0, 1.0, 1.0, 0.0)    \n",
    "    for i, z in enumerate(zz):\n",
    "        fig = pl.figure()\n",
    "        ax = fig.gca(projection='3d', title=\"$\\phi_{%d}$\" % i)\n",
    "        ax.scatter(xx, yy, z, s=3, marker='+')\n",
    "        \n",
    "        # Get rid of the panes\n",
    "        ax.w_xaxis.set_pane_color(white)\n",
    "        ax.w_yaxis.set_pane_color(white)\n",
    "        ax.w_zaxis.set_pane_color(white)\n",
    "\n",
    "        ax.xaxis.set_ticks([0., 1.])\n",
    "        ax.yaxis.set_ticks([0., 1.])\n",
    "        ax.zaxis.set_ticks([np.min(z), 0, np.max(z)])\n",
    "        pl.xlabel(\"x\")\n",
    "        pl.ylabel(\"y\")"
   ]
  },
  {
   "cell_type": "code",
   "execution_count": null,
   "metadata": {
    "collapsed": false,
    "scrolled": false
   },
   "outputs": [],
   "source": [
    "plot_scalar(x, y, zz)"
   ]
  },
  {
   "cell_type": "markdown",
   "metadata": {},
   "source": [
    "# Poisson 2D with DKTs\n",
    "\n",
    "We may basically copy&paste [the code for Hermite elements](poisson2d.ipynb), even using `apply_dirichlet_hermite()` for the Dirichlet BCs."
   ]
  },
  {
   "cell_type": "code",
   "execution_count": null,
   "metadata": {
    "collapsed": false
   },
   "outputs": [],
   "source": [
    "from dolfin import *\n",
    "import nbimporter\n",
    "from boundary import apply_dirichlet_hermite\n",
    "from utils import * \n",
    "import matplotlib.pyplot as pl\n",
    "import numpy as np\n",
    "%matplotlib inline\n",
    "import matplotlib.pyplot as pl\n",
    "\n",
    "V = FunctionSpace(UnitSquareMesh(20, 20, 'crossed'), 'DKT', 3)\n",
    "\n",
    "top = lambda x: near(x[1], 1.)\n",
    "right = lambda x: near(x[0], 1.)\n",
    "bottom = lambda x: near(x[1], 0.)\n",
    "left = lambda x: near(x[0], 0.)\n",
    "\n",
    "u0 = project(Constant(2.0), V)\n",
    "bc = DirichletBC(V, u0, fnor(top, right, bottom, left))\n",
    "\n",
    "class td_subdomain(SubDomain):\n",
    "    \"\"\" Top and bottom sides of the domain. \"\"\"\n",
    "    def inside(self, x, on_boundary):\n",
    "        # Careful using on_boundary: it's False if the DirichletBC method is 'pointwise'\n",
    "        return near(x[1], 0.) or near(x[1], 1.)\n",
    "\n",
    "class lr_subdomain(SubDomain):\n",
    "    \"\"\" Left and right sides of the domain. \"\"\"\n",
    "    def inside(self, x, on_boundary):\n",
    "        # Careful using on_boundary: it's False if the DirichletBC method is 'pointwise'\n",
    "        return near(x[0], 0.) or near(x[0], 1.)\n",
    "\n",
    "# We will use this to mark boundaries for natural boundary conditions\n",
    "exterior_facet_domains = FacetFunction(\"uint\", V.mesh(), value=1)\n",
    "#exterior_facet_domains.set_all(1)\n",
    "\n",
    "natural_boundary = td_subdomain()\n",
    "natural_boundary.mark(exterior_facet_domains, 0)\n",
    "ds_neu = ds(subdomain_data = exterior_facet_domains, subdomain_id=0)\n",
    "\n",
    "u = TrialFunction(V)\n",
    "v = TestFunction(V)\n",
    "#g = make_constant(0.0, V)\n",
    "f = project(Constant(4.0), V)\n",
    "a = inner(grad(u), grad(v))*dx\n",
    "F = f*v*dx # + g*v*ds_neu\n",
    "\n",
    "# Compute solution\n",
    "A = assemble(a)\n",
    "b = assemble(F)\n",
    "Ac = A.copy()\n",
    "print(\"Applying BCs... \", end='')\n",
    "apply_dirichlet_hermite(A, b, bc)\n",
    "print(\"done.\")\n",
    "u = Function(V)\n",
    "uv = u.vector()\n",
    "_ = solve(A, uv, b)"
   ]
  },
  {
   "cell_type": "code",
   "execution_count": null,
   "metadata": {
    "collapsed": false
   },
   "outputs": [],
   "source": [
    "plot(u, cmap='bone')"
   ]
  },
  {
   "cell_type": "markdown",
   "metadata": {},
   "source": [
    "As usual, a cross section of the solution displays weird interior effects, possibly due to the dofs corresponding to derivatives not being properly set."
   ]
  },
  {
   "cell_type": "code",
   "execution_count": null,
   "metadata": {
    "collapsed": false
   },
   "outputs": [],
   "source": [
    "xx = np.linspace(0,1,100)\n",
    "pl.plot(xx, [u([x,0.5]) for x in xx])"
   ]
  },
  {
   "cell_type": "markdown",
   "metadata": {},
   "source": [
    "# A simple test\n",
    "\n",
    "The simplest we can do is project and integrate a constant onto a DKT space. Notice that even though the projected function is correct, there are still internal fluctuations (of order $10^{-12}$)."
   ]
  },
  {
   "cell_type": "code",
   "execution_count": null,
   "metadata": {
    "collapsed": false
   },
   "outputs": [],
   "source": [
    "V = FunctionSpace(UnitSquareMesh(10,10,'crossed'), 'DKT', 3)\n",
    "g = project(Constant(1.0), V)\n",
    "print(\"integral = %f\" % assemble(g*dx))\n",
    "_ = plot(g)"
   ]
  },
  {
   "cell_type": "code",
   "execution_count": null,
   "metadata": {
    "collapsed": false
   },
   "outputs": [],
   "source": [
    "zz = np.zeros((100,100))\n",
    "for m,n in np.ndindex(zz.shape):\n",
    "    zz[m,n] = g([m/100., n/100.])\n",
    "print(\"max - min = %e\" % (zz.max() - zz.min()))\n",
    "_ = pl.imshow(zz)"
   ]
  },
  {
   "cell_type": "markdown",
   "metadata": {},
   "source": [
    "The boundaries seem to cause bigger issues too:"
   ]
  },
  {
   "cell_type": "code",
   "execution_count": null,
   "metadata": {
    "collapsed": false
   },
   "outputs": [],
   "source": [
    "xx = np.linspace(0,1,100)\n",
    "for y in np.arange(0,1,0.1):\n",
    "    pl.plot(xx, [g(x,y) for x in xx])"
   ]
  },
  {
   "cell_type": "markdown",
   "metadata": {},
   "source": [
    "Per cell, everything looks fine up to the 11th decimal number."
   ]
  },
  {
   "cell_type": "code",
   "execution_count": null,
   "metadata": {
    "collapsed": false
   },
   "outputs": [],
   "source": [
    "gva = g.vector().array()\n",
    "gva[V.dofmap().cell_dofs(123)].round(11)"
   ]
  }
 ],
 "metadata": {
  "kernelspec": {
   "display_name": "Python 2",
   "language": "python",
   "name": "python2"
  },
  "language_info": {
   "codemirror_mode": {
    "name": "ipython",
    "version": 2
   },
   "file_extension": ".py",
   "mimetype": "text/x-python",
   "name": "python",
   "nbconvert_exporter": "python",
   "pygments_lexer": "ipython2",
   "version": "2.7.12"
  }
 },
 "nbformat": 4,
 "nbformat_minor": 2
}
