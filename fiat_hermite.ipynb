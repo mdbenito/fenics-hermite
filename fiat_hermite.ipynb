{
 "cells": [
  {
   "cell_type": "markdown",
   "metadata": {},
   "source": [
    "# Intro\n",
    "\n",
    "This notebook contains the implementation of Hermite elements in FIAT as well as multiple tests. See:\n",
    "\n",
    "* [hermite.tm](hermite.tm) for the math involved. \n",
    "* [interpolation.ipynb](interpolation.ipynb) for the implementation of nodal interpolation of Hermite (PointDerivative) dofs.\n",
    "* [quadrature.ipynb](quadrature.ipynb) for the implementation of the quadrature representation of forms requiring Hermite transforms.\n",
    "* [boundary.ipynb](boundary.ipynb) for details and problems related to the specification of *essential* boundary conditions."
   ]
  },
  {
   "cell_type": "code",
   "execution_count": null,
   "metadata": {
    "collapsed": true
   },
   "outputs": [],
   "source": [
    "import numpy as np\n",
    "import matplotlib.pyplot as pl\n",
    "%matplotlib inline"
   ]
  },
  {
   "cell_type": "markdown",
   "metadata": {},
   "source": [
    "# Dual set\n",
    "This is the final implementation, as it is now inside the FIAT code:"
   ]
  },
  {
   "cell_type": "code",
   "execution_count": null,
   "metadata": {
    "collapsed": true
   },
   "outputs": [],
   "source": [
    "from FIAT import finite_element, polynomial_set, dual_set, functional, reference_element\n",
    "\n",
    "class CubicHermiteDualSet(dual_set.DualSet):\n",
    "    \"\"\"The dual basis for Cubic Hermite elements.\n",
    "    This class works for simplices of any dimension.\n",
    "    Nodes are point evaluation and derivatives at vertices,\n",
    "    plus point evaluation at the barycenter of each face if\n",
    "    the spatial dimension is >= 2. \"\"\"\n",
    "\n",
    "    def __init__(self, ref_el):\n",
    "        entity_ids = {}\n",
    "        nodes = []\n",
    "        cur = 0\n",
    "\n",
    "        top = ref_el.get_topology()\n",
    "        verts = ref_el.get_vertices()\n",
    "        sd = ref_el.get_spatial_dimension()\n",
    "\n",
    "        # Vertex dofs: one point evaluation and sd partial derivatives\n",
    "        entity_ids[0] = {}\n",
    "        for v in sorted(top[0]):\n",
    "            nodes.append(functional.PointEvaluation(ref_el, verts[v]))\n",
    "            pd = functional.PointDerivative\n",
    "            for i in range(sd):\n",
    "                alpha = [0] * sd\n",
    "                alpha[i] = 1\n",
    "\n",
    "                nodes.append(pd(ref_el, verts[v], alpha))\n",
    "\n",
    "            entity_ids[0][v] = list(range(cur, cur + 1 + sd))\n",
    "            cur += sd + 1\n",
    "\n",
    "        # no edge dofs\n",
    "        entity_ids[1] = {}\n",
    "        for e in sorted(top[1]):\n",
    "            entity_ids[1][e] = []\n",
    "\n",
    "        if sd >= 2:\n",
    "            # face dof\n",
    "            # point evaluation at barycenter\n",
    "            entity_ids[2] = {}\n",
    "            for f in sorted(top[2]):\n",
    "                pt = ref_el.make_points(2, f, 3)[0]\n",
    "                n = functional.PointEvaluation(ref_el, pt)\n",
    "                nodes.append(n)\n",
    "                entity_ids[2][f] = list(range(cur, cur + 1))\n",
    "                cur += 1\n",
    "\n",
    "            # No more dof in higher dimensions\n",
    "            for dim in range(3, sd + 1):\n",
    "                entity_ids[dim] = {x: [] for x in sorted(top[dim])}\n",
    "\n",
    "        super(CubicHermiteDualSet, self).__init__(nodes, ref_el, entity_ids)"
   ]
  },
  {
   "cell_type": "markdown",
   "metadata": {},
   "source": [
    "# Finite element"
   ]
  },
  {
   "cell_type": "code",
   "execution_count": null,
   "metadata": {
    "collapsed": true
   },
   "outputs": [],
   "source": [
    "class CubicHermite(finite_element.CiarletElement):\n",
    "    \"\"\" The cubic Hermite finite element.\n",
    "    There are three degrees of freedom per vertex and one additional\n",
    "    for each barycenter of a 2d face. \"\"\"\n",
    "\n",
    "    def __init__(self, ref_el, degree=3):\n",
    "        # Degree is fixed to 3 for cubic Hermite elements.\n",
    "        poly_set = polynomial_set.ONPolynomialSet(ref_el, 3)\n",
    "        dual = CubicHermiteDualSet(ref_el)\n",
    "        super(CubicHermite, self).__init__(poly_set, dual, 3)\n",
    "\n",
    "    def mapping(self):\n",
    "        # MBD FIXME: is this correct?\n",
    "        mappings = []\n",
    "        for f in self.dual_basis():\n",
    "            if isinstance(f, functional.PointEvaluation):\n",
    "                mappings.append(\"affine\")\n",
    "            elif isinstance(f, functional.PointDerivative):\n",
    "                mappings.append(\"hermite\")\n",
    "        return mappings\n"
   ]
  },
  {
   "cell_type": "markdown",
   "metadata": {},
   "source": [
    "# Tests\n",
    "\n",
    "## Construction of polynomial set\n",
    "\n",
    "This is taken from the constructor of `FIAT.finite_element.FiniteElement()`."
   ]
  },
  {
   "cell_type": "code",
   "execution_count": null,
   "metadata": {
    "collapsed": true
   },
   "outputs": [],
   "source": [
    "# build generalized Vandermonde matrix\n",
    "K = reference_element.ReferenceElement(shape = reference_element.LINE,\n",
    "                                       vertices = ((-1.0,),(1.0,)),\n",
    "                                       topology = reference_element.UFCInterval().get_topology())\n",
    "poly_set = polynomial_set.ONPolynomialSet(K, 3)\n",
    "old_coeffs = poly_set.get_coeffs()\n",
    "dual = CubicHermiteDualSet(K)\n",
    "dualmat = dual.to_riesz(poly_set)\n",
    "\n",
    "shp = dualmat.shape\n",
    "if len(shp) > 2:\n",
    "    num_cols = np.prod(shp[1:])\n",
    "\n",
    "    A = np.reshape(dualmat, (dualmat.shape[0], num_cols))\n",
    "    B = np.reshape(old_coeffs, (old_coeffs.shape[0], num_cols))\n",
    "else:\n",
    "    A = dualmat\n",
    "    B = old_coeffs\n",
    "\n",
    "V = np.dot(A, np.transpose(B))\n",
    "\n",
    "Vinv = np.linalg.inv(V)\n",
    "\n",
    "new_coeffs_flat = np.dot(np.transpose(Vinv), B)\n",
    "\n",
    "new_shp = tuple([new_coeffs_flat.shape[0]] + list(shp[1:]))\n",
    "new_coeffs = np.reshape(new_coeffs_flat, new_shp)\n",
    "\n",
    "#poly_set = PolynomialSet(K, poly_set.get_degree(), poly_set.get_embedded_degree(),\n",
    "#                         poly_set.get_expansion_set(), new_coeffs, poly_set.get_dmats())"
   ]
  },
  {
   "cell_type": "code",
   "execution_count": null,
   "metadata": {
    "collapsed": true
   },
   "outputs": [],
   "source": [
    "H = CubicHermite(K)\n",
    "print(np.round(H.poly_set.tabulate_new(K.get_vertices()),2))\n",
    "#print(np.round(H.poly_set.tabulate(K.get_vertices())[(0,0)],2))"
   ]
  },
  {
   "cell_type": "markdown",
   "metadata": {},
   "source": [
    "## Transformation of basis functions\n",
    "\n",
    "This is copied from `transform_hermite.py`, in a previous release of FIAT. It tests whether the nodal basis evaluated on a lattice over the reference element and over a transformed  element transforms well under an affine mapping.\n",
    "\n",
    "Basically, what we do is we compute the \"hermite\" transformation in `evaluatebasis.py` by hand:\n",
    "\n",
    "1. Tabulate (compute) the values of each basis function of the reference element over a lattice of points in the triangle, then multiply it by an adequate transformation matrix (mixing the values for the nodal basis functions related to derivatives).\n",
    "2. Tabulate the values of each basis function defined over a different simplex.\n",
    "3. Compare both results"
   ]
  },
  {
   "cell_type": "code",
   "execution_count": null,
   "metadata": {
    "collapsed": true
   },
   "outputs": [],
   "source": [
    "# Let's set up the reference triangle and another one\n",
    "Khat = reference_element.UFCTriangle()\n",
    "K = reference_element.ReferenceElement(shape = reference_element.TRIANGLE,\n",
    "                                       vertices = ((-1.0,-1.0),(1.0,-1.0),(-1.0,1.0)),\n",
    "                                       topology = Khat.get_topology())\n",
    "\n",
    "# Construct the affine mapping between them\n",
    "A, b = reference_element.make_affine_mapping(K.get_vertices(), Khat.get_vertices())\n",
    "\n",
    "# build the Hermite element on the two triangles\n",
    "Hhat = CubicHermite(Khat)\n",
    "H = CubicHermite(K)\n",
    "\n",
    "# get some points on each triangle\n",
    "pts_hat = Khat.make_lattice(6)\n",
    "pts = K.make_lattice(6)\n",
    "\n",
    "# as a sanity check on the affine mapping, make sure pts map to pts_hat\n",
    "for i, p in enumerate(pts):\n",
    "    if not np.allclose(pts_hat[i], np.dot(A, p) + b):\n",
    "        print(\"barf\")\n",
    "\n",
    "# Tabulate the Hermite basis on each triangle\n",
    "# Each column is the value of one nodal basis function evaluated at every point\n",
    "Hhat_tabulated = Hhat.get_nodal_basis().tabulate_new(pts_hat)\n",
    "H_tabulated = H.get_nodal_basis().tabulate_new(pts)\n",
    "\n",
    "### Prepare global transformation matrix\n",
    "M = np.zeros((10,10), dtype=np.double)\n",
    "Ainv = np.linalg.inv(A)\n",
    "\n",
    "# Point values are transformed as is\n",
    "# Derivative values are \"mixed\" with the Jacobian (see above)\n",
    "M[0,0] = 1.0\n",
    "M[3,3] = 1.0\n",
    "M[6,6] = 1.0\n",
    "M[9,9] = 1.0\n",
    "M[1:3,1:3] = np.transpose(Ainv)\n",
    "M[4:6,4:6] = np.transpose(Ainv)\n",
    "M[7:9,7:9] = np.transpose(Ainv)\n",
    "\n",
    "print(np.allclose(H_tabulated, np.dot(M.T, Hhat_tabulated)))"
   ]
  },
  {
   "cell_type": "code",
   "execution_count": null,
   "metadata": {
    "collapsed": true
   },
   "outputs": [],
   "source": [
    "Hhat_tabulated.shape"
   ]
  },
  {
   "cell_type": "code",
   "execution_count": null,
   "metadata": {
    "collapsed": true
   },
   "outputs": [],
   "source": [
    "basis = H.get_nodal_basis()\n",
    "np.round(basis.tabulate_new([(-1,-1),(-1,0),(0,0)]))"
   ]
  },
  {
   "cell_type": "markdown",
   "metadata": {},
   "source": [
    "# Misc\n",
    "\n",
    "## What are dmats?\n",
    "\n",
    "Dmats are \"expansion coefficients for basis function derivatives\", but I need to understand better the structure. "
   ]
  },
  {
   "cell_type": "code",
   "execution_count": null,
   "metadata": {
    "collapsed": true
   },
   "outputs": [],
   "source": [
    "from FIAT import lagrange\n",
    "Hhat = lagrange.Lagrange(Khat, 1)\n",
    "basis = Hhat.get_nodal_basis()\n",
    "dmats = basis.get_dmats()\n",
    "print(len(dmats), dmats[0].shape, dmats[1].shape)\n",
    "print(np.round(dmats[0], 1))\n",
    "print(np.round(dmats[1], 1))"
   ]
  }
 ],
 "metadata": {
  "hide_input": false,
  "kernelspec": {
   "display_name": "Python 3",
   "language": "python",
   "name": "python3"
  },
  "language_info": {
   "codemirror_mode": {
    "name": "ipython",
    "version": 3
   },
   "file_extension": ".py",
   "mimetype": "text/x-python",
   "name": "python",
   "nbconvert_exporter": "python",
   "pygments_lexer": "ipython3",
   "version": "3.5.2"
  },
  "toc": {
   "colors": {
    "hover_highlight": "#DAA520",
    "running_highlight": "#FF0000",
    "selected_highlight": "#FFD700"
   },
   "moveMenuLeft": true,
   "nav_menu": {
    "height": "189px",
    "width": "252px"
   },
   "navigate_menu": true,
   "number_sections": true,
   "sideBar": true,
   "threshold": 4,
   "toc_cell": false,
   "toc_section_display": "block",
   "toc_window_display": true,
   "widenNotebook": false
  }
 },
 "nbformat": 4,
 "nbformat_minor": 1
}
