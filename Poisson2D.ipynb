{
 "cells": [
  {
   "cell_type": "markdown",
   "metadata": {},
   "source": [
    "# Poisson 2D\n",
    "\n",
    "This notebook solves the linear problem:\n",
    "\n",
    "$$ - \\Delta u = f \\text{ in } \\Omega = [0,1]^2$$ \n",
    "\n",
    "with\n",
    "\n",
    "$$ f(x, y) = 10 \\exp^{-50 [(x - 1/2)^2 + (y - 1/2)^2)]} $$\n",
    "\n",
    "and boundary conditions given by\n",
    "\n",
    "$$    u(x, y) = 0 \\text{ for } x = 0 \\text{ or } x = 1 $$\n",
    "and\n",
    "\n",
    "$$ \\frac{\\partial u}{\\partial n}(x, y) = sin(5 x) \\text{ for } y = 0 \\text{ or } y = 1. $$\n",
    "\n",
    "The code setting up the variational problem is taken almost verbatim from the original dolfin demo:"
   ]
  },
  {
   "cell_type": "code",
   "execution_count": null,
   "metadata": {
    "collapsed": false
   },
   "outputs": [],
   "source": [
    "%matplotlib inline\n",
    "import matplotlib.pyplot as pl\n",
    "import numpy as np\n",
    "from IPython.display import Math\n",
    "\n",
    "from dolfin import *\n",
    "\n",
    "parameters[\"form_compiler\"][\"cpp_optimize\"] = False\n",
    "parameters[\"form_compiler\"][\"optimize\"] = False\n",
    "\n",
    "mesh = UnitSquareMesh(64, 64)\n",
    "\n",
    "def poisson(V):\n",
    "    \"\"\" Solves Poisson's eq on the unit square.\n",
    "    This code is based on DOLFIN's homonymous demo, (C) 2007-2011 Anders Logg\n",
    "\n",
    "        V: FunctionSpace.\n",
    "    \"\"\"\n",
    "    \n",
    "    # Define Dirichlet boundary (x = 0 or x = 1)\n",
    "    def boundary(x):\n",
    "        return x[0] < DOLFIN_EPS or x[0] > 1.0 - DOLFIN_EPS\n",
    "\n",
    "    # Define boundary condition\n",
    "    # Need to project to work around lack of evaluate_dofs() for Hermite\n",
    "    u0 = project(Constant(0.0), V)\n",
    "    bc = DirichletBC(V, u0, boundary)\n",
    "\n",
    "    # Define variational problem\n",
    "    u = TrialFunction(V)\n",
    "    v = TestFunction(V)\n",
    "    f = Expression(\"10*exp(-50*(pow(x[0] - 0.5, 2) + pow(x[1] - 0.5, 2)))\", degree=2)\n",
    "    g = Expression(\"sin(5*x[0])\", degree=2)\n",
    "    a = inner(grad(u), grad(v))*dx\n",
    "    L = f*v*dx + g*v*ds\n",
    "\n",
    "    # Compute solution\n",
    "    u = Function(V)\n",
    "    solve(a == L, u, bc)\n",
    "    return u"
   ]
  },
  {
   "cell_type": "markdown",
   "metadata": {},
   "source": [
    "## Four different solutions\n",
    "\n",
    "We use P1, P2 and P3 Lagrange elements as well as P3 Hermite elements and compare the results."
   ]
  },
  {
   "cell_type": "code",
   "execution_count": null,
   "metadata": {
    "collapsed": false
   },
   "outputs": [],
   "source": [
    "W = [None] + [FunctionSpace(mesh, \"Lagrange\", i) for i in range(1, 4)]\n",
    "lag = [None] + [poisson(W[p]) for p in range(1, 4)]\n",
    "\n",
    "pl.figure(figsize=(10, 4))\n",
    "for i in range(1, 4):\n",
    "    pl.subplot(1, 3, i)\n",
    "    plot(lag[i], title = \"P%d Lagrange\" % i, cmap='bone')"
   ]
  },
  {
   "cell_type": "code",
   "execution_count": null,
   "metadata": {
    "collapsed": false
   },
   "outputs": [],
   "source": [
    "V = FunctionSpace(mesh, \"Hermite\", 3)\n",
    "her = poisson(V)\n",
    "plot(her, cmap='bone')\n",
    "_ = pl.title(\"P3 Hermite\")"
   ]
  },
  {
   "cell_type": "markdown",
   "metadata": {},
   "source": [
    "## Relative errors\n",
    "\n",
    "We find a consistent relative error of around 16% measured in the $H^1$ norm and 4% in the $L^2$ norm."
   ]
  },
  {
   "cell_type": "code",
   "execution_count": null,
   "metadata": {
    "collapsed": false
   },
   "outputs": [],
   "source": [
    "pl.figure(figsize=(12,4))\n",
    "eqs = ''#\\\\begin{align}'\n",
    "for i in range(1,4):\n",
    "    diff = project(lag[i] - her, V)\n",
    "    diff.vector().abs()\n",
    "    eqs += '\\\\frac{||u_{\\\\text{l%d}} - u_{\\\\text{h3}}||_{L_2}}{||u_{\\\\text{l%d}}||_{L_2}} \\\\approx %.4f,\\ \\ \\ '\\\n",
    "           ' \\\\frac{||u_{\\\\text{l%d}} - u_{\\\\text{h3}}||_{H_1}}{||u_{\\\\text{l%d}}||_{H_1}} \\\\approx %.4f \\\\\\~ '\\\n",
    "           % (i, i, norm(diff, 'L2') / norm(lag[i], 'L2'), i, i, norm(diff, 'H1') / norm(lag[i], 'H1'))\n",
    "    pl.subplot(1,3,i)\n",
    "    plot(diff, title=\"|Lag%d - Her3|\" % i, cmap='bone')\n",
    "eqs += ''#'\\\\end{align}'\n",
    "Math(eqs)"
   ]
  },
  {
   "cell_type": "markdown",
   "metadata": {},
   "source": [
    "A final plot with some \"cross-sections\" at fixed ordinates for the P3 Lagrange vs Hermite elements. We need to cap the relative error because of very small denominators."
   ]
  },
  {
   "cell_type": "code",
   "execution_count": null,
   "metadata": {
    "collapsed": false
   },
   "outputs": [],
   "source": [
    "xx = np.linspace(0,1,100)\n",
    "pl.figure(figsize=(8,6))\n",
    "error_threshold = 0.5\n",
    "\n",
    "for y in np.linspace(0, 1, 4):\n",
    "    pl.plot(xx, [min(error_threshold, np.abs(diff(x,y)/lag[3](x,y))) for x in xx],\n",
    "            label=\"y = %.1f\" % y)\n",
    "    #pl.plot(xx, [diff(x,y) for x in xx], label=\"D@%.1f\" % y)\n",
    "    #pl.plot(xx, [her([x,y]) for x in xx], label=\"H@%.1f\" % y)\n",
    "    #pl.plot(xx, [lag([x,y]) for x in xx], label=\"L@%.1f\" % y)\n",
    "pl.title(\"Relative error (capped at %.1f) at multiple ordinates\" % error_threshold)\n",
    "_ = pl.legend()"
   ]
  }
 ],
 "metadata": {
  "kernelspec": {
   "display_name": "Python 2",
   "language": "python",
   "name": "python2"
  },
  "language_info": {
   "codemirror_mode": {
    "name": "ipython",
    "version": 2
   },
   "file_extension": ".py",
   "mimetype": "text/x-python",
   "name": "python",
   "nbconvert_exporter": "python",
   "pygments_lexer": "ipython2",
   "version": "2.7.12"
  }
 },
 "nbformat": 4,
 "nbformat_minor": 1
}
