{
 "cells": [
  {
   "cell_type": "markdown",
   "metadata": {},
   "source": [
    "# Warning\n",
    "\n",
    "After pulling 2017.2.dev from upstream (sigh), things are acting weirdly. Again.\n",
    "\n",
    "* `plot()` crashes if called with a function having NaNs. Why would I do that? Because:\n",
    "* `poisson()`, which naively uses an Hermite `FunctionSpace` and applies a standard `DirichletBC` produces such a solution (?)\n",
    "* The strange inner effects for the (correct) Hermite solutions have now disappeared from the plots. The cross sections look good. So either some interpolation is being done when calling `u(x)` on a solution `u` and it wasn't before, or something mysterious is going on.\n",
    "* The relative differences between Lagrange and Hermite solutions both in $L^2$ and $H^1$ norm have exploded. The latter is well above 1000%, yes: *ten times*.\n",
    "\n",
    "WTF?"
   ]
  },
  {
   "cell_type": "markdown",
   "metadata": {
    "slideshow": {
     "slide_type": "slide"
    }
   },
   "source": [
    "# Poisson 2D\n",
    "\n",
    "This notebook solves the linear problem:\n",
    "\n",
    "$$ - \\Delta u = f \\text{ in } \\Omega = [0,1]^2$$ \n",
    "\n",
    "with\n",
    "\n",
    "$$ f(x, y) = 10 \\exp^{-50 [(x - 1/2)^2 + (y - 1/2)^2)]} $$\n",
    "\n",
    "and boundary conditions given by\n",
    "\n",
    "$$    u(x, y) = 0 \\text{ for } x = 0 \\text{ or } x = 1 $$\n",
    "\n",
    "and\n",
    "\n",
    "$$ \\frac{\\partial u}{\\partial n}(x, y) = sin(5 x) \\text{ for } y = 0 \\text{ or } y = 1. $$\n",
    "\n",
    "The purpose is to find what the issues are while setting BCs using Hermite elements and fix them. See [Fixing the boundary conditions](#Fixing-the-boundary-conditions)."
   ]
  },
  {
   "cell_type": "code",
   "execution_count": null,
   "metadata": {
    "collapsed": true,
    "slideshow": {
     "slide_type": "skip"
    }
   },
   "outputs": [],
   "source": [
    "from __future__ import print_function\n",
    "from dolfin import *\n",
    "#import matplotlib as mpl\n",
    "#mpl.rcParams['figure.figsize'] = (12,12)  # This doesn't work\n",
    "import matplotlib.pyplot as pl\n",
    "import numpy as np\n",
    "from IPython.display import Math\n",
    "import autograd.numpy as np\n",
    "import nbimporter\n",
    "from interpolation import *\n",
    "from boundary import apply_dirichlet_hermite, plot_hermite_dofs\n",
    "from utils import make_derivatives\n",
    "\n",
    "%matplotlib inline\n",
    "\n",
    "parameters[\"form_compiler\"][\"cpp_optimize\"] = False\n",
    "parameters[\"form_compiler\"][\"optimize\"] = False\n",
    "parameters['form_compiler']['representation'] = 'quadrature'"
   ]
  },
  {
   "cell_type": "code",
   "execution_count": null,
   "metadata": {
    "collapsed": true,
    "slideshow": {
     "slide_type": "skip"
    }
   },
   "outputs": [],
   "source": [
    "def poisson(V):\n",
    "    \"\"\" Solves Poisson's eq on the unit square.\n",
    "    This code is based on DOLFIN's homonymous demo by Anders Logg.\n",
    "    \n",
    "    WARNING: this won't work for Hermite elements unless DirichletBC\n",
    "             has been fixed.\n",
    "\n",
    "    Arguments:\n",
    "    ----------\n",
    "        V: FunctionSpace.\n",
    "    Returns:\n",
    "    --------\n",
    "        Solution (Function in V).\n",
    "    \"\"\"\n",
    "    assert isinstance(V, FunctionSpace), \"Duh.\"\n",
    "\n",
    "    @make_derivatives\n",
    "    def rhs(x,y):\n",
    "        return 10*np.exp(-50*((x - 0.5)**2 + (y - 0.5)**2))\n",
    "\n",
    "    @make_derivatives\n",
    "    def neu(x,y):\n",
    "        return np.sin(5*x)\n",
    "    \n",
    "    def boundary(x):\n",
    "        return near(x[0], 0) or near(x[0], 1)\n",
    "\n",
    "    deg = V.ufl_element().degree()\n",
    "    # Need to project to work around lack of evaluate_dofs() for Hermite\n",
    "    u0 = project(Constant(0.0), V)\n",
    "    bc = DirichletBC(V, u0, boundary)\n",
    "\n",
    "    u = TrialFunction(V)\n",
    "    v = TestFunction(V)\n",
    "    a = inner(grad(u), grad(v))*dx\n",
    "    \n",
    "#    if V.ufl_element().family().lower() == 'hermite':\n",
    "#        f = interpolate_hermite(rhs, V)\n",
    "#        g = interpolate_hermite(neu, V)\n",
    "#    else:\n",
    "#        f = Expression(\"10*exp(-50*(pow(x[0]-0.5, 2) + pow(x[1]-0.5, 2)))\",\n",
    "#                       degree=V.ufl_element().degree())\n",
    "#        g = Expression(\"sin(5*x[0])\", degree=2)\n",
    "    f = Expression(\"10*exp(-50*(pow(x[0]-0.5, 2) + pow(x[1]-0.5, 2)))\",\n",
    "                   degree=deg)\n",
    "    g = Expression(\"sin(5*x[0])\", degree=deg)\n",
    "    if V.ufl_element().family().lower() == 'hermite':\n",
    "        f = project(f, V)\n",
    "        g = project(g, V)\n",
    "\n",
    "    L = f*v*dx + g*v*ds\n",
    "    u = Function(V)\n",
    "    solve(a == L, u, bc)\n",
    "\n",
    "    return u"
   ]
  },
  {
   "cell_type": "markdown",
   "metadata": {
    "slideshow": {
     "slide_type": "slide"
    }
   },
   "source": [
    "## Four (not so) different solutions\n",
    "\n",
    "We use P1, P2 and P3 Lagrange elements as well as P3 Hermite elements and compare the results."
   ]
  },
  {
   "cell_type": "code",
   "execution_count": null,
   "metadata": {
    "collapsed": true,
    "slideshow": {
     "slide_type": "fragment"
    }
   },
   "outputs": [],
   "source": [
    "pl.figure(figsize=(12, 12))\n",
    "\n",
    "# Solve 3 times using different Lagrange elements of different degrees \n",
    "mesh = UnitSquareMesh(20, 20, 'crossed')\n",
    "W = [None] + [FunctionSpace(mesh, \"Lagrange\", i) for i in range(1, 4)]\n",
    "lag = [None] + [poisson(W[p]) for p in range(1, 4)]\n",
    "\n",
    "for i in range(1, 4):\n",
    "    pl.subplot(2, 2, i)\n",
    "    plot(lag[i], title = \"P%d Lagrange\" % i, cmap='bone')\n",
    "    \n",
    "# Solve using Hermite elements\n",
    "V = FunctionSpace(mesh, \"Hermite\", 3)\n",
    "her = poisson(V)\n",
    "pl.subplot(2,2,4)\n",
    "_ = plot(her, title=\"P3 Hermite\", cmap='bone')"
   ]
  },
  {
   "cell_type": "markdown",
   "metadata": {
    "slideshow": {
     "slide_type": "slide"
    }
   },
   "source": [
    "## Relative errors\n",
    "\n",
    "Depending on how we bring both solutions to a common function space and which norm we choose, we find very different errors. For the simple case where we only compare values at the vertices (i.e. we work CG1) it will be around 10% measured in the $H^1$ norm and 4% in the $L^2$ norm.\n",
    "\n",
    "Here we would like to observe the fact that orthogonal projection of a function $u$ to obtain its discretisation $u_h$ yields a better approximation than nodal interpolation: In the first two series of plots we simply evaluate the functions at the vertices, and in the third we use dolfin's `project()`. However the results are a bit confusing..."
   ]
  },
  {
   "cell_type": "code",
   "execution_count": null,
   "metadata": {
    "collapsed": true,
    "slideshow": {
     "slide_type": "skip"
    }
   },
   "outputs": [],
   "source": [
    "dif = None # HACK\n",
    "def plots(what=1):\n",
    "    \"\"\" Blah. \"\"\"\n",
    "    global dif\n",
    "\n",
    "    pl.figure(figsize=(12,4))\n",
    "    eqs = ''#\\\\begin{align}'\n",
    "\n",
    "    for i in range(1,4):\n",
    "        if what == 1:  # Consider only vertex values and manually compute norm\n",
    "            lv = lag[i].compute_vertex_values()\n",
    "            hv = her.compute_vertex_values()\n",
    "            difv =  lv - hv\n",
    "            numvert = int(np.sqrt(mesh.num_vertices()))\n",
    "            dif = difv.reshape((numvert, numvert))\n",
    "            eqs += '\\\\text{Norms of differences at vertices: }\\ \\ \\ '\n",
    "            eqs += '\\\\frac{||u_{\\\\text{l%d}} - u_{\\\\text{h3}}||_{L_2}}{||u_{\\\\text{l%d}}||_{L_2}} \\\\approx %.4f,\\ \\ \\\\\\~ '\\\n",
    "                   % (i, i, np.linalg.norm(difv, ord=2) / np.linalg.norm(lv, ord=2))\n",
    "            pl.subplot(1,3,i)\n",
    "            pl.imshow(dif, cmap='bone')\n",
    "        elif what == 2:  # Manually interpolate into W[1] (CG1)\n",
    "            difv = lag[i].compute_vertex_values() - her.compute_vertex_values()\n",
    "            dif = Function(W[1])\n",
    "            dif.vector().set_local(difv[dof_to_vertex_map(W[1])])\n",
    "            eqs += '\\\\text{Manual interpolation into CG1: }\\ \\ \\ '\n",
    "            eqs += '\\\\frac{||u_{\\\\text{l%d}} - u_{\\\\text{h3}}||_{L_2}}{||u_{\\\\text{l%d}}||_{L_2}} \\\\approx %.4f,\\ \\ \\ '\\\n",
    "                   ' \\\\frac{||u_{\\\\text{l%d}} - u_{\\\\text{h3}}||_{H_1}}{||u_{\\\\text{l%d}}||_{H_1}} \\\\approx %.4f \\\\\\~ '\\\n",
    "                   % (i, i, norm(dif, 'L2') / norm(lag[i], 'L2'), \n",
    "                      i, i, norm(dif, 'H1') / norm(lag[i], 'H1'))\n",
    "            pl.subplot(1,3,i)\n",
    "            plot(dif, title=\"|Lag%d - Her3|\" % i, cmap='bone')\n",
    "        elif what == 3:  # Project onto each of the W[i]\n",
    "            proj = project(lag[i] - her, W[i])\n",
    "            eqs += '\\\\text{After projection onto CG%d: }\\ \\ \\ ' % i\n",
    "            eqs += '\\\\frac{||u_{\\\\text{l%d}} - u_{\\\\text{h3}}||_{L_2}}{||u_{\\\\text{l%d}}||_{L_2}} \\\\approx %.4f,\\ \\ \\ '\\\n",
    "                   ' \\\\frac{||u_{\\\\text{l%d}} - u_{\\\\text{h3}}||_{H_1}}{||u_{\\\\text{l%d}}||_{H_1}} \\\\approx %.4f \\\\\\~ '\\\n",
    "                   % (i, i, norm(dif, 'L2') / norm(lag[i], 'L2'), i, i, norm(dif, 'H1') / norm(lag[i], 'H1'))\n",
    "            pl.subplot(1,3,i)\n",
    "            plot(dif, title=\"|Lag%d - Her3|\" % i, cmap='bone')\n",
    "\n",
    "    eqs += ''#'\\\\end{align}'\n",
    "    return Math(eqs)"
   ]
  },
  {
   "cell_type": "markdown",
   "metadata": {
    "slideshow": {
     "slide_type": "slide"
    }
   },
   "source": [
    "The first check is to compute the norm of the difference of the values of all solutions at the vertices."
   ]
  },
  {
   "cell_type": "code",
   "execution_count": null,
   "metadata": {
    "collapsed": true,
    "slideshow": {
     "slide_type": "fragment"
    }
   },
   "outputs": [],
   "source": [
    "plots(1)"
   ]
  },
  {
   "cell_type": "markdown",
   "metadata": {
    "slideshow": {
     "slide_type": "slide"
    }
   },
   "source": [
    "The following should produce exactly the same result. We take the difference of one Lagrange and the Hermite solution and use this to populate the `vector()` of a `Function` on `CG1`. Then we use `dolfin.norm()` to compute both $L^2$ and $H^1$ norms, but the results differ from the previous ones. **What's going on?**"
   ]
  },
  {
   "cell_type": "code",
   "execution_count": null,
   "metadata": {
    "collapsed": true,
    "slideshow": {
     "slide_type": "fragment"
    }
   },
   "outputs": [],
   "source": [
    "plots(2)"
   ]
  },
  {
   "cell_type": "markdown",
   "metadata": {
    "slideshow": {
     "slide_type": "slide"
    }
   },
   "source": [
    "Finally we use `dolfin.project()` to project the Hermite solution onto each of the Lagrange spaces and compute the norms there, again with `dolfin.norm()`."
   ]
  },
  {
   "cell_type": "code",
   "execution_count": null,
   "metadata": {
    "collapsed": true,
    "slideshow": {
     "slide_type": "fragment"
    }
   },
   "outputs": [],
   "source": [
    "plots(3)"
   ]
  },
  {
   "cell_type": "markdown",
   "metadata": {
    "slideshow": {
     "slide_type": "slide"
    }
   },
   "source": [
    "A final plot with some \"cross-sections\" at fixed ordinates for the P3 Lagrange vs Hermite elements. We need to cap the relative error because of very small denominators."
   ]
  },
  {
   "cell_type": "code",
   "execution_count": null,
   "metadata": {
    "collapsed": true,
    "slideshow": {
     "slide_type": "fragment"
    }
   },
   "outputs": [],
   "source": [
    "xx = np.linspace(0,1,100)\n",
    "pl.figure(figsize=(12,8))\n",
    "error_threshold = 0.5\n",
    "\n",
    "for y in np.linspace(0, 1, 4):\n",
    "    pl.plot(xx, [min(error_threshold, np.abs(dif(x,y)/lag[3](x,y))) for x in xx],\n",
    "            label=\"y = %.1f\" % y)\n",
    "    #pl.plot(xx, [dif(x,y) for x in xx], label=\"D@%.1f\" % y)\n",
    "    #pl.plot(xx, [her([x,y]) for x in xx], label=\"H@%.1f\" % y)\n",
    "    #pl.plot(xx, [lag([x,y]) for x in xx], label=\"L@%.1f\" % y)\n",
    "pl.title(\"Relative error (capped at %.1f) at multiple ordinates\" % error_threshold)\n",
    "_ = pl.legend()"
   ]
  },
  {
   "cell_type": "markdown",
   "metadata": {
    "slideshow": {
     "slide_type": "slide"
    }
   },
   "source": [
    "# Fixing the boundary conditions\n",
    "\n",
    "We try to use the method developed in [boundary.ipynb](boundary.ipynb) for [Poisson1D](Poisson1D.ipynb) in higher dimensions. However, issues other than rows corresponding to boundary elements seem to enter into play. In particular, it might be that some *inner* Hermite dofs are being set to 0 by mistake. See [Interior effects](#Interior-effects).\n",
    "\n",
    "We now simplify the problem:\n",
    "\n",
    "$$ - \\Delta u = f \\text{ in } \\Omega = [0,1]^2$$ \n",
    "\n",
    "with\n",
    "\n",
    "$$ f(x, y) = 4 $$\n",
    "\n",
    "and boundary conditions given by\n",
    "\n",
    "$$    u(x, y) = 2 \\text{ on } \\partial \\Omega. $$"
   ]
  },
  {
   "cell_type": "code",
   "execution_count": null,
   "metadata": {
    "collapsed": true,
    "slideshow": {
     "slide_type": "skip"
    }
   },
   "outputs": [],
   "source": [
    "from dolfin import *\n",
    "import matplotlib.pyplot as pl\n",
    "%matplotlib inline\n",
    "import autograd.numpy as np\n",
    "import nbimporter\n",
    "from boundary import apply_dirichlet_hermite, plot_hermite_dofs\n",
    "from dofs import plot_dofs, list_bubble_dofs\n",
    "from interpolation import *\n",
    "from utils import make_derivatives\n",
    "\n",
    "@make_derivatives\n",
    "def rhs(x,y):\n",
    "    return 10*np.exp(-50*((x[0] - 0.5)**2 + (x[1] - 0.5)**2))"
   ]
  },
  {
   "cell_type": "code",
   "execution_count": null,
   "metadata": {
    "collapsed": true,
    "slideshow": {
     "slide_type": "skip"
    }
   },
   "outputs": [],
   "source": [
    "from utils import fnand, fnor\n",
    "\n",
    "mesh = UnitSquareMesh(20, 20, 'crossed')\n",
    "V = FunctionSpace(mesh, 'Hermite', 3)\n",
    "\n",
    "top = lambda x: near(x[1], 1.)\n",
    "right = lambda x: near(x[0], 1.)\n",
    "bottom = lambda x: near(x[1], 0.)\n",
    "left = lambda x: near(x[0], 0.)\n",
    "\n",
    "u0 = make_constant(2.0, V)\n",
    "bc = DirichletBC(V, u0, fnor(top, right, bottom, left))\n",
    "\n",
    "class td_subdomain(SubDomain):\n",
    "    \"\"\" Top and bottom sides of the domain. \"\"\"\n",
    "    def inside(self, x, on_boundary):\n",
    "        # Careful using on_boundary: it's False if the DirichletBC method is 'pointwise'\n",
    "        return near(x[1], 0.) or near(x[1], 1.)\n",
    "\n",
    "class lr_subdomain(SubDomain):\n",
    "    \"\"\" Left and right sides of the domain. \"\"\"\n",
    "    def inside(self, x, on_boundary):\n",
    "        # Careful using on_boundary: it's False if the DirichletBC method is 'pointwise'\n",
    "        return near(x[0], 0.) or near(x[0], 1.)\n",
    "\n",
    "# We will use this to mark boundaries for natural boundary conditions\n",
    "exterior_facet_domains = FacetFunction(\"uint\", mesh, value=1)\n",
    "#exterior_facet_domains.set_all(1)\n",
    "\n",
    "natural_boundary = td_subdomain()\n",
    "natural_boundary.mark(exterior_facet_domains, 0)\n",
    "ds_neu = ds(subdomain_data = exterior_facet_domains, subdomain_id=0)\n",
    "\n",
    "u = TrialFunction(V)\n",
    "v = TestFunction(V)\n",
    "#g = make_constant(0.0, V)\n",
    "f = make_constant(4.0, V)\n",
    "a = inner(grad(u), grad(v))*dx\n",
    "F = f*v*dx # + g*v*ds_neu\n",
    "\n",
    "# Compute solution\n",
    "A = assemble(a)\n",
    "b = assemble(F)\n",
    "Ac = A.copy()\n",
    "print(\"Applying BCs... \", end='')\n",
    "apply_dirichlet_hermite(A, b, bc)\n",
    "print(\"done.\")\n",
    "her = Function(V)\n",
    "H = her.vector()\n",
    "_ = solve(A, H, b)"
   ]
  },
  {
   "cell_type": "markdown",
   "metadata": {
    "slideshow": {
     "slide_type": "slide"
    }
   },
   "source": [
    "We first make sure that the routines setting the BCs know what nodes in the boundary to look at. `plot_hermite_dofs()` draws all nodes for a boundary condition which have Hermite dofs associated to them:"
   ]
  },
  {
   "cell_type": "code",
   "execution_count": null,
   "metadata": {
    "collapsed": true,
    "slideshow": {
     "slide_type": "fragment"
    }
   },
   "outputs": [],
   "source": [
    "pl.figure(figsize=(10,10))\n",
    "plot_hermite_dofs(bc)"
   ]
  },
  {
   "cell_type": "markdown",
   "metadata": {
    "slideshow": {
     "slide_type": "subslide"
    }
   },
   "source": [
    "We can also display all Hermite dofs over facets, for no particular reason. ;)"
   ]
  },
  {
   "cell_type": "code",
   "execution_count": null,
   "metadata": {
    "collapsed": true,
    "slideshow": {
     "slide_type": "fragment"
    }
   },
   "outputs": [],
   "source": [
    "bbdofs = list_bubble_dofs(V)\n",
    "pl.figure(figsize=(10,10))\n",
    "plot_dofs(V, bbdofs)\n",
    "_ = pl.title(\"The %d bubble dofs\" % len(bbdofs))"
   ]
  },
  {
   "cell_type": "markdown",
   "metadata": {
    "slideshow": {
     "slide_type": "slide"
    }
   },
   "source": [
    "The solution to the problem above looks almost correct:"
   ]
  },
  {
   "cell_type": "code",
   "execution_count": null,
   "metadata": {
    "collapsed": true,
    "slideshow": {
     "slide_type": "fragment"
    }
   },
   "outputs": [],
   "source": [
    "pl.figure(figsize=(10,10))\n",
    "pl.xlim((-0.1,1.1))\n",
    "pl.ylim((-0.1,1.1))\n",
    "plot(her, cmap='bone')\n",
    "_ = pl.title(\"P3 Hermite\")"
   ]
  },
  {
   "cell_type": "markdown",
   "metadata": {
    "slideshow": {
     "slide_type": "slide"
    }
   },
   "source": [
    "## Interior effects\n",
    "\n",
    "Even thought the solution seems correct, there are some strange effects. Notice the wiggly cross-sections in the following plot: might it be that (some of?) the Hermite dofs *inside* the domain are being set to zero?"
   ]
  },
  {
   "cell_type": "code",
   "execution_count": null,
   "metadata": {
    "collapsed": true,
    "slideshow": {
     "slide_type": "fragment"
    }
   },
   "outputs": [],
   "source": [
    "pl.figure(figsize=(12,8))\n",
    "xx = np.linspace(0, 1, 100)\n",
    "for y in np.linspace(0.1,0.9,5):\n",
    "    pl.plot(xx, [her([x, y]) for x in xx], label=\"$y=%.1f$\" % y)\n",
    "_ = pl.legend(fancybox=True, framealpha=0.8)"
   ]
  },
  {
   "cell_type": "markdown",
   "metadata": {
    "slideshow": {
     "slide_type": "skip"
    }
   },
   "source": [
    "Are Dirichlet BCs being enforced?"
   ]
  },
  {
   "cell_type": "code",
   "execution_count": null,
   "metadata": {
    "collapsed": true,
    "slideshow": {
     "slide_type": "skip"
    }
   },
   "outputs": [],
   "source": [
    "u0a = u0.vector().array()\n",
    "ha = her.vector().array()\n",
    "bdofs = list(filter(lambda x: x is not None,\n",
    "                    [k if v == 2.0 else None for k,v in bc.get_boundary_values().items()]))\n",
    "\n",
    "np.allclose(her.vector().array()[bdofs], 2.0)"
   ]
  },
  {
   "cell_type": "markdown",
   "metadata": {
    "slideshow": {
     "slide_type": "slide"
    }
   },
   "source": [
    "## Solution with P2 Lagrange elements\n",
    "\n",
    "As a sanity check, here is one solution known to be correct:"
   ]
  },
  {
   "cell_type": "code",
   "execution_count": null,
   "metadata": {
    "collapsed": true,
    "slideshow": {
     "slide_type": "skip"
    }
   },
   "outputs": [],
   "source": [
    "W = FunctionSpace(mesh, \"Lagrange\", 2)\n",
    "u0 = Constant(2.0)\n",
    "bc = DirichletBC(W, u0, fnor(top, right, bottom, left))\n",
    "\n",
    "# Define variational problem\n",
    "u = TrialFunction(W)\n",
    "v = TestFunction(W)\n",
    "f = Constant(4.)\n",
    "#g = Constant(0.)\n",
    "a = inner(grad(u), grad(v))*dx\n",
    "F = f*v*dx #+ g*v*ds\n",
    "\n",
    "# Compute solution\n",
    "lag = Function(W)\n",
    "solve(a == F, lag, bc)"
   ]
  },
  {
   "cell_type": "code",
   "execution_count": null,
   "metadata": {
    "collapsed": true,
    "slideshow": {
     "slide_type": "fragment"
    }
   },
   "outputs": [],
   "source": [
    "pl.figure(figsize=(10,10))\n",
    "pl.xlim((-0.1, 1.1))\n",
    "pl.ylim((-0.1, 1.1))\n",
    "plot(lag, cmap='bone')\n",
    "_ = pl.title(\"P2 Lagrange\")"
   ]
  },
  {
   "cell_type": "markdown",
   "metadata": {
    "slideshow": {
     "slide_type": "slide"
    }
   },
   "source": [
    "The cross-sections look fine:"
   ]
  },
  {
   "cell_type": "code",
   "execution_count": null,
   "metadata": {
    "collapsed": true,
    "slideshow": {
     "slide_type": "fragment"
    }
   },
   "outputs": [],
   "source": [
    "pl.figure(figsize=(12,8))\n",
    "xx = np.linspace(0, 1, 100)\n",
    "for y in np.linspace(0.1,0.9,5):\n",
    "    pl.plot(xx, [lag([x, y]) for x in xx], label=\"$y=%.1f$\" % y)\n",
    "_ = pl.legend(fancybox=True, framealpha=0.8)"
   ]
  },
  {
   "cell_type": "markdown",
   "metadata": {
    "slideshow": {
     "slide_type": "slide"
    }
   },
   "source": [
    "If we compare these solutions to the one with Hermite elements, not so much:"
   ]
  },
  {
   "cell_type": "code",
   "execution_count": null,
   "metadata": {
    "collapsed": true,
    "slideshow": {
     "slide_type": "fragment"
    }
   },
   "outputs": [],
   "source": [
    "pl.figure(figsize=(12,8))\n",
    "xx = np.linspace(0,1,100)\n",
    "pl.plot(xx, [lag([x, x]) for x in xx], label=\"$u_l(x,x)$\")\n",
    "pl.plot(xx, [her([x, x]) for x in xx], label=\"$u_h(x,x)$\")\n",
    "_ = pl.legend(fancybox=True, framealpha=0.8)"
   ]
  },
  {
   "cell_type": "markdown",
   "metadata": {
    "slideshow": {
     "slide_type": "slide"
    }
   },
   "source": [
    "The (normalized) distance between the Lagrange and Hermite solutions is huge: 3% in $L^2$ norm and 16% in $H^1$ norm for a 10x10 mesh. However in a 20x20 the errors go down by almost an order of magnitude to 0.3% and 3.8% respectively. Is all this simply a consequence of the convergence properties of Hermite elements?"
   ]
  },
  {
   "cell_type": "code",
   "execution_count": null,
   "metadata": {
    "collapsed": true,
    "slideshow": {
     "slide_type": "fragment"
    }
   },
   "outputs": [],
   "source": [
    "diff = project(lag - her, V)\n",
    "#diff.vector().abs()\n",
    "i = 2\n",
    "out =  '\\\\frac{||u_{\\\\text{l%d}} - u_{\\\\text{h3}}||_{L_2}}{||u_{\\\\text{l%d}}||_{L_2}} \\\\approx %.4f,\\ \\ \\ '\\\n",
    "       ' \\\\frac{||u_{\\\\text{l%d}} - u_{\\\\text{h3}}||_{H_1}}{||u_{\\\\text{l%d}}||_{H_1}} \\\\approx %.4f \\\\\\~ '\\\n",
    "       % (i, i, norm(diff, 'L2') / norm(lag, 'L2'), i, i, norm(diff, 'H1') / norm(lag, 'H1'))\n",
    "from IPython.display import Math\n",
    "Math(out)"
   ]
  },
  {
   "cell_type": "markdown",
   "metadata": {
    "slideshow": {
     "slide_type": "slide"
    }
   },
   "source": [
    "**Nevertheless:** The fact that the difference is clearly skewed along one direction seems to indicate some problem with the implementation"
   ]
  },
  {
   "cell_type": "code",
   "execution_count": null,
   "metadata": {
    "collapsed": true,
    "slideshow": {
     "slide_type": "fragment"
    }
   },
   "outputs": [],
   "source": [
    "pl.figure(figsize=(10,10))\n",
    "_ = plot(diff, title=\"$u_{l%d} - u_{h3}$\" % i, cmap='bone')"
   ]
  },
  {
   "cell_type": "markdown",
   "metadata": {
    "slideshow": {
     "slide_type": "slide"
    }
   },
   "source": [
    "We can plot the difference along the axes $x=y$, $x=1-y$:"
   ]
  },
  {
   "cell_type": "code",
   "execution_count": null,
   "metadata": {
    "collapsed": true,
    "slideshow": {
     "slide_type": "fragment"
    }
   },
   "outputs": [],
   "source": [
    "pl.figure(figsize=(12,8))\n",
    "C = norm(lag.vector(), norm_type='linf')\n",
    "pl.plot(xx, [diff(x, x)/C for x in xx], label=\"$(u_{l2} - u_{h3})(x,x)$\")\n",
    "pl.plot(xx, [diff(x, 1-x)/C for x in xx], label=\"$(u_{l2} - u_{h3})(x,1-x)$\")\n",
    "pl.title(\"Difference, normalized by $||u_{l2}||_{L^\\infty{}}$\")\n",
    "_ = pl.legend(loc='lower right')"
   ]
  },
  {
   "cell_type": "markdown",
   "metadata": {
    "slideshow": {
     "slide_type": "skip"
    }
   },
   "source": [
    "# Boilerplate"
   ]
  },
  {
   "cell_type": "code",
   "execution_count": null,
   "metadata": {
    "collapsed": true,
    "slideshow": {
     "slide_type": "skip"
    }
   },
   "outputs": [],
   "source": [
    "from IPython.core.display import HTML\n",
    "HTML(\"\"\"\n",
    "<style>\n",
    ".output_png {\n",
    "    display: block;\n",
    "    text-align: center;\n",
    "    vertical-align: middle;\n",
    "    }\n",
    "</style>\n",
    "\"\"\")"
   ]
  }
 ],
 "metadata": {
  "hide_input": false,
  "kernelspec": {
   "display_name": "Python 3",
   "language": "python",
   "name": "python3"
  },
  "language_info": {
   "codemirror_mode": {
    "name": "ipython",
    "version": 3
   },
   "file_extension": ".py",
   "mimetype": "text/x-python",
   "name": "python",
   "nbconvert_exporter": "python",
   "pygments_lexer": "ipython3",
   "version": "3.5.2"
  },
  "toc": {
   "colors": {
    "hover_highlight": "#DAA520",
    "running_highlight": "#FF0000",
    "selected_highlight": "#FFD700"
   },
   "moveMenuLeft": true,
   "nav_menu": {
    "height": "145px",
    "width": "254px"
   },
   "navigate_menu": true,
   "number_sections": true,
   "sideBar": true,
   "threshold": 4,
   "toc_cell": false,
   "toc_position": {
    "height": "1247px",
    "left": "0px",
    "right": "1553px",
    "top": "86px",
    "width": "257px"
   },
   "toc_section_display": "block",
   "toc_window_display": false,
   "widenNotebook": false
  }
 },
 "nbformat": 4,
 "nbformat_minor": 1
}
