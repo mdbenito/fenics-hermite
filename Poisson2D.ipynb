{
 "cells": [
  {
   "cell_type": "markdown",
   "metadata": {},
   "source": [
    "# Poisson 2D\n",
    "\n",
    "This solves:\n",
    "\n",
    "$$ \\Delta u = f \\text{ in } \\Omega = [0,1]^2$$ \n",
    "\n",
    "with\n",
    "\n",
    "$$ f(x, y) = 10 \\exp^{-50 [(x - 1/2)^2 + (y - 1/2)^2)]} $$\n",
    "\n",
    "and boundary conditions given by\n",
    "\n",
    "$$    u(x, y) = 0 \\text{ for } x = 0 \\text{ or } x = 1 $$\n",
    "and\n",
    "\n",
    "$$ \\frac{\\partial u}{\\partial n}(x, y) = sin(5 x) \\text{ for } y = 0 \\text{ or } y = 1 $$"
   ]
  },
  {
   "cell_type": "code",
   "execution_count": null,
   "metadata": {
    "collapsed": false
   },
   "outputs": [],
   "source": [
    "%matplotlib inline\n",
    "import matplotlib.pyplot as pl\n",
    "import numpy as np\n",
    "\n",
    "from dolfin import *\n",
    "\n",
    "parameters[\"form_compiler\"][\"cpp_optimize\"] = False\n",
    "parameters[\"form_compiler\"][\"optimize\"] = False\n",
    "\n",
    "def poisson(V):\n",
    "    \"\"\" Solves Poisson's eq on the unit square.\n",
    "    This code is based on DOLFIN's homonymous demo, (C) 2007-2011 Anders Logg\n",
    "\n",
    "        V: FunctionSpace.\n",
    "    \"\"\"\n",
    "    \n",
    "    # Define Dirichlet boundary (x = 0 or x = 1)\n",
    "    def boundary(x):\n",
    "        return x[0] < DOLFIN_EPS or x[0] > 1.0 - DOLFIN_EPS\n",
    "\n",
    "    # Define boundary condition\n",
    "    u0 = project(Constant(0.0), V)  # Need to project to work around lack of evaluate_dofs() for Hermite\n",
    "    bc = DirichletBC(V, u0, boundary)\n",
    "\n",
    "    # Define variational problem\n",
    "    u = TrialFunction(V)\n",
    "    v = TestFunction(V)\n",
    "    f = Expression(\"10*exp(-50*(pow(x[0] - 0.5, 2) + pow(x[1] - 0.5, 2)))\", degree=2)\n",
    "    g = Expression(\"sin(5*x[0])\", degree=2)\n",
    "    a = inner(grad(u), grad(v))*dx\n",
    "    L = f*v*dx + g*v*ds\n",
    "\n",
    "    # Compute solution\n",
    "    u = Function(V)\n",
    "    solve(a == L, u, bc)\n",
    "    return u"
   ]
  },
  {
   "cell_type": "code",
   "execution_count": null,
   "metadata": {
    "collapsed": false
   },
   "outputs": [],
   "source": [
    "mesh = UnitSquareMesh(64, 64)\n",
    "W = FunctionSpace(mesh, \"Lagrange\", 2)\n",
    "lag = poisson(W)\n",
    "plot(lag, cmap='bone')\n",
    "_ = pl.title(\"Lagrange elements\")"
   ]
  },
  {
   "cell_type": "code",
   "execution_count": null,
   "metadata": {
    "collapsed": false
   },
   "outputs": [],
   "source": [
    "V = FunctionSpace(mesh, \"Hermite\", 3)\n",
    "her = poisson(V)\n",
    "plot(her, cmap='bone')\n",
    "_ = pl.title(\"Hermite elements\")"
   ]
  },
  {
   "cell_type": "code",
   "execution_count": null,
   "metadata": {
    "collapsed": false
   },
   "outputs": [],
   "source": [
    "diff = project(lag-her, V)\n",
    "diff.vector().abs()\n",
    "plot(diff, cmap='bone')\n",
    "_ = pl.title(\"Absolute difference\")\n",
    "print(\"Max. difference = %.4f\" % diff.vector().max())"
   ]
  },
  {
   "cell_type": "code",
   "execution_count": null,
   "metadata": {
    "collapsed": false
   },
   "outputs": [],
   "source": [
    "xx = np.linspace(0,1,100)\n",
    "pl.figure(figsize=(10,8))\n",
    "error_threshold = 0.5\n",
    "for y in np.linspace(0,1,4):\n",
    "    pl.plot(xx, [min(error_threshold, np.abs(diff(x,y)/lag(x,y))) for x in xx],\n",
    "            label=\"y = %.1f\" % y)\n",
    "    #pl.plot(xx, [diff(x,y) for x in xx], label=\"D@%.1f\" % y)\n",
    "    #pl.plot(xx,[her([x,y]) for x in xx], label=\"H@%.1f\" % y)\n",
    "    #pl.plot(xx,[lag([x,y]) for x in xx], label=\"L@%.1f\" % y)\n",
    "pl.title(\"Relative error (capped at %.1f) at multiple ordinates\" % error_threshold)\n",
    "_ = pl.legend()"
   ]
  }
 ],
 "metadata": {
  "kernelspec": {
   "display_name": "Python 2",
   "language": "python",
   "name": "python2"
  },
  "language_info": {
   "codemirror_mode": {
    "name": "ipython",
    "version": 2
   },
   "file_extension": ".py",
   "mimetype": "text/x-python",
   "name": "python",
   "nbconvert_exporter": "python",
   "pygments_lexer": "ipython2",
   "version": "2.7.12"
  }
 },
 "nbformat": 4,
 "nbformat_minor": 1
}
