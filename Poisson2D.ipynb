{
 "cells": [
  {
   "cell_type": "markdown",
   "metadata": {},
   "source": [
    "# Poisson 2D\n",
    "\n",
    "This notebook solves the linear problem:\n",
    "\n",
    "$$ - \\Delta u = f \\text{ in } \\Omega = [0,1]^2$$ \n",
    "\n",
    "with\n",
    "\n",
    "$$ f(x, y) = 10 \\exp^{-50 [(x - 1/2)^2 + (y - 1/2)^2)]} $$\n",
    "\n",
    "and boundary conditions given by\n",
    "\n",
    "$$    u(x, y) = 0 \\text{ for } x = 0 \\text{ or } x = 1 $$\n",
    "\n",
    "and\n",
    "\n",
    "$$ \\frac{\\partial u}{\\partial n}(x, y) = sin(5 x) \\text{ for } y = 0 \\text{ or } y = 1. $$\n",
    "\n",
    "The purpose is to find what the issues are while setting BCs using Hermite elements and fix them. See [Fixing the boundary conditions](#Fixing-the-boundary-conditions)."
   ]
  },
  {
   "cell_type": "code",
   "execution_count": null,
   "metadata": {
    "collapsed": false
   },
   "outputs": [],
   "source": [
    "from dolfin import *\n",
    "import matplotlib.pyplot as pl\n",
    "import numpy as np\n",
    "from IPython.display import Math\n",
    "\n",
    "%matplotlib inline\n",
    "\n",
    "parameters[\"form_compiler\"][\"cpp_optimize\"] = False\n",
    "parameters[\"form_compiler\"][\"optimize\"] = False\n",
    "\n",
    "def poisson(V):\n",
    "    \"\"\" Solves Poisson's eq on the unit square.\n",
    "    This code is based on DOLFIN's homonymous demo by Anders Logg\n",
    "    Arguments:\n",
    "        V: FunctionSpace.\n",
    "    \"\"\"\n",
    "\n",
    "    def boundary(x):\n",
    "        return near(x[0], 0) or near(x[0], 1)\n",
    "\n",
    "    # Need to project to work around lack of evaluate_dofs() for Hermite\n",
    "    u0 = project(Constant(0.0), V)\n",
    "    bc = DirichletBC(V, u0, boundary)\n",
    "\n",
    "    u = TrialFunction(V)\n",
    "    v = TestFunction(V)\n",
    "    f = Expression(\"10*exp(-50*(pow(x[0] - 0.5, 2) + pow(x[1] - 0.5, 2)))\",\\\n",
    "                   degree=2)\n",
    "    g = Expression(\"sin(5*x[0])\", degree=2)\n",
    "    a = inner(grad(u), grad(v))*dx\n",
    "    L = f*v*dx + g*v*ds\n",
    "\n",
    "    u = Function(V)\n",
    "    solve(a == L, u, bc)\n",
    "    return u"
   ]
  },
  {
   "cell_type": "markdown",
   "metadata": {},
   "source": [
    "## Four (not so) different solutions\n",
    "\n",
    "We use P1, P2 and P3 Lagrange elements as well as P3 Hermite elements and compare the results."
   ]
  },
  {
   "cell_type": "code",
   "execution_count": null,
   "metadata": {
    "collapsed": false
   },
   "outputs": [],
   "source": [
    "mesh = UnitSquareMesh(64, 64)\n",
    "W = [None] + [FunctionSpace(mesh, \"Lagrange\", i) for i in range(1, 4)]\n",
    "lag = [None] + [poisson(W[p]) for p in range(1, 4)]\n",
    "\n",
    "pl.figure(figsize=(8, 8))\n",
    "for i in range(1, 4):\n",
    "    pl.subplot(2, 2, i)\n",
    "    plot(lag[i], title = \"P%d Lagrange\" % i, cmap='bone')\n",
    "V = FunctionSpace(mesh, \"Hermite\", 3)\n",
    "her = poisson(V)\n",
    "pl.subplot(2,2,4)\n",
    "_ = plot(her, title=\"P3 Hermite\", cmap='bone')"
   ]
  },
  {
   "cell_type": "markdown",
   "metadata": {},
   "source": [
    "## Relative errors\n",
    "\n",
    "We find a consistent relative error of around 14% measured in the $H^1$ norm and 4% in the $L^2$ norm."
   ]
  },
  {
   "cell_type": "code",
   "execution_count": null,
   "metadata": {
    "collapsed": false
   },
   "outputs": [],
   "source": [
    "pl.figure(figsize=(12,4))\n",
    "eqs = ''#\\\\begin{align}'\n",
    "for i in range(1,4):\n",
    "    diff = project(lag[i] - her, V)\n",
    "    eqs += '\\\\frac{||u_{\\\\text{l%d}} - u_{\\\\text{h3}}||_{L_2}}{||u_{\\\\text{l%d}}||_{L_2}} \\\\approx %.4f,\\ \\ \\ '\\\n",
    "           ' \\\\frac{||u_{\\\\text{l%d}} - u_{\\\\text{h3}}||_{H_1}}{||u_{\\\\text{l%d}}||_{H_1}} \\\\approx %.4f \\\\\\~ '\\\n",
    "           % (i, i, norm(diff, 'L2') / norm(lag[i], 'L2'), i, i, norm(diff, 'H1') / norm(lag[i], 'H1'))\n",
    "    pl.subplot(1,3,i)\n",
    "    plot(diff, title=\"|Lag%d - Her3|\" % i, cmap='bone')\n",
    "eqs += ''#'\\\\end{align}'\n",
    "Math(eqs)"
   ]
  },
  {
   "cell_type": "markdown",
   "metadata": {},
   "source": [
    "A final plot with some \"cross-sections\" at fixed ordinates for the P3 Lagrange vs Hermite elements. We need to cap the relative error because of very small denominators."
   ]
  },
  {
   "cell_type": "code",
   "execution_count": null,
   "metadata": {
    "collapsed": false
   },
   "outputs": [],
   "source": [
    "xx = np.linspace(0,1,100)\n",
    "pl.figure(figsize=(8,6))\n",
    "error_threshold = 0.5\n",
    "\n",
    "for y in np.linspace(0, 1, 4):\n",
    "    pl.plot(xx, [min(error_threshold, np.abs(diff(x,y)/lag[3](x,y))) for x in xx],\n",
    "            label=\"y = %.1f\" % y)\n",
    "    #pl.plot(xx, [diff(x,y) for x in xx], label=\"D@%.1f\" % y)\n",
    "    #pl.plot(xx, [her([x,y]) for x in xx], label=\"H@%.1f\" % y)\n",
    "    #pl.plot(xx, [lag([x,y]) for x in xx], label=\"L@%.1f\" % y)\n",
    "pl.title(\"Relative error (capped at %.1f) at multiple ordinates\" % error_threshold)\n",
    "_ = pl.legend()"
   ]
  },
  {
   "cell_type": "markdown",
   "metadata": {},
   "source": [
    "# Fixing the boundary conditions\n",
    "\n",
    "We try to use the method developed in [boundary.ipynb](boundary.ipynb) for [Poisson1D](Poisson1D.ipynb) in higher dimensions. However, issues other than rows corresponding to boundary elements seem to enter into play. In particular, it might be that some *inner* Hermite dofs are being set to 0 by mistake. See [Interior effects](#Interior-effects).\n",
    "\n",
    "We now simplify the problem:\n",
    "\n",
    "$$ - \\Delta u = f \\text{ in } \\Omega = [0,1]^2$$ \n",
    "\n",
    "with\n",
    "\n",
    "$$ f(x, y) = 4 $$\n",
    "\n",
    "and boundary conditions given by\n",
    "\n",
    "$$    u(x, y) = 2 \\text{ on } \\partial \\Omega. $$"
   ]
  },
  {
   "cell_type": "code",
   "execution_count": null,
   "metadata": {
    "collapsed": false
   },
   "outputs": [],
   "source": [
    "from dolfin import *\n",
    "import matplotlib.pyplot as pl\n",
    "import numpy as np\n",
    "%matplotlib inline\n",
    "\n",
    "import nbimporter\n",
    "from boundary import apply_dirichlet_hermite, plot_hermite_dofs"
   ]
  },
  {
   "cell_type": "code",
   "execution_count": null,
   "metadata": {
    "collapsed": false
   },
   "outputs": [],
   "source": [
    "from utils import fnand, fnor, one_arg\n",
    "\n",
    "# For now, we need dense matrices for apply_dirichlet_hermite() to work\n",
    "parameters['linear_algebra_backend'] = 'Eigen'\n",
    "mesh = UnitSquareMesh(10, 10)\n",
    "V = FunctionSpace(mesh, \"Hermite\", 3)\n",
    "\n",
    "top = lambda x: near(x[1], 1.)\n",
    "right = lambda x: near(x[0], 1.)\n",
    "bottom = lambda x: near(x[1], 0.)\n",
    "left = lambda x: near(x[0], 0.)\n",
    "\n",
    "# Need to project to work around lack of evaluate_dofs() for Hermite\n",
    "u0 = project(Constant(2.0), V)\n",
    "bc = DirichletBC(V, u0, one_arg(fnor(top, right, bottom, left)))\n",
    "\n",
    "class td_subdomain(SubDomain):\n",
    "    \"\"\" Top and bottom sides of the domain. \"\"\"\n",
    "    def inside(self, x, on_boundary):\n",
    "        # Careful using on_boundary: it's False if the DirichletBC method is 'pointwise'\n",
    "        return near(x[1], 0.) or near(x[1], 1.)\n",
    "\n",
    "class lr_subdomain(SubDomain):\n",
    "    \"\"\" Top and bottom sides of the domain. \"\"\"\n",
    "    def inside(self, x, on_boundary):\n",
    "        # Careful using on_boundary: it's False if the DirichletBC method is 'pointwise'\n",
    "        return near(x[0], 0.) or near(x[0], 1.)\n",
    "\n",
    "# We will use this to mark boundaries for natural boundary conditions\n",
    "exterior_facet_domains = FacetFunction(\"uint\", mesh)\n",
    "exterior_facet_domains.set_all(1)\n",
    "\n",
    "natural_boundary = td_subdomain()\n",
    "natural_boundary.mark(exterior_facet_domains, 0)\n",
    "ds = ds(subdomain_data = exterior_facet_domains)\n",
    "\n",
    "u = TrialFunction(V)\n",
    "v = TestFunction(V)\n",
    "f = project(Constant(4), V)\n",
    "#g = project(Constant(0.), V)\n",
    "a = inner(grad(u), grad(v))*dx\n",
    "F = f*v*dx # + g*v*ds\n",
    "\n",
    "# Compute solution\n",
    "A = assemble(a)\n",
    "b = assemble(F)\n",
    "apply_dirichlet_hermite(A, b, bc)\n",
    "her = Function(V)\n",
    "H = her.vector()\n",
    "solve(A, H, b)"
   ]
  },
  {
   "cell_type": "markdown",
   "metadata": {},
   "source": [
    "We first make sure that the routines setting the BCs know what nodes in the boundary to look at. `plot_hermite_dofs()` draws all nodes for a boundary condition which have Hermite dofs associated to them:"
   ]
  },
  {
   "cell_type": "code",
   "execution_count": null,
   "metadata": {
    "collapsed": false
   },
   "outputs": [],
   "source": [
    "%matplotlib inline\n",
    "#plot_hermite_dofs(bc)"
   ]
  },
  {
   "cell_type": "markdown",
   "metadata": {},
   "source": [
    "The solution to the problem above looks almost correct:"
   ]
  },
  {
   "cell_type": "code",
   "execution_count": null,
   "metadata": {
    "collapsed": false
   },
   "outputs": [],
   "source": [
    "pl.figure(figsize=(6,6))\n",
    "pl.xlim((-0.1,1.1))\n",
    "pl.ylim((-0.1,1.1))\n",
    "plot(her, cmap='bone')\n",
    "_ = pl.title(\"P3 Hermite\")"
   ]
  },
  {
   "cell_type": "markdown",
   "metadata": {},
   "source": [
    "## Interior effects\n",
    "\n",
    "Even thought the solution seems correct, there are some strange effects. Notice the wiggly cross-sections in the following plot: might it be that (some of?) the Hermite dofs *inside* the domain are being set to zero? There are also some strange assymetries (see e.g. the lines at $y=0.7$ and $y=0.9$)"
   ]
  },
  {
   "cell_type": "code",
   "execution_count": null,
   "metadata": {
    "collapsed": false
   },
   "outputs": [],
   "source": [
    "xx = np.linspace(0, 1, 100)\n",
    "for y in np.linspace(0.1,0.9,5):\n",
    "    pl.plot(xx, [her([x, y]) for x in xx], label=\"$y=%.1f$\" % y)\n",
    "_ = pl.legend(fancybox=True, framealpha=0.8)"
   ]
  },
  {
   "cell_type": "markdown",
   "metadata": {},
   "source": [
    "The following assymetry is also weird:"
   ]
  },
  {
   "cell_type": "code",
   "execution_count": null,
   "metadata": {
    "collapsed": false
   },
   "outputs": [],
   "source": [
    "pl.plot(xx, [her([x, x]) for x in xx], label=\"$u_h(x,x)$\")\n",
    "_ = pl.legend(fancybox=True, framealpha=0.8)"
   ]
  },
  {
   "cell_type": "markdown",
   "metadata": {},
   "source": [
    "## Solution with P2 Lagrange elements\n",
    "\n",
    "As a sanity check, here is one solution known to be correct:"
   ]
  },
  {
   "cell_type": "code",
   "execution_count": null,
   "metadata": {
    "collapsed": false
   },
   "outputs": [],
   "source": [
    "W = FunctionSpace(mesh, \"Lagrange\", 2)\n",
    "u0 = Constant(2.0)\n",
    "bc = DirichletBC(W, u0, one_arg(fnor(top, right, bottom, left)))\n",
    "\n",
    "# Define variational problem\n",
    "u = TrialFunction(W)\n",
    "v = TestFunction(W)\n",
    "f = Constant(4.)\n",
    "#g = Constant(0.)\n",
    "a = inner(grad(u), grad(v))*dx\n",
    "F = f*v*dx #+ g*v*ds\n",
    "\n",
    "# Compute solution\n",
    "lag = Function(W)\n",
    "solve(a == F, lag, bc)"
   ]
  },
  {
   "cell_type": "code",
   "execution_count": null,
   "metadata": {
    "collapsed": false
   },
   "outputs": [],
   "source": [
    "pl.figure(figsize=(6,6))\n",
    "pl.xlim((-0.1, 1.1))\n",
    "pl.ylim((-0.1, 1.1))\n",
    "plot(lag, cmap='bone')\n",
    "_ = pl.title(\"P2 Lagrange\")"
   ]
  },
  {
   "cell_type": "markdown",
   "metadata": {},
   "source": [
    "The cross-sections look fine:"
   ]
  },
  {
   "cell_type": "code",
   "execution_count": null,
   "metadata": {
    "collapsed": false
   },
   "outputs": [],
   "source": [
    "xx = np.linspace(0, 1, 100)\n",
    "for y in np.linspace(0.1,0.9,5):\n",
    "    pl.plot(xx, [lag([x, y]) for x in xx], label=\"$y=%.1f$\" % y)\n",
    "_ = pl.legend(fancybox=True, framealpha=0.8)"
   ]
  },
  {
   "cell_type": "markdown",
   "metadata": {},
   "source": [
    "The (normalized) distance between the Lagrange and Hermite solutions is huge: 3% in $L^2$ norm and 16% in $H^1$ norm for a 10x10 mesh. However in a 20x20 the errors go down by almost an order of magnitude to 0.3% and 3.8% respectively. Is all this simply a consequence of the convergence properties of Hermite elements?"
   ]
  },
  {
   "cell_type": "code",
   "execution_count": null,
   "metadata": {
    "collapsed": false
   },
   "outputs": [],
   "source": [
    "diff = project(lag - her, V)\n",
    "#diff.vector().abs()\n",
    "i = 2\n",
    "out =  '\\\\frac{||u_{\\\\text{l%d}} - u_{\\\\text{h3}}||_{L_2}}{||u_{\\\\text{l%d}}||_{L_2}} \\\\approx %.4f,\\ \\ \\ '\\\n",
    "       ' \\\\frac{||u_{\\\\text{l%d}} - u_{\\\\text{h3}}||_{H_1}}{||u_{\\\\text{l%d}}||_{H_1}} \\\\approx %.4f \\\\\\~ '\\\n",
    "       % (i, i, norm(diff, 'L2') / norm(lag, 'L2'), i, i, norm(diff, 'H1') / norm(lag, 'H1'))\n",
    "from IPython.display import Math\n",
    "Math(out)"
   ]
  },
  {
   "cell_type": "markdown",
   "metadata": {},
   "source": [
    "**Nevertheless:** The fact that the difference is clearly skewed along one direction seems to indicate some problem with the implementation"
   ]
  },
  {
   "cell_type": "code",
   "execution_count": null,
   "metadata": {
    "collapsed": false
   },
   "outputs": [],
   "source": [
    "_ = plot(diff, title=\"$u_{l%d} - u_{h3}$\" % i, cmap='bone')"
   ]
  },
  {
   "cell_type": "markdown",
   "metadata": {},
   "source": [
    "We can plot the difference along the axes $x=y$, $x=1-y$:"
   ]
  },
  {
   "cell_type": "code",
   "execution_count": null,
   "metadata": {
    "collapsed": false
   },
   "outputs": [],
   "source": [
    "C = norm(lag, norm_type='l2')\n",
    "pl.plot(xx, [diff(x, x)/C for x in xx], label=\"$(u_{l2} - u_{h3})(x,x)$\")\n",
    "pl.plot(xx, [diff(x, 1-x)/C for x in xx], label=\"$(u_{l2} - u_{h3})(x,1-x)$\")\n",
    "pl.title(\"Difference, normalized by $||u_{l2}||_{L^2}$\")\n",
    "_ = pl.legend(loc='lower right')"
   ]
  }
 ],
 "metadata": {
  "kernelspec": {
   "display_name": "Python 2",
   "language": "python",
   "name": "python2"
  },
  "language_info": {
   "codemirror_mode": {
    "name": "ipython",
    "version": 2
   },
   "file_extension": ".py",
   "mimetype": "text/x-python",
   "name": "python",
   "nbconvert_exporter": "python",
   "pygments_lexer": "ipython2",
   "version": "2.7.12"
  }
 },
 "nbformat": 4,
 "nbformat_minor": 1
}
