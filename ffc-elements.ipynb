{
 "cells": [
  {
   "cell_type": "markdown",
   "metadata": {},
   "source": [
    "# evaluate_basis() is wrong for \"hermite\" shape functions\n",
    "\n",
    "That is: for those coming from Derivative evaluations. In $[0,1]$ with 10 subdivisions they are off by a factor of exactly 10, i.e. the Jacobian of the transformation. This seems to imply that `*values = (J[0]*h_tmp0);` is wrong in the generated code.\n",
    "\n",
    "Also: in the same setting, derivatives of the lagrange basis functions seem to lack a factor 0.1, i.e. multiplication by the Jacobian. But these should require no product!?\n",
    "\n",
    "** Am I already doing the transformation in FIAT?? Is this even possible? ** (How would it know what the Jacobian is?)\n",
    "\n",
    "To see this: compate the output of [Hermite shape functions in 1D](#Hermite-shape-functions-in-1D) below with the output of [Plotting shape functions](#Plotting-shape-functions). This probably means that the computation in `evaluatebasis.py - _compute_values()` is wrong!\n",
    "\n",
    "# Current\n",
    "\n",
    "* Implement (nodal) interpolation for Hermite: how should one compute the derivatives of the function to be interpolated?\n",
    "* Fix the hack (in particular remove the check for `isinstance(elem, CubeHermite)` in `representation.py` and generalise to 3D, etc.\n",
    "* Dec 2016: I don't understand why there is no problem with the Argyris element any more since I pulled the latest changes from branch `next`. Before I had the same issues as with the CubicHermite...\n",
    "* <strike>Implement the trafo for the derivatives.</strike>\n",
    "* <strike>Fix the issue with the mappings in the quadratures.</strike>\n",
    "* <strike>Fix `_tabulate_dofs()` in `representation.py` to add the coordinates where dofs associated to derivative evaluations are .</strike>"
   ]
  },
  {
   "cell_type": "markdown",
   "metadata": {},
   "source": [
    "# Some nomenclature\n",
    "\n",
    "**Finite element** $(K,P,N)$: $K$ is the geometry, $P$ some polynomial space over $K$ and $N \\subset P'$ a set of functions in the dual space of $P$ (the _degrees of freedom_) such that its dual $B \\subset P$, i.e. a set of polynomials $p_i \\in P$ such that $L_i(p_j) = \\delta_{i j}$ for all $L_i \\in N$, is a basis for all of $P$.\n",
    "\n",
    "**dof** in ffc: element of the dual space $N=P'$. From the docs: \n",
    ">Each dof $L$ [in an element] is assumed to act on a field $f$ in the following manner: $$L(f) = w_{j, k} f_k(x_j),$$ where $w$ is a set of weights, $j$ is an index set corresponding to the number of points involved in the evaluation of the functional, and $k$ is a multi-index set with rank corresponding to the value rank of the function $f$. For common degrees of freedom such as point evaluations and directional component evaluations, there is just one point. However, for various integral moments, the integrals are evaluated using quadrature. The number of points therefore correspond[s] to the quadrature points. The points $x_j$, weights $w_{j, k}$ and components $k$ are extracted from FIAT (`functional.pt_dict`) in the intermediate representation stage.\n",
    "\n",
    "By extension, **dof** is also used for the coefficients of the expansion of any function $f \\in V_h$, where $V_h$ is the finite dimensional space built from all finite elements.\n",
    "\n",
    "**Intermediate representation**: A dictionary built in `ffc/representation.py` for later code generation.\n",
    "\n",
    "# Related commits and PRs\n",
    "\n",
    "* [This commit](https://bitbucket.org/fenics-project/ffc/commits/8c96e6646aa7c42365a954e79d5df7ec4066b1e2) implements the \"double covariant\" transform in ffc. Modifies:\n",
    "  * `ffc/evaluatebasis.py`\n",
    "  * `ffc/evaluatebasisderivatives.py`\n",
    "  * `ffc/evaluatedof.py`\n",
    "  * `ffc/interpolatevertexvalues.py`\n",
    "  * `ffc/quadrature/quadraturetransformer.py`\n",
    "  * `uflacs/backends/ufc/evaluatebasis.py`\n",
    "\n",
    "* [This PR](https://bitbucket.org/fenics-project/ufl/pull-requests/55/support-for-hellan-herrmann-johnson/diff) adds support for an element in UFL using the double covariant trafo. Modifies:\n",
    "  * `ufl/algorithms/apply_function_pullbacks.py`\n",
    "  * `ufl/finiteelement/elementlist.py`"
   ]
  },
  {
   "cell_type": "markdown",
   "metadata": {},
   "source": [
    "# Intro\n",
    "\n",
    "See hermite.tm..."
   ]
  },
  {
   "cell_type": "markdown",
   "metadata": {},
   "source": [
    "# Hermite shape functions in 1D\n",
    "\n",
    "We choose a monomial basis $G=\\{1, x, x^2, x^3\\}$ to express the shape functions in. The degrees of freedom $L \\subset P_3(T)'$ are point evaluation and differentiation at $0$ and $1$. We build the Vandermonde matrix $V_{i j} = L_i(G_j)$ and invert it. The columns of $V^{-1}$ are the coefficients of the shape functions expressed in the basis $G$."
   ]
  },
  {
   "cell_type": "code",
   "execution_count": null,
   "metadata": {
    "collapsed": false
   },
   "outputs": [],
   "source": [
    "import numpy as np\n",
    "import matplotlib.pyplot as pl\n",
    "%matplotlib inline\n",
    "\n",
    "sh = [lambda x: 1     - 3*x*x + 2*x*x*x,\n",
    "      lambda x:     x - 2*x*x +   x*x*x,\n",
    "      lambda x:         3*x*x - 2*x*x*x,\n",
    "      lambda x:       -   x*x +   x*x*x]\n",
    "\n",
    "shd = [lambda x: - 6*x + 6*x*x,\n",
    "       lambda x:     1 - 4*x +   3*x*x,\n",
    "       lambda x:         6*x - 6*x*x,\n",
    "       lambda x:       -   2*x +   3*x*x]\n",
    "\n",
    "xx = np.linspace(0, 1, 100)\n",
    "for i, f in enumerate(sh):\n",
    "    pl.plot(xx, f(xx), label='sh%d' % i)\n",
    "_ = pl.legend()\n",
    "pl.figure()\n",
    "for i, f in enumerate(shd):\n",
    "    pl.plot(xx, f(xx), label='sh%d\\'' % i)\n",
    "_ = pl.legend()"
   ]
  },
  {
   "cell_type": "markdown",
   "metadata": {},
   "source": [
    "# Hermite shape functions in 2D\n",
    "\n",
    "We repeat the procedure for 1D, but instead of manually computing $V$, we use Automatic Differentiation and a bit of Python to do the job. Now $G=\\{1, x, y, x^2, x y, y^2, x^3, x^2 y, x y^2, y^3\\}$."
   ]
  },
  {
   "cell_type": "code",
   "execution_count": null,
   "metadata": {
    "collapsed": false
   },
   "outputs": [],
   "source": [
    "import autograd as ad\n",
    "import autograd.numpy as np\n",
    "\n",
    "# Partial derivatives\n",
    "def dx(f):\n",
    "    return ad.grad(f, 0)\n",
    "def dy(f):\n",
    "    return ad.grad(f, 1)\n",
    "\n",
    "# Monomial basis for $P_3(R^2)$\n",
    "G = [lambda x,y: 1, lambda x,y: x, lambda x,y: y, lambda x,y: x**2, lambda x,y: x*y, lambda x,y: y**2,\n",
    "     lambda x,y: x**3, lambda x,y: x**2*y, lambda x,y: x*y**2, lambda x,y: y**3]\n",
    "\n",
    "# String representation of monomial basis for the code output\n",
    "S = [\"1\", \"x[0]\", \"x[1]\", \"x[0]**2\", \"x[0]*x[1]\", \"x[1]**2\",\n",
    "     \"x[0]**3\", \"x[0]**2*x[1]\", \"x[0]*x[1]**2\", \"x[1]**3\"]\n",
    "\n",
    "# Hermite degrees of freedom on the reference triangle [(0,0),(1,0),(0,1)]:\n",
    "# point evaluation and partial derivatives at each vertex, plus evaluation at the barycenter.\n",
    "L = [lambda f: f(0., 0.), lambda f: dx(f)(0., 0.), lambda f: dy(f)(0., 0.),\n",
    "     lambda f: f(1., 0.), lambda f: dx(f)(1., 0.), lambda f: dy(f)(1., 0.),\n",
    "     lambda f: f(0., 1.), lambda f: dx(f)(0., 1.), lambda f: dy(f)(0., 1.),\n",
    "     lambda f: f(1./3., 1./3.)]\n",
    "\n",
    "def create_shape_functions_code(basis, basis_strings, dofs):\n",
    "    \"\"\"Create python code with the shape functions.\n",
    "    This can be used for plotting or be pasted into ffc/tests/unit/test_elements.py.\"\"\"\n",
    "    \n",
    "    n = len(basis)\n",
    "    assert n == len(dofs) == len(basis_strings) , \"Dimensions don't match.\"\n",
    "\n",
    "    # Build Vandermonde matrix\n",
    "    V = np.zeros((n, n))\n",
    "    for i, j in np.ndindex(V.shape):\n",
    "        V[i,j] = dofs[i](basis[j])\n",
    "\n",
    "    # Invert and read linear combinations of basis functions from G from the columns\n",
    "    Vinv = np.linalg.inv(V)\n",
    "\n",
    "    s = \"sh = [\"\n",
    "    for j in range(n):\n",
    "        s += \"lambda x: \"\n",
    "        l = []\n",
    "        for i in range(n):\n",
    "            coeff = Vinv[i,j]\n",
    "            if not np.isclose(coeff, 0):\n",
    "                sign = \"+\" if coeff > 0 else \"-\"\n",
    "                coeff = np.round(np.abs(coeff),0)\n",
    "                prefix = \"%s %d *\" % (sign, coeff) if not np.isclose(coeff, 1) else sign\n",
    "                l.append(\"%s %s\" % (prefix, basis_strings[i]))\n",
    "        s += \" \".join(l) + \",\\n      \"\n",
    "    s = s[:-8]    # Remove last \",\\n      \"\n",
    "    return s + \"]\"\n",
    "\n",
    "print(create_shape_functions_code(G, S, L))"
   ]
  },
  {
   "cell_type": "markdown",
   "metadata": {},
   "source": [
    "We can just copy & paste the output above to plot the shape functions:"
   ]
  },
  {
   "cell_type": "code",
   "execution_count": null,
   "metadata": {
    "collapsed": false
   },
   "outputs": [],
   "source": [
    "sh = [lambda x: + 1 - 3 * x[0]**2 - 13 * x[0]*x[1] - 3 * x[1]**2 + 2 * x[0]**3 + 13 * x[0]**2*x[1] + 13 * x[0]*x[1]**2 + 2 * x[1]**3,\n",
    "      lambda x: + x[0] - 2 * x[0]**2 - 3 * x[0]*x[1] + x[0]**3 + 3 * x[0]**2*x[1] + 2 * x[0]*x[1]**2,\n",
    "      lambda x: + x[1] - 3 * x[0]*x[1] - 2 * x[1]**2 + 2 * x[0]**2*x[1] + 3 * x[0]*x[1]**2 + x[1]**3,\n",
    "      lambda x: + 3 * x[0]**2 - 7 * x[0]*x[1] - 2 * x[0]**3 + 7 * x[0]**2*x[1] + 7 * x[0]*x[1]**2,\n",
    "      lambda x: - x[0]**2 + 2 * x[0]*x[1] + x[0]**3 - 2 * x[0]**2*x[1] - 2 * x[0]*x[1]**2,\n",
    "      lambda x: - x[0]*x[1] + 2 * x[0]**2*x[1] + x[0]*x[1]**2,\n",
    "      lambda x: - 7 * x[0]*x[1] + 3 * x[1]**2 + 7 * x[0]**2*x[1] + 7 * x[0]*x[1]**2 - 2 * x[1]**3,\n",
    "      lambda x: - x[0]*x[1] + x[0]**2*x[1] + 2 * x[0]*x[1]**2,\n",
    "      lambda x: + 2 * x[0]*x[1] - x[1]**2 - 2 * x[0]**2*x[1] - 2 * x[0]*x[1]**2 + x[1]**3,\n",
    "      lambda x: + 27 * x[0]*x[1] - 27 * x[0]**2*x[1] - 27 * x[0]*x[1]**2]\n",
    "import matplotlib.pyplot as pl\n",
    "from mpl_toolkits.mplot3d import Axes3D\n",
    "from matplotlib import cm\n",
    "%matplotlib inline\n",
    "\n",
    "npoints = 100\n",
    "X = np.linspace(0, 1, npoints)\n",
    "Y = np.linspace(0, 1, npoints)\n",
    "xx, yy = np.meshgrid(X,Y)\n",
    "for i in range(10):\n",
    "    fig = pl.figure() #figsize=(12,10))\n",
    "    #ax = fig.add_subplot(3, 3, i+1, projection='3d', label=\"th%d\" % i)\n",
    "    ax = fig.gca(projection='3d', label=\"sh%d\" % i)\n",
    "    zz = np.zeros_like(xx)\n",
    "    for m in range(npoints):\n",
    "        for n in range(npoints):\n",
    "            zz[m,n] = sh[i]([xx[m,n], yy[m,n]]) if n <= npoints - m else np.nan\n",
    "    vmin, vmax = np.min(zz[~np.isnan(zz)]), np.max(zz[~np.isnan(zz)])\n",
    "    ax.plot_wireframe(xx, yy, zz, color='grey', linewidth=0.2, rstride=2, cstride=2)\n",
    "    #ax.plot_surface(xx, yy, zz, cmap=cm.bone, linewidth=0, rstride=5, cstride=5, vmin=-0.5, vmax=1.0)\n",
    "    # Get rid of the panes\n",
    "    ax.w_xaxis.set_pane_color((1.0, 1.0, 1.0, 0.0))\n",
    "    ax.w_yaxis.set_pane_color((1.0, 1.0, 1.0, 0.0))\n",
    "    ax.w_zaxis.set_pane_color((1.0, 1.0, 1.0, 0.0))\n",
    "    \n",
    "    ax.xaxis.set_ticks([0.,1.])\n",
    "    ax.yaxis.set_ticks([0.,1.])\n",
    "    ax.zaxis.set_ticks([vmin, 0, vmax])\n",
    "    pl.savefig(\"hermite2d-w-%d.eps\" % i)"
   ]
  },
  {
   "cell_type": "markdown",
   "metadata": {},
   "source": [
    "# Hermite shape functions in 3D\n",
    "\n",
    "Now $G=\\{1, x, y, z, x^2, y^2, z^2, x y, x z, y z, x^2 y, x^2 z, y^2 z, x y^2, x z^2, y z^2, x y z, x^3, y^3, z^3\\}$, i.e. $\\text{dim}\\ P_3(\\mathbb{R}^3) = 20$."
   ]
  },
  {
   "cell_type": "code",
   "execution_count": null,
   "metadata": {
    "collapsed": false,
    "scrolled": false
   },
   "outputs": [],
   "source": [
    "import autograd as ad\n",
    "import autograd.numpy as np\n",
    "\n",
    "# Partial derivatives\n",
    "def dx(f):\n",
    "    return ad.grad(f, 0)\n",
    "def dy(f):\n",
    "    return ad.grad(f, 1)\n",
    "def dz(f):\n",
    "    return ad.grad(f, 2)\n",
    "\n",
    "# Monomial basis for $P_3(R^3)$\n",
    "G = [lambda x,y,z: 1,\n",
    "     lambda x,y,z: x,      lambda x,y,z: y,      lambda x,y,z: z,\n",
    "     lambda x,y,z: x**2,   lambda x,y,z: y**2,   lambda x,y,z: z**2,\n",
    "     lambda x,y,z: x*y,    lambda x,y,z: y*z,    lambda x,y,z: x*z,\n",
    "     lambda x,y,z: x**2*y, lambda x,y,z: x**2*z, lambda x,y,z: y**2*z,\n",
    "     lambda x,y,z: x*y**2, lambda x,y,z: x*z**2, lambda x,y,z: y*z**2,\n",
    "     lambda x,y,z: x*y*z,\n",
    "     lambda x,y,z: x**3,   lambda x,y,z: y**3,   lambda x,y,z: z**3]\n",
    "\n",
    "# String representation of monomial basis for the code output\n",
    "S = [\"1\",\n",
    "     \"x[0]\", \"x[1]\", \"x[2]\" ,\n",
    "     \"x[0]**2\", \"x[1]**2\", \"x[2]**2\",\n",
    "     \"x[0]*x[1]\", \"x[1]*x[2]\", \"x[0]*x[2]\",\n",
    "     \"x[0]**2*x[1]\", \"x[0]**2*x[2]\", \"x[1]**2*x[2]\",\n",
    "     \"x[0]*x[1]**2\", \"x[0]*x[2]**2\", \"x[1]*x[2]**2\",\n",
    "     \"x[0]*x[1]*x[2]\",\n",
    "     \"x[0]**3\", \"x[1]**3\", \"x[2]**3\"]\n",
    "\n",
    "# Hermite degrees of freedom on the reference tetrahedron [(0, 0, 0), (1, 0, 0), (0, 1, 0), (0, 0, 1)]:\n",
    "# point evaluation and partial derivatives at each vertex, plus evaluation at the barycenter of each face.\n",
    "# NOTE that we need to use the same ordering as in the FIAT code in order for the tests to pass.\n",
    "# To see in which sequence the barycenters were created use:\n",
    "#import FIAT\n",
    "#e = FIAT.CubicHermite(FIAT.reference_element.UFCTetrahedron(), 3)\n",
    "#ll = e.dual_basis()\n",
    "#for l in ll:\n",
    "#    print(l.pt_dict.keys())\n",
    "\n",
    "L = [lambda f: f(0., 0., 0.), lambda f: dx(f)(0., 0., 0.), lambda f: dy(f)(0., 0., 0.), lambda f: dz(f)(0., 0., 0.),\n",
    "     lambda f: f(1., 0., 0.), lambda f: dx(f)(1., 0., 0.), lambda f: dy(f)(1., 0., 0.), lambda f: dz(f)(1., 0., 0.),\n",
    "     lambda f: f(0., 1., 0.), lambda f: dx(f)(0., 1., 0.), lambda f: dy(f)(0., 1., 0.), lambda f: dz(f)(0., 1., 0.),\n",
    "     lambda f: f(0., 0., 1.), lambda f: dx(f)(0., 0., 1.), lambda f: dy(f)(0., 0., 1.), lambda f: dz(f)(0., 0., 1.),\n",
    "     lambda f: f(1./3., 1./3., 1./3.),\n",
    "     lambda f: f(0., 1./3., 1./3.), lambda f: f(1./3., 0., 1./3.), lambda f: f(1./3., 1./3., 0.)]\n",
    "\n",
    "print(create_shape_functions_code(G, S, L))"
   ]
  },
  {
   "cell_type": "markdown",
   "metadata": {},
   "source": [
    "For completeness, here's the code for the one dimensional case:"
   ]
  },
  {
   "cell_type": "code",
   "execution_count": null,
   "metadata": {
    "collapsed": false
   },
   "outputs": [],
   "source": [
    "# Monomial basis for $P_3(R)$\n",
    "G = [lambda x: 1, lambda x: x, lambda x: x**2, lambda x: x**3]\n",
    "\n",
    "# String representation of monomial basis\n",
    "S = [\"1\", \"x[0]\", \"x[0]**2\", \"x[0]**3\"]\n",
    "\n",
    "# Hermite degrees of freedom on the reference interval [(0,0),(1,0)]:\n",
    "# Point evaluation and partial derivatives at each endpoint\n",
    "L = [lambda f: f(0.), lambda f: dx(f)(0.), lambda f: f(1.), lambda f: dx(f)(1.)]\n",
    "\n",
    "print(create_shape_functions_code(G, S, L))"
   ]
  },
  {
   "cell_type": "markdown",
   "metadata": {},
   "source": [
    "# Setup"
   ]
  },
  {
   "cell_type": "code",
   "execution_count": null,
   "metadata": {
    "collapsed": false
   },
   "outputs": [],
   "source": [
    "from __future__ import print_function\n",
    "from dolfin import *\n",
    "import ufl\n",
    "import ffc\n",
    "import utils\n",
    "import numpy as np\n",
    "import matplotlib.pyplot as pl\n",
    "%matplotlib inline\n",
    "\n",
    "# Force quadrature representation (we only implement this for now)\n",
    "parameters[\"form_compiler\"][\"representation\"] = \"quadrature\"\n",
    "\n",
    "# Generate code for evaluate_basis_derivatives for testing\n",
    "parameters[\"form_compiler\"][\"no-evaluate_basis_derivatives\"] = False\n",
    "\n",
    "TEST_DIMENSION = 1"
   ]
  },
  {
   "cell_type": "code",
   "execution_count": null,
   "metadata": {
    "collapsed": true
   },
   "outputs": [],
   "source": [
    "ffc.log.set_level(ffc.log.DEBUG)\n",
    "#ffc.log.add_logfile(\"/tmp/fenics.log\")\n",
    "#ffc.__version__, ffc.supported_elements"
   ]
  },
  {
   "cell_type": "code",
   "execution_count": null,
   "metadata": {
    "collapsed": false
   },
   "outputs": [],
   "source": [
    "if TEST_DIMENSION == 1:\n",
    "    mesh = UnitIntervalMesh(10)\n",
    "elif TEST_DIMENSION == 2:\n",
    "    mesh = UnitSquareMesh(10, 10)\n",
    "elif TEST_DIMENSION == 3:\n",
    "    mesh = UnitCubeMesh(10, 10, 10)\n",
    "\n",
    "V = FunctionSpace(mesh, \"Hermite\", 3)"
   ]
  },
  {
   "cell_type": "markdown",
   "metadata": {},
   "source": [
    "After a quick hack we were able to create the Hermite UFL element with\n",
    "\n",
    "```python\n",
    "elem = ufl.FiniteElement('Hermite', mesh.ufl_cell(), 3)\n",
    "```\n",
    "\n",
    "We did this first to find out what happens at the FFC level when we try to build a `FunctionSpace`. \n",
    "\n",
    "**FIXME** We need to specify the degree even though only CubicHermite elements are supported as of yet.\n",
    "\n",
    "Creating a `FunctionSpace` with Hermite elements involves (at least):\n",
    "\n",
    "1. We must \"register\" the Hermite element in `ufl/finitelements/elementlist.py` in order to be able to use the string argument \"Hermite\".\n",
    "\n",
    "2. For each basis element of the element which is a derivative (i.e. two at every vertex of the triangle in 2D) we collect in the *intermediate representation* (`ir`) the coefficients of *all* basis elements which are derivatives (i.e. two at every vertex of the triangle in 2D). This is done in `ffc/representation.py`, `_evaluatebasis()` by adding the coefficients to `dof_data`.\n",
    "\n",
    "3. Inside `ffc/evaluatebasis.py` we use these coefficients and the Jacobian to apply the transformation in `_compute_values()`, inside a new case for mapping \"hermite\". **FIXME:** Maybe I should change the Hermite mapping to act on point evaluations (as the identity) and directional derivatives (as a linear combination using the domain transformation) in order to have a more \"homogeneous\" implementation (i.e. without as many cases, etc.). That is: reuse the idea of the matrix $H$ as in the quadratures.\n",
    "\n",
    "4. Interpolation cannot work without computing derivatives of arbitrary `ufc::function`s, see below.\n",
    "\n",
    "5. Quadratures also must feature the Hermite transform. A naive approach yields unwieldy expressions with hundreds of terms for even the simplest of forms.\n",
    "\n",
    "6. ..."
   ]
  },
  {
   "cell_type": "markdown",
   "metadata": {},
   "source": [
    "# First tests (finish)\n",
    "\n",
    "A minor sanity check for the degrees:"
   ]
  },
  {
   "cell_type": "code",
   "execution_count": null,
   "metadata": {
    "collapsed": false
   },
   "outputs": [],
   "source": [
    "import FIAT\n",
    "\n",
    "ufl_element = ufl.FiniteElement('Hermite', mesh.ufl_cell(), 3)\n",
    "fiat_element = ffc.fiatinterface._create_fiat_element(ufl_element)\n",
    "\n",
    "print(ufl_element.degree(), fiat_element.degree(), isinstance(fiat_element, FIAT.hermite.CubicHermite))"
   ]
  },
  {
   "cell_type": "markdown",
   "metadata": {},
   "source": [
    "Now check the types of mappings for each dof in the element:"
   ]
  },
  {
   "cell_type": "code",
   "execution_count": null,
   "metadata": {
    "collapsed": false
   },
   "outputs": [],
   "source": [
    "print(fiat_element.mapping())"
   ]
  },
  {
   "cell_type": "markdown",
   "metadata": {},
   "source": [
    "**NOTE:** Maybe I should use the same idea as I did in the quadratures of collecting both affine and hermite trafos into one $(d+1) \\mathrm{x} (d+1)$ matrix"
   ]
  },
  {
   "cell_type": "markdown",
   "metadata": {},
   "source": [
    "# FFC  element compilation"
   ]
  },
  {
   "cell_type": "code",
   "execution_count": null,
   "metadata": {
    "collapsed": false
   },
   "outputs": [],
   "source": [
    "import ffc\n",
    "def compile_element(mesh, element):\n",
    "    family = element.family()\n",
    "    dim = mesh.ufl_domain().topological_dimension()\n",
    "    with open(\"/tmp/%s-%dD.h\" % (family, dim), \"wt\") as f:\n",
    "        out = ffc.compile_element(element, prefix=family[:3].lower())\n",
    "        f.write(out[0])"
   ]
  },
  {
   "cell_type": "code",
   "execution_count": null,
   "metadata": {
    "collapsed": false
   },
   "outputs": [],
   "source": [
    "her = FiniteElement(\"Hermite\", cell=V.mesh().ufl_cell())\n",
    "compile_element(UnitIntervalMesh(1), her)\n",
    "compile_element(UnitSquareMesh(1,1), her)\n",
    "compile_element(UnitCubeMesh(1,1,1), her)"
   ]
  },
  {
   "cell_type": "markdown",
   "metadata": {},
   "source": [
    "## Mixed elements"
   ]
  },
  {
   "cell_type": "code",
   "execution_count": null,
   "metadata": {
    "collapsed": false,
    "scrolled": false
   },
   "outputs": [],
   "source": [
    "compile_element(UnitIntervalMesh(2),\n",
    "                MixedElement([FiniteElement(\"Lagrange\", \"interval\", 2),\n",
    "                              FiniteElement(\"Hermite\", \"interval\", 3)]))"
   ]
  },
  {
   "cell_type": "markdown",
   "metadata": {},
   "source": [
    "# Plotting shape functions"
   ]
  },
  {
   "cell_type": "code",
   "execution_count": null,
   "metadata": {
    "collapsed": false
   },
   "outputs": [],
   "source": [
    "mesh = UnitTriangleMesh()\n",
    "mesh = refine(refine(refine(mesh)))\n",
    "cell_id = mesh.bounding_box_tree().compute_first_entity_collision(Point(np.array([0.1, 0.1])))\n",
    "cell = Cell(mesh, cell_id)\n",
    "\n",
    "# The following two coincide. When do they not?\n",
    "print(\"Cell.get_coordinate_dofs() returns the physical coordinates associated to the DOFs in the cell.\")\n",
    "print(cell.get_coordinate_dofs())\n",
    "print(\"Cell.get_vertex_coordinates() returns the physical coordinates of the vertices in the cell.\")\n",
    "print(cell.get_vertex_coordinates())"
   ]
  },
  {
   "cell_type": "code",
   "execution_count": null,
   "metadata": {
    "collapsed": false
   },
   "outputs": [],
   "source": [
    "e = V.element()\n",
    "val = np.zeros(1)\n",
    "points = np.arange(0, 1, 0.001)\n",
    "values = np.zeros((e.space_dimension(), points.size))\n",
    "derivs = np.zeros((e.space_dimension(), points.size))\n",
    "for i in range(e.space_dimension()):\n",
    "    for j, x in enumerate(points):\n",
    "        x = np.array([x])\n",
    "        pt = Point(x)\n",
    "        cell_id = V.mesh().bounding_box_tree().compute_first_entity_collision(pt)\n",
    "        cell = Cell(V.mesh(), cell_id)\n",
    "        coordinate_dofs = cell.get_coordinate_dofs()\n",
    "        e.evaluate_basis(i, val, x, coordinate_dofs, cell.orientation())\n",
    "        values[i,j] = val\n",
    "        e.evaluate_basis_derivatives(i, 1, val, x, coordinate_dofs, cell.orientation())\n",
    "        derivs[i,j] = val\n",
    "\n",
    "pl.figure()#figsize=(8,6))\n",
    "for i in range(4):\n",
    "    pl.plot(points[:101], values[i,:101], label=\"th%d\" % i)\n",
    "_ = pl.legend()\n",
    "\n",
    "pl.figure()#figsize=(8,6))\n",
    "for i in range(4):\n",
    "    pl.plot(points[:101], derivs[i,:101], label=\"th%d'\" % i)\n",
    "_ = pl.legend()\n",
    "\n",
    "# FIXME: The following computations should be made over the same grid!\n",
    "#See: \n",
    "#pl.scatter(10*points[:10], np.zeros(10))\n",
    "#pl.scatter(xx[:10], np.zeros(10)+0.005)\n",
    "\n",
    "\n",
    "#for i in range(4):\n",
    "#    if not np.allclose(values[i,:101], sh[i](10*points[:101])):\n",
    "#        print(\"Shape functions %d differ\" % i)\n",
    "\n",
    "#for i in range(4):\n",
    "#    if not np.allclose(derivs[i,:101], shd[i](10*points[:101])):\n",
    "#        print(\"Derivatives of shape functions %d differ by %f\" % \n",
    "#              (i, np.linalg.norm(derivs[i,:101] - shd[i](10*points[:101]), np.inf)))"
   ]
  },
  {
   "cell_type": "markdown",
   "metadata": {},
   "source": [
    "# Basis evaluation at points\n",
    "\n",
    "Here we test that the shape functions fulfill the \"delta property\"\n",
    "\n",
    "$$ \\partial_j \\phi_{\\alpha_i} ( v_{\\beta} ) = \\delta_{\\alpha \\beta} \\delta_{i j}, $$\n",
    "\n",
    "where $i, j \\in \\{0,1,...,d\\}, \\partial_0 \\ f = f$, and $\\alpha, \\beta$ run over the set of indices of vertices of the simplex in $\\mathbb{R}^d$."
   ]
  },
  {
   "cell_type": "code",
   "execution_count": null,
   "metadata": {
    "collapsed": false
   },
   "outputs": [],
   "source": [
    "def evaluate_basis_at_points(V, points):\n",
    "    \"\"\" \n",
    "    Arguments:\n",
    "        V: FunctionSpace\n",
    "        xx: np.array of points\"\"\"\n",
    "\n",
    "    def highlight(s, num):\n",
    "        trafo = utils.yellow if np.isclose(num, 1.) else lambda x:x\n",
    "        print(trafo(s + \"%.2f\" % np.round(num, 2)))\n",
    "        \n",
    "    element = V.element()\n",
    "    mesh = V.mesh()\n",
    "    # Array to store the values\n",
    "    valdim = element.value_dimension(0)\n",
    "    assert valdim == 1, \"Real valued shape functions expected.\"\n",
    "    tdim = element.topological_dimension()\n",
    "    values = np.zeros(valdim, dtype=np.double)\n",
    "    derivs = np.zeros(valdim * tdim, dtype=np.double)\n",
    "    print(\"DOF, [derivative] @ [x, y] = value   (only if any of DOF or derivatives != 0)\\n\")\n",
    "    for xyz in points:\n",
    "        xyz = np.array(xyz, dtype=np.double)\n",
    "        pt = Point(xyz) \n",
    "        cell_id = mesh.bounding_box_tree().compute_first_entity_collision(pt)\n",
    "        cell = Cell(mesh, cell_id)\n",
    "        # FIXME: why get_vertex_coordinates() or get_coordinate_dofs() ?\n",
    "        #coordinate_dofs = cell.get_vertex_coordinates()\n",
    "        coordinate_dofs = cell.get_coordinate_dofs()\n",
    "\n",
    "        print(\"***************************\")\n",
    "        for i in range(element.space_dimension()): \n",
    "            element.evaluate_basis(i, values, xyz, coordinate_dofs, cell.orientation())\n",
    "            element.evaluate_basis_derivatives(i, 1, derivs, xyz, coordinate_dofs, cell.orientation())\n",
    "            if not np.isclose(values, 0.) or not np.allclose(derivs, 0.):\n",
    "                highlight(\"%d   @ %s = \" % (i, xyz), values)\n",
    "                #else:\n",
    "                for j in range(tdim):\n",
    "                    highlight(\" ,%d @ %s = \" % (j, xyz), derivs[j])"
   ]
  },
  {
   "cell_type": "code",
   "execution_count": null,
   "metadata": {
    "collapsed": false,
    "scrolled": false
   },
   "outputs": [],
   "source": [
    "evaluate_basis_at_points(V, V.mesh().coordinates())"
   ]
  },
  {
   "cell_type": "code",
   "execution_count": null,
   "metadata": {
    "collapsed": false
   },
   "outputs": [],
   "source": [
    "plot(V.mesh())"
   ]
  },
  {
   "cell_type": "markdown",
   "metadata": {},
   "source": [
    "# Playing with dofs\n",
    "\n",
    "We print some information on dofs (**todo** explain this)"
   ]
  },
  {
   "cell_type": "code",
   "execution_count": null,
   "metadata": {
    "collapsed": false,
    "scrolled": false
   },
   "outputs": [],
   "source": [
    "from dolfin import *\n",
    "import numpy as np\n",
    "def do_stuff(V):\n",
    "    \"\"\" V: FunctionSpace \"\"\"\n",
    "    mesh = V.mesh()\n",
    "    element = V.element()\n",
    "    dofmap = V.dofmap()\n",
    "    for cell in cells(mesh):\n",
    "        print(\"At cell: %s\" % cell)\n",
    "        print(np.round(element.tabulate_dof_coordinates(cell), 3))\n",
    "        print(\"\\tCell DOFs: %s\" % dofmap.cell_dofs(cell.index()))\n",
    "        print(\"\\tCoordinate DOFs: %s\" % cell.get_coordinate_dofs())"
   ]
  },
  {
   "cell_type": "code",
   "execution_count": null,
   "metadata": {
    "collapsed": false
   },
   "outputs": [],
   "source": [
    "do_stuff(V)"
   ]
  },
  {
   "cell_type": "markdown",
   "metadata": {},
   "source": [
    "# Projection\n",
    "\n",
    "Simple projection of a constant function already shows some weird stuff. I think `project()` is using the right norm (it should fetch it from FIAT's declaration that HER3 is in $H^1$), but maybe there's more to it."
   ]
  },
  {
   "cell_type": "code",
   "execution_count": null,
   "metadata": {
    "collapsed": false
   },
   "outputs": [],
   "source": [
    "f = Constant(2.0)\n",
    "u = project(f, V)\n",
    "_ = plot(u, cmap='bone')\n",
    "print(\"f is a %s and u is a %s\" % (f.ufl_element(), u.ufl_element()))"
   ]
  },
  {
   "cell_type": "markdown",
   "metadata": {},
   "source": [
    "Note how the projection oscillates when we are not at grid vertices. However total error seems to be within reasonable bounds for double precision ($10^{-13}$)"
   ]
  },
  {
   "cell_type": "code",
   "execution_count": null,
   "metadata": {
    "collapsed": false
   },
   "outputs": [],
   "source": [
    "if V.element().topological_dimension() == 2:  # This test only works in 2D\n",
    "    xy = V.mesh().coordinates()\n",
    "    grid_xx = xy[:11,0]\n",
    "    xx = np.arange(0, 1, 0.01)\n",
    "    y = 0.97\n",
    "    pl.plot(xx, [u(x, y) for x in xx])\n",
    "    pl.scatter(grid_xx, [u(x, y) for x in grid_xx], c='r')\n",
    "    _ = pl.xlim(-0.01,1.01)\n",
    "    \n",
    "    vals = u.compute_vertex_values(V.mesh())[:, None]\n",
    "    print(\"Total error: %.3g\" % np.linalg.norm(2. - vals))"
   ]
  },
  {
   "cell_type": "markdown",
   "metadata": {},
   "source": [
    "Here are a couple more examples. Notice that we first declare the function to be projected onto $V$ as living in another finite element space."
   ]
  },
  {
   "cell_type": "code",
   "execution_count": null,
   "metadata": {
    "collapsed": false,
    "scrolled": false
   },
   "outputs": [],
   "source": [
    "tdim = V.element().topological_dimension()\n",
    "if tdim == 1:\n",
    "    f = Expression(\"sqrt(x[0])*x[0]\", degree=3)\n",
    "    u = project(f, V)\n",
    "    vals = u.compute_vertex_values(V.mesh())[:, None]\n",
    "    coordinates = V.mesh().coordinates()\n",
    "    errors = vals - np.sqrt(coordinates)*coordinates\n",
    "    _ = pl.plot(coordinates, errors)\n",
    "elif tdim == 2:\n",
    "    f = Expression(\"x[0]*x[1]\", degree=3)\n",
    "    u = project(f, V)\n",
    "    vals = u.compute_vertex_values(V.mesh())\n",
    "    coordinates = V.mesh().coordinates()\n",
    "    errors = vals - coordinates.T[0] * coordinates.T[1]\n",
    "    plot(u, cmap='bone')\n",
    "    pl.scatter(coordinates.T[0], coordinates.T[1], c=errors, s=20, cmap='hot', linewidths=0)\n",
    "    pl.axes().set_aspect('equal')\n",
    "print(\"f is a %s and u is a %s\" % (f.ufl_element(), u.ufl_element()))\n",
    "print(\"Total error: %.3g\" % np.linalg.norm(errors))"
   ]
  },
  {
   "cell_type": "code",
   "execution_count": null,
   "metadata": {
    "collapsed": false
   },
   "outputs": [],
   "source": [
    "_ = pl.plot(errors)"
   ]
  },
  {
   "cell_type": "markdown",
   "metadata": {},
   "source": [
    "Here's another example, with a derivative. Notice that we need to explicitly declare the domain for $f$ or Expression won't be able to infer its dimension."
   ]
  },
  {
   "cell_type": "code",
   "execution_count": null,
   "metadata": {
    "collapsed": false
   },
   "outputs": [],
   "source": [
    "f = Expression(\"sqrt((x[0]-0.5)*(x[0]-0.5)+(x[1]-0.5)*(x[1]-0.5))\", degree=3, domain=u.ufl_domain())\n",
    "df = f.dx()\n",
    "u = project(df, V)\n",
    "_ = plot(u, cmap='bone')\n",
    "print(\"df is a %s and u is a %s\" % (df.ufl_element(), u.ufl_element()))"
   ]
  },
  {
   "cell_type": "markdown",
   "metadata": {},
   "source": [
    "A final example with Hermite shape functions (**FIXME** are these even right?)"
   ]
  },
  {
   "cell_type": "code",
   "execution_count": null,
   "metadata": {
    "collapsed": false
   },
   "outputs": [],
   "source": [
    "# These three are for the triangle {(-1,-1), (1,-1), (-1,1)}\n",
    "phi1 = Expression(\"(7/8)*x[0] + (7/8)*x[1] + (13/8)*x[0]*x[0] + (13/4)*x[0]*x[1]\"\n",
    "                  \"+ (13/8)*x[1]*x[1] + (1/4)*x[0]*x[0]*x[0] + (13/8)*x[0]*x[0]*x[1]\"\n",
    "                  \"+ (13/8)*x[0]*x[1]*x[1] + (1/4)*x[1]*x[1]*x[1]\", degree=3)\n",
    "phi2 = Expression(\"1/2 + (13/8)*x[0] + (7/8)*x[1] + (7/8)*x[0]*x[0] + (7/4)*x[0]*x[1]\"\n",
    "                  \"+ (7/8)*x[1]*x[1] - (1/4)*x[0]*x[0]*x[0] + (7/8)*x[0]*x[0]*x[1]\"\n",
    "                  \"+ (7/8)*x[0]*x[1]*x[1]\", degree=3)\n",
    "phi3 = Expression(\"1/2 + (7/8)*x[0] + (13/8)*x[1] + (7/8)*x[0]*x[0] + (7/4)*x[0]*x[1]\"\n",
    "                  \"+ (7/8)*x[1]*x[1] + (7/8)*x[0]*x[0]*x[1] + (7/8)*x[0]*x[1]*x[1]\"\n",
    "                  \"- (1/4)*x[1]*x[1]*x[1]\",\n",
    "                 degree=3)\n",
    "\n",
    "#mesh = refine(refine(refine(refine(UnitTriangleMesh()))))\n",
    "#elem = ufl.FiniteElement('Hermite', mesh.ufl_cell(), 3)\n",
    "#W = FunctionSpace(mesh, elem)\n",
    "\n",
    "v = project(phi1, V)\n",
    "_ = plot(v, cmap='bone')"
   ]
  },
  {
   "cell_type": "markdown",
   "metadata": {},
   "source": [
    "## Projecting from the same space\n",
    "\n",
    "Up until now, we've declared $f$ to live in a different space, then projected. If we take $f \\in V$, then a call to `project()` most likely tries to call `interpolate()` instead. This calls `create_function()` at some point, which requires handling of different transformations. After brute-hacking that to accept Hermite trafos, we hit the problem that `evaluate_dof()` (i.e. interpolation) cannot be implemented for Hermite elements because we are not handling the derivatives (yet), so I disabled it by throwing an exception:"
   ]
  },
  {
   "cell_type": "code",
   "execution_count": null,
   "metadata": {
    "collapsed": false
   },
   "outputs": [],
   "source": [
    "f = Expression(\"x[0]*x[0] + x[1]*x[1]\", element=V.ufl_element())\n",
    "# f.ufl_element() is FiniteElement('Hermite', triangle, 3)\n",
    "u = project(f, V)  # throws exception\n",
    "_ = plot(u, cmap='bone')\n",
    "print(\"f is a %s and u is a %s\" % (f.ufl_element(), u.ufl_element()))"
   ]
  },
  {
   "cell_type": "markdown",
   "metadata": {},
   "source": [
    "# Interpolation\n",
    "\n",
    "As mentioned above, `interpolate()` cannot work, without extending the interface for `ufc::function` to include differentiation. This comes from the fact that the standard (local) nodal interpolant is given by\n",
    "\n",
    "$$ I_K (f) = \\sum_{i = 1}^{n_K} L_i (f) \\phi_i $$\n",
    "\n",
    "for all dofs $L_i$ over cell $K$. In particular we need to let the partial differentiation along each spatial coordinate (in the notation of the paper $L_{\\alpha_i}, 1 \\leq i \\leq d$) act on the function $f$ and use this value as the coefficient for the corresponding shape function $\\phi_{\\alpha_i}$ in the representation in the global basis of $V_h$."
   ]
  },
  {
   "cell_type": "code",
   "execution_count": null,
   "metadata": {
    "collapsed": false
   },
   "outputs": [],
   "source": [
    "#mesh = UnitSquareMesh(10,10)\n",
    "#V = FunctionSpace(mesh, 'P', 3)\n",
    "#f = phi1 - phi2\n",
    "v = interpolate(phi3, V)\n",
    "_ = plot(v, cmap='bone')"
   ]
  },
  {
   "cell_type": "markdown",
   "metadata": {},
   "source": [
    "## A test\n",
    "\n",
    "The first thing to check once `evaluate_dof()` has been implemented for Hermite elements is a constant:"
   ]
  },
  {
   "cell_type": "code",
   "execution_count": null,
   "metadata": {
    "collapsed": false
   },
   "outputs": [],
   "source": [
    "u = interpolate(Constant(2.0), V)\n",
    "_ = plot(u, cmap='bone')"
   ]
  },
  {
   "cell_type": "code",
   "execution_count": null,
   "metadata": {
    "collapsed": false
   },
   "outputs": [],
   "source": [
    "_ = pl.plot([u(x, 0.98) for x in xx])"
   ]
  },
  {
   "cell_type": "markdown",
   "metadata": {},
   "source": [
    "# Comparison to Lagrange elements\n",
    "\n",
    "We project the same function onto P3:"
   ]
  },
  {
   "cell_type": "code",
   "execution_count": null,
   "metadata": {
    "collapsed": false
   },
   "outputs": [],
   "source": [
    "W = FunctionSpace(V.mesh(), 'P', 3)\n",
    "f = Expression(\"x[0]*x[0] + x[1]*x[1]\", degree=3)\n",
    "u = project(f, W)\n",
    "_ = plot(u, cmap='bone')"
   ]
  },
  {
   "cell_type": "markdown",
   "metadata": {},
   "source": [
    "Projection of a constant looks much better than with Hermite elements:"
   ]
  },
  {
   "cell_type": "code",
   "execution_count": null,
   "metadata": {
    "collapsed": false,
    "scrolled": false
   },
   "outputs": [],
   "source": [
    "u = project(Constant(2.0), W)\n",
    "_ = plot(u, cmap='bone')"
   ]
  },
  {
   "cell_type": "markdown",
   "metadata": {},
   "source": [
    "# Extracting the nodal values\n",
    "\n",
    "See section 5.2.6 of the tutorial."
   ]
  },
  {
   "cell_type": "code",
   "execution_count": null,
   "metadata": {
    "collapsed": false
   },
   "outputs": [],
   "source": [
    "f = Expression(\"x[0]*x[0] + x[1]*x[1]\", degree=3)\n",
    "u = project(f, V)\n",
    "\n",
    "vals = u.compute_vertex_values(V.mesh())\n",
    "coordinates = V.mesh().coordinates()\n",
    "\n",
    "import matplotlib.pyplot as pl\n",
    "pl.scatter(coordinates.T[0], coordinates.T[1], c=vals, s=100, cmap='bone', linewidths=0)\n",
    "_ = pl.axes().set_aspect('equal')"
   ]
  },
  {
   "cell_type": "markdown",
   "metadata": {},
   "source": [
    "# Test construction of polynomial set\n",
    "\n",
    "This is taken from the constructor of `FIAT.finite_element.FiniteElement()`.\n",
    "\n",
    "**TODO:** I'd like to test whether the coefficients for the nodal basis functions agree with what I should be getting. "
   ]
  },
  {
   "cell_type": "code",
   "execution_count": null,
   "metadata": {
    "collapsed": false
   },
   "outputs": [],
   "source": [
    "# build generalized Vandermonde matrix\n",
    "from FIAT import polynomial_set, reference_element, hermite\n",
    "K = reference_element.ReferenceElement(shape = reference_element.LINE,\n",
    "                                       vertices = ((-1.0,),(1.0,)),\n",
    "                                       topology = reference_element.UFCInterval().get_topology())\n",
    "poly_set = polynomial_set.ONPolynomialSet(K, 3)\n",
    "old_coeffs = poly_set.get_coeffs()\n",
    "dual = hermite.CubicHermiteDualSet(K)\n",
    "dualmat = dual.to_riesz(poly_set)\n",
    "\n",
    "shp = dualmat.shape\n",
    "if len(shp) > 2:\n",
    "    num_cols = np.prod(shp[1:])\n",
    "\n",
    "    A = np.reshape(dualmat, (dualmat.shape[0], num_cols))\n",
    "    B = np.reshape(old_coeffs, (old_coeffs.shape[0], num_cols))\n",
    "else:\n",
    "    A = dualmat\n",
    "    B = old_coeffs\n",
    "\n",
    "V = np.dot(A, np.transpose(B))\n",
    "\n",
    "Vinv = np.linalg.inv(V)\n",
    "\n",
    "new_coeffs_flat = np.dot(np.transpose(Vinv), B)\n",
    "\n",
    "new_shp = tuple([new_coeffs_flat.shape[0]] + list(shp[1:]))\n",
    "new_coeffs = np.reshape(new_coeffs_flat, new_shp)\n",
    "\n",
    "#poly_set = PolynomialSet(K, poly_set.get_degree(), poly_set.get_embedded_degree(),\n",
    "#                         poly_set.get_expansion_set(), new_coeffs, poly_set.get_dmats())"
   ]
  },
  {
   "cell_type": "code",
   "execution_count": null,
   "metadata": {
    "collapsed": false
   },
   "outputs": [],
   "source": [
    "H = hermite.CubicHermite(K)\n",
    "np.round(H.poly_set.tabulate_new(K.get_vertices()),2)"
   ]
  },
  {
   "cell_type": "markdown",
   "metadata": {},
   "source": [
    "# Test transformation of basis functions\n",
    "\n",
    "This is copied from `transform_hermite.py`, in a previous release of FIAT. It tests whether the nodal basis evaluated on a lattice over the reference element and over a transformed  element transforms well under an affine mapping.\n",
    "\n",
    "Basically, what we do is we compute the \"hermite\" transformation in `evaluatebasis.py` by hand:\n",
    "\n",
    "1. Tabulate (compute) the values of each basis function of the reference element over a lattice of points in the triangle, then multiply it by an adequate transformation matrix (mixing the values for the nodal basis functions related to derivatives).\n",
    "2. Tabulate the values of each basis function defined over a different simplex.\n",
    "3. Compare both results"
   ]
  },
  {
   "cell_type": "code",
   "execution_count": null,
   "metadata": {
    "collapsed": false
   },
   "outputs": [],
   "source": [
    "from FIAT import reference_element, hermite\n",
    "from __future__ import print_function\n",
    "import numpy as np\n",
    "\n",
    "# Let's set up the reference triangle and another one\n",
    "Khat = reference_element.UFCTriangle()\n",
    "K = reference_element.ReferenceElement(shape = reference_element.TRIANGLE,\n",
    "                                       vertices = ((-1.0,-1.0),(1.0,-1.0),(-1.0,1.0)),\n",
    "                                       topology = Khat.get_topology())\n",
    "\n",
    "# Construct the affine mapping between them\n",
    "A, b = reference_element.make_affine_mapping(K.get_vertices(), Khat.get_vertices())\n",
    "\n",
    "# build the Hermite element on the two triangles\n",
    "Hhat = hermite.CubicHermite(Khat)\n",
    "H = hermite.CubicHermite(K)\n",
    "\n",
    "# get some points on each triangle\n",
    "pts_hat = Khat.make_lattice(6)\n",
    "pts = K.make_lattice(6)\n",
    "\n",
    "# as a sanity check on the affine mapping, make sure pts map to pts_hat\n",
    "for i, p in enumerate(pts):\n",
    "    if not np.allclose(pts_hat[i], np.dot(A, p) + b):\n",
    "        print(\"barf\")"
   ]
  },
  {
   "cell_type": "code",
   "execution_count": null,
   "metadata": {
    "collapsed": false
   },
   "outputs": [],
   "source": [
    "# Tabulate the Hermite basis on each triangle\n",
    "# Each column is the value of one nodal basis function evaluated at every point\n",
    "Hhat_tabulated = Hhat.get_nodal_basis().tabulate_new(pts_hat)\n",
    "H_tabulated = H.get_nodal_basis().tabulate_new(pts)\n",
    "\n",
    "### Prepare global transformation matrix\n",
    "M = np.zeros((10,10), dtype=np.double)\n",
    "Ainv = np.linalg.inv(A)\n",
    "\n",
    "# Point values are transformed as is\n",
    "# Derivative values are \"mixed\" with the Jacobian.\n",
    "M[0,0] = 1.0\n",
    "M[3,3] = 1.0\n",
    "M[6,6] = 1.0\n",
    "M[9,9] = 1.0\n",
    "M[1:3,1:3] = np.transpose(Ainv)\n",
    "M[4:6,4:6] = np.transpose(Ainv)\n",
    "M[7:9,7:9] = np.transpose(Ainv)\n",
    "\n",
    "print(np.allclose(H_tabulated, np.dot(M.T, Hhat_tabulated)))"
   ]
  },
  {
   "cell_type": "code",
   "execution_count": null,
   "metadata": {
    "collapsed": false
   },
   "outputs": [],
   "source": [
    "Hhat_tabulated.shape"
   ]
  },
  {
   "cell_type": "code",
   "execution_count": null,
   "metadata": {
    "collapsed": false
   },
   "outputs": [],
   "source": [
    "basis = H.get_nodal_basis()\n",
    "np.round(basis.tabulate_new([(-1,-1),(-1,0),(0,0)]))"
   ]
  },
  {
   "cell_type": "markdown",
   "metadata": {},
   "source": [
    "## What are dmats (\"expansion coefficients for basis function derivative\") ?"
   ]
  },
  {
   "cell_type": "code",
   "execution_count": null,
   "metadata": {
    "collapsed": false
   },
   "outputs": [],
   "source": [
    "from FIAT import lagrange\n",
    "Hhat = lagrange.Lagrange(Khat, 1)\n",
    "basis = Hhat.get_nodal_basis()\n",
    "dmats = basis.get_dmats()\n",
    "print(len(dmats), dmats[0].shape, dmats[1].shape)\n",
    "print(np.round(dmats[0], 1))\n",
    "print(np.round(dmats[1], 1))"
   ]
  }
 ],
 "metadata": {
  "kernelspec": {
   "display_name": "Python 2",
   "language": "python",
   "name": "python2"
  },
  "language_info": {
   "codemirror_mode": {
    "name": "ipython",
    "version": 2
   },
   "file_extension": ".py",
   "mimetype": "text/x-python",
   "name": "python",
   "nbconvert_exporter": "python",
   "pygments_lexer": "ipython2",
   "version": "2.7.12"
  }
 },
 "nbformat": 4,
 "nbformat_minor": 1
}
