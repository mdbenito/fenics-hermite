{
 "cells": [
  {
   "cell_type": "markdown",
   "metadata": {},
   "source": [
    "# The non-linear Kirchhoff model\n",
    "\n",
    "## Model and energy\n",
    "\n",
    "## The isometry constraint\n",
    "\n",
    "## Discretisation\n",
    "\n",
    "## Linearisation of the nodal isometry constraint\n",
    "\n",
    "> For this, it is important ot realize that for the empleyed finite element space $W_h$, the nodal values of the discrete defformation ($u_h(z) : z \\in \\mathcal{N}_h$) are mutually independent variables in the minimization problem.\n",
    "\n",
    "## Discrete $H^2$ gradient flow\n",
    "\n",
    "# Implementation\n"
   ]
  },
  {
   "cell_type": "markdown",
   "metadata": {},
   "source": [
    "Besides the work already done for [the linear case](linear-kirchhoff.ipynb), we need to compute the matrix $B_{k-1}$ which enforces the nodal isometry constraint for the solution $d_t u^k$ at step $k$.\n",
    "\n",
    "The system to solve is (Bartels, 2013):\n",
    "\n",
    "$$\\left(\\begin{array}{cc}\n",
    "  (1 + \\alpha \\tau) M^{\\top} A^{(2)} M & B^{\\top}_{k - 1}\\\\\n",
    "  B_{k - 1} & 0\n",
    "\\end{array}\\right)  \\left(\\begin{array}{c}\n",
    "  d_t U^k\\\\\n",
    "  \\Lambda\n",
    "\\end{array}\\right) = \\left(\\begin{array}{c}\n",
    "  - \\alpha M^{\\top} A^{(2)} MU^{k - 1} + \\tau F\\\\\n",
    "  0\n",
    "\\end{array}\\right)$$\n",
    "\n",
    "The local tensor matrix requires then the discrete gradient matrix $M$, the local tensor for the form $(\\nabla u, \\nabla v)$ in $P_2$ and the constraints matrix $B_k-1$. Note also that we now have vector valued functions and this will probably require tweaking some of the previous code."
   ]
  },
  {
   "cell_type": "code",
   "execution_count": null,
   "metadata": {
    "collapsed": true
   },
   "outputs": [],
   "source": []
  }
 ],
 "metadata": {
  "hide_input": false,
  "kernelspec": {
   "display_name": "Python 3",
   "language": "python",
   "name": "python3"
  },
  "language_info": {
   "codemirror_mode": {
    "name": "ipython",
    "version": 3
   },
   "file_extension": ".py",
   "mimetype": "text/x-python",
   "name": "python",
   "nbconvert_exporter": "python",
   "pygments_lexer": "ipython3",
   "version": "3.5.2"
  },
  "toc": {
   "colors": {
    "hover_highlight": "#DAA520",
    "running_highlight": "#FF0000",
    "selected_highlight": "#FFD700"
   },
   "moveMenuLeft": true,
   "nav_menu": {
    "height": "167px",
    "width": "254px"
   },
   "navigate_menu": true,
   "number_sections": true,
   "sideBar": true,
   "threshold": 4,
   "toc_cell": false,
   "toc_section_display": "block",
   "toc_window_display": false,
   "widenNotebook": false
  }
 },
 "nbformat": 4,
 "nbformat_minor": 2
}
