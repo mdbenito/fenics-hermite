{
 "cells": [
  {
   "cell_type": "markdown",
   "metadata": {},
   "source": [
    "# The non-linear Kirchhoff model\n",
    "\n",
    "## Model and energy\n",
    "\n",
    "## The isometry constraint\n",
    "\n",
    "## Discretisation\n",
    "\n",
    "## Linearisation of the nodal isometry constraint\n",
    "\n",
    "> For this, it is important ot realize that for the empleyed finite element space $W_h$, the nodal values of the discrete deformation ($u_h(z) : z \\in \\mathcal{N}_h$) are mutually independent variables in the minimization problem.\n",
    "\n",
    "## Discrete $H^2$ gradient flow\n",
    "\n",
    "# Implementation\n"
   ]
  },
  {
   "cell_type": "markdown",
   "metadata": {},
   "source": [
    "Besides the work already done for [the linear case](linear-kirchhoff.ipynb), we need to compute the matrix $B_{k-1}$ which enforces the nodal isometry constraint for the solution $d_t y^k$ at step $k$.\n",
    "\n",
    "The system to solve is (Bartels, 2013):\n",
    "\n",
    "$$\\left(\\begin{array}{cc}\n",
    "  (1 + \\alpha \\tau) M^{\\top} A^{(2)} M & B^{\\top}_{k - 1}\\\\\n",
    "  B_{k - 1} & I\n",
    "\\end{array}\\right)  \\left(\\begin{array}{c}\n",
    "  d_t Y^k\\\\\n",
    "  \\Lambda\n",
    "\\end{array}\\right) = \\left(\\begin{array}{c}\n",
    "  - \\alpha M^{\\top} A^{(2)} MY^{k - 1} + F\\\\\n",
    "  0\n",
    "\\end{array}\\right)$$\n",
    "\n",
    "The local tensor matrix requires then the discrete gradient matrix $M$, the local tensor for the form $(\\nabla u, \\nabla v)$ in $P_2$ and the constraints matrix $B_{k-1}$. Note also that we now have vector valued functions and this will probably require tweaking some of the previous code."
   ]
  },
  {
   "cell_type": "markdown",
   "metadata": {},
   "source": [
    "## Discrete isometry constraint\n",
    "\n",
    "\\\\[ \\left( \\begin{array}{ccccccccc}\n",
    "     \\quad & 2 y^{k - 1}_{i, 1} &  & \\quad & 2 y^{k - 1}_{i, 1} &  & \\quad & 2\n",
    "     y^{k - 1}_{i, 1} & \\\\\n",
    "     & y^{k - 1}_{i, 2} & y^{k - 1}_{i, 1} &  & y^{k - 1}_{i, 2} & y^{k -\n",
    "     1}_{i, 1} &  & y^{k - 1}_{i, 2} & y^{k - 1}_{i, 1}\\\\\n",
    "     & y^{k - 1}_{i, 2} & y^{k - 1}_{i, 1} &  & y^{k - 1}_{i, 2} & y^{k -\n",
    "     1}_{i, 1} &  & y^{k - 1}_{i, 2} & y^{k - 1}_{i, 1}\\\\\n",
    "     &  & 2 y^{k - 1}_{i, 2} &  &  & 2 y^{k - 1}_{i, 2} &  &  & 2 y^{k -\n",
    "     1}_{i, 2}\n",
    "   \\end{array}\\right)  \\left(\\begin{array}{c}\n",
    "     d_t y^k_i\\\\\n",
    "     d_t y^k_{i, 1}\\\\\n",
    "     d_t y^k_{i, 2}\\\\\n",
    "     d_t y^k_i\\\\\n",
    "     d_t y^k_{i, 1}\\\\\n",
    "     d_t y^k_{i, 2}\\\\\n",
    "     d_t y^k_i\\\\\n",
    "     d_t y^k_{i, 1}\\\\\n",
    "     d_t y^k_{i, 2}\n",
    "   \\end{array}\\right) \\\\]"
   ]
  },
  {
   "cell_type": "markdown",
   "metadata": {},
   "source": [
    "# Tests"
   ]
  },
  {
   "cell_type": "code",
   "execution_count": null,
   "metadata": {},
   "outputs": [],
   "source": [
    "from dolfin import *\n",
    "import numpy as np\n",
    "np.set_printoptions(precision=4, linewidth=130, threshold=5000, suppress=True)\n",
    "\n",
    "import nbimporter\n",
    "from interpolation import interpolate\n",
    "\n",
    "import matplotlib.pyplot as pl\n",
    "%matplotlib inline\n",
    "\n",
    "#info(parameters, True)\n",
    "\n",
    "def bitmap(A, rtol=1e-5, atol=1e-8, figsize=(10,10), cmap='binary', **kwargs):\n",
    "    \"\"\"Draw the number of non zeros of A.\"\"\"\n",
    "    if np.sum(A.shape) > 4000:\n",
    "        print(\"Matrix is too big (%d x %d)\" % A.shape)\n",
    "    pl.figure(figsize=figsize)\n",
    "    bmap = 1 - np.isclose(A, 0, rtol, atol).astype(np.int)\n",
    "    pl.imshow(bmap, cmap=cmap, **kwargs)\n",
    "    print(\"%.2f%% non zeros\" % (100*bmap.sum()/np.product(bmap.shape)))"
   ]
  },
  {
   "cell_type": "code",
   "execution_count": null,
   "metadata": {},
   "outputs": [],
   "source": [
    "B0 = np.loadtxt(\"/home/fenics/local/src/nonlinear-kirchhoff/build/B0.txt\")\n",
    "A = np.loadtxt(\"/home/fenics/local/src/nonlinear-kirchhoff/build/A.txt\")\n",
    "Y0 = np.loadtxt(\"/home/fenics/local/src/nonlinear-kirchhoff/build/y0.txt\")\n",
    "Yk = np.loadtxt(\"/home/fenics/local/src/nonlinear-kirchhoff/build/yk.txt\")\n",
    "dtY = np.loadtxt(\"/home/fenics/local/src/nonlinear-kirchhoff/build/dtY_L.txt\")\n",
    "P26 = np.loadtxt(\"/home/fenics/local/src/nonlinear-kirchhoff/build/P26.txt\")\n",
    "# Cut out the bottom extra chunk in the solution\n",
    "dtY = dtY[:-13]"
   ]
  },
  {
   "cell_type": "code",
   "execution_count": null,
   "metadata": {},
   "outputs": [],
   "source": [
    "A.shape, B0.shape, Y0.shape, Yk.shape, dtY.shape, P26.shape"
   ]
  },
  {
   "cell_type": "markdown",
   "metadata": {},
   "source": [
    "## Exploring the stiffness matrix\n",
    "\n",
    "First a nice picture:"
   ]
  },
  {
   "cell_type": "code",
   "execution_count": null,
   "metadata": {},
   "outputs": [],
   "source": [
    "bitmap(A, figsize=(5,5), interpolation='none')"
   ]
  },
  {
   "cell_type": "code",
   "execution_count": null,
   "metadata": {},
   "outputs": [],
   "source": [
    "bitmap(B0, figsize=(10,4), interpolation='none')"
   ]
  },
  {
   "cell_type": "markdown",
   "metadata": {},
   "source": [
    "The condition nunmber is **awful**, something is definitely wrong:"
   ]
  },
  {
   "cell_type": "code",
   "execution_count": null,
   "metadata": {},
   "outputs": [],
   "source": [
    "np.linalg.cond(A)"
   ]
  },
  {
   "cell_type": "markdown",
   "metadata": {},
   "source": [
    "## Visualizing the components of the solution\n",
    "\n",
    "A quick visualization skipping Paraview...\n",
    "\n",
    "Recall that the $W^3$ space has 27 dofs in 3 groups of 9, one per subsp\n",
    "ace. Inside each group the dofs are: [evaluation, eval of dx, eval of dy] at each of the 3 vertices in turn."
   ]
  },
  {
   "cell_type": "code",
   "execution_count": null,
   "metadata": {
    "collapsed": true
   },
   "outputs": [],
   "source": [
    "W = VectorFunctionSpace(UnitSquareMesh(1,1, \"crossed\"), \"DKT\", degree=3, dim=3)\n",
    "y0 = Function(W)\n",
    "yk = Function(W)"
   ]
  },
  {
   "cell_type": "code",
   "execution_count": null,
   "metadata": {},
   "outputs": [],
   "source": [
    "y0.vector().set_local(Y0)\n",
    "_ = yk.vector().set_local(Yk)\n",
    "\n",
    "W.mesh().num_cells()"
   ]
  },
  {
   "cell_type": "code",
   "execution_count": null,
   "metadata": {},
   "outputs": [],
   "source": [
    "_xx = np.array(sorted(W.mesh().coordinates()[:,0]))\n",
    "\n",
    "pl.plot(_xx, [y0(x,0.5)[0] - x for x in _xx], label='$u_0$')\n",
    "for _y in np.linspace(0,1,5):\n",
    "    pl.plot(_xx, [yk(x,_y)[0] - x for x in _xx], label='$u_k(%.1f)$' % _y)\n",
    "_ = pl.legend()"
   ]
  },
  {
   "cell_type": "code",
   "execution_count": null,
   "metadata": {
    "collapsed": true
   },
   "outputs": [],
   "source": [
    "pl.figure(figsize=(12,6))\n",
    "pl.subplot(1,2,1)\n",
    "plot_component(Y0, W, 1, dfdx)\n",
    "pl.subplot(1,2,2)\n",
    "plot_component(Y0, W, 2, dfdy)"
   ]
  },
  {
   "cell_type": "markdown",
   "metadata": {},
   "source": [
    "All iterates $y^k$ fulfill the boundary condition since updates are always made with $d_tY$ with zero value and derivative at the boundary. We expect the same result as above:"
   ]
  },
  {
   "cell_type": "code",
   "execution_count": null,
   "metadata": {
    "collapsed": true
   },
   "outputs": [],
   "source": [
    "np.allclose(Yk[dfdx[0]], 1), np.allclose(Yk[dfdy[1]], 1)"
   ]
  },
  {
   "cell_type": "markdown",
   "metadata": {},
   "source": [
    "Something is clearly off, let's plot it:"
   ]
  },
  {
   "cell_type": "code",
   "execution_count": null,
   "metadata": {},
   "outputs": [],
   "source": [
    "from dofs import plot_dofs, plot_field_at_dofs"
   ]
  },
  {
   "cell_type": "code",
   "execution_count": null,
   "metadata": {
    "collapsed": true
   },
   "outputs": [],
   "source": [
    "pl.figure(figsize=(12,6))\n",
    "pl.subplot(1,2,1)\n",
    "plot_dofs(W, np.where(np.logical_not(np.isclose(Yk[dfdx[0]], 1)))[0])\n",
    "pl.subplot(1,2,2)\n",
    "plot_dofs(W, np.where(np.logical_not(np.isclose(Yk[dfdy[0]], 0)))[0])"
   ]
  },
  {
   "cell_type": "markdown",
   "metadata": {},
   "source": [
    "## Inspecting the $P_2^{3 \\times 2}$ tensor\n",
    "\n",
    "Plots of the two local tensors for a 1x1 grid. What are those spurious entries on the top right corner?"
   ]
  },
  {
   "cell_type": "code",
   "execution_count": null,
   "metadata": {},
   "outputs": [],
   "source": [
    "bitmap(P26, figsize=(5,5), cmap='Purples', interpolation='none')"
   ]
  },
  {
   "cell_type": "markdown",
   "metadata": {},
   "source": [
    "```c++\n",
    "  // position in array is destination row, value is source row:\n",
    "  int permutations[] = {0,6,1,7,2,8,3,9,4,10,5,11};\n",
    "```"
   ]
  },
  {
   "cell_type": "code",
   "execution_count": null,
   "metadata": {},
   "outputs": [],
   "source": [
    "T = TensorFunctionSpace(UnitSquareMesh(1,1), \"Lagrange\", 2, shape=(3,2))\n",
    "for sub in range(6):\n",
    "    print(T.sub(sub).dofmap().cell_dofs(0))\n",
    "\n",
    "dm = T.dofmap()\n",
    "dm.cell_dofs(0)"
   ]
  },
  {
   "cell_type": "markdown",
   "metadata": {},
   "source": [
    "This replicates the contents of the UFL file:"
   ]
  },
  {
   "cell_type": "code",
   "execution_count": null,
   "metadata": {
    "collapsed": true
   },
   "outputs": [],
   "source": [
    "domain = W.mesh()\n",
    "T = TensorFunctionSpace(domain, \"Lagrange\", 2, shape=(3,2))\n",
    "#W = VectorFunctionSpace(domain, \"DKT\", 3, dim=3)\n",
    "P = VectorFunctionSpace(domain, \"Lagrange\", 3, dim=3)\n",
    "\n",
    "p = TrialFunction(T)\n",
    "q = TestFunction(T)\n",
    "p22 = inner(nabla_grad(p), nabla_grad(q))*dx\n",
    "\n",
    "u = TrialFunction(W)\n",
    "v = TestFunction(W)\n",
    "dkt = inner(u,v)*dx\n",
    "\n",
    "f = Coefficient(W)\n",
    "force = inner(f,v)*dx\n",
    "\n",
    "# Define variational problem for projection\n",
    "g = Coefficient(P)\n",
    "Pg = TrialFunction(W)\n",
    "w = TestFunction(W)\n",
    "project_lhs = inner(w, Pg)*dx\n",
    "project_rhs = inner(w, g)*dx"
   ]
  },
  {
   "cell_type": "code",
   "execution_count": null,
   "metadata": {
    "collapsed": true
   },
   "outputs": [],
   "source": [
    "A = assemble(p22)\n",
    "A.array().shape"
   ]
  },
  {
   "cell_type": "code",
   "execution_count": null,
   "metadata": {
    "collapsed": true
   },
   "outputs": [],
   "source": [
    "bitmap(A.array())"
   ]
  },
  {
   "cell_type": "markdown",
   "metadata": {},
   "source": [
    "### The local tensor on a 1x1 grid\n",
    "\n",
    "Plots of the two local tensors for a 1x1 grid. What are those spurious entries on the top right corner?"
   ]
  },
  {
   "cell_type": "code",
   "execution_count": null,
   "metadata": {
    "collapsed": true
   },
   "outputs": [],
   "source": [
    "Alocbmap = (np.round(Aloc, 5) != 0).astype(np.int)\n",
    "pl.imshow(Alocbmap)"
   ]
  },
  {
   "cell_type": "code",
   "execution_count": null,
   "metadata": {
    "collapsed": true
   },
   "outputs": [],
   "source": [
    "Aloc2bmap = (np.round(Aloc2, 5) != 0).astype(np.int)\n",
    "pl.imshow(Aloc2bmap)"
   ]
  }
 ],
 "metadata": {
  "hide_input": false,
  "kernelspec": {
   "display_name": "Python 3",
   "language": "python",
   "name": "python3"
  },
  "language_info": {
   "codemirror_mode": {
    "name": "ipython",
    "version": 3
   },
   "file_extension": ".py",
   "mimetype": "text/x-python",
   "name": "python",
   "nbconvert_exporter": "python",
   "pygments_lexer": "ipython3",
   "version": "3.5.2"
  },
  "toc": {
   "colors": {
    "hover_highlight": "#DAA520",
    "running_highlight": "#FF0000",
    "selected_highlight": "#FFD700"
   },
   "moveMenuLeft": true,
   "nav_menu": {
    "height": "167px",
    "width": "254px"
   },
   "navigate_menu": true,
   "number_sections": true,
   "sideBar": true,
   "threshold": 4,
   "toc_cell": false,
   "toc_section_display": "block",
   "toc_window_display": false,
   "widenNotebook": false
  }
 },
 "nbformat": 4,
 "nbformat_minor": 2
}
