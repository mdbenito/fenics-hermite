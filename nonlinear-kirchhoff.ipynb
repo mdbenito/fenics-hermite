{
 "cells": [
  {
   "cell_type": "markdown",
   "metadata": {},
   "source": [
    "# The non-linear Kirchhoff model\n",
    "\n",
    "## Model and energy\n",
    "\n",
    "## The isometry constraint\n",
    "\n",
    "## Discretisation\n",
    "\n",
    "## Linearisation of the nodal isometry constraint\n",
    "\n",
    "> For this, it is important ot realize that for the empleyed finite element space $W_h$, the nodal values of the discrete deformation ($u_h(z) : z \\in \\mathcal{N}_h$) are mutually independent variables in the minimization problem.\n",
    "\n",
    "## Discrete $H^2$ gradient flow\n",
    "\n",
    "# Implementation\n"
   ]
  },
  {
   "cell_type": "markdown",
   "metadata": {},
   "source": [
    "Besides the work already done for [the linear case](linear-kirchhoff.ipynb), we need to compute the matrix $B_{k-1}$ which enforces the nodal isometry constraint for the solution $d_t u^k$ at step $k$.\n",
    "\n",
    "The system to solve is (Bartels, 2013):\n",
    "\n",
    "$$\\left(\\begin{array}{cc}\n",
    "  (1 + \\alpha \\tau) M^{\\top} A^{(2)} M & B^{\\top}_{k - 1}\\\\\n",
    "  B_{k - 1} & 0\n",
    "\\end{array}\\right)  \\left(\\begin{array}{c}\n",
    "  d_t U^k\\\\\n",
    "  \\Lambda\n",
    "\\end{array}\\right) = \\left(\\begin{array}{c}\n",
    "  - \\alpha M^{\\top} A^{(2)} MU^{k - 1} + \\tau F\\\\\n",
    "  0\n",
    "\\end{array}\\right)$$\n",
    "\n",
    "The local tensor matrix requires then the discrete gradient matrix $M$, the local tensor for the form $(\\nabla u, \\nabla v)$ in $P_2$ and the constraints matrix $B_k-1$. Note also that we now have vector valued functions and this will probably require tweaking some of the previous code."
   ]
  },
  {
   "cell_type": "markdown",
   "metadata": {},
   "source": [
    "## Discrete isometry constraint\n",
    "\n",
    "\\\\[ \\left( \\begin{array}{ccccccccc}\n",
    "     \\quad & 2 y^{k - 1}_{i, 1} &  & \\quad & 2 y^{k - 1}_{i, 1} &  & \\quad & 2\n",
    "     y^{k - 1}_{i, 1} & \\\\\n",
    "     & y^{k - 1}_{i, 2} & y^{k - 1}_{i, 1} &  & y^{k - 1}_{i, 2} & y^{k -\n",
    "     1}_{i, 1} &  & y^{k - 1}_{i, 2} & y^{k - 1}_{i, 1}\\\\\n",
    "     & y^{k - 1}_{i, 2} & y^{k - 1}_{i, 1} &  & y^{k - 1}_{i, 2} & y^{k -\n",
    "     1}_{i, 1} &  & y^{k - 1}_{i, 2} & y^{k - 1}_{i, 1}\\\\\n",
    "     &  & 2 y^{k - 1}_{i, 2} &  &  & 2 y^{k - 1}_{i, 2} &  &  & 2 y^{k -\n",
    "     1}_{i, 2}\n",
    "   \\end{array}\\right)  \\left(\\begin{array}{c}\n",
    "     d_t y^k_i\\\\\n",
    "     d_t y^k_{i, 1}\\\\\n",
    "     d_t y^k_{i, 2}\\\\\n",
    "     d_t y^k_i\\\\\n",
    "     d_t y^k_{i, 1}\\\\\n",
    "     d_t y^k_{i, 2}\\\\\n",
    "     d_t y^k_i\\\\\n",
    "     d_t y^k_{i, 1}\\\\\n",
    "     d_t y^k_{i, 2}\n",
    "   \\end{array}\\right) \\\\]"
   ]
  },
  {
   "cell_type": "markdown",
   "metadata": {},
   "source": [
    "# Tests"
   ]
  },
  {
   "cell_type": "code",
   "execution_count": null,
   "metadata": {},
   "outputs": [],
   "source": [
    "from dolfin import *\n",
    "import numpy as np\n",
    "np.set_printoptions(precision=4, linewidth=130, threshold=5000, suppress=True)\n",
    "\n",
    "import nbimporter\n",
    "from interpolation import interpolate\n",
    "\n",
    "import matplotlib.pyplot as pl\n",
    "%matplotlib inline\n",
    "\n",
    "#info(parameters, True)\n",
    "\n",
    "def bitmap(A, rtol=1e-5, atol=1e-8):\n",
    "    \"\"\"Draw the number of non zeros of A.\"\"\"\n",
    "    if np.sum(A.shape) > 4000:\n",
    "        print(\"Matrix is too big (%d x %d)\" % A.shape)\n",
    "    pl.figure(figsize=(10,10))\n",
    "    bmap = 1 - np.isclose(A, 0, rtol, atol).astype(np.int)\n",
    "    pl.imshow(bmap, cmap='binary')\n",
    "    print(\"%.2f%% non zeros\" % (100*bmap.sum()/np.product(bmap.shape)))"
   ]
  },
  {
   "cell_type": "code",
   "execution_count": null,
   "metadata": {},
   "outputs": [],
   "source": [
    "Mk = np.loadtxt(\"/home/fenics/local/src/nonlinear-kirchhoff/build/Mk.txt\")\n",
    "Y0 = np.loadtxt(\"/home/fenics/local/src/nonlinear-kirchhoff/build/y0.txt\")\n",
    "Yk = np.loadtxt(\"/home/fenics/local/src/nonlinear-kirchhoff/build/yk.txt\")\n",
    "dtY = np.loadtxt(\"/home/fenics/local/src/nonlinear-kirchhoff/build/dtY_L.txt\")\n",
    "\n",
    "# Cut out the constraint matrix and the stiffness matrix and the bottom extra chunk in the solution\n",
    "Bk = Mk[-7:,:-7]\n",
    "A = Mk[:-7,:-7]\n",
    "dtY = dtY[:-7]"
   ]
  },
  {
   "cell_type": "code",
   "execution_count": null,
   "metadata": {},
   "outputs": [],
   "source": [
    "A.shape, Bk.shape, Y0.shape, Yk.shape, dtY.shape"
   ]
  },
  {
   "cell_type": "markdown",
   "metadata": {},
   "source": [
    "## Exploring the stiffness matrix\n",
    "\n",
    "First a nice picture:"
   ]
  },
  {
   "cell_type": "code",
   "execution_count": null,
   "metadata": {},
   "outputs": [],
   "source": [
    "bitmap(A)"
   ]
  },
  {
   "cell_type": "markdown",
   "metadata": {},
   "source": [
    "The condition nunmber is **awful**, something is definitely wrong:"
   ]
  },
  {
   "cell_type": "code",
   "execution_count": null,
   "metadata": {},
   "outputs": [],
   "source": [
    "np.linalg.cond(A)"
   ]
  },
  {
   "cell_type": "markdown",
   "metadata": {},
   "source": [
    "## Visualizing the components of the solution\n",
    "\n",
    "A quick visualization skipping Paraview...\n",
    "\n",
    "Recall that the $W^3$ space has 27 dofs in 3 groups of 9, one per subsp\n",
    "ace. Inside each group the dofs are: [evaluation, eval of dx, eval of dy] at each of the 3 vertices in turn."
   ]
  },
  {
   "cell_type": "code",
   "execution_count": null,
   "metadata": {},
   "outputs": [],
   "source": [
    "W = VectorFunctionSpace(UnitSquareMesh(8,8, \"crossed\"), \"DKT\", degree=3, dim=3)\n",
    "y0 = Function(W)\n",
    "yk = Function(W)"
   ]
  },
  {
   "cell_type": "code",
   "execution_count": null,
   "metadata": {},
   "outputs": [],
   "source": [
    "y0.vector().set_local(Y0)\n",
    "_ = yk.vector().set_local(Yk)\n",
    "\n",
    "W.mesh().num_cells()"
   ]
  },
  {
   "cell_type": "code",
   "execution_count": null,
   "metadata": {},
   "outputs": [],
   "source": [
    "_xx = np.array(sorted(W.mesh().coordinates()[:,0]))\n",
    "\n",
    "pl.plot(_xx, [y0(x,0.5)[0] - x for x in _xx], label='$u_0$')\n",
    "for _y in np.linspace(0,1,5):\n",
    "    pl.plot(_xx, [yk(x,_y)[0] - x for x in _xx], label='$u_k(%.1f)$' % _y)\n",
    "_ = pl.legend()"
   ]
  },
  {
   "cell_type": "code",
   "execution_count": null,
   "metadata": {},
   "outputs": [],
   "source": [
    "from dofs import extract_dofs_with_mask\n",
    "\n",
    "_f = extract_dofs_with_mask(W, np.arange(0,27,3))\n",
    "f = [_f[::3], _f[1::3], _f[2::3]]\n",
    "_dfdx = extract_dofs_with_mask(W, np.arange(1,27,3))\n",
    "dfdx = [_dfdx[::3], _dfdx[1::3], _dfdx[2::3]]\n",
    "_dfdy = extract_dofs_with_mask(W, np.arange(2,27,3))\n",
    "dfdy = [_dfdy[::3], _dfdy[1::3], _dfdy[2::3]]"
   ]
  },
  {
   "cell_type": "code",
   "execution_count": null,
   "metadata": {},
   "outputs": [],
   "source": [
    "def plot_component(Y, W, i, ii):\n",
    "    y = Function(FunctionSpace(W.mesh(), \"DKT\", 3))\n",
    "    vec = np.zeros_like(y.vector().array())\n",
    "    vec[i::3] = Yk[ii[i]]/1e8\n",
    "    _ = y.vector().set_local(vec)\n",
    "\n",
    "    P = FunctionSpace(W.mesh(), \"Lagrange\", 1)\n",
    "    p = Function(P)\n",
    "    vals = y.compute_vertex_values(W.mesh())\n",
    "    d2v = dof_to_vertex_map(P)\n",
    "    _ = p.vector().set_local(vals[d2v])\n",
    "\n",
    "    plot(p)"
   ]
  },
  {
   "cell_type": "code",
   "execution_count": null,
   "metadata": {},
   "outputs": [],
   "source": [
    "plot_component(dtY, W, 0, f)"
   ]
  },
  {
   "cell_type": "code",
   "execution_count": null,
   "metadata": {},
   "outputs": [],
   "source": [
    "pl.figure(figsize=(18,18))\n",
    "pl.subplot(3,3,1)\n",
    "plot_component(Yk, W, 0, f)\n",
    "pl.subplot(3,3,2)\n",
    "plot_component(Yk, W, 1, f)\n",
    "pl.subplot(3,3,3)\n",
    "plot_component(Yk, W, 2, f)\n",
    "pl.subplot(3,3,4)\n",
    "plot_component(Yk, W, 0, dfdx)\n",
    "pl.subplot(3,3,5)\n",
    "plot_component(Yk, W, 1, dfdx)\n",
    "pl.subplot(3,3,6)\n",
    "plot_component(Yk, W, 2, dfdx)\n",
    "pl.subplot(3,3,7)\n",
    "plot_component(Yk, W, 0, dfdy)\n",
    "pl.subplot(3,3,8)\n",
    "plot_component(Yk, W, 1, dfdy)\n",
    "pl.subplot(3,3,9)\n",
    "plot_component(Yk, W, 2, dfdy)"
   ]
  },
  {
   "cell_type": "markdown",
   "metadata": {},
   "source": [
    "## What's with the boundary condition?\n",
    "\n",
    "The initial condition has to have $y^0_{,x} = y^0_{,y} = 1$ at all boundary nodes. In fact, since we take $y^0(x)=x$, this should hold at all nodes. If the following is not `(True, True)`, then we have a problem."
   ]
  },
  {
   "cell_type": "code",
   "execution_count": null,
   "metadata": {},
   "outputs": [],
   "source": [
    "np.allclose(Y0[dfdx[0]], 1), np.allclose(Y0[dfdy[1]], 1)"
   ]
  },
  {
   "cell_type": "code",
   "execution_count": null,
   "metadata": {},
   "outputs": [],
   "source": [
    "pl.figure(figsize=(12,6))\n",
    "pl.subplot(1,2,1)\n",
    "plot_component(Y0, W, 1, dfdx)\n",
    "pl.subplot(1,2,2)\n",
    "plot_component(Y0, W, 2, dfdy)"
   ]
  },
  {
   "cell_type": "markdown",
   "metadata": {},
   "source": [
    "All iterates $y^k$ fulfill the boundary condition since updates are always made with $d_tY$ with zero value and derivative at the boundary. We expect the same result as above:"
   ]
  },
  {
   "cell_type": "code",
   "execution_count": null,
   "metadata": {},
   "outputs": [],
   "source": [
    "np.allclose(Yk[dfdx[0]], 1), np.allclose(Yk[dfdy[1]], 1)"
   ]
  },
  {
   "cell_type": "markdown",
   "metadata": {},
   "source": [
    "Something is clearly off, let's plot it:"
   ]
  },
  {
   "cell_type": "code",
   "execution_count": null,
   "metadata": {},
   "outputs": [],
   "source": [
    "from dofs import plot_dofs, plot_field_at_dofs"
   ]
  },
  {
   "cell_type": "code",
   "execution_count": null,
   "metadata": {},
   "outputs": [],
   "source": [
    "pl.figure(figsize=(12,6))\n",
    "pl.subplot(1,2,1)\n",
    "plot_dofs(W, np.where(np.logical_not(np.isclose(Yk[dfdx[0]], 1)))[0])\n",
    "pl.subplot(1,2,2)\n",
    "plot_dofs(W, np.where(np.logical_not(np.isclose(Yk[dfdy[0]], 0)))[0])"
   ]
  },
  {
   "cell_type": "markdown",
   "metadata": {},
   "source": [
    "## Inspecting the $P_2^{3 \\times 2}$ tensor\n",
    "\n",
    "This replicates the contents of the UFL file."
   ]
  },
  {
   "cell_type": "code",
   "execution_count": null,
   "metadata": {},
   "outputs": [],
   "source": [
    "domain = W.mesh()\n",
    "T = TensorFunctionSpace(domain, \"Lagrange\", 2, shape=(3,2))\n",
    "#W = VectorFunctionSpace(domain, \"DKT\", 3, dim=3)\n",
    "P = VectorFunctionSpace(domain, \"Lagrange\", 3, dim=3)\n",
    "\n",
    "p = TrialFunction(T)\n",
    "q = TestFunction(T)\n",
    "p22 = inner(nabla_grad(p), nabla_grad(q))*dx\n",
    "\n",
    "u = TrialFunction(W)\n",
    "v = TestFunction(W)\n",
    "dkt = inner(u,v)*dx\n",
    "\n",
    "f = Coefficient(W)\n",
    "force = inner(f,v)*dx\n",
    "\n",
    "# Define variational problem for projection\n",
    "g = Coefficient(P)\n",
    "Pg = TrialFunction(W)\n",
    "w = TestFunction(W)\n",
    "project_lhs = inner(w, Pg)*dx\n",
    "project_rhs = inner(w, g)*dx"
   ]
  },
  {
   "cell_type": "code",
   "execution_count": null,
   "metadata": {},
   "outputs": [],
   "source": [
    "A = assemble(p22)\n",
    "A.array().shape"
   ]
  },
  {
   "cell_type": "code",
   "execution_count": null,
   "metadata": {},
   "outputs": [],
   "source": [
    "bitmap(A.array())"
   ]
  },
  {
   "cell_type": "markdown",
   "metadata": {},
   "source": [
    "### The local tensor on a 1x1 grid\n",
    "\n",
    "Plots of the two local tensors for a 1x1 grid. What are those spurious entries on the top right corner?"
   ]
  },
  {
   "cell_type": "code",
   "execution_count": null,
   "metadata": {},
   "outputs": [],
   "source": [
    "Alocbmap = (np.round(Aloc, 5) != 0).astype(np.int)\n",
    "pl.imshow(Alocbmap)"
   ]
  },
  {
   "cell_type": "code",
   "execution_count": null,
   "metadata": {},
   "outputs": [],
   "source": [
    "Aloc2bmap = (np.round(Aloc2, 5) != 0).astype(np.int)\n",
    "pl.imshow(Aloc2bmap)"
   ]
  }
 ],
 "metadata": {
  "hide_input": false,
  "kernelspec": {
   "display_name": "Python 3",
   "language": "python",
   "name": "python3"
  },
  "language_info": {
   "codemirror_mode": {
    "name": "ipython",
    "version": 3
   },
   "file_extension": ".py",
   "mimetype": "text/x-python",
   "name": "python",
   "nbconvert_exporter": "python",
   "pygments_lexer": "ipython3",
   "version": "3.5.2"
  },
  "toc": {
   "colors": {
    "hover_highlight": "#DAA520",
    "running_highlight": "#FF0000",
    "selected_highlight": "#FFD700"
   },
   "moveMenuLeft": true,
   "nav_menu": {
    "height": "167px",
    "width": "254px"
   },
   "navigate_menu": true,
   "number_sections": true,
   "sideBar": true,
   "threshold": 4,
   "toc_cell": false,
   "toc_section_display": "block",
   "toc_window_display": false,
   "widenNotebook": false
  }
 },
 "nbformat": 4,
 "nbformat_minor": 2
}
