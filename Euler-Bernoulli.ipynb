{
 "cells": [
  {
   "cell_type": "markdown",
   "metadata": {},
   "source": [
    "# The Euler-Bernoulli beam model\n",
    "\n",
    "Model: 2D beam reduced to 1D problem. We study the deformation of the midplane under the assumptions that after the deformation the normals to the midplane:\n",
    "\n",
    "* do not bend\n",
    "* do not stretch\n",
    "* remain orthogonal to the midplane.\n",
    "\n",
    "This theory is adequate for thin beams and is intended for small strains even with large global deformations: it is a physically linear but geometrically non-linear theory.\n",
    "\n",
    "For thicker beams, Timoshenko's theory, which accounts for internal shear forces, yields more accurate predictions.\n",
    "\n",
    "Fix $\\omega = (a, b)$ to be the midplane of the beam $\\Omega = \\omega \\times\n",
    "(- h / 2, h / 2) \\subset \\mathbb{R}^2$.\n",
    "\n",
    "## Derivation\n",
    "\n",
    "Ad-hoc stuff … compute … hack … compute … and:\n",
    "\n",
    "$$\\frac{\\mathrm{d}^2}{\\mathrm{d} x^2} \\left( b(x) \\frac{\\mathrm{d}^2}{\\mathrm{d} x^2}u(x) \\right) = f$$\n",
    "\n",
    "where $b(x) = E(x) I(x)$ is the product of Young's modulus $E$ and the area moment of inertia of the beam $I$. For a steel beam (with < 0.3% carbon) at 21°C, $E = 203.4 \\cdot 10^9 \\text{Pa}$ and if it has a constant square cross section of side 0.01m, then $I=8 \\cdot 10^{-10}$.\n",
    "\n",
    "\n",
    "## Weak formulation\n",
    "\n",
    "Write $\\nabla u = \\frac{\\mathrm{d}}{\\mathrm{d} x} u$ and $\\Delta u =\n",
    "\\frac{\\mathrm{d}^2}{\\mathrm{d} x^2} u$. Let $V$ be a subspace of $H^2\n",
    "(\\Omega)$ to be specified later. Multiplying the equation by a\n",
    "test function $v \\in V$ and integrating by parts we arrive at\n",
    "\n",
    "$$ \\int_{\\Omega} b \\Delta u \\Delta v \\mathrm{d} x - [b \\Delta u \\nabla v]_a^b\n",
    "   + [\\nabla (b \\Delta u) v]_a^b = \\int_{\\Omega} fv \\mathrm{d} x. $$\n",
    "\n",
    "In order for these integrals to make sense we may take $b \\in L^{\\infty}\n",
    "(\\Omega)$ and $f \\in L^2 (\\Omega)$ (or even $H^{- 2} (\\Omega)$). The\n",
    "definition of $V$ and the final form of the equation are determined by our\n",
    "choices for the four boundary conditions that have to be specified:\n",
    "\n",
    "**Essential boundary conditions:** We fix either the\n",
    "**deflections** $u (\\alpha)$ or the **slopes** $u' (\\alpha)$\n",
    "or both at the ends of the beam $\\alpha \\in \\{a, b\\}$. These conditions are\n",
    "incorporated into the definition of $V$. For example if we **clamp**\n",
    "the beam at an horizontal position we have\n",
    "\n",
    "$$ V = V_{\\text{clamped}} = \\{ v \\in H^2 (\\Omega) : v (\\alpha) = v_{\\alpha},\n",
    "   v' (\\alpha) = v'_{\\alpha}, \\alpha = 1, 2 \\} . $$\n",
    "\n",
    "**Natural boundary conditions:** For $\\alpha \\in \\{a, b\\}$, we can fix\n",
    "the **bending moment**:\n",
    "\n",
    "$$ M (\\alpha) = (b \\Delta u) (\\alpha), $$\n",
    "\n",
    "which for general $x \\in \\Omega$ is the torque exerted by forces surrounding\n",
    "$x$. If, for example we find solutions such that $M (a) = 0$, then we are\n",
    "assuming that the left end of the beam is free to rotate, i.e. that it\n",
    "undergoes no bending due to torque. Alternatively we can set the\n",
    "**shear force** at $\\alpha$:\n",
    "\n",
    "$$ F (\\alpha) = [\\nabla (b \\Delta u)] (\\alpha), $$\n",
    "\n",
    "which is the resultant of transversal forces at $x \\in \\Omega$. This will in\n",
    "general be zero at the ends.\n",
    "\n",
    "If we set $\\Gamma_M, \\Gamma_F \\subset \\{ a, b \\}$, after choosing some\n",
    "combination of the conditions the problem is: Find $u \\in V$ such that for all\n",
    "$v \\in V$:\n",
    "\n",
    "$$ \\int_{\\Omega} b \\Delta u \\Delta v \\mathrm{d} x = \\int_{\\Omega} fv\n",
    "   \\mathrm{d} x + \\int_{\\Gamma_M} M \\nabla v \\mathrm{d} s - \\int_{\\Gamma_F} Fv\n",
    "   \\mathrm{d} s $$\n",
    "   \n",
    "$V, \\Gamma_M, \\Gamma_F$ to be (consistently) specified.\n",
    "\n",
    "## Discretization\n",
    "\n",
    "Recall that $H^2(a,b) \\in C^1(a,b)$ by the Sobolev embeddings.\n",
    "\n",
    "Even though cuadratic polynomials might be enough, we want to construct a Ciarlet finite element, i.e. need unisolvent set of degrees of freedom, which requires at least cubic polynomials ... [elaborate, see p.218 of ...]\n",
    "\n",
    "Use Cubic Hermite elements => $H^2$ conforming in $\\mathbb{R}$."
   ]
  },
  {
   "cell_type": "markdown",
   "metadata": {},
   "source": [
    "# Common code\n",
    "\n",
    "Because we will be doing several examples it is convenient to factor out most of the stuff. The resulting code is somewhat ugly, with a nasty mixture of global state and unintuitive parameters, but elegance is not the point here."
   ]
  },
  {
   "cell_type": "code",
   "execution_count": 1,
   "metadata": {
    "collapsed": true
   },
   "outputs": [],
   "source": [
    "from dolfin import *\n",
    "import numpy as np\n",
    "%matplotlib inline\n",
    "import matplotlib.pyplot as pl\n",
    "\n",
    "# Beam and problem parameters. Assume an homogenous steel beam of constant cross-section\n",
    "E = 203.4e9  # Steel (< 0.3% carbon) @ 21°C ~ 203.38 GPa\n",
    "I = 8e-10    # Second moment of inertia / area (in m^4, for square beam of side 0.01m)\n",
    "g = 9.8      # Gravity m/s^2\n",
    "\n",
    "# Basic setup\n",
    "mesh = UnitIntervalMesh(200)\n",
    "V = FunctionSpace(mesh, \"Hermite\", 3)\n",
    "b = Constant(E*I) # HACK\n",
    "\n",
    "class right_subdomain(SubDomain):\n",
    "    \"\"\" Right end of the beam. \"\"\"\n",
    "    def inside(self, x, on_boundary):\n",
    "        return on_boundary and np.isclose(x[0], 1.)\n",
    "\n",
    "class left_subdomain(SubDomain):\n",
    "    \"\"\" Left end of the beam. \"\"\"\n",
    "    def inside(self, x, on_boundary):\n",
    "        return on_boundary and np.isclose(x[0], 0.)\n",
    "\n",
    "# We will use this to mark boundaries for natural boundary conditions\n",
    "exterior_facet_domains = FacetFunction(\"uint\", mesh)\n",
    "exterior_facet_domains.set_all(1)"
   ]
  },
  {
   "cell_type": "code",
   "execution_count": 87,
   "metadata": {
    "collapsed": false
   },
   "outputs": [],
   "source": [
    "def solve_with_bcs(essential_bcs, natural_bcs=None, external_force=None):\n",
    "    \"\"\" Sets up and solves the beam problem for the given boundary conditions.\n",
    "    Arguments:\n",
    "        essential_bcs: either one DirichletBC or an array of them.\n",
    "        natural_bcs: a tuple of ufl Forms (b,b') representing:\n",
    "                     b: additional terms for the bilinear form a()\n",
    "                     b': additional terms for the right hand side\n",
    "        external_force: gravity is used if set to None.\"\"\"\n",
    "    if natural_bcs is None:\n",
    "        natural_bcs = [None, None]\n",
    "    u = TrialFunction(V)\n",
    "    v = TestFunction(V)\n",
    "\n",
    "    f = Constant(-g) if external_force is None else external_force\n",
    "    a = b * inner(u.dx(0).dx(0), v.dx(0).dx(0))*dx\n",
    "    if natural_bcs[0] is not None:\n",
    "        a = a + natural_bcs[0]\n",
    "    \n",
    "    L = inner(f, v)*dx \n",
    "    if natural_bcs[1] is not None:\n",
    "        L = L + natural_bcs[1]\n",
    "    \n",
    "    u = Function(V)\n",
    "    solve(a==L, u, bcs=essential_bcs)\n",
    "    \n",
    "    return u"
   ]
  },
  {
   "cell_type": "code",
   "execution_count": 88,
   "metadata": {
    "collapsed": false
   },
   "outputs": [],
   "source": [
    "def plot_beam(solution, beam_width=0.01, magnification=1.0):\n",
    "    \"\"\" Draws the deformed beam and its midplane. \n",
    "    Arguments:\n",
    "        beam_width: \"\"\"\n",
    "    xx = mesh.coordinates().flatten()\n",
    "    u = solution.compute_vertex_values(mesh) * magnification\n",
    "    offset = beam_width / 2\n",
    "    pl.plot(xx, u, c='brown')\n",
    "    pl.plot(xx, u-offset, c='brown', lw=0.5)\n",
    "    pl.plot(xx, u+offset, c='brown', lw=0.5)\n",
    "    pl.ylabel(\"%s deflection\" % (\"%.1f *\" % magnification if magnification != 1. else \"\"))\n",
    "    pl.xlabel(\"x\")\n",
    "    pl.ylim(-beam_width+(np.min(u)-offset)*2, beam_width*5)"
   ]
  },
  {
   "cell_type": "markdown",
   "metadata": {},
   "source": [
    "# Plug-in test\n",
    "\n",
    "To test the code we assume a deflection given by $u(x)=-\\frac{x^4}{16}$ and constant $b(x) = E I$ over the interval $(a,b) = (0,1)$. Substituting into the equation this yields a right hand side $f(x) = - \\frac{3}{2} E I$.\n",
    "\n",
    "For the boundary conditions we see that the left side of the beam has $u(0)=u'(0)=0$, which we include into the essential boundary conditions for the solution space. At the opposite side of the beam we have $M_b = E I u''(1) = - \\frac{3}{4} E I $,  $F_b = E I u'''(1) = - \\frac{3}{2} E I$.\n",
    "\n",
    "Computing the solution over a grid with 100 elements yields an error of roughly $4.8 \\cdot 10^{-11}$ (in the sup norm)."
   ]
  },
  {
   "cell_type": "code",
   "execution_count": 89,
   "metadata": {
    "collapsed": false
   },
   "outputs": [
    {
     "name": "stdout",
     "output_type": "stream",
     "text": [
      "Maximum error = 1.144010e-09\n"
     ]
    },
    {
     "data": {
      "image/png": "[encoded data removed]",
      "text/plain": [
       "<matplotlib.figure.Figure at 0x7f5b256a5a90>"
      ]
     },
     "metadata": {},
     "output_type": "display_data"
    }
   ],
   "source": [
    "natural_boundary = right_subdomain()\n",
    "natural_boundary.mark(exterior_facet_domains, 0)\n",
    "ds = ds(subdomain_data=exterior_facet_domains)\n",
    "\n",
    "boundary_moment = Constant(-0.75*E*I)\n",
    "boundary_shear = Constant(-1.5*E*I)\n",
    "v = TestFunction(V)\n",
    "u = solve_with_bcs(essential_bcs    = DirichletBC(V, Constant(0.), left_subdomain()),\n",
    "                   natural_bcs = [None, inner(boundary_moment, v.dx(0))*ds(0) - \n",
    "                                        inner(boundary_shear, v)*ds(0)],\n",
    "                   external_force   = Constant(-1.5*E*I))\n",
    "plot_beam(u)\n",
    "\n",
    "xx = mesh.coordinates().flatten()\n",
    "print(\"Maximum error = %e\" % \n",
    "      np.linalg.norm(u.compute_vertex_values(mesh) - (-(xx**4)/16), np.inf))"
   ]
  },
  {
   "cell_type": "markdown",
   "metadata": {},
   "source": [
    "# Clamped beam\n",
    "\n",
    "We look for a solution with clamped boundaries, i.e. $u(a)=u(b)=u'(a)=u'(b)=0$. Because of the essential constraints, the terms corresponding to the natural ones in the weak formulation vanish and we are left with:\n",
    "\n",
    "$$ V = V_{\\text{clamped}} = \\{ v \\in H^2 (\\Omega) : v (\\alpha) = v_{\\alpha},\n",
    "   v' (\\alpha) = v'_{\\alpha}, \\alpha = 1, 2 \\} . $$\n",
    "   \n",
    "and $\\Gamma_M = \\Gamma_F = \\emptyset$."
   ]
  },
  {
   "cell_type": "code",
   "execution_count": 90,
   "metadata": {
    "collapsed": false
   },
   "outputs": [
    {
     "data": {
      "image/png": "[encoded data removed]",
      "text/plain": [
       "<matplotlib.figure.Figure at 0x7f5b24ae8790>"
      ]
     },
     "metadata": {},
     "output_type": "display_data"
    }
   ],
   "source": [
    "essential_bcs = [DirichletBC(V, Constant(0.), left_subdomain()),\n",
    "                 DirichletBC(V, Constant(0.), right_subdomain())]\n",
    "u = solve_with_bcs(essential_bcs)\n",
    "plot_beam(u, magnification=10)"
   ]
  },
  {
   "cell_type": "markdown",
   "metadata": {},
   "source": [
    "# Cantilevered beam\n",
    "\n",
    "One boundary is clamped, e.g. $u(a)=u'(a)=0$, and the other is left hanging freely, so that no bending moment (i.e. no torque) and no shear force appear, e.g. assuming constant $E$ and $I$: $u''(b)=u'''(b)=0$.\n",
    "\n",
    "We can generalise this to the case where we hang a mass from the free end of the beam. The downward force will introduce shear, e.g. $u'''(b) = - m g$, with $m$ the mass of the object and $g$ gravity. Just set $m=0$ for the first situation."
   ]
  },
  {
   "cell_type": "code",
   "execution_count": 91,
   "metadata": {
    "collapsed": false,
    "scrolled": false
   },
   "outputs": [
    {
     "data": {
      "image/png": "[encoded data removed]",
      "text/plain": [
       "<matplotlib.figure.Figure at 0x7f5b249d42d0>"
      ]
     },
     "metadata": {},
     "output_type": "display_data"
    }
   ],
   "source": [
    "# Kg of mass hanging from the right end, set to zero for a free end\n",
    "m = 100\n",
    "\n",
    "# Cantilever BCs: 0 bending and shear = -m*g at the right side\n",
    "natural_boundary = right_subdomain()\n",
    "natural_boundary.mark(exterior_facet_domains, 0)\n",
    "ds = ds(subdomain_data=exterior_facet_domains)\n",
    "\n",
    "boundary_moment = Constant(0)\n",
    "boundary_shear = Constant(m*g/(E*I))\n",
    "\n",
    "v = TestFunction(V)\n",
    "u = solve_with_bcs(essential_bcs = DirichletBC(V, Constant(0.), left_subdomain()),\n",
    "                   natural_bcs   = [None, inner(boundary_moment, v.dx(0))*ds(0) -\n",
    "                                          inner(boundary_shear, v)*ds(0)])\n",
    "plot_beam(u)"
   ]
  },
  {
   "cell_type": "markdown",
   "metadata": {},
   "source": [
    "# Simply supported beam (wrong!)\n",
    "\n",
    "The beam rests on two point supports at its ends. Displacements are fixed at both ends with $u(a)=u(b)=0$, but since the beam is free to rotate, it experiences no torque at these points, i.e. the bending moments are zero: $u''(a)=u''(b)=0$, so we can plug in the natural boundary condition $M=0$ and the problem is: Find $u \\in V = H^2_0(\\omega)$ such that for all $v \\in V$:\n",
    "\n",
    "$$ \\int_{\\omega} b \\Delta u \\Delta v \\mathrm{d} x + \\int_{\\gamma} \\nabla (b \\Delta u) v \n",
    "\\mathrm{d} s = \\int_{\\omega} fv \\mathrm{d} x. $$\n",
    "\n",
    "This means we need to change the bilinear form $a$ in the problem setting, and in our hackish setup we do this by setting the first element of `natural_bcs` in the call to `solve_with_bcs`."
   ]
  },
  {
   "cell_type": "code",
   "execution_count": 97,
   "metadata": {
    "collapsed": false
   },
   "outputs": [
    {
     "data": {
      "image/png": "[encoded data removed]",
      "text/plain": [
       "<matplotlib.figure.Figure at 0x7f5b24a35e90>"
      ]
     },
     "metadata": {},
     "output_type": "display_data"
    }
   ],
   "source": [
    "# FIXME? Is it ok to define a form with new variables u,v, \n",
    "# then add it to a() in solve_with_bcs?\n",
    "u = TrialFunction(V)\n",
    "v = TestFunction(V)\n",
    "u = solve_with_bcs(essential_bcs = [DirichletBC(V, Constant(0.), left_subdomain()),\n",
    "                                    DirichletBC(V, Constant(0.), right_subdomain())],\n",
    "                   natural_bcs   = [inner((b*u.dx(0).dx(0)).dx(0), v)*ds, None]) \n",
    "plot_beam(u, magnification=10)"
   ]
  },
  {
   "cell_type": "code",
   "execution_count": 98,
   "metadata": {
    "collapsed": false
   },
   "outputs": [
    {
     "name": "stdout",
     "output_type": "stream",
     "text": [
      "    Calling FFC just-in-time (JIT) compiler, this may take some time.\n",
      "      MBD: Assuming all mappings to be hermite in _get_auxiliary_variables()\n",
      "Transformation is not supported: 'hermite'\n"
     ]
    },
    {
     "ename": "RuntimeError",
     "evalue": "\n\n*** -------------------------------------------------------------------------\n*** DOLFIN encountered an error. If you are not able to resolve this issue\n*** using the information listed below, you can ask for help at\n***\n***     fenics-support@googlegroups.com\n***\n*** Remember to include the error message listed below and, if possible,\n*** include a *minimal* running example to reproduce the error.\n***\n*** -------------------------------------------------------------------------\n*** Error:   Unable to perform just-in-time compilation of form.\n*** Reason:  ffc.jit failed with message:\nTraceback (most recent call last):\n  File \"/home/fenics/local/lib/python2.7/site-packages/dolfin/compilemodules/jit.py\", line 128, in jit\n    result = ffc.jit(ufl_object, parameters=p)\n  File \"/home/fenics/local/lib/python2.7/site-packages/ffc/jitcompiler.py\", line 198, in jit\n    module = jit_build(ufl_object, module_name, parameters)\n  File \"/home/fenics/local/lib/python2.7/site-packages/ffc/jitcompiler.py\", line 120, in jit_build\n    generate=jit_generate)\n  File \"/home/fenics/local/lib/python2.7/site-packages/dijitso/jit.py\", line 160, in jit\n    header, source, dependencies = generate(jitable, name, signature, params[\"generator\"])\n  File \"/home/fenics/local/lib/python2.7/site-packages/ffc/jitcompiler.py\", line 66, in jit_generate\n    prefix=module_name, parameters=parameters, jit=True)\n  File \"/home/fenics/local/lib/python2.7/site-packages/ffc/compiler.py\", line 141, in compile_form\n    prefix, parameters, jit)\n  File \"/home/fenics/local/lib/python2.7/site-packages/ffc/compiler.py\", line 188, in compile_ufl_objects\n    ir = compute_ir(analysis, prefix, parameters, jit)\n  File \"/home/fenics/local/lib/python2.7/site-packages/ffc/representation.py\", line 190, in compute_ir\n    for (form_id, fd) in enumerate(form_datas)]\n  File \"/home/fenics/local/lib/python2.7/site-packages/ffc/representation.py\", line 453, in _compute_integral_ir\n    parameters)\n  File \"/home/fenics/local/lib/python2.7/site-packages/ffc/quadrature/quadraturerepresentation.py\", line 101, in compute_integral_ir\n    cell)\n  File \"/home/fenics/local/lib/python2.7/site-packages/ffc/quadrature/quadraturerepresentation.py\", line 185, in _transform_integrals_by_type\n    integral_type)\n  File \"/home/fenics/local/lib/python2.7/site-packages/ffc/quadrature/quadraturerepresentation.py\", line 223, in _transform_integrals\n    terms = transformer.generate_terms(integral.integrand(), integral_type)\n  File \"/home/fenics/local/lib/python2.7/site-packages/ffc/quadrature/quadraturetransformerbase.py\", line 763, in generate_terms\n    terms = self.visit(integrand)\n  File \"/home/fenics/local/lib/python2.7/site-packages/ufl/algorithms/transformer.py\", line 104, in visit\n    r = h(o, *[self.visit(op) for op in o.ufl_operands])\n  File \"/home/fenics/local/lib/python2.7/site-packages/ufl/algorithms/transformer.py\", line 108, in visit\n    r = h(o)\n  File \"/home/fenics/local/lib/python2.7/site-packages/ffc/quadrature/quadraturetransformerbase.py\", line 514, in indexed\n    code = self.visit(indexed_expr)\n  File \"/home/fenics/local/lib/python2.7/site-packages/ufl/algorithms/transformer.py\", line 108, in visit\n    r = h(o)\n  File \"/home/fenics/local/lib/python2.7/site-packages/ffc/quadrature/quadraturetransformerbase.py\", line 718, in component_tensor\n    code = self.visit(component_expr)\n  File \"/home/fenics/local/lib/python2.7/site-packages/ufl/algorithms/transformer.py\", line 104, in visit\n    r = h(o, *[self.visit(op) for op in o.ufl_operands])\n  File \"/home/fenics/local/lib/python2.7/site-packages/ufl/algorithms/transformer.py\", line 108, in visit\n    r = h(o)\n  File \"/home/fenics/local/lib/python2.7/site-packages/ffc/quadrature/quadraturetransformerbase.py\", line 514, in indexed\n    code = self.visit(indexed_expr)\n  File \"/home/fenics/local/lib/python2.7/site-packages/ufl/algorithms/transformer.py\", line 108, in visit\n    r = h(o)\n  File \"/home/fenics/local/lib/python2.7/site-packages/ffc/quadrature/quadraturetransformerbase.py\", line 718, in component_tensor\n    code = self.visit(component_expr)\n  File \"/home/fenics/local/lib/python2.7/site-packages/ufl/algorithms/transformer.py\", line 108, in visit\n    r = h(o)\n  File \"/home/fenics/local/lib/python2.7/site-packages/ffc/quadrature/quadraturetransformerbase.py\", line 514, in indexed\n    code = self.visit(indexed_expr)\n  File \"/home/fenics/local/lib/python2.7/site-packages/ufl/algorithms/transformer.py\", line 108, in visit\n    r = h(o)\n  File \"/home/fenics/local/lib/python2.7/site-packages/ffc/quadrature/quadraturetransformerbase.py\", line 430, in grad\n    code = self.visit(derivative_expr)\n  File \"/home/fenics/local/lib/python2.7/site-packages/ufl/algorithms/transformer.py\", line 108, in visit\n    r = h(o)\n  File \"/home/fenics/local/lib/python2.7/site-packages/ffc/quadrature/quadraturetransformerbase.py\", line 430, in grad\n    code = self.visit(derivative_expr)\n  File \"/home/fenics/local/lib/python2.7/site-packages/ufl/algorithms/transformer.py\", line 108, in visit\n    r = h(o)\n  File \"/home/fenics/local/lib/python2.7/site-packages/ffc/quadrature/quadraturetransformerbase.py\", line 430, in grad\n    code = self.visit(derivative_expr)\n  File \"/home/fenics/local/lib/python2.7/site-packages/ufl/algorithms/transformer.py\", line 108, in visit\n    r = h(o)\n  File \"/home/fenics/local/lib/python2.7/site-packages/ffc/quadrature/quadraturetransformerbase.py\", line 480, in coefficient\n    self.gdim, self.avg)}\n  File \"/home/fenics/local/lib/python2.7/site-packages/ffc/quadrature/quadraturetransformer.py\", line 773, in create_function\n    error(\"Transformation is not supported: \" + repr(transformation))\n  File \"<string>\", line 1, in <lambda>\n  File \"/home/fenics/local/lib/python2.7/site-packages/ufl/log.py\", line 171, in error\n    raise self._exception_type(self._format_raw(*message))\nException: Transformation is not supported: 'hermite'\n.\n*** Where:   This error was encountered inside jit.py.\n*** Process: 0\n*** \n*** DOLFIN version: 2017.1.0.dev0\n*** Git changeset:  8d4c7c807451f2301020ec23a2106f0501c632e3\n*** -------------------------------------------------------------------------\n",
     "output_type": "error",
     "traceback": [
      "\u001b[0;31m---------------------------------------------------------------------------\u001b[0m",
      "\u001b[0;31mRuntimeError\u001b[0m                              Traceback (most recent call last)",
      "\u001b[0;32m<ipython-input-98-882da3970f09>\u001b[0m in \u001b[0;36m<module>\u001b[0;34m()\u001b[0m\n\u001b[0;32m----> 1\u001b[0;31m \u001b[0mbla\u001b[0m \u001b[0;34m=\u001b[0m \u001b[0massemble\u001b[0m\u001b[0;34m(\u001b[0m\u001b[0minner\u001b[0m\u001b[0;34m(\u001b[0m\u001b[0;34m(\u001b[0m\u001b[0mb\u001b[0m\u001b[0;34m*\u001b[0m\u001b[0mu\u001b[0m\u001b[0;34m.\u001b[0m\u001b[0mdx\u001b[0m\u001b[0;34m(\u001b[0m\u001b[0;36m0\u001b[0m\u001b[0;34m)\u001b[0m\u001b[0;34m.\u001b[0m\u001b[0mdx\u001b[0m\u001b[0;34m(\u001b[0m\u001b[0;36m0\u001b[0m\u001b[0;34m)\u001b[0m\u001b[0;34m)\u001b[0m\u001b[0;34m.\u001b[0m\u001b[0mdx\u001b[0m\u001b[0;34m(\u001b[0m\u001b[0;36m0\u001b[0m\u001b[0;34m)\u001b[0m\u001b[0;34m,\u001b[0m \u001b[0mv\u001b[0m\u001b[0;34m)\u001b[0m\u001b[0;34m*\u001b[0m\u001b[0mds\u001b[0m\u001b[0;34m)\u001b[0m\u001b[0;34m\u001b[0m\u001b[0m\n\u001b[0m",
      "\u001b[0;32m/home/fenics/local/lib/python2.7/site-packages/dolfin/fem/assembling.pyc\u001b[0m in \u001b[0;36massemble\u001b[0;34m(form, tensor, form_compiler_parameters, add_values, finalize_tensor, keep_diagonal, backend)\u001b[0m\n\u001b[1;32m    191\u001b[0m \u001b[0;34m\u001b[0m\u001b[0m\n\u001b[1;32m    192\u001b[0m     \u001b[0;31m# Create dolfin Form object referencing all data needed by assembler\u001b[0m\u001b[0;34m\u001b[0m\u001b[0;34m\u001b[0m\u001b[0m\n\u001b[0;32m--> 193\u001b[0;31m     \u001b[0mdolfin_form\u001b[0m \u001b[0;34m=\u001b[0m \u001b[0m_create_dolfin_form\u001b[0m\u001b[0;34m(\u001b[0m\u001b[0mform\u001b[0m\u001b[0;34m,\u001b[0m \u001b[0mform_compiler_parameters\u001b[0m\u001b[0;34m)\u001b[0m\u001b[0;34m\u001b[0m\u001b[0m\n\u001b[0m\u001b[1;32m    194\u001b[0m \u001b[0;34m\u001b[0m\u001b[0m\n\u001b[1;32m    195\u001b[0m     \u001b[0;31m# Create tensor\u001b[0m\u001b[0;34m\u001b[0m\u001b[0;34m\u001b[0m\u001b[0m\n",
      "\u001b[0;32m/home/fenics/local/lib/python2.7/site-packages/dolfin/fem/assembling.pyc\u001b[0m in \u001b[0;36m_create_dolfin_form\u001b[0;34m(form, form_compiler_parameters, function_spaces)\u001b[0m\n\u001b[1;32m     65\u001b[0m         return Form(form,\n\u001b[1;32m     66\u001b[0m                     \u001b[0mform_compiler_parameters\u001b[0m\u001b[0;34m=\u001b[0m\u001b[0mform_compiler_parameters\u001b[0m\u001b[0;34m,\u001b[0m\u001b[0;34m\u001b[0m\u001b[0m\n\u001b[0;32m---> 67\u001b[0;31m                     function_spaces=function_spaces)\n\u001b[0m\u001b[1;32m     68\u001b[0m     \u001b[0;32melse\u001b[0m\u001b[0;34m:\u001b[0m\u001b[0;34m\u001b[0m\u001b[0m\n\u001b[1;32m     69\u001b[0m         \u001b[0;32mraise\u001b[0m \u001b[0mTypeError\u001b[0m\u001b[0;34m(\u001b[0m\u001b[0;34m\"Invalid form type %s\"\u001b[0m \u001b[0;34m%\u001b[0m \u001b[0;34m(\u001b[0m\u001b[0mtype\u001b[0m\u001b[0;34m(\u001b[0m\u001b[0mform\u001b[0m\u001b[0;34m)\u001b[0m\u001b[0;34m,\u001b[0m\u001b[0;34m)\u001b[0m\u001b[0;34m)\u001b[0m\u001b[0;34m\u001b[0m\u001b[0m\n",
      "\u001b[0;32m/home/fenics/local/lib/python2.7/site-packages/dolfin/fem/form.pyc\u001b[0m in \u001b[0;36m__init__\u001b[0;34m(self, form, form_compiler_parameters, function_spaces)\u001b[0m\n\u001b[1;32m     87\u001b[0m         \u001b[0;31m# Jit the module, this will take some time...\u001b[0m\u001b[0;34m\u001b[0m\u001b[0;34m\u001b[0m\u001b[0m\n\u001b[1;32m     88\u001b[0m         jit_result = jit(form, form_compiler_parameters,\n\u001b[0;32m---> 89\u001b[0;31m                          mpi_comm=mesh.mpi_comm())\n\u001b[0m\u001b[1;32m     90\u001b[0m         \u001b[0;32mif\u001b[0m \u001b[0mjit_result\u001b[0m \u001b[0;32mis\u001b[0m \u001b[0mNone\u001b[0m\u001b[0;34m:\u001b[0m\u001b[0;34m\u001b[0m\u001b[0m\n\u001b[1;32m     91\u001b[0m             cpp.dolfin_error(\"form.py\",\n",
      "\u001b[0;32m/home/fenics/local/lib/python2.7/site-packages/dolfin/compilemodules/jit.pyc\u001b[0m in \u001b[0;36mmpi_jit\u001b[0;34m(*args, **kwargs)\u001b[0m\n\u001b[1;32m     66\u001b[0m         \u001b[0;31m# Just call JIT compiler when running in serial\u001b[0m\u001b[0;34m\u001b[0m\u001b[0;34m\u001b[0m\u001b[0m\n\u001b[1;32m     67\u001b[0m         \u001b[0;32mif\u001b[0m \u001b[0mMPI\u001b[0m\u001b[0;34m.\u001b[0m\u001b[0msize\u001b[0m\u001b[0;34m(\u001b[0m\u001b[0mmpi_comm\u001b[0m\u001b[0;34m)\u001b[0m \u001b[0;34m==\u001b[0m \u001b[0;36m1\u001b[0m\u001b[0;34m:\u001b[0m\u001b[0;34m\u001b[0m\u001b[0m\n\u001b[0;32m---> 68\u001b[0;31m             \u001b[0;32mreturn\u001b[0m \u001b[0mlocal_jit\u001b[0m\u001b[0;34m(\u001b[0m\u001b[0;34m*\u001b[0m\u001b[0margs\u001b[0m\u001b[0;34m,\u001b[0m \u001b[0;34m**\u001b[0m\u001b[0mkwargs\u001b[0m\u001b[0;34m)\u001b[0m\u001b[0;34m\u001b[0m\u001b[0m\n\u001b[0m\u001b[1;32m     69\u001b[0m \u001b[0;34m\u001b[0m\u001b[0m\n\u001b[1;32m     70\u001b[0m         \u001b[0;31m# Compile first on process 0\u001b[0m\u001b[0;34m\u001b[0m\u001b[0;34m\u001b[0m\u001b[0m\n",
      "\u001b[0;32m/home/fenics/local/lib/python2.7/site-packages/dolfin/compilemodules/jit.pyc\u001b[0m in \u001b[0;36mjit\u001b[0;34m(ufl_object, form_compiler_parameters, mpi_comm)\u001b[0m\n\u001b[1;32m    131\u001b[0m         cpp.dolfin_error(\"jit.py\",\n\u001b[1;32m    132\u001b[0m                          \u001b[0;34m\"perform just-in-time compilation of form\"\u001b[0m\u001b[0;34m,\u001b[0m\u001b[0;34m\u001b[0m\u001b[0m\n\u001b[0;32m--> 133\u001b[0;31m                          \"ffc.jit failed with message:\\n%s\" % (tb_text,))\n\u001b[0m\u001b[1;32m    134\u001b[0m \u001b[0;34m\u001b[0m\u001b[0m\n\u001b[1;32m    135\u001b[0m     \u001b[0;32mif\u001b[0m \u001b[0misinstance\u001b[0m\u001b[0;34m(\u001b[0m\u001b[0mufl_object\u001b[0m\u001b[0;34m,\u001b[0m \u001b[0mufl\u001b[0m\u001b[0;34m.\u001b[0m\u001b[0mForm\u001b[0m\u001b[0;34m)\u001b[0m\u001b[0;34m:\u001b[0m\u001b[0;34m\u001b[0m\u001b[0m\n",
      "\u001b[0;32m/home/fenics/local/lib/python2.7/site-packages/dolfin/cpp/common.pyc\u001b[0m in \u001b[0;36mdolfin_error\u001b[0;34m(location, task, reason)\u001b[0m\n\u001b[1;32m   2917\u001b[0m \u001b[0;34m\u001b[0m\u001b[0m\n\u001b[1;32m   2918\u001b[0m     \"\"\"\n\u001b[0;32m-> 2919\u001b[0;31m     \u001b[0;32mreturn\u001b[0m \u001b[0m_common\u001b[0m\u001b[0;34m.\u001b[0m\u001b[0mdolfin_error\u001b[0m\u001b[0;34m(\u001b[0m\u001b[0mlocation\u001b[0m\u001b[0;34m,\u001b[0m \u001b[0mtask\u001b[0m\u001b[0;34m,\u001b[0m \u001b[0mreason\u001b[0m\u001b[0;34m)\u001b[0m\u001b[0;34m\u001b[0m\u001b[0m\n\u001b[0m\u001b[1;32m   2920\u001b[0m \u001b[0;34m\u001b[0m\u001b[0m\n\u001b[1;32m   2921\u001b[0m \u001b[0;32mdef\u001b[0m \u001b[0mdeprecation\u001b[0m\u001b[0;34m(\u001b[0m\u001b[0mfeature\u001b[0m\u001b[0;34m,\u001b[0m \u001b[0mversion_deprecated\u001b[0m\u001b[0;34m,\u001b[0m \u001b[0mmessage\u001b[0m\u001b[0;34m)\u001b[0m\u001b[0;34m:\u001b[0m\u001b[0;34m\u001b[0m\u001b[0m\n",
      "\u001b[0;31mRuntimeError\u001b[0m: \n\n*** -------------------------------------------------------------------------\n*** DOLFIN encountered an error. If you are not able to resolve this issue\n*** using the information listed below, you can ask for help at\n***\n***     fenics-support@googlegroups.com\n***\n*** Remember to include the error message listed below and, if possible,\n*** include a *minimal* running example to reproduce the error.\n***\n*** -------------------------------------------------------------------------\n*** Error:   Unable to perform just-in-time compilation of form.\n*** Reason:  ffc.jit failed with message:\nTraceback (most recent call last):\n  File \"/home/fenics/local/lib/python2.7/site-packages/dolfin/compilemodules/jit.py\", line 128, in jit\n    result = ffc.jit(ufl_object, parameters=p)\n  File \"/home/fenics/local/lib/python2.7/site-packages/ffc/jitcompiler.py\", line 198, in jit\n    module = jit_build(ufl_object, module_name, parameters)\n  File \"/home/fenics/local/lib/python2.7/site-packages/ffc/jitcompiler.py\", line 120, in jit_build\n    generate=jit_generate)\n  File \"/home/fenics/local/lib/python2.7/site-packages/dijitso/jit.py\", line 160, in jit\n    header, source, dependencies = generate(jitable, name, signature, params[\"generator\"])\n  File \"/home/fenics/local/lib/python2.7/site-packages/ffc/jitcompiler.py\", line 66, in jit_generate\n    prefix=module_name, parameters=parameters, jit=True)\n  File \"/home/fenics/local/lib/python2.7/site-packages/ffc/compiler.py\", line 141, in compile_form\n    prefix, parameters, jit)\n  File \"/home/fenics/local/lib/python2.7/site-packages/ffc/compiler.py\", line 188, in compile_ufl_objects\n    ir = compute_ir(analysis, prefix, parameters, jit)\n  File \"/home/fenics/local/lib/python2.7/site-packages/ffc/representation.py\", line 190, in compute_ir\n    for (form_id, fd) in enumerate(form_datas)]\n  File \"/home/fenics/local/lib/python2.7/site-packages/ffc/representation.py\", line 453, in _compute_integral_ir\n    parameters)\n  File \"/home/fenics/local/lib/python2.7/site-packages/ffc/quadrature/quadraturerepresentation.py\", line 101, in compute_integral_ir\n    cell)\n  File \"/home/fenics/local/lib/python2.7/site-packages/ffc/quadrature/quadraturerepresentation.py\", line 185, in _transform_integrals_by_type\n    integral_type)\n  File \"/home/fenics/local/lib/python2.7/site-packages/ffc/quadrature/quadraturerepresentation.py\", line 223, in _transform_integrals\n    terms = transformer.generate_terms(integral.integrand(), integral_type)\n  File \"/home/fenics/local/lib/python2.7/site-packages/ffc/quadrature/quadraturetransformerbase.py\", line 763, in generate_terms\n    terms = self.visit(integrand)\n  File \"/home/fenics/local/lib/python2.7/site-packages/ufl/algorithms/transformer.py\", line 104, in visit\n    r = h(o, *[self.visit(op) for op in o.ufl_operands])\n  File \"/home/fenics/local/lib/python2.7/site-packages/ufl/algorithms/transformer.py\", line 108, in visit\n    r = h(o)\n  File \"/home/fenics/local/lib/python2.7/site-packages/ffc/quadrature/quadraturetransformerbase.py\", line 514, in indexed\n    code = self.visit(indexed_expr)\n  File \"/home/fenics/local/lib/python2.7/site-packages/ufl/algorithms/transformer.py\", line 108, in visit\n    r = h(o)\n  File \"/home/fenics/local/lib/python2.7/site-packages/ffc/quadrature/quadraturetransformerbase.py\", line 718, in component_tensor\n    code = self.visit(component_expr)\n  File \"/home/fenics/local/lib/python2.7/site-packages/ufl/algorithms/transformer.py\", line 104, in visit\n    r = h(o, *[self.visit(op) for op in o.ufl_operands])\n  File \"/home/fenics/local/lib/python2.7/site-packages/ufl/algorithms/transformer.py\", line 108, in visit\n    r = h(o)\n  File \"/home/fenics/local/lib/python2.7/site-packages/ffc/quadrature/quadraturetransformerbase.py\", line 514, in indexed\n    code = self.visit(indexed_expr)\n  File \"/home/fenics/local/lib/python2.7/site-packages/ufl/algorithms/transformer.py\", line 108, in visit\n    r = h(o)\n  File \"/home/fenics/local/lib/python2.7/site-packages/ffc/quadrature/quadraturetransformerbase.py\", line 718, in component_tensor\n    code = self.visit(component_expr)\n  File \"/home/fenics/local/lib/python2.7/site-packages/ufl/algorithms/transformer.py\", line 108, in visit\n    r = h(o)\n  File \"/home/fenics/local/lib/python2.7/site-packages/ffc/quadrature/quadraturetransformerbase.py\", line 514, in indexed\n    code = self.visit(indexed_expr)\n  File \"/home/fenics/local/lib/python2.7/site-packages/ufl/algorithms/transformer.py\", line 108, in visit\n    r = h(o)\n  File \"/home/fenics/local/lib/python2.7/site-packages/ffc/quadrature/quadraturetransformerbase.py\", line 430, in grad\n    code = self.visit(derivative_expr)\n  File \"/home/fenics/local/lib/python2.7/site-packages/ufl/algorithms/transformer.py\", line 108, in visit\n    r = h(o)\n  File \"/home/fenics/local/lib/python2.7/site-packages/ffc/quadrature/quadraturetransformerbase.py\", line 430, in grad\n    code = self.visit(derivative_expr)\n  File \"/home/fenics/local/lib/python2.7/site-packages/ufl/algorithms/transformer.py\", line 108, in visit\n    r = h(o)\n  File \"/home/fenics/local/lib/python2.7/site-packages/ffc/quadrature/quadraturetransformerbase.py\", line 430, in grad\n    code = self.visit(derivative_expr)\n  File \"/home/fenics/local/lib/python2.7/site-packages/ufl/algorithms/transformer.py\", line 108, in visit\n    r = h(o)\n  File \"/home/fenics/local/lib/python2.7/site-packages/ffc/quadrature/quadraturetransformerbase.py\", line 480, in coefficient\n    self.gdim, self.avg)}\n  File \"/home/fenics/local/lib/python2.7/site-packages/ffc/quadrature/quadraturetransformer.py\", line 773, in create_function\n    error(\"Transformation is not supported: \" + repr(transformation))\n  File \"<string>\", line 1, in <lambda>\n  File \"/home/fenics/local/lib/python2.7/site-packages/ufl/log.py\", line 171, in error\n    raise self._exception_type(self._format_raw(*message))\nException: Transformation is not supported: 'hermite'\n.\n*** Where:   This error was encountered inside jit.py.\n*** Process: 0\n*** \n*** DOLFIN version: 2017.1.0.dev0\n*** Git changeset:  8d4c7c807451f2301020ec23a2106f0501c632e3\n*** -------------------------------------------------------------------------\n"
     ]
    }
   ],
   "source": [
    "bla = assemble(inner((b*u.dx(0).dx(0)).dx(0), v)*ds)"
   ]
  },
  {
   "cell_type": "markdown",
   "metadata": {},
   "source": [
    "### Debugging history\n",
    "\n",
    "**The solution looks awfully wrong (huge magnitude!)**\n",
    "\n",
    "The magnitude of the solution depended on how fine the grid was, hinting at some problem with the quadratures (because the definition of the basis functions in the global disrete space involves the jacobian of the geometric transformation from the reference simplex to each simplex in the physical domain).\n",
    "\n",
    "To test this idea, I changed the grid size in `UnitIntervalMesh()` to 10, 100, 1000 and verified that the solution was off by a factor of 1e8, 1e16 and 1e24 respectively. Correcting by these numbers, the error fell down to numbers of order 1e-11, 1e-14 and 1e9 respectively.\n",
    "\n",
    "The solution was to add the \"JINV\" transformation to `QuadratureTransformer.create_argument()` for Hermite elements.\n",
    "\n",
    "** On constants and Constants **\n",
    "\n",
    "Playing with the declarations of the constants in the problem setting yields confusing results. For instance, declaring `boundary_moment = Constant(-0.75)*Constant(E)*Constant(I)` is not equivalent to `boundary_moment = Constant(-0.75*E*I)` and, as a matter of fact, completely screws the solution inverting the slope and producing an increasing function."
   ]
  },
  {
   "cell_type": "markdown",
   "metadata": {},
   "source": [
    "# Some tests with Constant()"
   ]
  },
  {
   "cell_type": "code",
   "execution_count": null,
   "metadata": {
    "collapsed": false
   },
   "outputs": [],
   "source": [
    "import ufl\n",
    "_=plot(Expression(\"sqrt(x[0])-x[0]*x[1]\", element=ufl.FiniteElement(\"Hermite\")), \n",
    "       mesh=UnitSquareMesh(100,100))"
   ]
  },
  {
   "cell_type": "code",
   "execution_count": null,
   "metadata": {
    "collapsed": false
   },
   "outputs": [],
   "source": [
    "plot(project(Constant(1.0)+Expression(\"sqrt(x[0])-x[0]\", element=ufl.FiniteElement(\"Hermite\")), V))"
   ]
  },
  {
   "cell_type": "markdown",
   "metadata": {},
   "source": [
    "## Other stuff"
   ]
  },
  {
   "cell_type": "code",
   "execution_count": null,
   "metadata": {
    "collapsed": true
   },
   "outputs": [],
   "source": [
    "# Elasticity parameters\n",
    "#E = 1e9\n",
    "#nu = 0.3\n",
    "#mu = E/(2.0*(1.0 + nu))\n",
    "#lmbda = E*nu/((1.0 + nu)*(1.0 - 2.0*nu))\n"
   ]
  },
  {
   "cell_type": "code",
   "execution_count": null,
   "metadata": {
    "collapsed": false
   },
   "outputs": [],
   "source": [
    "from dolfin import *\n",
    "import ffc\n",
    "mesh = UnitSquareMesh(10,10)\n",
    "W = VectorFunctionSpace(mesh, \"Lagrange\", 1, dim=3)\n",
    "with open(\"vector.h\", \"wt\") as f:\n",
    "    out = ffc.compile_element(W.ufl_element(), prefix=\"vector\")\n",
    "    #print(out[1])\n",
    "    f.write(out[0])"
   ]
  },
  {
   "cell_type": "code",
   "execution_count": null,
   "metadata": {
    "collapsed": false
   },
   "outputs": [],
   "source": [
    "element = V.element()\n",
    "dofmap = V.dofmap()\n",
    "\n",
    "i=0\n",
    "for cell in cells(mesh):\n",
    "    if i > 1:\n",
    "        break\n",
    "    print(\"At cell: %s\" % cell)\n",
    "    print(\"DOF coordinates:\")\n",
    "    print(element.tabulate_dof_coordinates(cell))\n",
    "    print(\"Cell DOFs: %s\" % dofmap.cell_dofs(cell.index()))\n",
    "    print(\"Coordinate DOFs: %s\" % cell.get_coordinate_dofs())\n",
    "    i += 1"
   ]
  },
  {
   "cell_type": "code",
   "execution_count": null,
   "metadata": {
    "collapsed": false
   },
   "outputs": [],
   "source": [
    "code = \"\"\"from dolfin import *\n",
    "import ffc\n",
    "mesh = UnitSquareMesh(10,10)\n",
    "W = VectorFunctionSpace(mesh, \"Lagrange\", 1)\n",
    "with open(\"vector.h\", \"wt\") as f:\n",
    "    out = ffc.compile_element(W.ufl_element(), prefix=\"vector\")\n",
    "    print(out[1])\n",
    "    f.write(out[0])\"\"\"\n",
    "\n",
    "import sys\n",
    "import trace\n",
    "\n",
    "# create a Trace object, telling it what to ignore, and whether to\n",
    "# do tracing or line-counting or both.\n",
    "tracer = trace.Trace(\n",
    "    ignoredirs=[sys.prefix, sys.exec_prefix],\n",
    "    ignoremods=[\"cpp\", \"log\", \"mesh\", \"params\", \"common\", \"py23\",\n",
    "                \"expr\", \"ufl_type\", \"elementlist\", \"__init__\"],\n",
    "    trace=1,\n",
    "    count=0)"
   ]
  },
  {
   "cell_type": "code",
   "execution_count": null,
   "metadata": {
    "collapsed": true
   },
   "outputs": [],
   "source": [
    "# run the new command using the given tracer\n",
    "#t = tracer.run(code, )\n",
    "#r = tracer.results()\n",
    "#_ = r.write_results(show_missing=False, coverdir=\"/tmp\")"
   ]
  }
 ],
 "metadata": {
  "kernelspec": {
   "display_name": "Python 2",
   "language": "python",
   "name": "python2"
  },
  "language_info": {
   "codemirror_mode": {
    "name": "ipython",
    "version": 2
   },
   "file_extension": ".py",
   "mimetype": "text/x-python",
   "name": "python",
   "nbconvert_exporter": "python",
   "pygments_lexer": "ipython2",
   "version": "2.7.12"
  }
 },
 "nbformat": 4,
 "nbformat_minor": 1
}
