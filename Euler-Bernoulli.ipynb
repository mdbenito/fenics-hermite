{
 "cells": [
  {
   "cell_type": "markdown",
   "metadata": {},
   "source": [
    "# The Euler-Bernoulli beam model\n",
    "\n",
    "Model: 2D beam reduced to 1D problem. We study the deformation of the midplane under the assumptions that after the deformation the normals to the midplane:\n",
    "\n",
    "* do not bend\n",
    "* do not stretch\n",
    "* remain orthogonal to the midplane.\n",
    "\n",
    "This theory is intended for thin beams under small strains even with large global deformations: it is a physically linear but geometrically non-linear theory.\n",
    "\n",
    "For thicker beams, Timoshenko's theory, which accounts for internal shear forces, yields more accurate predictions.\n",
    "\n",
    "Fix $\\omega = (a, b)$ to be the midplane of the beam $\\Omega = \\omega \\times\n",
    "(- h / 2, h / 2) \\subset \\mathbb{R}^2$.\n",
    "\n",
    "## Derivation\n",
    "\n",
    "Ad-hoc stuff … compute … hack … compute … and:\n",
    "\n",
    "$$\\frac{\\mathrm{d}^2}{\\mathrm{d} x^2} \\left( b(x) \\frac{\\mathrm{d}^2}{\\mathrm{d} x^2}u(x) \\right) = f$$\n",
    "\n",
    "where $b(x) = E(x) I(x)$ is the product of Young's modulus $E$ and the area moment of inertia of the beam $I$. For a steel beam (with < 0.3% carbon) at 21°C, $E = 203.4 \\cdot 10^9 \\text{Pa}$ and if it has a constant square cross section of side 0.01m, then $I=8 \\cdot 10^{-10}$.\n",
    "\n",
    "\n",
    "## Weak formulation\n",
    "\n",
    "Write $\\nabla u = \\frac{\\mathrm{d}}{\\mathrm{d} x} u$ and $\\Delta u =\n",
    "\\frac{\\mathrm{d}^2}{\\mathrm{d} x^2} u$. Let $V$ be a subspace of $H^2\n",
    "(\\Omega)$ to be specified later. Multiplying the equation by a\n",
    "test function $v \\in V$ and integrating by parts we arrive at\n",
    "\n",
    "$$ \\int_{\\Omega} b \\Delta u \\Delta v \\mathrm{d} x - [b \\Delta u \\nabla v]_a^b\n",
    "   + [\\nabla (b \\Delta u) v]_a^b = \\int_{\\Omega} fv \\mathrm{d} x. $$\n",
    "\n",
    "In order for these integrals to make sense we may take $b \\in L^{\\infty}\n",
    "(\\Omega)$ and $f \\in L^2 (\\Omega)$ (or even $H^{- 2} (\\Omega)$). The\n",
    "definition of $V$ and the final form of the equation are determined by our\n",
    "choices for the four boundary conditions that have to be specified:\n",
    "\n",
    "**Essential boundary conditions:** We fix either the\n",
    "**deflections** $u (\\alpha)$ or the **slopes** $u' (\\alpha)$\n",
    "or both at the ends of the beam $\\alpha \\in \\{a, b\\}$. These conditions are\n",
    "incorporated into the definition of $V$. For example if we **clamp**\n",
    "the beam at an horizontal position we have\n",
    "\n",
    "$$ V = V_{\\text{clamped}} = \\{ v \\in H^2 (\\Omega) : v (\\alpha) = v_{\\alpha},\n",
    "   v' (\\alpha) = v'_{\\alpha}, \\alpha = 1, 2 \\} . $$\n",
    "\n",
    "**Natural boundary conditions:** For $\\alpha \\in \\{a, b\\}$, we can fix\n",
    "the **bending moment**:\n",
    "\n",
    "$$ M (\\alpha) = (b \\Delta u) (\\alpha), $$\n",
    "\n",
    "which for general $x \\in \\Omega$ is the torque exerted by forces surrounding\n",
    "$x$. If, for example we find solutions such that $M (a) = 0$, then we are\n",
    "assuming that the left end of the beam is free to rotate, i.e. that it\n",
    "undergoes no bending due to torque. Alternatively we can set the\n",
    "**shear force** at $\\alpha$:\n",
    "\n",
    "$$ F (\\alpha) = [\\nabla (b \\Delta u)] (\\alpha), $$\n",
    "\n",
    "which is the resultant of transversal forces at $x \\in \\Omega$. This will in\n",
    "general be zero at the ends.\n",
    "\n",
    "If we set $\\Gamma_M, \\Gamma_F \\subset \\{ a, b \\}$, after choosing some\n",
    "combination of the conditions the problem is: Find $u \\in V$ such that for all\n",
    "$v \\in V$:\n",
    "\n",
    "$$ \\int_{\\Omega} b \\Delta u \\Delta v \\mathrm{d} x = \\int_{\\Omega} fv\n",
    "   \\mathrm{d} x + \\int_{\\Gamma_M} M \\nabla v \\mathrm{d} s - \\int_{\\Gamma_F} Fv\n",
    "   \\mathrm{d} s $$\n",
    "   \n",
    "$V, \\Gamma_M, \\Gamma_F$ to be (consistently) specified.\n",
    "\n",
    "## Discretization\n",
    "\n",
    "Recall that $H^2(a,b) \\in C^1(a,b)$ by the Sobolev embeddings.\n",
    "\n",
    "Even though cuadratic polynomials might be enough, we want to construct a Ciarlet finite element, i.e. need unisolvent set of degrees of freedom, which requires at least cubic polynomials ... [elaborate, see p.218 of ...]\n",
    "\n",
    "Use Cubic Hermite elements => $H^2$ conforming in $\\mathbb{R}$."
   ]
  },
  {
   "cell_type": "markdown",
   "metadata": {},
   "source": [
    "# Common code\n",
    "\n",
    "Because we will be doing several examples it is convenient to factor out most of the stuff. The resulting code is somewhat ugly, with a nasty mixture of global state and unintuitive parameters, but elegance is not the point here."
   ]
  },
  {
   "cell_type": "code",
   "execution_count": null,
   "metadata": {
    "collapsed": false
   },
   "outputs": [],
   "source": [
    "from dolfin import *\n",
    "import numpy as np\n",
    "%matplotlib inline\n",
    "import matplotlib.pyplot as pl\n",
    "\n",
    "# Use dense matrices to easily fix the BCs (see apply_dirichlet_hermite())\n",
    "parameters['linear_algebra_backend'] = 'Eigen'\n",
    "\n",
    "# Alias\n",
    "NeumannBC = DirichletBC\n",
    "\n",
    "# OLD Elasticity parameters\n",
    "#E = 1e9\n",
    "#nu = 0.3\n",
    "#mu = E/(2.0*(1.0 + nu))\n",
    "#lmbda = E*nu/((1.0 + nu)*(1.0 - 2.0*nu))\n",
    "\n",
    "# Beam and problem parameters. Assume an homogenous steel beam of constant cross-section\n",
    "E = 203.4e9  # Steel (< 0.3% carbon) @ 21°C ~ 203.38 GPa\n",
    "I = 8e-10    # Second moment of inertia / area (in m^4, for square beam of side 0.01m)\n",
    "g = 9.8      # Gravity m/s^2\n",
    "\n",
    "# Basic setup\n",
    "LEFT = 1.0\n",
    "RIGHT = 2.0\n",
    "mesh = IntervalMesh(40, LEFT, RIGHT) #UnitIntervalMesh(10)\n",
    "V = FunctionSpace(mesh, \"Hermite\", 3)\n",
    "b = Constant(E*I) # HACK\n",
    "\n",
    "class right_subdomain(SubDomain):\n",
    "    \"\"\" Right end of the beam. \"\"\"\n",
    "    def inside(self, x, on_boundary):\n",
    "        # Careful using on_boundary: it's False if the DirichletBC method is 'pointwise'\n",
    "        return on_boundary and np.isclose(x[0], RIGHT)\n",
    "\n",
    "class left_subdomain(SubDomain):\n",
    "    \"\"\" Left end of the beam. \"\"\"\n",
    "    def inside(self, x, on_boundary):\n",
    "        # Careful using on_boundary: it's False if the DirichletBC method is 'pointwise'\n",
    "        return on_boundary and np.isclose(x[0], LEFT)\n",
    "\n",
    "class whole_boundary(SubDomain):\n",
    "    def inside(self, x, on_boundary):\n",
    "        # Careful using on_boundary: it's False if the DirichletBC method is 'pointwise'\n",
    "        return on_boundary and (near(x[0], LEFT) or near(x[0], RIGHT))\n",
    "    \n",
    "# We will use this to mark boundaries for boundary conditions\n",
    "exterior_facet_domains = FacetFunction(\"uint\", mesh)\n",
    "#exterior_facet_domains.set_all(1)"
   ]
  },
  {
   "cell_type": "code",
   "execution_count": null,
   "metadata": {
    "collapsed": true
   },
   "outputs": [],
   "source": [
    "import FIAT\n",
    "\n",
    "def find_hermite_boundary_dofs(bc):\n",
    "    \"\"\" Returns the Hermite dofs at the boundary as defined in the argument.\n",
    "        bc: Boundary condition.\n",
    "    \"\"\"\n",
    "    V = bc.function_space()\n",
    "    tdim = V.element().topological_dimension()\n",
    "    e = FIAT.CubicHermite(FIAT.reference_element.default_simplex(tdim), 3)\n",
    "    \n",
    "    # This mask filters out the Hermite dofs from the list of dofs of a cell:\n",
    "    mask = np.array(map(lambda f: isinstance(f, FIAT.functional.PointDerivative),\n",
    "                        e.dual_basis()))\n",
    "\n",
    "    # Compute the set of hermite dofs\n",
    "    hermite_dofs = set()\n",
    "    for i in range(V.mesh().num_cells()):\n",
    "        hermite_dofs = hermite_dofs.union(set(V.dofmap().cell_dofs(i)[mask]))\n",
    "        \n",
    "    # This is an easy way of retrieving the ids of dofs at the boundary:\n",
    "    boundary_dofs = bc.get_boundary_values().keys()\n",
    "    \n",
    "    return filter(lambda x: x in boundary_dofs, hermite_dofs)\n",
    "\n",
    "\n",
    "def apply_dirichlet_hermite(A, b, bc):\n",
    "    \"\"\" Applies DirichletBC to A, b in place but fixes the rows corresponding to Hermite dofs.\n",
    "    Arguments:\n",
    "        A: assembled mass matrix, before applying bc\n",
    "        b: assembled right hand side, before applying bc\n",
    "        bc: DirichletBC\n",
    "    Returns:\n",
    "        Nothing. Arguments are modified in place.\n",
    "    \"\"\"\n",
    "    global parameters\n",
    "    assert parameters['linear_algebra_backend'] == 'Eigen', \"Need dense matrices for now.\"\n",
    "    assert isinstance(bc, DirichletBC), \"We only know how to manage Dirichlet BCs\"\n",
    "    \n",
    "    hermite_dofs = find_hermite_boundary_dofs(bc)\n",
    "    \n",
    "    A0 = A.copy()\n",
    "    b0 = b.copy()\n",
    "    \n",
    "    # Applying BCs messes things up for Hermite dofs\n",
    "    bc.apply(A, b)\n",
    "    \n",
    "    # So we fix them now:\n",
    "    \n",
    "    b[hermite_dofs] = b0[hermite_dofs]\n",
    "    \n",
    "    block = A0.array()[hermite_dofs]\n",
    "    rows = np.array(hermite_dofs, dtype=np.intc)\n",
    "    cols = np.arange(A.size(1), dtype=np.intc) # FIXME A.size(1) is columns?\n",
    "    A.set(block, rows, cols)\n",
    "    A.apply(\"insert\")\n",
    "\n",
    "def plot_hermite_dofs(bc):\n",
    "    \"\"\" Plots the mesh and marks the Hermite dofs fulfilling the boundary condition.\n",
    "    Arguments:\n",
    "        bc: DirichletBC.\n",
    "    \"\"\"\n",
    "    V = bc.function_space()\n",
    "    tdim = V.mesh().topology().dim()\n",
    "    dofs = zip(V.dofmap().dofs(), V.tabulate_dof_coordinates().reshape((-1, tdim)))\n",
    "\n",
    "    hdofs = find_hermite_boundary_dofs(bc)\n",
    "    hdofs_coordinates = np.array([dof[1] for dof in filter(lambda p: p[0] in hdofs, dofs)])\n",
    "    plot(V.mesh())\n",
    "    if tdim > 1:\n",
    "        pl.scatter(hdofs_coordinates[:,0], hdofs_coordinates[:,1],\n",
    "                   s=15, c='red', linewidths=0, zorder=10)\n",
    "    else:\n",
    "        pl.ylim((-0.1,0.1))\n",
    "        pl.scatter(hdofs_coordinates[:,0], np.zeros_like(hdofs_coordinates[:,0]),\n",
    "                   c='red', linewidths=0, zorder=10)"
   ]
  },
  {
   "cell_type": "code",
   "execution_count": null,
   "metadata": {
    "collapsed": false
   },
   "outputs": [],
   "source": [
    "def apply_neumann_hermite(A, b, bc):\n",
    "    \"\"\"\n",
    "    Arguments:\n",
    "        A: assembled mass matrix, before applying bc\n",
    "        b: assembled right hand side, before applying bc\n",
    "        bc: NeumannBC (alias for DirichletBC) encoding the value of\n",
    "            the normal derivative\n",
    "    \"\"\"\n",
    "    if bc is None:\n",
    "        return\n",
    "    global parameters\n",
    "    assert parameters['linear_algebra_backend'] == 'Eigen', \"Need dense matrices for now.\"\n",
    "    assert isinstance(bc, DirichletBC), \"We only know how to manage Dirichlet BCs\"\n",
    "    assert bc.function_space().element().geometric_dimension() == 1,\\\n",
    "           \"FIXME: I can only manage 1 dimensional normal derivatives.\"\n",
    "\n",
    "    hermite_dofs = find_hermite_boundary_dofs(bc)\n",
    "    \n",
    "    vals = bc.get_boundary_values()  # This is a dict\n",
    "    for dof in hermite_dofs:\n",
    "        b[dof] = vals[dof]\n",
    "\n",
    "    ncols = A.size(1) # FIXME A.size(1) is columns?\n",
    "    nrows = len(hermite_dofs)\n",
    "    block = np.zeros((nrows, ncols))\n",
    "    block[range(nrows),[hermite_dofs]] = 1.\n",
    "    \n",
    "    rows = np.array(hermite_dofs, dtype=np.intc)\n",
    "    cols = np.arange(ncols, dtype=np.intc)\n",
    "\n",
    "    A.set(block, rows, cols)\n",
    "    A.apply(\"insert\")"
   ]
  },
  {
   "cell_type": "code",
   "execution_count": null,
   "metadata": {
    "collapsed": false
   },
   "outputs": [],
   "source": [
    "def solve_with_bcs(essential_bcs, natural_bcs=None, external_force=None):\n",
    "    \"\"\" Sets up and solves the beam problem for the given boundary conditions.\n",
    "    Arguments:\n",
    "        essential_bcs: \n",
    "        natural_bcs: a tuple of ufl Forms (b,b') representing:\n",
    "                     b: additional terms for the bilinear form a()\n",
    "                     b': additional terms for the right hand side\n",
    "        external_force: gravity is used if set to None.\"\"\"\n",
    "    if natural_bcs is None:\n",
    "        natural_bcs = [None, None]\n",
    "    u = TrialFunction(V)\n",
    "    v = TestFunction(V)\n",
    "\n",
    "    f = Constant(-g) if external_force is None else external_force\n",
    "    a = b * inner(u.dx(0).dx(0), v.dx(0).dx(0))*dx\n",
    "    if natural_bcs[0] is not None:\n",
    "        a = a + natural_bcs[0]\n",
    "    \n",
    "    L = inner(f, v)*dx \n",
    "    if natural_bcs[1] is not None:\n",
    "        L = L + natural_bcs[1]\n",
    "    u = Function(V)\n",
    "\n",
    "    A = assemble(a)\n",
    "    F = assemble(L)\n",
    "    apply_dirichlet_hermite(A, F, essential_bcs[0])\n",
    "    apply_neumann_hermite(A, F, essential_bcs[1])\n",
    "\n",
    "    u = Function(V)\n",
    "    U = u.vector()\n",
    "    solve(A, U, F)\n",
    "    \n",
    "    return u"
   ]
  },
  {
   "cell_type": "code",
   "execution_count": null,
   "metadata": {
    "collapsed": false
   },
   "outputs": [],
   "source": [
    "def plot_beam(solution, beam_width=0.01, magnification=1.0, title=None, label=None):\n",
    "    \"\"\" Draws the deformed beam and its midplane. \n",
    "    Arguments:\n",
    "        beam_width: \"\"\"\n",
    "    xx = mesh.coordinates().flatten()\n",
    "    u = solution.compute_vertex_values(mesh) * magnification\n",
    "    offset = beam_width / 2\n",
    "    pl.figure(figsize=(10,3))\n",
    "    pl.plot(xx, u, c='brown', label=label if label else '$u_h$')\n",
    "    pl.plot(xx, u-offset, c='brown', lw=0.5)\n",
    "    pl.plot(xx, u+offset, c='brown', lw=0.5)\n",
    "    pl.ylabel(\"%s deflection\" % (\"%.1f *\" % magnification if magnification != 1. else \"\"))\n",
    "    pl.xlabel(\"x\")\n",
    "    pl.xlim(xx.min(), xx.max())\n",
    "    pl.ylim(-beam_width+(np.min(u)-offset)*2, beam_width*5)\n",
    "    pl.title(title if title is not None else \"\")"
   ]
  },
  {
   "cell_type": "markdown",
   "metadata": {},
   "source": [
    "# Plug-in test\n",
    "\n",
    "To test the code we assume a deflection given by $u(x)=-\\frac{x^4}{16}$ and constant $b(x) = 1$ over the interval $(a,b) = (0,1)$. Substituting into the equation this yields a right hand side $f(x) = - \\frac{3}{2}$.\n",
    "\n",
    "The essential boundary conditions are included into the solution space and given by $u(\\text{left}), u'(\\text{left})$. At the opposite side of the beam we have the natural ones $M_b = u''(\\text{right})$ and  $F_b = u'''(\\text{right})$."
   ]
  },
  {
   "cell_type": "code",
   "execution_count": null,
   "metadata": {
    "collapsed": false
   },
   "outputs": [],
   "source": [
    "xx = V.mesh().coordinates().flatten()\n",
    "u_exact = lambda x: -1./16 * x**4\n",
    "up_exact = lambda x: -1./4 * x**3\n",
    "upp_exact = lambda x: -3./4 * x**2\n",
    "uppp_exact = lambda x: -3./2 * x\n",
    "uu = u_exact(xx)\n",
    "pl.figure(figsize=(6,3))\n",
    "pl.plot(xx, uu)\n",
    "pl.xlim((LEFT,RIGHT))\n",
    "_ = pl.title(\"Analytic solution\")"
   ]
  },
  {
   "cell_type": "markdown",
   "metadata": {},
   "source": [
    "## FAIL:\n",
    "\n",
    "The magnitude of the solution depends on how fine the grid is, hinting at some problem with the quadratures (because the definition of the basis functions in the global disrete space involves the jacobian of the geometric transformation from the reference simplex to each simplex in the physical domain).\n",
    "\n",
    "To test this idea, change the grid size in `IntervalMesh()` to 10, 100, 1000 and verify that the solution is off by a factor of 1e8, 1e16 and 1e24 respectively. Correcting by these numbers, the error falls down to numbers of order 1e-11, 1e-14 and 1e9 respectively.\n",
    "\n",
    "The first (almost random) test while \"fixing\" this was to add the \"JINV\" transformation to `QuadratureTransformer.create_argument()` for Hermite elements, which seemed to fix things because of other missing stuff. Since the correct transformation is the direct \"J\", the error must lie elsewhere. **Update:** now that the Hermite trafo is more systematically implemented in quadraturegenerator.py and quadraturetransformer.py, \"JINV\" yields utterly wrong results but \"J\" still produces solutions with wrong magnitudes."
   ]
  },
  {
   "cell_type": "code",
   "execution_count": null,
   "metadata": {
    "collapsed": false
   },
   "outputs": [],
   "source": [
    "essential_boundary = left_subdomain()\n",
    "essential_boundary.mark(exterior_facet_domains, 1)\n",
    "natural_boundary = right_subdomain()\n",
    "natural_boundary.mark(exterior_facet_domains, 2)\n",
    "ds = ds(subdomain_data = exterior_facet_domains)\n",
    "\n",
    "left_position   = project(Constant(u_exact(LEFT)), V)\n",
    "left_derivative = project(Constant(up_exact(LEFT)), V)\n",
    "boundary_moment = project(Constant(upp_exact(RIGHT)), V)\n",
    "boundary_shear  = project(Constant(uppp_exact(RIGHT)), V)\n",
    "external_force  = project(Constant(-3./2), V)\n",
    "\n",
    "v = TestFunction(V)\n",
    "u = solve_with_bcs(essential_bcs = [DirichletBC(V, left_position, exterior_facet_domains, 1),\n",
    "                                    NeumannBC(V, left_derivative, exterior_facet_domains, 1)],\n",
    "                   natural_bcs   = [None, inner(boundary_moment, v.dx(0))*ds(2) - \n",
    "                                          inner(boundary_shear, v)*ds(2)],\n",
    "                   external_force = external_force)\n",
    "\n",
    "plot_beam(u, label=\"$u_h$\")\n",
    "pl.plot(xx, uu, label=\"$u_e$\")\n",
    "pl.legend(fancybox=True, loc='lower left')\n",
    "_ = pl.title(\"Fail!\")"
   ]
  },
  {
   "cell_type": "markdown",
   "metadata": {},
   "source": [
    "# FIXME:\n",
    "\n",
    "**Are the natural bcs for 3rd and 4th derivatives being enforced if they are constant functions? It seems like the computed solution yields something at most quadratic at the boundary, i.e. with those derivatives set to 0** \n",
    "\n",
    "# ALSO: are these integrals right?\n",
    "\n",
    "Note how multiplying by $v'$ introduces a factor equal to the number of cells in the domain."
   ]
  },
  {
   "cell_type": "code",
   "execution_count": null,
   "metadata": {
    "collapsed": false
   },
   "outputs": [],
   "source": [
    "boundary_moment = project(Constant(-0.75), V)\n",
    "print(assemble(boundary_moment*ds(2)))\n",
    "print(assemble(boundary_moment*v.dx(0)*ds(2)).array())"
   ]
  },
  {
   "cell_type": "code",
   "execution_count": null,
   "metadata": {
    "collapsed": false
   },
   "outputs": [],
   "source": [
    "boundary_shear  = project(Constant(-1.5), V)\n",
    "print(assemble(boundary_shear*ds(2)))\n",
    "print(assemble(boundary_shear*v*ds(2)).array())"
   ]
  },
  {
   "cell_type": "code",
   "execution_count": null,
   "metadata": {
    "collapsed": false
   },
   "outputs": [],
   "source": [
    "V.tabulate_dof_coordinates()"
   ]
  },
  {
   "cell_type": "code",
   "execution_count": null,
   "metadata": {
    "collapsed": false
   },
   "outputs": [],
   "source": [
    "ds.subdomain_data().array()"
   ]
  },
  {
   "cell_type": "markdown",
   "metadata": {},
   "source": [
    "# Clamped beam\n",
    "\n",
    "We look for a solution with clamped boundaries, i.e. $u(a)=u(b)=u'(a)=u'(b)=0$. Because of the essential constraints, the terms corresponding to the natural ones in the weak formulation vanish and we are left with:\n",
    "\n",
    "$$ V = V_{\\text{clamped}} = \\{ v \\in H^2 (\\Omega) : v (\\alpha) = v_{\\alpha},\n",
    "   v' (\\alpha) = v'_{\\alpha}, \\alpha = 1, 2 \\} . $$\n",
    "   \n",
    "and $\\Gamma_M = \\Gamma_F = \\emptyset$."
   ]
  },
  {
   "cell_type": "code",
   "execution_count": null,
   "metadata": {
    "collapsed": false
   },
   "outputs": [],
   "source": [
    "zero_constant = project(Constant(0.), V)\n",
    "essential_bcs = [DirichletBC(V, zero_constant, whole_boundary()),\n",
    "                 NeumannBC(V, zero_constant, whole_boundary())]\n",
    "u = solve_with_bcs(essential_bcs)\n",
    "\n",
    "plot_beam(u, magnification=20)"
   ]
  },
  {
   "cell_type": "markdown",
   "metadata": {},
   "source": [
    "# Cantilevered beam\n",
    "\n",
    "One boundary is clamped, e.g. $u(a)=u'(a)=0$, and the other is left hanging freely, so that no bending moment (i.e. no torque) and no shear force appear, e.g. assuming constant $E$ and $I$: $u''(b)=u'''(b)=0$.\n",
    "\n",
    "We can generalise this to the case where we hang a mass from the free end of the beam. The downward force will introduce shear, e.g. $u'''(b) = - m g$, with $m$ the mass of the object and $g$ gravity. Just set $m=0$ for the first situation."
   ]
  },
  {
   "cell_type": "code",
   "execution_count": null,
   "metadata": {
    "collapsed": false,
    "scrolled": false
   },
   "outputs": [],
   "source": [
    "# Kg of mass hanging from the right end, set to zero for a free end\n",
    "m = 100\n",
    "\n",
    "# Cantilever BCs: 0 bending and shear = -m*g at the right side\n",
    "essential_boundary = left_subdomain()\n",
    "essential_boundary.mark(exterior_facet_domains, 1)\n",
    "natural_boundary = right_subdomain()\n",
    "natural_boundary.mark(exterior_facet_domains, 2)\n",
    "ds = ds(subdomain_data=exterior_facet_domains)\n",
    "\n",
    "boundary_moment = Constant(0)\n",
    "boundary_shear = Constant(m*g/(E*I))\n",
    "\n",
    "v = TestFunction(V)\n",
    "u = solve_with_bcs(essential_bcs = [DirichletBC(V, zero_constant, exterior_facet_domains, 1),\n",
    "                                    NeumannBC(V, zero_constant, exterior_facet_domains, 1)],\n",
    "                   natural_bcs   = [None, inner(boundary_moment, v.dx(0))*ds(2) -\n",
    "                                          inner(boundary_shear, v)*ds(2)])\n",
    "plot_beam(u)"
   ]
  },
  {
   "cell_type": "markdown",
   "metadata": {},
   "source": [
    "# Simply supported beam\n",
    "\n",
    "The beam rests on two point supports at its ends. Displacements are fixed at both ends with $u(a)=u(b)=0$, but since the beam is free to rotate, it experiences no torque at these points, i.e. the bending moments are zero: $u''(a)=u''(b)=0$, so we can plug in the natural boundary condition $M=0$ and the problem is: Find $u \\in V = H^2_0(\\omega)$ such that for all $v \\in V$:\n",
    "\n",
    "$$ \\int_{\\omega} b \\Delta u \\Delta v \\mathrm{d} x + \\int_{\\gamma} \\nabla (b \\Delta u) v \n",
    "\\mathrm{d} s = \\int_{\\omega} fv \\mathrm{d} x. $$\n",
    "\n",
    "This means we need to change the bilinear form $a$ in the problem setting, and in our hackish setup we do this by setting the first element of `natural_bcs` in the call to `solve_with_bcs`."
   ]
  },
  {
   "cell_type": "code",
   "execution_count": null,
   "metadata": {
    "collapsed": false
   },
   "outputs": [],
   "source": [
    "# FIXME? Is it ok to define a form with new variables u,v, \n",
    "# then add it to a() in solve_with_bcs?\n",
    "u = TrialFunction(V)\n",
    "v = TestFunction(V)\n",
    "u = solve_with_bcs(essential_bcs = [DirichletBC(V, zero_constant, whole_boundary()), None],\n",
    "                   natural_bcs   = [inner((b*u.dx(0).dx(0)).dx(0), v)*ds, None]) \n",
    "plot_beam(u, magnification=10)"
   ]
  },
  {
   "cell_type": "markdown",
   "metadata": {},
   "source": [
    "### Debugging history\n",
    "\n",
    "** On constants and Constants **\n",
    "\n",
    "Playing with the declarations of the constants in the problem setting yields confusing results. For instance, declaring `boundary_moment = Constant(-0.75)*Constant(E)*Constant(I)` is not equivalent to `boundary_moment = Constant(-0.75*E*I)` and, as a matter of fact, completely screws the solution inverting the slope and producing an increasing function.\n",
    "\n",
    "** Boundary conditions **\n",
    "\n",
    "DirichletBC thinks that all dofs at a node are point evaluations so it resets many rows of the mass matrix which it should not. There's a manual hack-around in `apply_dirichlet_hermite()`, but ideally I need to fix either DirichletBC or the dofmap returned by the element or something like that."
   ]
  },
  {
   "cell_type": "markdown",
   "metadata": {},
   "source": [
    "# Questions\n",
    "\n",
    "* What is the difference between `Cell.get_coordinate_dofs()` (\"Get cell coordinate dofs (not vertex coordinates)\") and `Cell.get_vertex_coordinates()` (\"Get cell vertex coordinates (not coordinate dofs)\"). How can a Cell in a mesh with no finite element information know anything about degrees of freedom?\n",
    "\n",
    "* What are \"local\" and \"global\" dofs in dofmap. Sometimes local seems to mean \"local to a process\", sometimes \"local to a cell\".\n",
    "\n",
    "* Is a sub dofmap or an ad-hoc dofmap the right tool to implement DirichletBCs for Hermite elements? Rationale: `DirichletBC::compute_bc_pointwise|topological|whatever()` uses\n",
    "\n",
    "* What is the best way of implementing `evaluate_dof()` for derivative evaluations? Do I need to extend the interface of GenericFunctions|whatever to include derivatives? Can I use symbolic / automatic differentiation?"
   ]
  },
  {
   "cell_type": "code",
   "execution_count": null,
   "metadata": {
    "collapsed": false
   },
   "outputs": [],
   "source": [
    "import mshr\n",
    "domain = mshr.Rectangle(Point(0.0, 0.0), Point(2.0, 2.0))\n",
    "mesh   = mshr.generate_mesh(domain, 10)"
   ]
  },
  {
   "cell_type": "code",
   "execution_count": null,
   "metadata": {
    "collapsed": true
   },
   "outputs": [],
   "source": []
  }
 ],
 "metadata": {
  "kernelspec": {
   "display_name": "Python 2",
   "language": "python",
   "name": "python2"
  },
  "language_info": {
   "codemirror_mode": {
    "name": "ipython",
    "version": 2
   },
   "file_extension": ".py",
   "mimetype": "text/x-python",
   "name": "python",
   "nbconvert_exporter": "python",
   "pygments_lexer": "ipython2",
   "version": "2.7.12"
  }
 },
 "nbformat": 4,
 "nbformat_minor": 1
}
