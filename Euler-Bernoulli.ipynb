{
 "cells": [
  {
   "cell_type": "markdown",
   "metadata": {},
   "source": [
    "# The Euler-Bernoulli beam model\n",
    "\n",
    "Model: 2D (planar) beam reduced to 1D problem. We study the deformation of the midplane under the assumptions that after the deformation the normals to the midplane:\n",
    "\n",
    "* do not bend\n",
    "* do not stretch\n",
    "* remain orthogonal to the midplane.\n",
    "\n",
    "This theory is intended for thin beams under small strains even with large global deformations: it is a physically linear but geometrically non-linear theory.\n",
    "\n",
    "For thicker beams, Timoshenko's theory, which accounts for internal shear forces, yields more accurate predictions.\n",
    "\n",
    "Fix $\\omega = (a, b)$ to be the midplane of the beam $\\Omega = \\omega \\times\n",
    "(- h / 2, h / 2) \\subset \\mathbb{R}^2$.\n",
    "\n",
    "## Derivation\n",
    "\n",
    "Ad-hoc stuff … compute … hack … compute … and:\n",
    "\n",
    "$$\\frac{\\mathrm{d}^2}{\\mathrm{d} x^2} \\left( b(x) \\frac{\\mathrm{d}^2}{\\mathrm{d} x^2}u(x) \\right) = f$$\n",
    "\n",
    "where $b(x) = E(x) I(x)$ is the product of Young's modulus $E$ and the area moment of inertia of the beam $I$. For a steel beam (with < 0.3% carbon) at 21°C, $E = 203.4 \\cdot 10^9 \\text{Pa}$ and if it has a constant square cross section of side 0.01m, then $I=8 \\cdot 10^{-10}$.\n",
    "\n",
    "\n",
    "## Weak formulation\n",
    "\n",
    "Write $\\nabla u = \\frac{\\mathrm{d}}{\\mathrm{d} x} u$ and $\\Delta u =\n",
    "\\frac{\\mathrm{d}^2}{\\mathrm{d} x^2} u$. Let $V$ be a subspace of $H^2\n",
    "(\\Omega)$ to be specified later. Multiplying the equation by a\n",
    "test function $v \\in V$ and integrating by parts we arrive at\n",
    "\n",
    "$$ \\int_{\\Omega} b \\Delta u \\Delta v \\mathrm{d} x - [b \\Delta u \\nabla v]_a^b\n",
    "   + [\\nabla (b \\Delta u) v]_a^b = \\int_{\\Omega} fv \\mathrm{d} x. $$\n",
    "\n",
    "In order for these integrals to make sense we may take $b \\in L^{\\infty}\n",
    "(\\Omega)$ and $f \\in L^2 (\\Omega)$ (actually even $H^{- 2} (\\Omega)$). The\n",
    "definition of $V$ and the final form of the equation are determined by our\n",
    "choices for the four boundary conditions that have to be specified:\n",
    "\n",
    "**Essential boundary conditions:** We fix either the\n",
    "**deflections** $u (\\alpha)$ or the **slopes** $u' (\\alpha)$\n",
    "or both at the ends of the beam $\\alpha \\in \\{a, b\\}$. These conditions are\n",
    "incorporated into the definition of $V$. For example if we **clamp**\n",
    "the beam at an horizontal position we have\n",
    "\n",
    "$$ V = V_{\\text{clamped}} = \\{ v \\in H^2 (\\Omega) : v (\\alpha) = v_{\\alpha},\n",
    "   v' (\\alpha) = v'_{\\alpha}, \\alpha = 1, 2 \\} . $$\n",
    "\n",
    "**Natural boundary conditions:** For $\\alpha \\in \\{a, b\\}$, we can fix\n",
    "the **bending moment**:\n",
    "\n",
    "$$ M (\\alpha) = (b \\Delta u) (\\alpha), $$\n",
    "\n",
    "which for general $x \\in \\Omega$ is the torque exerted by forces surrounding\n",
    "$x$. If, for example we find solutions such that $M (a) = 0$, then we are\n",
    "assuming that the left end of the beam is free to rotate, i.e. that it\n",
    "undergoes no bending due to torque. Alternatively we can set the\n",
    "**shear force** at $\\alpha$:\n",
    "\n",
    "$$ F (\\alpha) = [\\nabla (b \\Delta u)] (\\alpha), $$\n",
    "\n",
    "which is the resultant of transversal forces at $x \\in \\Omega$. This will in\n",
    "general be zero at the ends.\n",
    "\n",
    "If we set $\\Gamma_M, \\Gamma_F \\subset \\{ a, b \\}$, after choosing some\n",
    "combination of the conditions the problem is: Find $u \\in V$ such that for all\n",
    "$v \\in V$:\n",
    "\n",
    "$$ \\int_{\\Omega} b \\Delta u \\Delta v \\mathrm{d} x = \\int_{\\Omega} fv\n",
    "   \\mathrm{d} x + \\int_{\\Gamma_M} M \\nabla v \\mathrm{d} s - \\int_{\\Gamma_F} Fv\n",
    "   \\mathrm{d} s $$\n",
    "   \n",
    "$V, \\Gamma_M, \\Gamma_F$ to be (consistently) specified.\n",
    "\n",
    "## Discretization\n",
    "\n",
    "Recall that $H^2(a,b) \\in C^1(a,b)$ by the Sobolev embeddings.\n",
    "\n",
    "Even though cuadratic polynomials might be enough, we want to construct a Ciarlet finite element, i.e. need unisolvent set of degrees of freedom, which requires at least cubic polynomials ... [elaborate, see p.218 of ...]\n",
    "\n",
    "Use Cubic Hermite elements => $H^2$ conforming in $\\mathbb{R}$."
   ]
  },
  {
   "cell_type": "markdown",
   "metadata": {},
   "source": [
    "# Common code\n",
    "\n",
    "Because we will be doing several examples it is convenient to factor out most of the stuff. The resulting code is somewhat ugly, with a nasty mixture of global state and unintuitive parameters, but elegance is not the point here."
   ]
  },
  {
   "cell_type": "code",
   "execution_count": null,
   "metadata": {
    "collapsed": false
   },
   "outputs": [],
   "source": [
    "from dolfin import *\n",
    "import nbimporter\n",
    "from boundary import *\n",
    "import autograd as ad\n",
    "import autograd.numpy as np\n",
    "%matplotlib inline\n",
    "import matplotlib.pyplot as pl\n",
    "\n",
    "# Alias\n",
    "NeumannBC = DirichletBC\n",
    "\n",
    "# OLD Elasticity parameters\n",
    "#E = 1e9\n",
    "#nu = 0.3\n",
    "#mu = E/(2.0*(1.0 + nu))\n",
    "#lmbda = E*nu/((1.0 + nu)*(1.0 - 2.0*nu))\n",
    "\n",
    "# Beam and problem parameters. Assume an homogenous steel beam of constant cross-section\n",
    "E = 203.4e9  # Steel (< 0.3% carbon) @ 21°C ~ 203.38 GPa\n",
    "I = 8e-10    # Second moment of inertia / area (in m^4, for square beam of side 0.01m)\n",
    "g = 9.8      # Gravity m/s^2\n",
    "\n",
    "# Basic setup\n",
    "LEFT = 0.0\n",
    "RIGHT = 2.0\n",
    "mesh = IntervalMesh(10, LEFT, RIGHT)\n",
    "V = FunctionSpace(mesh, 'Hermite', 3)\n",
    "b = Constant(E*I) # HACK\n",
    "# We will use this to mark boundaries for boundary conditions\n",
    "exterior_facet_domains = FacetFunction(\"uint\", mesh)\n",
    "#exterior_facet_domains.set_all(1)\n",
    "\n",
    "class Right(SubDomain):\n",
    "    \"\"\" Right end of the beam. \"\"\"\n",
    "    def inside(self, x, on_boundary):\n",
    "        # Careful using on_boundary: it's False if the DirichletBC method is 'pointwise'\n",
    "        return on_boundary and np.isclose(x[0], RIGHT)\n",
    "\n",
    "class Left(SubDomain):\n",
    "    \"\"\" Left end of the beam. \"\"\"\n",
    "    def inside(self, x, on_boundary):\n",
    "        # Careful using on_boundary: it's False if the DirichletBC method is 'pointwise'\n",
    "        return on_boundary and np.isclose(x[0], LEFT)\n",
    "\n",
    "class Boundary(SubDomain):\n",
    "    def inside(self, x, on_boundary):\n",
    "        # Careful using on_boundary: it's False if the DirichletBC method is 'pointwise'\n",
    "        return on_boundary and (near(x[0], LEFT) or near(x[0], RIGHT))\n",
    "    \n",
    "\n",
    "def solve_with_bcs(essential_bcs, natural_bcs=None, external_force=None):\n",
    "    \"\"\" Sets up and solves the beam problem for the given boundary\n",
    "    conditions.\n",
    "    \n",
    "    Arguments:\n",
    "    ----------\n",
    "        essential_bcs: a tuple of [DirichletBC, NeumannBC] (either can\n",
    "                       be None but not both)\n",
    "        natural_bcs: a tuple of ufl Forms (b,b') representing:\n",
    "                     b: additional terms for the bilinear form a()\n",
    "                     b': additional terms for the right hand side\n",
    "        external_force: gravity is used if set to None.\n",
    "\n",
    "    Returns:\n",
    "    --------\n",
    "        A Function in the space where the essential bcs are defined.\n",
    "    \"\"\"\n",
    "\n",
    "    if essential_bcs[0] is not None:\n",
    "        V = essential_bcs[0].function_space()\n",
    "    elif essential_bcs[1] is not None:\n",
    "        V = essential_bcs[1].function_space()\n",
    "    else:\n",
    "        raise Exception(\"I need at least one essential BC.\")\n",
    "\n",
    "    # n point Gauss quadrature is exact for polynomials of order 2n-1:\n",
    "    fc_params = {'representation': 'quadrature', 'quadrature_degree': 2}\n",
    "    \n",
    "    if natural_bcs is None:\n",
    "        natural_bcs = [None, None]\n",
    "    u = TrialFunction(V)\n",
    "    v = TestFunction(V)\n",
    "\n",
    "    f = Constant(-g) if external_force is None else external_force\n",
    "    a = b * u.dx(0).dx(0) * v.dx(0).dx(0)*dx\n",
    "    if natural_bcs[0] is not None:\n",
    "        a = a + natural_bcs[0]\n",
    "    \n",
    "    L = f*v*dx\n",
    "    Fp = assemble(L, form_compiler_parameters=fc_params)\n",
    "    if natural_bcs[1] is not None:\n",
    "        L = L + natural_bcs[1]\n",
    "    u = Function(V)\n",
    "\n",
    "    A = assemble(a, form_compiler_parameters=fc_params)\n",
    "    F = assemble(L, form_compiler_parameters=fc_params)\n",
    "    apply_dirichlet_hermite(A, F, essential_bcs[0])\n",
    "    apply_neumann_hermite(A, F, essential_bcs[1])\n",
    "\n",
    "    u = Function(V)\n",
    "    U = u.vector()\n",
    "    solve(A, U, F)\n",
    "    \n",
    "    return u, A, F, Fp"
   ]
  },
  {
   "cell_type": "code",
   "execution_count": null,
   "metadata": {
    "collapsed": true
   },
   "outputs": [],
   "source": [
    "def plot_beam(solution, beam_width=0.01, magnification=1.0, title=None, label=None):\n",
    "    \"\"\" Draws the deformed beam and its midplane. \n",
    "    \n",
    "    Arguments\n",
    "    ---------\n",
    "        solution: a dolfin's Function giving the vertical displacement\n",
    "                  of the midplane of the beam\n",
    "        beam_width: the upper and lower layers of the beam will be drawn\n",
    "                    at half this value away from the midplane\n",
    "    \"\"\"\n",
    "    \n",
    "    xx = mesh.coordinates().flatten()\n",
    "    u = solution[0].compute_vertex_values(mesh) * magnification\n",
    "    offset = beam_width / 2\n",
    "    pl.figure(figsize=(10,3))\n",
    "    pl.plot(xx, u, c='brown', label=label if label else '$u_h$')\n",
    "    pl.plot(xx, u-offset, c='brown', lw=0.5)\n",
    "    pl.plot(xx, u+offset, c='brown', lw=0.5)\n",
    "    pl.ylabel(\"%s deflection\" % (\"%.1f *\" % magnification if magnification != 1. else \"\"))\n",
    "    pl.xlabel(\"x\")\n",
    "    pl.xlim(xx.min(), xx.max())\n",
    "    pl.ylim(-beam_width+(np.min(u)-offset)*2, beam_width*5)\n",
    "    pl.title(title if title is not None else \"\")"
   ]
  },
  {
   "cell_type": "markdown",
   "metadata": {},
   "source": [
    "# Plug-in test\n",
    "\n",
    "To test the code we assume a deflection given by $u(x)=-\\frac{x^4}{16}$ and constant $b(x) = 1$ over the interval $(a,b) = (0,1)$. Substituting into the equation this yields a right hand side $f(x) = - \\frac{3}{2}$.\n",
    "\n",
    "The essential boundary conditions are included into the solution space and given by $u(a)$ and $u'(a)$. At the opposite side of the beam we have the natural ones $M_b = u''(b)$ and  $F_b = u'''(b)$."
   ]
  },
  {
   "cell_type": "code",
   "execution_count": null,
   "metadata": {
    "collapsed": false
   },
   "outputs": [],
   "source": [
    "xx = V.mesh().coordinates().flatten()\n",
    "u_exact = lambda x: -1./16 * x**4\n",
    "up_exact = ad.elementwise_grad(u_exact, 0) #lambda x: -1./4 * x**3\n",
    "upp_exact = ad.elementwise_grad(up_exact, 0) #lambda x: -3./4 * x**2\n",
    "uppp_exact = ad.elementwise_grad(upp_exact, 0) #lambda x: -3./2 * x\n",
    "pl.figure(figsize=(6,3))\n",
    "pl.plot(xx, u_exact(xx), label='$u_e$')\n",
    "pl.plot(xx, up_exact(xx), label='$u_e\\'$')\n",
    "pl.plot(xx, upp_exact(xx), label='$u_e\\'\\'$')\n",
    "pl.plot(xx, uppp_exact(xx), label='$u_e\\'\\'\\'$')\n",
    "pl.xlim((LEFT, RIGHT))\n",
    "pl.legend(loc='lower left')\n",
    "_ = pl.title(\"Analytic solution and its derivatives\")"
   ]
  },
  {
   "cell_type": "markdown",
   "metadata": {},
   "source": [
    "## FAIL:\n",
    "\n",
    "WHAT'S GOING ON!?!?!?!?!?!?!?!\n",
    "\n",
    "<strike>The magnitude of the solution depends on how fine the grid is, hinting at some problem with the quadratures (because the definition of the basis functions in the global disrete space involves the jacobian of the geometric transformation from the reference simplex to each simplex in the physical domain).</strike>\n",
    "\n",
    "To test this idea, change the grid size in `IntervalMesh()` to 10, 100, 1000 and verify that the solution is off by a factor of <strike>1e8, 1e16 and 1e24 respectively. Correcting by these numbers, the error falls down to numbers of order 1e-11, 1e-14 and 1e9 respectively.</strike>"
   ]
  },
  {
   "cell_type": "code",
   "execution_count": null,
   "metadata": {
    "collapsed": false,
    "scrolled": false
   },
   "outputs": [],
   "source": [
    "#pl.figure(figsize=(6, 6*2.3))\n",
    "# n point Gauss quadrature is exact for polynomials of order 2n-1:\n",
    "fc_params = {'representation': 'quadrature', 'quadrature_degree': 2}\n",
    "\n",
    "errors = {1: [], 2: [], 4:[], np.inf: []}\n",
    "at_point = {0.2: [], 0.4: [], 0.6: [], 0.8: []}\n",
    "#mesh_sizes = np.arange(10, 1011, 200)\n",
    "mesh_sizes = np.arange(1, 11, 3)\n",
    "\n",
    "for num_cells in mesh_sizes:\n",
    "    mesh = IntervalMesh(num_cells, LEFT, RIGHT)\n",
    "    V = FunctionSpace(mesh, \"Hermite\", 3)\n",
    "    exterior_facet_domains = FacetFunction(\"uint\", mesh)\n",
    "\n",
    "    essential_boundary = Left()\n",
    "    essential_boundary.mark(exterior_facet_domains, 1)\n",
    "    natural_boundary = Right()\n",
    "    natural_boundary.mark(exterior_facet_domains, 2)\n",
    "    ds = ds(subdomain_data = exterior_facet_domains)\n",
    "\n",
    "    left_position   = project(Constant(u_exact(LEFT)), V)\n",
    "    left_derivative = project(Constant(up_exact(LEFT)), V)\n",
    "    right_moment    = project(Constant(upp_exact(RIGHT)), V)\n",
    "    right_shear     = project(Constant(uppp_exact(RIGHT)), V)\n",
    "    external_force  = project(Constant(-3./2), V)\n",
    "\n",
    "    v = TestFunction(V)\n",
    "    u, A, F, Fp = solve_with_bcs(\n",
    "                    essential_bcs = [DirichletBC(V, left_position, exterior_facet_domains, 1),\n",
    "                                     NeumannBC(V, left_derivative, exterior_facet_domains, 1)],\n",
    "                    natural_bcs   = [None, right_moment * v.dx(0) * ds(2) - \n",
    "                                           right_shear * v * ds(2)],\n",
    "                    external_force = external_force)\n",
    "    \n",
    "    #print(\"Fp=%s\" % Fp.array().round(2))\n",
    "    #print(\"F =%s\" % F.array().round(2))\n",
    "\n",
    "    xx = V.mesh().coordinates().flatten()\n",
    "    uu = u_exact(xx)\n",
    "    uv = u.compute_vertex_values(mesh) # np.array([u(x) for x in xx])\n",
    "    diff = uu - uv\n",
    "    pl.plot(xx, uv, '--', label='$u_{%d}$' % num_cells)\n",
    "    for k in errors.keys():\n",
    "        errors[k].append(np.linalg.norm(diff, ord=k)/\n",
    "                         (num_cells**k if k is not np.inf else num_cells))\n",
    "#                         np.linalg.norm(uu, ord=k))\n",
    "    for k in at_point.keys():\n",
    "        at_point[k].append(u_exact(k) - u(k))\n",
    "\n",
    "pl.plot(xx, uu, '-', label=\"$u_e$\", color='black')\n",
    "pl.ylim((-1, 0.1))\n",
    "_ = pl.legend(loc='lower left')"
   ]
  },
  {
   "cell_type": "markdown",
   "metadata": {},
   "source": [
    "**FIXME: We are multiplying the error by $h^k$, not truly normalizing by $||u_e||$.**"
   ]
  },
  {
   "cell_type": "code",
   "execution_count": null,
   "metadata": {
    "collapsed": false
   },
   "outputs": [],
   "source": [
    "pl.figure(figsize=(10,4))\n",
    "pl.subplot(1,2,1)\n",
    "for norm, vals in errors.iteritems():\n",
    "    pl.plot(mesh_sizes, vals, label=\"%s-norm\" % norm)\n",
    "pl.legend(fontsize='small')\n",
    "pl.xlabel(\"Mesh size\")\n",
    "_ = pl.title(\"'Normalized' error\")\n",
    "pl.subplot(1,2,2)\n",
    "for pt, vals in at_point.iteritems():\n",
    "    pl.plot(mesh_sizes, vals, label=\"$x=%.1f$\" % pt)\n",
    "pl.legend(fontsize='small')\n",
    "pl.xlabel(\"Mesh size\")\n",
    "_ = pl.title(\"Distance at points\")"
   ]
  },
  {
   "cell_type": "markdown",
   "metadata": {},
   "source": [
    "Compute\n",
    "\n",
    "$$ \\int_{\\Gamma_2} b v' \\mathrm{d}s, $$\n",
    "\n",
    "where $\\Gamma_2 \\subset \\partial \\Omega$ is the part of the boundary where the bending moment of the solution is set to $b$ (the rightmost point)."
   ]
  },
  {
   "cell_type": "code",
   "execution_count": null,
   "metadata": {
    "collapsed": false
   },
   "outputs": [],
   "source": [
    "G = assemble(boundary_moment*v.dx(0)*ds(2))\n",
    "coeffs = np.nonzero(G.array() != 0)[0]\n",
    "coords = V.tabulate_dof_coordinates()[coeffs]\n",
    "print(\"Coefficients %s are non-zero and have coordinates %s\" % (coeffs, coords))\n",
    "print(\"A[coeffs] =\\n%s\" % A.array()[coeffs])"
   ]
  },
  {
   "cell_type": "code",
   "execution_count": null,
   "metadata": {
    "collapsed": false
   },
   "outputs": [],
   "source": [
    "r = Function(V, G)\n",
    "\n",
    "plot(r)\n",
    "pl.plot(xx, [r(x) for x in xx])\n",
    "_ = pl.ylim((-1,2))"
   ]
  },
  {
   "cell_type": "code",
   "execution_count": null,
   "metadata": {
    "collapsed": true
   },
   "outputs": [],
   "source": [
    "t = Function(V, Fp)\n",
    "\n",
    "xx = np.linspace(0,2,20)\n",
    "plot(t)\n",
    "pl.plot(xx, [t(x) for x in xx])\n",
    "pl.ylim((-11,-9))"
   ]
  },
  {
   "cell_type": "code",
   "execution_count": null,
   "metadata": {
    "collapsed": false
   },
   "outputs": [],
   "source": [
    "for k, e in errors.iteritems():\n",
    "    pl.plot(mesh_sizes, e, label=\"$l_{%s}$\" % k, marker='.')\n",
    "pl.title(\"Error as a function of the number of cells\")\n",
    "_ = pl.legend(loc='upper left')"
   ]
  },
  {
   "cell_type": "code",
   "execution_count": null,
   "metadata": {
    "collapsed": false
   },
   "outputs": [],
   "source": [
    "for k, val in at_point.iteritems():\n",
    "    pl.plot(mesh_sizes, val, label=\"$d_{%.1f}$\" % k, marker='.')\n",
    "pl.title(\"Difference at points\")\n",
    "_ = pl.legend(loc='upper left')"
   ]
  },
  {
   "cell_type": "code",
   "execution_count": null,
   "metadata": {
    "collapsed": false
   },
   "outputs": [],
   "source": [
    "plot_beam(u, label=\"$u_h$\")\n",
    "pl.plot(xx, uu, label=\"$u_e$\")\n",
    "pl.ylim((-1.1,0.1))\n",
    "pl.legend(fancybox=True, loc='lower left')\n",
    "_ = pl.title(\"Fail!\")"
   ]
  },
  {
   "cell_type": "markdown",
   "metadata": {},
   "source": [
    "Errors:\n",
    "* mesh_size = 10, error_linf: 0.\n",
    "* mesh_size = 100, error_linf: 0.166\n",
    "* "
   ]
  },
  {
   "cell_type": "markdown",
   "metadata": {},
   "source": [
    "# FIXME:\n",
    "\n",
    "**Are the natural bcs for 3rd and 4th derivatives being enforced if they are constant functions? It seems like the computed solution yields something at most quadratic at the boundary, i.e. with those derivatives set to 0** \n",
    "\n",
    "# ALSO: are these integrals right?\n",
    "\n",
    "Note how multiplying by $v'$ introduces a factor equal to the number of cells in the domain."
   ]
  },
  {
   "cell_type": "code",
   "execution_count": null,
   "metadata": {
    "collapsed": false
   },
   "outputs": [],
   "source": [
    "mesh = IntervalMesh(10, LEFT, RIGHT)\n",
    "V = FunctionSpace(mesh, \"Hermite\", 3)\n",
    "exterior_facet_domains = FacetFunction(\"uint\", mesh)\n",
    "\n",
    "essential_boundary = Left()\n",
    "essential_boundary.mark(exterior_facet_domains, 1)\n",
    "natural_boundary = Right()\n",
    "natural_boundary.mark(exterior_facet_domains, 2)\n",
    "ds = ds(subdomain_data = exterior_facet_domains)\n",
    "\n",
    "left_position   = project(Constant(u_exact(LEFT)), V)\n",
    "left_derivative = project(Constant(up_exact(LEFT)), V)\n",
    "boundary_moment = project(Constant(upp_exact(RIGHT)), V)\n",
    "boundary_shear  = project(Constant(uppp_exact(RIGHT)), V)\n",
    "external_force  = project(Constant(-3./2), V)\n",
    "\n",
    "v = TestFunction(V)\n",
    "u = solve_with_bcs(essential_bcs = [DirichletBC(V, left_position, exterior_facet_domains, 1),\n",
    "                                    NeumannBC(V, left_derivative, exterior_facet_domains, 1)],\n",
    "                   natural_bcs   = [None, inner(boundary_moment, v.dx(0))*ds(2) - \n",
    "                                          inner(boundary_shear, v)*ds(2)],\n",
    "                   external_force = external_force)"
   ]
  },
  {
   "cell_type": "code",
   "execution_count": null,
   "metadata": {
    "collapsed": false
   },
   "outputs": [],
   "source": [
    "boundary_moment = project(Constant(-0.75), V)\n",
    "print(assemble(boundary_moment*ds(2)))\n",
    "print(assemble(boundary_moment*v.dx(0)*ds(2)).array())"
   ]
  },
  {
   "cell_type": "code",
   "execution_count": null,
   "metadata": {
    "collapsed": false
   },
   "outputs": [],
   "source": [
    "boundary_shear  = project(Constant(-1.5), V)\n",
    "print(assemble(boundary_shear*ds(2)))\n",
    "print(assemble(boundary_shear*v*ds(2)).array())"
   ]
  },
  {
   "cell_type": "code",
   "execution_count": null,
   "metadata": {
    "collapsed": false
   },
   "outputs": [],
   "source": [
    "V.tabulate_dof_coordinates()"
   ]
  },
  {
   "cell_type": "code",
   "execution_count": null,
   "metadata": {
    "collapsed": false
   },
   "outputs": [],
   "source": [
    "ds.subdomain_data().array()"
   ]
  },
  {
   "cell_type": "markdown",
   "metadata": {},
   "source": [
    "# Clamped beam\n",
    "\n",
    "We look for a solution with clamped boundaries, i.e. $u(a)=u(b)=u'(a)=u'(b)=0$. Because of the essential constraints, the terms corresponding to the natural ones in the weak formulation vanish and we are left with:\n",
    "\n",
    "$$ V = V_{\\text{clamped}} = \\{ v \\in H^2 (\\Omega) : v (\\alpha) = v_{\\alpha},\n",
    "   v' (\\alpha) = v'_{\\alpha}, \\alpha = 1, 2 \\} . $$\n",
    "   \n",
    "and $\\Gamma_M = \\Gamma_F = \\emptyset$."
   ]
  },
  {
   "cell_type": "code",
   "execution_count": null,
   "metadata": {
    "collapsed": false
   },
   "outputs": [],
   "source": [
    "zero_constant = project(Constant(0.), V)\n",
    "essential_bcs = [DirichletBC(V, zero_constant, Boundary()),\n",
    "                 NeumannBC(V, zero_constant, Boundary())]\n",
    "u = solve_with_bcs(essential_bcs)\n",
    "\n",
    "plot_beam(u, magnification=2)"
   ]
  },
  {
   "cell_type": "markdown",
   "metadata": {},
   "source": [
    "# Cantilevered beam\n",
    "\n",
    "One boundary is clamped, e.g. $u(a)=u'(a)=0$, and the other is left hanging freely, so that no bending moment (i.e. no torque) and no shear force appear, e.g. assuming constant $E$ and $I$: $u''(b)=u'''(b)=0$.\n",
    "\n",
    "We can generalise this to the case where we hang a mass from the free end of the beam. The downward force will introduce shear, e.g. $u'''(b) = - m g$, with $m$ the mass of the object and $g$ gravity. Just set $m=0$ for the first situation."
   ]
  },
  {
   "cell_type": "code",
   "execution_count": null,
   "metadata": {
    "collapsed": false,
    "scrolled": false
   },
   "outputs": [],
   "source": [
    "zero_constant = project(Constant(0.), V)\n",
    "\n",
    "# Kg of mass hanging from the right end, set to zero for a free end\n",
    "masses = np.linspace(10,1010, 5)\n",
    "for i, m in enumerate(masses):\n",
    "    #m = 100\n",
    "\n",
    "    # Cantilever BCs: 0 bending and shear = -m*g at the right side\n",
    "    essential_boundary = Left()\n",
    "    essential_boundary.mark(exterior_facet_domains, 1)\n",
    "    natural_boundary = Right()\n",
    "    natural_boundary.mark(exterior_facet_domains, 2)\n",
    "    ds = ds(subdomain_data=exterior_facet_domains)\n",
    "\n",
    "    boundary_moment = Constant(0)\n",
    "    boundary_shear = Constant(m*g/(E*I))\n",
    "\n",
    "    v = TestFunction(V)\n",
    "    u = solve_with_bcs(essential_bcs = [DirichletBC(V, zero_constant, exterior_facet_domains, 1),\n",
    "                                        NeumannBC(V, zero_constant, exterior_facet_domains, 1)],\n",
    "                       natural_bcs   = [None, boundary_moment * v.dx(0) * ds(2) -\n",
    "                                              boundary_shear * v * ds(2)])\n",
    "    xx = mesh.coordinates().flatten()\n",
    "    uu = u[0].compute_vertex_values(mesh)\n",
    "    pl.plot(xx, uu, label='$u_{%d}$' % m)\n",
    "    #plot_beam(u, title=\"Cantilevered beam with weight hanging\")\n",
    "_ = pl.legend(loc=\"lower left\")"
   ]
  },
  {
   "cell_type": "markdown",
   "metadata": {},
   "source": [
    "# Simply supported beam\n",
    "\n",
    "The beam rests on two point supports at its ends. Displacements are fixed at both ends with $u(a)=u(b)=0$, but since the beam is free to rotate, it experiences no torque at these points, i.e. the bending moments are zero: $u''(a)=u''(b)=0$, so we can plug in the natural boundary condition $M=0$ and the problem is: Find $u \\in V = H^2_0(\\omega)$ such that for all $v \\in V$:\n",
    "\n",
    "$$ \\int_{\\omega} b \\Delta u \\Delta v \\mathrm{d} x + \\int_{\\gamma} \\nabla (b \\Delta u) v \n",
    "\\mathrm{d} s = \\int_{\\omega} fv \\mathrm{d} x. $$\n",
    "\n",
    "This means we need to change the bilinear form $a$ in the problem setting, and in our hackish setup we do this by setting the first element of `natural_bcs` in the call to `solve_with_bcs`."
   ]
  },
  {
   "cell_type": "code",
   "execution_count": null,
   "metadata": {
    "collapsed": false
   },
   "outputs": [],
   "source": [
    "# FIXME? Is it ok to define a form with new variables u,v, \n",
    "# then add it to a() in solve_with_bcs?\n",
    "u = TrialFunction(V)\n",
    "v = TestFunction(V)\n",
    "u = solve_with_bcs(essential_bcs = [DirichletBC(V, zero_constant, Boundary()), None],\n",
    "                   natural_bcs   = [inner((b*u.dx(0).dx(0)).dx(0), v)*ds, None]) \n",
    "plot_beam(u)"
   ]
  },
  {
   "cell_type": "markdown",
   "metadata": {},
   "source": [
    "### Debugging history\n",
    "\n",
    "** On constants and Constants **\n",
    "\n",
    "Playing with the declarations of the constants in the problem setting yields confusing results. For instance, declaring `boundary_moment = Constant(-0.75)*Constant(E)*Constant(I)` is not equivalent to `boundary_moment = Constant(-0.75*E*I)` and, as a matter of fact, completely screws the solution inverting the slope and producing an increasing function.\n",
    "\n",
    "** Boundary conditions **\n",
    "\n",
    "DirichletBC thinks that all dofs at a node are point evaluations so it resets many rows of the mass matrix which it should not. There's a manual hack-around in `apply_dirichlet_hermite()`, but ideally I need to fix either DirichletBC or the dofmap returned by the element or something like that."
   ]
  },
  {
   "cell_type": "markdown",
   "metadata": {},
   "source": [
    "# Questions\n",
    "\n",
    "* What is the difference between `Cell.get_coordinate_dofs()` (\"Get cell coordinate dofs (not vertex coordinates)\") and `Cell.get_vertex_coordinates()` (\"Get cell vertex coordinates (not coordinate dofs)\"). How can a Cell in a mesh with no finite element information know anything about degrees of freedom?\n",
    "\n",
    "* What are \"local\" and \"global\" dofs in dofmap. Sometimes local seems to mean \"local to a process\", sometimes \"local to a cell\".\n",
    "\n",
    "* Is a sub dofmap or an ad-hoc dofmap the right tool to implement DirichletBCs for Hermite elements? Rationale: `DirichletBC::compute_bc_pointwise|topological|whatever()` uses\n",
    "\n",
    "* What is the best way of implementing `evaluate_dof()` for derivative evaluations? Do I need to extend the interface of GenericFunctions|whatever to include derivatives? Can I use symbolic / automatic differentiation?"
   ]
  },
  {
   "cell_type": "code",
   "execution_count": null,
   "metadata": {
    "collapsed": false
   },
   "outputs": [],
   "source": [
    "import mshr\n",
    "domain = mshr.Rectangle(Point(0.0, 0.0), Point(2.0, 2.0))\n",
    "mesh   = mshr.generate_mesh(domain, 10)"
   ]
  }
 ],
 "metadata": {
  "kernelspec": {
   "display_name": "Python 2",
   "language": "python",
   "name": "python2"
  },
  "language_info": {
   "codemirror_mode": {
    "name": "ipython",
    "version": 2
   },
   "file_extension": ".py",
   "mimetype": "text/x-python",
   "name": "python",
   "nbconvert_exporter": "python",
   "pygments_lexer": "ipython2",
   "version": "2.7.12"
  }
 },
 "nbformat": 4,
 "nbformat_minor": 1
}
