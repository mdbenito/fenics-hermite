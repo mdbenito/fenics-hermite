{
 "cells": [
  {
   "cell_type": "markdown",
   "metadata": {},
   "source": [
    "# Intro\n",
    "\n",
    "This is my progress in the implementation of Hermite mappings for the quadrature representation of cell integrals. See hermite.tm for the math.\n",
    "\n",
    "The notebook [elements](elements.ipynb) contains some nomenclature, including definitions of: *finite element*, *dof* (and its action on functions), *intermediate representation*.\n",
    "\n",
    "There are also [Related commits and PRs](elements.ipynb#Related-commits-and-PRs).\n",
    "\n",
    "\n",
    "# Basic integration of forms\n",
    "\n",
    "## FFC  form compilation\n",
    "\n",
    "The function `ffc.compile_form(F)` produces a  c++ header with the code which is later wrapped into a python API for using the form `F`. It contains classes with:\n",
    "\n",
    "* Finite elements.\n",
    "* Local to global DOF maps.\n",
    "* **Cell integral computation:** an implementation of the interface defined in the abstract class `ufc::cell_integral`. This is what interests us here.\n",
    "* The form itself.\n",
    "\n",
    "## A simple example\n",
    "\n",
    "Begin with the easiest:\n",
    "\n",
    "$$ \\int \\phi_i \\phi_j \\ \\mathrm{d}x$$\n",
    "\n",
    "for all basis functions in $V$. Recall that `ufc::cell_integral::tabulate_tensor()` should compute\n",
    "\n",
    "$$ \\int_T \\phi_i(x)\\ \\mathrm{d}x \n",
    " = \\int_T \\hat{\\phi}_i(F^{-1}(x))\\ \\mathrm{d}x \n",
    " = \\int_\\hat{T} \\hat{\\phi}_i(\\hat{x}) J\\ \\mathrm{d}\\hat{x} $$"
   ]
  },
  {
   "cell_type": "code",
   "execution_count": null,
   "metadata": {
    "collapsed": false
   },
   "outputs": [],
   "source": [
    "from __future__ import print_function\n",
    "\n",
    "from dolfin import *\n",
    "import numpy as np\n",
    "import matplotlib.pyplot as pl\n",
    "%matplotlib inline\n",
    "import ffc\n",
    "\n",
    "#from ffc.log import add_logfile, set_level, DEBUG\n",
    "#set_level(DEBUG)\n",
    "#add_logfile(\"/tmp/fenics.log\")\n",
    "\n",
    "import nbimporter\n",
    "from elements import evaluate_shape_functions_reference\n",
    "\n",
    "parameters['form_compiler']['no-evaluate_basis_derivatives'] = False\n",
    "\n",
    "# Notice the high degree...\n",
    "fc_params = {'representation': 'quadrature',\n",
    "             'quadrature_degree': 7}\n",
    "\n",
    "mesh = UnitIntervalMesh(1)\n",
    "V = FunctionSpace(mesh, \"Hermite\", 3)\n",
    "\n",
    "u = TrialFunction(V)\n",
    "v = TestFunction(V)\n",
    "\n",
    "#a = u.dx(0).dx(0)*v.dx(0).dx(0)*dx\n",
    "a = u.dx(0)*v.dx(0)*dx\n",
    "#a = u*v*dx\n",
    "A = assemble(a, form_compiler_parameters=fc_params)\n",
    "with open(\"/tmp/mass_%s1D.h\" % V.ufl_element().family(), \"w\") as fd:\n",
    "    out = ffc.compile_form(a, \"mass\", parameters=fc_params)\n",
    "    fd.write(out[0])\n",
    "\n",
    "print(\"FFC:\\n%s\" % A.array().round(3))"
   ]
  },
  {
   "cell_type": "markdown",
   "metadata": {},
   "source": [
    "## One cell integral\n",
    "\n",
    "The following reproduces the computation performed by the code produced with `ffc.compile_form()`:"
   ]
  },
  {
   "cell_type": "code",
   "execution_count": null,
   "metadata": {
    "collapsed": false
   },
   "outputs": [],
   "source": [
    "# Hermite shape functions on [0,1]\n",
    "#sh = [lambda x: 1 - 3 * x**2 + 2 * x**3,\n",
    "#      lambda x: x - 2 * x**2 + x**3,\n",
    "#      lambda x: + 3 * x**2 - 2 * x**3,\n",
    "#      lambda x: - x**2 + x**3]\n",
    "# quadrature points:\n",
    "#WP = np.array([0.046910077030668, 0.230765344947158, 0.5, 0.769234655052841, 0.953089922969332])\n",
    "WP = np.array([0.0694318442029737, 0.330009478207572, 0.669990521792428, 0.930568155797026])\n",
    "# quadrature weights:\n",
    "#WW = np.array([0.118463442528095, 0.239314335249683, 0.284444444444444, 0.239314335249683, 0.118463442528095])\n",
    "WW = np.array([0.173927422568727, 0.326072577431273, 0.326072577431273, 0.173927422568727])\n",
    "# basis functions evaluated at quadrature points:\n",
    "#FE0 = np.array([f(WP) for f in sh]).T\n",
    "#FE0 = evaluate_shape_functions_reference(V, WP).T\n",
    "FE0 = evaluate_shape_functions_mesh(V, WP)[1].T\n",
    "# Jacobian for a mesh of constant cell size\n",
    "det = 1./ V.mesh().num_cells()\n",
    "# Hermite trafo matrix\n",
    "H = np.array([1., 0., 0., det])\n",
    "\n",
    "dim = V.element().space_dimension()\n",
    "M = np.zeros((dim, dim))\n",
    "if V.ufl_element().family() == 'Lagrange':\n",
    "    for ip,j,k in np.ndindex(len(WP), M.shape[0], M.shape[1]):\n",
    "        M[j,k] += FE0[ip][j]*FE0[ip][k]*WW[ip]*det\n",
    "elif V.ufl_element().family() == 'Hermite':\n",
    "    for ip,j,k in np.ndindex(len(WP), M.shape[0], M.shape[1]):\n",
    "        M[j,k] += (((FE0[ip][2*(j/2)+0])*(H[2 * (j % 2) + 0]) \n",
    "                    + (FE0[ip][2*(j/2)+1])*(H[2 * (j % 2) + 1]))*\n",
    "                   ((FE0[ip][2*(k/2)+0])*(H[2 * (k % 2) + 0]) \n",
    "                    + (FE0[ip][2*(k/2)+1])*(H[2 * (k % 2) + 1])))*WW[ip]*det\n",
    "\n",
    "print(\"FFC-like computation with quadrature:\\n %s\" % M.round(3))"
   ]
  },
  {
   "cell_type": "markdown",
   "metadata": {},
   "source": [
    "In `tabulate_tensor()` for the form `u*v`:\n",
    "\n",
    "    // Values of basis functions at quadrature points.\n",
    "    static const double FE0[4][4] = \\\n",
    "    {{0.986207088460911, 0.0601249979387161, 0.0137929115390892, -0.00448606527483159},\n",
    "    {0.745161426118203, 0.148137063413256, 0.254838573881797, -0.0729661590874814},\n",
    "    {0.254838573881795, 0.0729661590874805, 0.745161426118205, -0.148137063413257},\n",
    "    {0.0137929115390886, 0.00448606527483117, 0.986207088460911, -0.0601249979387162}};\n",
    "\n",
    "In `tabulate_tensor()` for the form `u.dx(0)*v.dx(0)`:\n",
    "\n",
    "    // Values of basis functions at quadrature points.\n",
    "    static const double FE0_D1[4][4] = \\\n",
    "    {{-0.387666379281288, 0.736734966156382, 0.387666379281288, -0.12440134543767},\n",
    "    {-1.32661933500443, 0.00668085429021271, 1.32661933500443, -0.333300189294643},\n",
    "    {-1.32661933500443, -0.333300189294642, 1.32661933500443, 0.00668085429021441},\n",
    "    {-0.387666379281282, -0.124401345437667, 0.387666379281282, 0.736734966156384}};"
   ]
  },
  {
   "cell_type": "markdown",
   "metadata": {},
   "source": [
    "Note that some of the entries have been permuted wrt. the assembled matrix, where the ordering is given by the local-to-global dof mapping. We will need to take this into account later when we manually assemble everything. But first we compute the same integral using the trapezoidal rule as a check:"
   ]
  },
  {
   "cell_type": "code",
   "execution_count": null,
   "metadata": {
    "collapsed": false
   },
   "outputs": [],
   "source": [
    "B = np.zeros_like(M)\n",
    "xx = np.linspace(0, 1, 100)\n",
    "#shapes = evaluate_shape_functions_reference(V, xx)\n",
    "shapes = evaluate_shape_functions_mesh(V, xx)[1]\n",
    "for i,j in np.ndindex(B.shape):\n",
    "    B[i,j] = np.trapz(det*shapes[i]*shapes[j], xx)\n",
    "\n",
    "print(\"Trapezoidal:\\n%s\\n\" % B.round(3))\n",
    "print(\"Trapezoidal - quadrature: %.1f%% error\" % (100*np.linalg.norm(B-M, np.inf)/np.linalg.norm(B, np.inf)))"
   ]
  },
  {
   "cell_type": "markdown",
   "metadata": {},
   "source": [
    "## Mass matrix assembly\n",
    "\n",
    "The preceding cell integrals need to be assembled into a global mass matrix in order to compare the computations with those done by dolfin. What matters is then the difference between this matrix and the one computed by dolfin:"
   ]
  },
  {
   "cell_type": "code",
   "execution_count": null,
   "metadata": {
    "collapsed": false
   },
   "outputs": [],
   "source": [
    "Aa = A.array()\n",
    "Ah = np.zeros_like(Aa)\n",
    "dm = V.dofmap()\n",
    "for cell in range(V.mesh().num_cells()):\n",
    "    l2g = dm.cell_dofs(cell)   # local to global mapping for cell \n",
    "    for i,j in np.ndindex(M.shape):\n",
    "        Ah[l2g[i], l2g[j]] += M[i,j]\n",
    "print(\"Manual assembly:\\n%s\\n\" % Ah.round(3))\n",
    "print(\"Dolfin's assembly:\\n%s\\n\" % Aa.round(3))\n",
    "print(\"Error = %.2f%%\" % (100*np.linalg.norm(Aa - Ah, np.inf)/np.linalg.norm(Ah, np.inf)))"
   ]
  },
  {
   "cell_type": "markdown",
   "metadata": {},
   "source": [
    "If this is correct, since we used the trapezoidal cell integral with high resolution, it must be that our copy of FFC's output code is wrong... (?)"
   ]
  },
  {
   "cell_type": "markdown",
   "metadata": {},
   "source": [
    "# A more involved example\n",
    "\n",
    "We now work with the bilinear form\n",
    "\n",
    "$$ \\int \\Delta u \\Delta v \\ \\mathrm{d}x$$"
   ]
  },
  {
   "cell_type": "code",
   "execution_count": null,
   "metadata": {
    "collapsed": false,
    "scrolled": false
   },
   "outputs": [],
   "source": [
    "mesh = UnitIntervalMesh(1, 1)\n",
    "V = FunctionSpace(mesh, \"Hermite\", 3)\n",
    "u = TrialFunction(V)\n",
    "v = TestFunction(V)\n",
    "a = inner(div(grad(u)), div(grad(v)))*dx\n",
    "with open(\"/tmp/laplace.h\", \"wt\") as fd:\n",
    "    out = ffc.compile_form(a, prefix=\"la\", parameters=fc_params)\n",
    "    fd.write(out[0])"
   ]
  },
  {
   "cell_type": "markdown",
   "metadata": {},
   "source": [
    "# Integration of expressions\n",
    "\n"
   ]
  },
  {
   "cell_type": "code",
   "execution_count": null,
   "metadata": {
    "collapsed": false
   },
   "outputs": [],
   "source": [
    "grid_sizes = [32, 64, 128, 256]\n",
    "p_vals = range(1, 4)\n",
    "results_her = np.zeros(len(grid_sizes))\n",
    "results_lag = np.zeros((len(grid_sizes), len(p_vals)))\n",
    "\n",
    "for i, n in enumerate(grid_sizes):\n",
    "    mesh = UnitSquareMesh(n, n)\n",
    "    V = FunctionSpace(mesh, \"Hermite\", 3)\n",
    "    W = [None] + [FunctionSpace(mesh, \"Lagrange\", p) for p in p_vals]\n",
    "    f = Expression(\"x[0]*x[0]*x[1]*x[1]\", degree=3)\n",
    "    v = project(f, V)\n",
    "    w = [None] + [project(f, W[p]) for p in p_vals]\n",
    "    exact = 1./9.\n",
    "    results_her[i] = assemble(v*dx)\n",
    "    results_lag[i] = np.array([assemble(w[p]*dx) for p in p_vals])"
   ]
  },
  {
   "cell_type": "code",
   "execution_count": null,
   "metadata": {
    "collapsed": false
   },
   "outputs": [],
   "source": [
    "pl.figure(figsize=(10, 10))\n",
    "pl.plot(grid_sizes, np.log(results_her - exact), label=\"H3\")\n",
    "for p in p_vals:\n",
    "    pl.plot(grid_sizes, np.log(results_lag[:,p-1] - exact), label=\"L%d\" % p)\n",
    "pl.title(\"Log error\")\n",
    "pl.legend()\n",
    "_ = pl.show()"
   ]
  }
 ],
 "metadata": {
  "kernelspec": {
   "display_name": "Python 2",
   "language": "python",
   "name": "python2"
  },
  "language_info": {
   "codemirror_mode": {
    "name": "ipython",
    "version": 2
   },
   "file_extension": ".py",
   "mimetype": "text/x-python",
   "name": "python",
   "nbconvert_exporter": "python",
   "pygments_lexer": "ipython2",
   "version": "2.7.12"
  }
 },
 "nbformat": 4,
 "nbformat_minor": 1
}
