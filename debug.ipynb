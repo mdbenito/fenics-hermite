{
 "cells": [
  {
   "cell_type": "code",
   "execution_count": 12,
   "metadata": {
    "collapsed": false,
    "scrolled": false
   },
   "outputs": [
    {
     "name": "stdout",
     "output_type": "stream",
     "text": [
      "  Calling FFC just-in-time (JIT) compiler, this may take some time.\n",
      "    MBD: Check whether hermite actually needs oriented jacobian.\n"
     ]
    }
   ],
   "source": [
    "from dolfin import *\n",
    "from dolfin.fem.assembling import _create_dolfin_form\n",
    "import ffc\n",
    "import ufl\n",
    "mesh = UnitIntervalMesh(10)\n",
    "#mesh = UnitSquareMesh(10,10)\n",
    "V = FunctionSpace(mesh, \"Hermite\", 3)\n",
    "w = TestFunction(V)\n",
    "Pv = TrialFunction(V)\n",
    "a = ufl.inner(w, Pv)*dx\n",
    "#%debug -b /home/fenics/local/lib/python2.7/site-packages/ffc/compiler.py:188 ffc.jit(a)\n",
    "#%debug -b /home/fenics/local/lib/python2.7/site-packages/ffc/evaluatedof.py:189 ffc.jit(a)\n",
    "_ = ffc.jit(a)"
   ]
  },
  {
   "cell_type": "code",
   "execution_count": 13,
   "metadata": {
    "collapsed": false
   },
   "outputs": [
    {
     "name": "stdout",
     "output_type": "stream",
     "text": [
      "  Unable to plot element, Soya3D not available (install package python-soya).\n"
     ]
    }
   ],
   "source": [
    "from ufl import *\n",
    "from ffc import *\n",
    "\n",
    "e = FiniteElement(\"Hermite\", triangle, 3)\n",
    "plot(e)"
   ]
  },
  {
   "cell_type": "markdown",
   "metadata": {},
   "source": [
    "## Q 9248\n",
    "[Linear elasticity problems on domains with different materials](https://fenicsproject.org/qa/9248/linear-elasticity-problems-domains-with-different-materials?show=9248)\n",
    "\n",
    "The solution after incorporating all the suggestions in the anwers is constantly zero... why?"
   ]
  },
  {
   "cell_type": "code",
   "execution_count": null,
   "metadata": {
    "collapsed": false
   },
   "outputs": [],
   "source": [
    "from __future__ import print_function\n",
    "from dolfin import *\n",
    "from mshr import *\n",
    "import sys, math, numpy\n",
    "\n",
    "# Create classes for defining parts of the boundaries and the interior\n",
    "# of the domain\n",
    "class Bottom(SubDomain):\n",
    "    def inside(self, x, on_boundary):\n",
    "        return on_boundary and near(x[1], 0.0)\n",
    "\n",
    "class Top(SubDomain):\n",
    "    def inside(self, x, on_boundary):\n",
    "        return on_boundary and (between(x[1], (0.5, 1.1)))\n",
    "\n",
    "class Obstacle(SubDomain):\n",
    "    def inside(self, x, on_boundary):\n",
    "        return (x[0]*x[0] + x[1]*x[1] <= 0.25) \n",
    "\n",
    "# Define parameters\n",
    "r = 1.0\n",
    "MeshDensity = 20\n",
    "\n",
    "# Initialize sub-domain instances\n",
    "top = Top()\n",
    "bottom = Bottom()\n",
    "obstacle = Obstacle()\n",
    "\n",
    "# Define the domain and generate the mesh\n",
    "domain = Circle(Point(0, 0), r) - Rectangle(Point(-1.0, -2.0), Point(1.0, 0.0))\n",
    "mesh = generate_mesh(domain,MeshDensity,\"cgal\")\n",
    "#plot(mesh, 'Mesh')\n",
    "\n",
    "# Initialize mesh function for interior domains\n",
    "domains = CellFunction(\"size_t\", mesh)\n",
    "domains.set_all(0)\n",
    "obstacle.mark(domains, 1)\n",
    "#print(domains.array())\n",
    "\n",
    "# Initialize mesh function for boundary domains\n",
    "boundaries = FacetFunction(\"size_t\", mesh)\n",
    "boundaries.set_all(0)\n",
    "bottom.mark(boundaries, 0)\n",
    "top.mark(boundaries, 1)\n",
    "#print(boundaries.array())\n",
    "\n",
    "# Define input data\n",
    "a1 = Constant(1.0)\n",
    "a0 = Constant(0.01)\n",
    "g = Constant((0.0, -1.0))\n",
    "f = Constant((0.0, 1.0))\n",
    "\n",
    "# Define function space and basis functions\n",
    "V = VectorFunctionSpace(mesh, \"Lagrange\", 1)\n",
    "u = TrialFunction(V)\n",
    "v = TestFunction(V)\n",
    "\n",
    "# Define Dirichlet boundary ( x=0, y=0 )\n",
    "c = Constant((0,0))\n",
    "\n",
    "# Define Dirichlet boundary conditions at top and bottom boundaries\n",
    "bcs = DirichletBC(V, c, boundaries, 0)\n",
    "\n",
    "# Define new measures associated with the interior domains and\n",
    "# exterior boundaries\n",
    "dx = Measure('dx', domain=mesh, subdomain_data=domains)\n",
    "ds = Measure('ds', domain=mesh, subdomain_data=boundaries)\n",
    "\n",
    "# Define variational form\n",
    "F = (inner(a0*grad(u), grad(v))*dx(0) + (inner(a1*grad(u), grad(v)))*dx(1)\n",
    "     - inner(g, v)*ds(1)\n",
    "     - inner(f, v)*dx(0) - inner(f, v)*dx(1))\n",
    "\n",
    "# Separate left and right hand sides of equation\n",
    "a, L = lhs(F), rhs(F)\n",
    "\n",
    "# Solve problem\n",
    "u_h = Function(V)\n",
    "solve(a == L, u_h, bcs)"
   ]
  },
  {
   "cell_type": "code",
   "execution_count": 14,
   "metadata": {
    "collapsed": false
   },
   "outputs": [
    {
     "data": {
      "text/plain": [
       "0.0"
      ]
     },
     "execution_count": 14,
     "metadata": {},
     "output_type": "execute_result"
    }
   ],
   "source": [
    "import numpy as np\n",
    "np.max(np.abs(u_h.compute_vertex_values(mesh)))"
   ]
  },
  {
   "cell_type": "markdown",
   "metadata": {},
   "source": [
    "# Blah"
   ]
  },
  {
   "cell_type": "code",
   "execution_count": 8,
   "metadata": {
    "collapsed": false
   },
   "outputs": [],
   "source": [
    "from dolfin import *\n",
    "mesh = UnitIntervalMesh(10)\n",
    "V = FunctionSpace(mesh, 'Hermite', 3)\n",
    "f = Argument(V, 0)\n",
    "R = assemble(f*dx)"
   ]
  },
  {
   "cell_type": "code",
   "execution_count": null,
   "metadata": {
    "collapsed": true
   },
   "outputs": [],
   "source": []
  }
 ],
 "metadata": {
  "kernelspec": {
   "display_name": "Python 2",
   "language": "python",
   "name": "python2"
  },
  "language_info": {
   "codemirror_mode": {
    "name": "ipython",
    "version": 2
   },
   "file_extension": ".py",
   "mimetype": "text/x-python",
   "name": "python",
   "nbconvert_exporter": "python",
   "pygments_lexer": "ipython2",
   "version": "2.7.12"
  }
 },
 "nbformat": 4,
 "nbformat_minor": 1
}
