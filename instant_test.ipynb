{
 "cells": [
  {
   "cell_type": "markdown",
   "metadata": {},
   "source": [
    "# Experimenting with instant"
   ]
  },
  {
   "cell_type": "code",
   "execution_count": null,
   "metadata": {
    "collapsed": true
   },
   "outputs": [],
   "source": [
    "# See 14.tex in the FEniCS book\n",
    "from instant import output\n",
    "output.set_log_level(\"DEBUG\")"
   ]
  },
  {
   "cell_type": "code",
   "execution_count": null,
   "metadata": {
    "collapsed": true
   },
   "outputs": [],
   "source": [
    "from instant import inline\n",
    "code = \"\"\"\n",
    "    double add(double a, double b) {\n",
    "        printf(\"Hello world! C function add is being called…\");\n",
    "        return a+b;\n",
    "    }\"\"\"\n",
    "add_func = inline(code, modulename=\"ex4\")\n",
    "sum = add_func(3, 4.5)"
   ]
  },
  {
   "cell_type": "markdown",
   "metadata": {
    "collapsed": true
   },
   "source": [
    "Here is a better example: [how to expose a C++ class using FEniCS in a python module](http://hplgit.github.io/fenics-mixed/doc/pub/sphinx-cbc/._part0003_fenics-mixed.html)."
   ]
  }
 ],
 "metadata": {
  "kernelspec": {
   "display_name": "Python 3",
   "language": "python",
   "name": "python3"
  },
  "language_info": {
   "codemirror_mode": {
    "name": "ipython",
    "version": 3
   },
   "file_extension": ".py",
   "mimetype": "text/x-python",
   "name": "python",
   "nbconvert_exporter": "python",
   "pygments_lexer": "ipython3",
   "version": "3.5.2"
  }
 },
 "nbformat": 4,
 "nbformat_minor": 1
}
