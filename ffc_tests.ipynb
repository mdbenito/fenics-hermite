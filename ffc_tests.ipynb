{
 "cells": [
  {
   "cell_type": "markdown",
   "metadata": {
    "toc": "true"
   },
   "source": [
    "# Table of Contents\n",
    " <p><div class=\"lev1 toc-item\"><a href=\"#Current\" data-toc-modified-id=\"Current-1\"><span class=\"toc-item-num\">1&nbsp;&nbsp;</span>Current</a></div><div class=\"lev1 toc-item\"><a href=\"#Some-nomenclature\" data-toc-modified-id=\"Some-nomenclature-2\"><span class=\"toc-item-num\">2&nbsp;&nbsp;</span>Some nomenclature</a></div><div class=\"lev1 toc-item\"><a href=\"#Related-commits-and-PRs\" data-toc-modified-id=\"Related-commits-and-PRs-3\"><span class=\"toc-item-num\">3&nbsp;&nbsp;</span>Related commits and PRs</a></div><div class=\"lev1 toc-item\"><a href=\"#Intro\" data-toc-modified-id=\"Intro-4\"><span class=\"toc-item-num\">4&nbsp;&nbsp;</span>Intro</a></div><div class=\"lev1 toc-item\"><a href=\"#Setup\" data-toc-modified-id=\"Setup-5\"><span class=\"toc-item-num\">5&nbsp;&nbsp;</span>Setup</a></div><div class=\"lev1 toc-item\"><a href=\"#First-tests-(finish)\" data-toc-modified-id=\"First-tests-(finish)-6\"><span class=\"toc-item-num\">6&nbsp;&nbsp;</span>First tests (finish)</a></div><div class=\"lev1 toc-item\"><a href=\"#FFC--element-compilation\" data-toc-modified-id=\"FFC--element-compilation-7\"><span class=\"toc-item-num\">7&nbsp;&nbsp;</span>FFC  element compilation</a></div><div class=\"lev2 toc-item\"><a href=\"#Mixed-elements\" data-toc-modified-id=\"Mixed-elements-71\"><span class=\"toc-item-num\">7.1&nbsp;&nbsp;</span>Mixed elements</a></div><div class=\"lev1 toc-item\"><a href=\"#Checking-FFC's-shape-functions\" data-toc-modified-id=\"Checking-FFC's-shape-functions-8\"><span class=\"toc-item-num\">8&nbsp;&nbsp;</span>Checking FFC's shape functions</a></div><div class=\"lev2 toc-item\"><a href=\"#CAREFUL!\" data-toc-modified-id=\"CAREFUL!-81\"><span class=\"toc-item-num\">8.1&nbsp;&nbsp;</span>CAREFUL!</a></div><div class=\"lev1 toc-item\"><a href=\"#Basis-evaluation-at-mesh-nodes\" data-toc-modified-id=\"Basis-evaluation-at-mesh-nodes-9\"><span class=\"toc-item-num\">9&nbsp;&nbsp;</span>Basis evaluation at mesh nodes</a></div><div class=\"lev1 toc-item\"><a href=\"#Projection\" data-toc-modified-id=\"Projection-10\"><span class=\"toc-item-num\">10&nbsp;&nbsp;</span>Projection</a></div><div class=\"lev2 toc-item\"><a href=\"#Projecting-from-the-same-space\" data-toc-modified-id=\"Projecting-from-the-same-space-101\"><span class=\"toc-item-num\">10.1&nbsp;&nbsp;</span>Projecting from the same space</a></div><div class=\"lev1 toc-item\"><a href=\"#Comparison-to-Lagrange-elements\" data-toc-modified-id=\"Comparison-to-Lagrange-elements-11\"><span class=\"toc-item-num\">11&nbsp;&nbsp;</span>Comparison to Lagrange elements</a></div>"
   ]
  },
  {
   "cell_type": "markdown",
   "metadata": {},
   "source": [
    "# Current\n",
    "\n",
    "* Fix the hack (in particular remove the check for `isinstance(elem, CubeHermite)` in `representation.py` and generalise to 3D, etc.\n",
    "* Dec 2016: I don't understand why there is no problem with the Argyris element any more since I pulled the latest changes from branch `next`. Before I had the same issues as with the CubicHermite...\n",
    "* <strike>Implement (nodal) interpolation for Hermite: how should one compute the derivatives of the function to be interpolated?</strike> What is the best way of implementing `evaluate_dof()` for derivative evaluations? Do I need to extend the interface of GenericFunctions|whatever to include derivatives? Can I use symbolic / automatic differentiation? **I'm using lambdas, autograd and an ad-hoc [`interpolate_hermite()`](interpolation.ipynb) for now**\n",
    "* <strike>Implement the trafo for the derivatives.</strike>\n",
    "* <strike>Fix the issue with the mappings in the quadratures.</strike>\n",
    "* <strike>Fix `_tabulate_dofs()` in `representation.py` to add the coordinates where dofs associated to derivative evaluations are .</strike>"
   ]
  },
  {
   "cell_type": "markdown",
   "metadata": {},
   "source": [
    "# Some nomenclature\n",
    "\n",
    "**Finite element** $(K,P,N)$: $K$ is the geometry, $P$ some polynomial space over $K$ and $N \\subset P'$ a set of functions in the dual space of $P$ (the _degrees of freedom_) such that its dual $B \\subset P$, i.e. a set of polynomials $p_i \\in P$ such that $L_i(p_j) = \\delta_{i j}$ for all $L_i \\in N$, is a basis for all of $P$.\n",
    "\n",
    "**dof** in ffc: element of the dual space $N=P'$. From the docs: \n",
    ">Each dof $L$ [in an element] is assumed to act on a field $f$ in the following manner: $$L(f) = w_{j, k} f_k(x_j),$$ where $w$ is a set of weights, $j$ is an index set corresponding to the number of points involved in the evaluation of the functional, and $k$ is a multi-index set with rank corresponding to the value rank of the function $f$. For common degrees of freedom such as point evaluations and directional component evaluations, there is just one point. However, for various integral moments, the integrals are evaluated using quadrature. The number of points therefore correspond[s] to the quadrature points. The points $x_j$, weights $w_{j, k}$ and components $k$ are extracted from FIAT (`functional.pt_dict`) in the intermediate representation stage.\n",
    "\n",
    "By extension, **dof** is also used for the coefficients of the expansion of any function $f \\in V_h$, where $V_h$ is the finite dimensional space built from all finite elements.\n",
    "\n",
    "**Intermediate representation**: A dictionary built in `ffc/representation.py` for later code generation.\n",
    "\n",
    "# Related commits and PRs\n",
    "\n",
    "* [This commit](https://bitbucket.org/fenics-project/ffc/commits/8c96e6646aa7c42365a954e79d5df7ec4066b1e2) implements the \"double covariant\" transform in ffc. Modifies:\n",
    "  * `ffc/evaluatebasis.py`\n",
    "  * `ffc/evaluatebasisderivatives.py`\n",
    "  * `ffc/evaluatedof.py`\n",
    "  * `ffc/interpolatevertexvalues.py`\n",
    "  * `ffc/quadrature/quadraturetransformer.py`\n",
    "  * `uflacs/backends/ufc/evaluatebasis.py`\n",
    "\n",
    "* [This PR](https://bitbucket.org/fenics-project/ufl/pull-requests/55/support-for-hellan-herrmann-johnson/diff) adds support for an element in UFL using the double covariant trafo. Modifies:\n",
    "  * `ufl/algorithms/apply_function_pullbacks.py`\n",
    "  * `ufl/finiteelement/elementlist.py`"
   ]
  },
  {
   "cell_type": "markdown",
   "metadata": {},
   "source": [
    "# Intro\n",
    "\n",
    "This notebook collects multiple tests done during the implementation of Hermite elements in FFC. See:\n",
    "\n",
    "* [fiat_hermite.ipynb](fiat_hermite.ipynb) for the FIAT implementation.\n",
    "* [hermite.tm](hermite.tm) for the math involved. \n",
    "* [interpolation.ipynb](interpolation.ipynb) for the implementation of nodal interpolation of Hermite (PointDerivative) dofs.\n",
    "* [quadrature.ipynb](quadrature.ipynb) for the implementation of the quadrature representation of forms requiring Hermite transforms.\n",
    "* [boundary.ipynb](boundary.ipynb) for details and problems related to the specification of *essential* boundary conditions."
   ]
  },
  {
   "cell_type": "markdown",
   "metadata": {},
   "source": [
    "# Setup"
   ]
  },
  {
   "cell_type": "code",
   "execution_count": null,
   "metadata": {
    "collapsed": true
   },
   "outputs": [],
   "source": [
    "from dolfin import *\n",
    "%matplotlib inline\n",
    "import ufl\n",
    "import ffc\n",
    "import utils\n",
    "import nbimporter\n",
    "from shape_functions import hermite_shapes\n",
    "\n",
    "import numpy as np\n",
    "import matplotlib.pyplot as pl\n",
    "\n",
    "# Force quadrature representation (we only implement this for now)\n",
    "parameters[\"form_compiler\"][\"representation\"] = \"quadrature\"\n",
    "\n",
    "# Hermite trafo not implemented in optimisedquadraturetransformer.py\n",
    "parameters['form_compiler']['optimize'] = False\n",
    "\n",
    "# Generate code for evaluate_basis_derivatives for testing\n",
    "parameters[\"form_compiler\"][\"no-evaluate_basis_derivatives\"] = False\n",
    "\n",
    "TEST_DIMENSION = 1\n",
    "\n",
    "def __nbinit__():\n",
    "    global __all__\n",
    "    __all__ = ['evaluate_shape_functions_mesh',\n",
    "               'evaluate_shape_functions_reference',\n",
    "               'compile_element']"
   ]
  },
  {
   "cell_type": "code",
   "execution_count": null,
   "metadata": {
    "collapsed": true
   },
   "outputs": [],
   "source": [
    "ffc.log.set_level(ffc.log.DEBUG)\n",
    "#ffc.log.add_logfile(\"/tmp/fenics.log\")\n",
    "#ffc.__version__, ffc.supported_elements"
   ]
  },
  {
   "cell_type": "code",
   "execution_count": null,
   "metadata": {
    "collapsed": true
   },
   "outputs": [],
   "source": [
    "if TEST_DIMENSION == 1:\n",
    "    mesh = UnitIntervalMesh(10)\n",
    "elif TEST_DIMENSION == 2:\n",
    "    mesh = UnitSquareMesh(10, 10)\n",
    "elif TEST_DIMENSION == 3:\n",
    "    mesh = UnitCubeMesh(10, 10, 10)\n",
    "\n",
    "V = FunctionSpace(mesh, \"Hermite\", 3)"
   ]
  },
  {
   "cell_type": "markdown",
   "metadata": {},
   "source": [
    "After a quick hack we were able to create the Hermite UFL element with\n",
    "\n",
    "```python\n",
    "elem = ufl.FiniteElement('Hermite', mesh.ufl_cell(), 3)\n",
    "```\n",
    "\n",
    "We did this first to find out what happens at the FFC level when we try to build a `FunctionSpace`. \n",
    "\n",
    "**FIXME** We need to specify the degree even though only CubicHermite elements are supported as of yet.\n",
    "\n",
    "Creating a `FunctionSpace` with Hermite elements involves (at least):\n",
    "\n",
    "1. We must \"register\" the Hermite element in `ufl/finitelements/elementlist.py` in order to be able to use the string argument \"Hermite\".\n",
    "\n",
    "2. For each basis element of the element which is a derivative (i.e. two at every vertex of the triangle in 2D) we collect in the *intermediate representation* (`ir`) the coefficients of *all* basis elements which are derivatives (i.e. two at every vertex of the triangle in 2D). This is done in `ffc/representation.py`, `_evaluatebasis()` by adding the coefficients to `dof_data`.\n",
    "\n",
    "3. Inside `ffc/evaluatebasis.py` we use these coefficients and the Jacobian to apply the transformation in `_compute_values()`, inside a new case for mapping \"hermite\". **FIXME:** Maybe I should change the Hermite mapping to act on point evaluations (as the identity) and directional derivatives (as a linear combination using the domain transformation) in order to have a more \"homogeneous\" implementation (i.e. without as many cases, etc.). That is: reuse the idea of the matrix $H$ as in the quadratures.\n",
    "\n",
    "4. Interpolation cannot work without computing derivatives of arbitrary `ufc::function`s, see below.\n",
    "\n",
    "5. Quadratures also must feature the Hermite transform. A naive approach yields unwieldy expressions with hundreds of terms for even the simplest of forms.\n",
    "\n",
    "6. ..."
   ]
  },
  {
   "cell_type": "markdown",
   "metadata": {},
   "source": [
    "# First tests (finish)\n",
    "\n",
    "A minor sanity check for the degrees:"
   ]
  },
  {
   "cell_type": "code",
   "execution_count": null,
   "metadata": {
    "collapsed": true
   },
   "outputs": [],
   "source": [
    "import FIAT\n",
    "\n",
    "ufl_element = ufl.FiniteElement('Hermite', mesh.ufl_cell(), 3)\n",
    "fiat_element = ffc.fiatinterface._create_fiat_element(ufl_element)\n",
    "\n",
    "print(ufl_element.degree(), fiat_element.degree(), isinstance(fiat_element, FIAT.hermite.CubicHermite))"
   ]
  },
  {
   "cell_type": "markdown",
   "metadata": {},
   "source": [
    "Now check the types of mappings for each dof in the element:"
   ]
  },
  {
   "cell_type": "code",
   "execution_count": null,
   "metadata": {
    "collapsed": true
   },
   "outputs": [],
   "source": [
    "print(fiat_element.mapping())"
   ]
  },
  {
   "cell_type": "markdown",
   "metadata": {},
   "source": [
    "**NOTE:** Maybe I should use the same idea as I did in the quadratures of collecting both affine and hermite trafos into one $(d+1) \\mathrm{x} (d+1)$ matrix"
   ]
  },
  {
   "cell_type": "markdown",
   "metadata": {},
   "source": [
    "# FFC  element compilation"
   ]
  },
  {
   "cell_type": "code",
   "execution_count": null,
   "metadata": {
    "collapsed": true
   },
   "outputs": [],
   "source": [
    "def compile_element(element, destdir='/tmp', params=None):\n",
    "    \"\"\" Compiles elements with FFC.\n",
    "    Uses quadrature representation by default.\n",
    "    \n",
    "    Arguments:\n",
    "    ----------\n",
    "        element: a UFL FiniteElement\n",
    "        destdir: where to save the C header file.\n",
    "        params: dictionary of options to pass to FFC. Will be used\n",
    "                to update() the defaults:\n",
    "                        {'no-evaluate_basis_derivatives': False, \n",
    "                         'representation': 'quadrature', \n",
    "                         'quadrature_degree': 5}\n",
    "    \n",
    "    Returns:\n",
    "    --------\n",
    "        Complete path to the output file.\n",
    "    \"\"\"\n",
    "    from ffc import compile_element\n",
    "    from os import path\n",
    "    from ufl import FiniteElement, FiniteElementBase\n",
    "    if not isinstance(element, FiniteElementBase):\n",
    "        raise ValueError(\"type(element) = %s does not derive from ufl.FiniteElementBase\" %\n",
    "                         type(element))\n",
    "\n",
    "    family = element.family()\n",
    "    tdim = element.cell().topological_dimension()\n",
    "    fc_params = {'no-evaluate_basis_derivatives': False, \n",
    "                 'representation': 'quadrature', \n",
    "                 'quadrature_degree': 2}   # FIXME: what's the right degree (is this Gauss?)\n",
    "    if params is not None:\n",
    "        fc_params.update(params)\n",
    "    output_fname = path.join(destdir, \"%s-%dD.h\" % (family, tdim))\n",
    "    with open(output_fname, 'wt') as fd:\n",
    "        out = compile_element(element, \n",
    "                              prefix=family[:3].lower(),\n",
    "                              parameters=fc_params)\n",
    "        fd.write(out[0])\n",
    "\n",
    "        return output_fname"
   ]
  },
  {
   "cell_type": "code",
   "execution_count": null,
   "metadata": {
    "collapsed": true,
    "scrolled": false
   },
   "outputs": [],
   "source": [
    "from dolfin import FiniteElement, MixedElement\n",
    "compile_element(FiniteElement('Hermite', 'interval'))\n",
    "compile_element(FiniteElement('Hermite', 'triangle'))\n",
    "compile_element(FiniteElement('Hermite', 'tetrahedron'))"
   ]
  },
  {
   "cell_type": "markdown",
   "metadata": {},
   "source": [
    "## Mixed elements"
   ]
  },
  {
   "cell_type": "code",
   "execution_count": null,
   "metadata": {
    "collapsed": true,
    "scrolled": false
   },
   "outputs": [],
   "source": [
    "compile_element(MixedElement([FiniteElement(\"Lagrange\", \"interval\", 2),\n",
    "                              FiniteElement(\"Hermite\", \"interval\", 3)]))"
   ]
  },
  {
   "cell_type": "markdown",
   "metadata": {},
   "source": [
    "# Checking FFC's shape functions\n",
    "\n",
    "We pick a simple 1D grid and manually apply the necessary transformation to the basis functions computed in [\"Hermite shape functions in 1D\"](shape_functions.ipynb#Hermite-shape-functions-in-1D) in order to compare them to the ones compiled by FFC. First we write a simple function to evaluate shape functions and their derivatives."
   ]
  },
  {
   "cell_type": "code",
   "execution_count": null,
   "metadata": {
    "collapsed": true
   },
   "outputs": [],
   "source": [
    "def evaluate_shape_functions_mesh(V, points, num_derivatives=1):\n",
    "    \"\"\" Evaluates shape functions and their derivatives for scalar\n",
    "    functions defined over 1D meshes.\n",
    "\n",
    "    Arguments\n",
    "    ---------\n",
    "        V: FunctionSpace\n",
    "        points: (n,) array of *physical* coordinates.\n",
    "        num_derivatives: number of derivatives to compute.\n",
    "        \n",
    "    Returns\n",
    "    -------\n",
    "        A tuple (values, derivs), where both are np.ndarrays, of\n",
    "        shape = (V.element().space_dimension(), len(points)).\n",
    "    \"\"\"\n",
    "    e = V.element()\n",
    "    m = V.mesh()\n",
    "    num_funcs = e.space_dimension()\n",
    "    val = np.zeros(num_funcs)\n",
    "    der = np.zeros((num_funcs, num_derivatives))\n",
    "    values = np.zeros((num_funcs, points.size))\n",
    "    derivs = np.zeros((num_funcs, num_derivatives, points.size))\n",
    "    for j, x in enumerate(points):\n",
    "        x = np.array([x])\n",
    "        cell_id = m.bounding_box_tree().compute_first_entity_collision(Point(x))\n",
    "        cell = Cell(m, cell_id)\n",
    "        coordinate_dofs = cell.get_coordinate_dofs()\n",
    "        e.evaluate_basis_all(val, x, coordinate_dofs, cell.orientation())\n",
    "        values[:,j] = val.copy()\n",
    "        e.evaluate_basis_derivatives_all(num_derivatives, der, x,\n",
    "                                         coordinate_dofs, cell.orientation())\n",
    "        derivs[:,:,j] = der.copy()\n",
    "\n",
    "    return values, derivs\n",
    "\n",
    "def TODO_evaluate_shape_functions_mesh(V, points, num_derivatives=0):\n",
    "    \"\"\" Evaluates shape functions over general meshes.\n",
    "    TODO: and their derivatives \n",
    "\n",
    "    Arguments:\n",
    "    ----------\n",
    "        V: FunctionSpace\n",
    "        points: (n,d) array of *physical* coordinates, d = \n",
    "        \n",
    "    Returns:\n",
    "    --------\n",
    "        TODO:A tuple (values, derivs), where both are np.ndarrays, of\n",
    "        shape = (V.element().space_dimension(), len(points)).\n",
    "    \"\"\"\n",
    "    e = V.element()\n",
    "    m = V.mesh()\n",
    "    tdim = m.geometry().dim()\n",
    "    num_funcs = e.space_dimension()\n",
    "    num_points = points.shape[0]\n",
    "    val = np.zeros(dim)\n",
    "    values = np.zeros((num_funcs, num_points))\n",
    "    derivs = np.zeros((num_funcs, num_derivatives, num_points))\n",
    "    for j, x in enumerate(points):\n",
    "        if isinstance(x, float):\n",
    "            x = np.array([x])\n",
    "        cell_id = m.bounding_box_tree().compute_first_entity_collision(Point(x))\n",
    "        cell = Cell(m, cell_id)\n",
    "        coordinate_dofs = cell.get_coordinate_dofs()\n",
    "        e.evaluate_basis_all(val, x, coordinate_dofs, cell.orientation())\n",
    "        values[:,j] = val.copy()\n",
    "\n",
    "    return values"
   ]
  },
  {
   "cell_type": "code",
   "execution_count": null,
   "metadata": {
    "collapsed": true
   },
   "outputs": [],
   "source": [
    "def evaluate_shape_functions_reference(element, points, num_derivatives=1):\n",
    "    \"\"\" Evaluates shape functions and their derivatives over points in the\n",
    "    reference 1D simplex.\n",
    "\n",
    "    Arguments:\n",
    "    ----------\n",
    "        element: dolfin.cpp.fem.FiniteElement \n",
    "        points: (n,) array of *reference* coordinates (i.e. in [0,1])\n",
    "        num_derivatives: Number of derivatives to take.\n",
    "        \n",
    "    Returns:\n",
    "    --------\n",
    "        A tuple (values, derivs), where both are np.ndarrays, and\n",
    "        values.shape = (element.space_dimension(), points.size).\n",
    "        derivs.shape = (element.space_dimension(), num_derivatives, len(points)).\n",
    "    \"\"\"\n",
    "    assert 0. <= points.min() and points.max() <= 1., \\\n",
    "           \"Points for evaluation must lie in the reference interval\"\n",
    "\n",
    "    if num_derivatives > 1:\n",
    "        print(\"CAREFUL: what does the array of derivatives mean??\")\n",
    "\n",
    "    coordinate_dofs = np.array([0., 1.]) # HACK: there has to be a better way\n",
    "    dim = element.space_dimension()\n",
    "    val = np.zeros(dim)\n",
    "    der = np.zeros((dim, num_derivatives))\n",
    "    values = np.zeros((dim, points.size))\n",
    "    derivs = np.zeros((dim, num_derivatives, points.size))\n",
    "    for j, x in enumerate(points):\n",
    "        x = np.array([x])\n",
    "        element.evaluate_basis_all(val, x, coordinate_dofs, 0)\n",
    "        values[:,j] = val.copy()\n",
    "        element.evaluate_basis_derivatives_all(num_derivatives, der, x,\n",
    "                                               coordinate_dofs, 0)\n",
    "        derivs[:,:,j] = der.copy()\n",
    "\n",
    "    return values, derivs"
   ]
  },
  {
   "cell_type": "code",
   "execution_count": null,
   "metadata": {
    "collapsed": true
   },
   "outputs": [],
   "source": [
    "vals, ders = evaluate_shape_functions_reference(V.element(), np.array([0., 0.5, 1.]), 2)\n",
    "\n",
    "ders[0].round(3)"
   ]
  },
  {
   "cell_type": "markdown",
   "metadata": {},
   "source": [
    "Recall that the transformation for Hermite shape functions is given by:\n",
    "\n",
    "$$ \\phi_i(x) = H_i \\hat{\\phi}_i(\\hat{x}(x)),\\ i \\in \\{0,1,2,3\\}$$\n",
    "\n",
    "where $H = (1,J,1,J)$ because the functions associated to partial derivatives at the nodes are at indices $1,3$. Therefore the derivatives are given by\n",
    "\n",
    "$$ \\phi_i' (x) = H_i  \\hat{\\phi}_i' (\\hat{x} (x)) K = \\left\\{\n",
    "   \\begin{array}{ll}\n",
    "     \\hat{\\phi}_i' (\\hat{x} (x)), & i \\in \\{ 1, 3 \\},\\\\\n",
    "     K \\hat{\\phi}_i' (\\hat{x} (x)), & i \\in \\{ 0, 2 \\} .\n",
    "   \\end{array} \\right. $$"
   ]
  },
  {
   "cell_type": "code",
   "execution_count": null,
   "metadata": {
    "collapsed": true
   },
   "outputs": [],
   "source": [
    "import autograd as ad\n",
    "V = FunctionSpace(UnitIntervalMesh(2), \"Hermite\", 3)\n",
    "sh = hermite_shapes(1)\n",
    "shd = [ad.elementwise_grad(f, 0) for f in sh]\n",
    "xx = np.linspace(0, 0.5, 100)\n",
    "values, derivs = evaluate_shape_functions_mesh(V, xx, 1)\n",
    "\n",
    "def J(x):\n",
    "    \"\"\" Direct trafo / Jacobian for [0,0.5] to [0,1]\"\"\"\n",
    "    return 0.5*x\n",
    "def K(x):\n",
    "    \"\"\" Inverse trafo / Inverse of Jacobian for [0,0.5] to [0,1]\"\"\"\n",
    "    return 2.0*x\n",
    "def identity(x):\n",
    "    return x\n",
    "\n",
    "trafo = [J if i in [1,3] else identity for i in range(4)]\n",
    "pl.figure(figsize=(10,4))\n",
    "pl.subplot(1,2,1)\n",
    "for i in range(4): #[1,3]:\n",
    "    pl.plot(xx, values[i], label=\"$\\phi_{%d}$\" % i)\n",
    "    if not np.allclose(values[i], trafo[i](sh[i](K(xx)))):\n",
    "        print(\"Shape functions %d differ\" % i)\n",
    "pl.title(\"Shape functions\")\n",
    "pl.legend()\n",
    "pl.subplot(1,2,2)\n",
    "trafo = [K if i in [0,2] else identity for i in range(4)]\n",
    "for i in range(4): #[1,3]:\n",
    "    yy = derivs[i][0]\n",
    "    dd = trafo[i](shd[i](K(xx)))\n",
    "    pl.plot(xx, yy, label=\"$\\phi_{%d}'$\" % i)\n",
    "    if not np.allclose(yy, dd):\n",
    "        print(\"Derivatives of shape functions %d differ by %f\" % \n",
    "              (i, np.linalg.norm(yy - dd, np.inf)))\n",
    "pl.title(\"Derivatives of the shape functions\")\n",
    "_ = pl.legend()"
   ]
  },
  {
   "cell_type": "code",
   "execution_count": null,
   "metadata": {
    "collapsed": true
   },
   "outputs": [],
   "source": [
    "mesh = UnitIntervalMesh(2)\n",
    "V = FunctionSpace(mesh, \"Lagrange\", 2)\n",
    "f = Function(V)\n",
    "fv = f.vector()\n",
    "fv.set_local(np.array([0,0,0,0,1], dtype=np.float))"
   ]
  },
  {
   "cell_type": "markdown",
   "metadata": {},
   "source": [
    "## CAREFUL!\n",
    "\n",
    "dolfin's plot() uses `f.compute_vertex_values()` on the mesh to plot, instead of `f()`\n",
    "See:\n",
    "```python\n",
    "import inspect\n",
    "inspect.findsource(plot)\n",
    "```\n",
    "**`f.compute_vertex_values()` calls `element.interpolate_vertex_values()` internally.**\n",
    "\n",
    "But this is not an issue. The code *generating* the method:\n",
    "\n",
    "```c++\n",
    "void interpolate_vertex_values(double * vertex_values,\n",
    "                                 const double * dof_values,\n",
    "                                 const double * coordinate_dofs,\n",
    "                                 int cell_orientation,\n",
    "                                 const ufc::cell& c) const final override\n",
    "```\n",
    "\n",
    "uses the nodal property of PointEvaluation basis functions to do roughly the following:\n",
    "\n",
    "1. Compute values of the $N$ basis functions at all the $M$ vertices of the cell. (I guess these agree with the `coordinate_dofs`, but this argument is not used in the code generated for Lagrange nodal basis functions, probably optimised away because of the \"delta property\")\n",
    "2. Generate the scalar product of `dof_values` (coefficients of some discrete function $f_h$ in the basis of $V_h$) with each of the $M$ arrays computed above (i.e. for each vertex). Any terms close to zero are removed from the generated code. In the Hermite case, all basis functions coming from PointDerivatives are zero at the vertices, so the corresponding `dof_values` are discarded and all that is left is `dof_values[i] * 1.0`.\n",
    "3. Assign the result of this scalar product to  `vertex_value[i]`."
   ]
  },
  {
   "cell_type": "code",
   "execution_count": null,
   "metadata": {
    "collapsed": true
   },
   "outputs": [],
   "source": [
    "xx = np.linspace(0,1,100)\n",
    "pl.figure(figsize=(12,8))\n",
    "pl.subplot(2,2,1)\n",
    "plot(f, title=\"f, interpolate_vertex_values\")\n",
    "pl.ylim((-1,1))\n",
    "pl.subplot(2,2,3)\n",
    "plot(f.dx(0), title=\"f.dx(0), interpolate_vertex_values\")\n",
    "pl.ylim((-3,1))\n",
    "pl.subplot(2,2,2)\n",
    "pl.plot(xx, [f(x) for x in xx])\n",
    "pl.ylim((-1,1))\n",
    "pl.title(\"f, evaluated at pts\")\n",
    "pl.subplot(2,2,4)\n",
    "pl.plot(xx, [f.dx()(x) for x in xx])\n",
    "pl.title(\"f.dx(), evaluated at pts\")\n",
    "_ = pl.ylim((-1,1))"
   ]
  },
  {
   "cell_type": "code",
   "execution_count": null,
   "metadata": {
    "collapsed": true
   },
   "outputs": [],
   "source": [
    "#inspect.getfile(function.Lagrange)\n",
    "#Dx(f,0)(1)  # evaluation of derivatives not implemented in fenics yet"
   ]
  },
  {
   "cell_type": "code",
   "execution_count": null,
   "metadata": {
    "collapsed": true
   },
   "outputs": [],
   "source": [
    "f.vector().array(), f.dx().vector().array()"
   ]
  },
  {
   "cell_type": "code",
   "execution_count": null,
   "metadata": {
    "collapsed": true
   },
   "outputs": [],
   "source": [
    "f.compute_vertex_values(V.mesh())"
   ]
  },
  {
   "cell_type": "markdown",
   "metadata": {},
   "source": [
    "# Basis evaluation at mesh nodes\n",
    "\n",
    "Here we test that the basis functions of $V$ fulfill the \"delta property\"\n",
    "\n",
    "$$ \\partial_j \\phi_{\\alpha_i} ( v_{\\beta} ) = \\delta_{\\alpha \\beta} \\delta_{i j}, $$\n",
    "\n",
    "where $i, j \\in \\{0,1,...,d\\}, \\partial_0 \\ f = f$, and $\\alpha, \\beta$ run over the set of indices of vertices of the simplex in $\\mathbb{R}^d$."
   ]
  },
  {
   "cell_type": "code",
   "execution_count": null,
   "metadata": {
    "collapsed": true
   },
   "outputs": [],
   "source": [
    "def evaluate_basis_at_points(V, points):\n",
    "    \"\"\" A quick hack to test the delta property on mesh nodes.\n",
    "\n",
    "    Arguments:\n",
    "    ----------\n",
    "        V: FunctionSpace\n",
    "        xx: np.array of points\n",
    "    \"\"\"\n",
    "    assert V.ufl_element().family().lower() == 'hermite',\\\n",
    "           \"This is intended for Hermite elements only.\" \n",
    "    def highlight(s, num):\n",
    "        trafo = utils.yellow if np.isclose(num, 1.) else lambda x:x\n",
    "        print(trafo(s + \"%.2f\" % np.round(num, 2)))\n",
    "        \n",
    "    element = V.element()\n",
    "    mesh = V.mesh()\n",
    "    # Array to store the values\n",
    "    valdim = element.value_dimension(0)\n",
    "    assert valdim == 1, \"Real valued shape functions expected.\"\n",
    "    tdim = element.topological_dimension()\n",
    "    values = np.zeros(valdim, dtype=np.double)\n",
    "    derivs = np.zeros(valdim * tdim, dtype=np.double)\n",
    "    print(\"DOF, [derivative] @ [x, y] = value   (only if any of DOF or derivatives != 0)\\n\")\n",
    "    for xyz in points:\n",
    "        xyz = np.array(xyz, dtype=np.double)\n",
    "        pt = Point(xyz) \n",
    "        cell_id = mesh.bounding_box_tree().compute_first_entity_collision(pt)\n",
    "        cell = Cell(mesh, cell_id)\n",
    "        coordinate_dofs = cell.get_coordinate_dofs()\n",
    "\n",
    "        print(\"***************************\")\n",
    "        for i in range(element.space_dimension()): \n",
    "            element.evaluate_basis(i, values, xyz, coordinate_dofs, cell.orientation())\n",
    "            element.evaluate_basis_derivatives(i, 1, derivs, xyz, \n",
    "                                               coordinate_dofs, cell.orientation())\n",
    "            if not np.isclose(values, 0.) or not np.allclose(derivs, 0.):\n",
    "                highlight(\"%d   @ %s = \" % (i, xyz), values)\n",
    "                #else:\n",
    "                for j in range(tdim):\n",
    "                    highlight(\" ,%d @ %s = \" % (j, xyz), derivs[j])"
   ]
  },
  {
   "cell_type": "code",
   "execution_count": null,
   "metadata": {
    "collapsed": true,
    "scrolled": false
   },
   "outputs": [],
   "source": [
    "V = FunctionSpace(mesh, 'Hermite', 3)\n",
    "evaluate_basis_at_points(V, V.mesh().coordinates())"
   ]
  },
  {
   "cell_type": "code",
   "execution_count": null,
   "metadata": {
    "collapsed": true
   },
   "outputs": [],
   "source": [
    "_ = plot(V.mesh())"
   ]
  },
  {
   "cell_type": "markdown",
   "metadata": {},
   "source": [
    "# Projection\n",
    "\n",
    "Simple projection of a constant function already shows some weird stuff. I think `project()` is using the right norm (it should fetch it from FIAT's declaration that HER3 is in $H^1$), but maybe there's more to it."
   ]
  },
  {
   "cell_type": "code",
   "execution_count": null,
   "metadata": {
    "collapsed": true
   },
   "outputs": [],
   "source": [
    "f = Constant(2.0)\n",
    "u = project(f, V)\n",
    "print(\"f is a %s and u is a %s\" % (f.ufl_element(), u.ufl_element()))\n",
    "if TEST_DIMENSION == 1: # plot() needs dim > 1\n",
    "    xx = V.mesh().coordinates()\n",
    "    _ = pl.plot(xx, [u(x) for x in xx])\n",
    "else:\n",
    "    _ = plot(u, cmap='bone')"
   ]
  },
  {
   "cell_type": "markdown",
   "metadata": {},
   "source": [
    "Note how the projection oscillates when we are not at grid vertices. However total error seems to be within reasonable bounds for double precision ($10^{-13}$)"
   ]
  },
  {
   "cell_type": "code",
   "execution_count": null,
   "metadata": {
    "collapsed": true
   },
   "outputs": [],
   "source": [
    "if V.element().topological_dimension() == 2:  # This test only works in 2D\n",
    "    xy = V.mesh().coordinates()\n",
    "    grid_xx = xy[:11,0]\n",
    "    xx = np.arange(0, 1, 0.01)\n",
    "    y = 0.97\n",
    "    pl.plot(xx, [u(x, y) for x in xx])\n",
    "    pl.scatter(grid_xx, [u(x, y) for x in grid_xx], c='r')\n",
    "    _ = pl.xlim(-0.01,1.01)\n",
    "    \n",
    "    vals = u.compute_vertex_values(V.mesh())[:, None]\n",
    "    print(\"Total error: %.3g\" % np.linalg.norm(2. - vals))"
   ]
  },
  {
   "cell_type": "markdown",
   "metadata": {},
   "source": [
    "Here are a couple more examples. Notice that we first declare the function to be projected onto $V$ as living in another finite element space."
   ]
  },
  {
   "cell_type": "code",
   "execution_count": null,
   "metadata": {
    "collapsed": true,
    "scrolled": false
   },
   "outputs": [],
   "source": [
    "tdim = V.element().topological_dimension()\n",
    "if tdim == 1:\n",
    "    f = Expression(\"sqrt(x[0])*x[0]\", degree=3)\n",
    "    u = project(f, V)\n",
    "    vals = u.compute_vertex_values(V.mesh())[:, None]\n",
    "    coordinates = V.mesh().coordinates()\n",
    "    errors = vals - np.sqrt(coordinates)*coordinates\n",
    "    _ = pl.plot(coordinates, errors)\n",
    "elif tdim == 2:\n",
    "    f = Expression(\"x[0]*x[1]\", degree=3)\n",
    "    u = project(f, V)\n",
    "    vals = u.compute_vertex_values(V.mesh())\n",
    "    coordinates = V.mesh().coordinates()\n",
    "    errors = vals - coordinates.T[0] * coordinates.T[1]\n",
    "    plot(u, cmap='bone')\n",
    "    pl.scatter(coordinates.T[0], coordinates.T[1], c=errors, s=20, cmap='hot', linewidths=0)\n",
    "    pl.axes().set_aspect('equal')\n",
    "print(\"f is a %s and u is a %s\" % (f.ufl_element(), u.ufl_element()))\n",
    "print(\"Total error: %.3g\" % np.linalg.norm(errors))"
   ]
  },
  {
   "cell_type": "code",
   "execution_count": null,
   "metadata": {
    "collapsed": true
   },
   "outputs": [],
   "source": [
    "_ = pl.plot(errors)"
   ]
  },
  {
   "cell_type": "markdown",
   "metadata": {},
   "source": [
    "Here's another example, with a derivative. Notice that we need to explicitly declare the domain for $f$ or Expression won't be able to infer its dimension."
   ]
  },
  {
   "cell_type": "code",
   "execution_count": null,
   "metadata": {
    "collapsed": true
   },
   "outputs": [],
   "source": [
    "if TEST_DIMENSION == 2:\n",
    "    f = Expression(\"sqrt((x[0]-0.5)*(x[0]-0.5)+(x[1]-0.5)*(x[1]-0.5))\", degree=3, domain=u.ufl_domain())\n",
    "    df = f.dx()\n",
    "    u = project(df, V)\n",
    "    _ = plot(u, cmap='bone')\n",
    "    print(\"df is a %s and u is a %s\" % (df.ufl_element(), u.ufl_element()))"
   ]
  },
  {
   "cell_type": "markdown",
   "metadata": {},
   "source": [
    "A final example with Hermite shape functions (**FIXME** are these even right?)"
   ]
  },
  {
   "cell_type": "code",
   "execution_count": null,
   "metadata": {
    "collapsed": true
   },
   "outputs": [],
   "source": [
    "# These three are for the triangle {(-1,-1), (1,-1), (-1,1)}\n",
    "phi1 = Expression(\"(7/8)*x[0] + (7/8)*x[1] + (13/8)*x[0]*x[0] + (13/4)*x[0]*x[1]\"\n",
    "                  \"+ (13/8)*x[1]*x[1] + (1/4)*x[0]*x[0]*x[0] + (13/8)*x[0]*x[0]*x[1]\"\n",
    "                  \"+ (13/8)*x[0]*x[1]*x[1] + (1/4)*x[1]*x[1]*x[1]\", degree=3)\n",
    "phi2 = Expression(\"1/2 + (13/8)*x[0] + (7/8)*x[1] + (7/8)*x[0]*x[0] + (7/4)*x[0]*x[1]\"\n",
    "                  \"+ (7/8)*x[1]*x[1] - (1/4)*x[0]*x[0]*x[0] + (7/8)*x[0]*x[0]*x[1]\"\n",
    "                  \"+ (7/8)*x[0]*x[1]*x[1]\", degree=3)\n",
    "phi3 = Expression(\"1/2 + (7/8)*x[0] + (13/8)*x[1] + (7/8)*x[0]*x[0] + (7/4)*x[0]*x[1]\"\n",
    "                  \"+ (7/8)*x[1]*x[1] + (7/8)*x[0]*x[0]*x[1] + (7/8)*x[0]*x[1]*x[1]\"\n",
    "                  \"- (1/4)*x[1]*x[1]*x[1]\",\n",
    "                 degree=3)\n",
    "\n",
    "#mesh = refine(refine(refine(refine(UnitTriangleMesh()))))\n",
    "#elem = ufl.FiniteElement('Hermite', mesh.ufl_cell(), 3)\n",
    "#W = FunctionSpace(mesh, elem)\n",
    "\n",
    "v = project(phi1, V)\n",
    "_ = plot(v, cmap='bone')"
   ]
  },
  {
   "cell_type": "markdown",
   "metadata": {},
   "source": [
    "## Projecting from the same space\n",
    "\n",
    "Up until now, we've declared $f$ to live in a different space, then projected. If we take $f \\in V$, then a call to `project()` most likely tries to call `interpolate()` instead. This calls `create_function()` at some point, which requires handling of different transformations. After brute-hacking that to accept Hermite trafos, we hit the problem that `evaluate_dof()` (i.e. interpolation) cannot be implemented for Hermite elements because we are not handling the derivatives (yet), so I disabled it by throwing an exception:"
   ]
  },
  {
   "cell_type": "code",
   "execution_count": null,
   "metadata": {
    "collapsed": true
   },
   "outputs": [],
   "source": [
    "f = Expression(\"x[0]*x[0] + x[1]*x[1]\", element=V.ufl_element())\n",
    "# f.ufl_element() is FiniteElement('Hermite', triangle, 3)\n",
    "u = project(f, V)  # throws exception\n",
    "_ = plot(u, cmap='bone')\n",
    "print(\"f is a %s and u is a %s\" % (f.ufl_element(), u.ufl_element()))"
   ]
  },
  {
   "cell_type": "markdown",
   "metadata": {},
   "source": [
    "# Comparison to Lagrange elements\n",
    "\n",
    "We project the same function onto P3:"
   ]
  },
  {
   "cell_type": "code",
   "execution_count": null,
   "metadata": {
    "collapsed": true
   },
   "outputs": [],
   "source": [
    "W = FunctionSpace(V.mesh(), 'P', 3)\n",
    "f = Expression(\"x[0]*x[0] + x[1]*x[1]\", degree=3)\n",
    "u = project(f, W)\n",
    "_ = plot(u, cmap='bone')"
   ]
  },
  {
   "cell_type": "markdown",
   "metadata": {},
   "source": [
    "Projection of a constant looks much better than with Hermite elements:"
   ]
  },
  {
   "cell_type": "code",
   "execution_count": null,
   "metadata": {
    "collapsed": true,
    "scrolled": false
   },
   "outputs": [],
   "source": [
    "u = project(Constant(2.0), W)\n",
    "_ = plot(u, cmap='bone')"
   ]
  }
 ],
 "metadata": {
  "hide_input": false,
  "kernelspec": {
   "display_name": "Python 3",
   "language": "python",
   "name": "python3"
  },
  "language_info": {
   "codemirror_mode": {
    "name": "ipython",
    "version": 3
   },
   "file_extension": ".py",
   "mimetype": "text/x-python",
   "name": "python",
   "nbconvert_exporter": "python",
   "pygments_lexer": "ipython3",
   "version": "3.5.2"
  },
  "toc": {
   "colors": {
    "hover_highlight": "#DAA520",
    "running_highlight": "#FF0000",
    "selected_highlight": "#FFD700"
   },
   "moveMenuLeft": true,
   "nav_menu": {
    "height": "321px",
    "width": "254px"
   },
   "navigate_menu": true,
   "number_sections": true,
   "sideBar": false,
   "threshold": 4,
   "toc_cell": true,
   "toc_position": {
    "height": "470px",
    "left": "3px",
    "right": "20px",
    "top": "86px",
    "width": "344px"
   },
   "toc_section_display": "block",
   "toc_window_display": false,
   "widenNotebook": false
  }
 },
 "nbformat": 4,
 "nbformat_minor": 1
}
