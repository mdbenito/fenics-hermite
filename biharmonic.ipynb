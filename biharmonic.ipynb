{
 "cells": [
  {
   "cell_type": "markdown",
   "metadata": {},
   "source": [
    "# Setting\n",
    "\n",
    "This notebook solves the Biharmonic equation,\n",
    "\n",
    "$$\\nabla^4 u(x, y) = f(x, y)$$\n",
    "\n",
    "on the unit square with source f given by\n",
    "\n",
    "$$f(x, y) = 4 \\pi^4 \\sin(\\pi x) \\sin(\\pi y)$$\n",
    "\n",
    "and boundary conditions given by\n",
    "\n",
    "$$u(x, y)         = 0$$\n",
    "$$\\nabla^2 u(x, y) = 0$$\n",
    "\n",
    "using a discontinuous Galerkin formulation (interior penalty method)."
   ]
  },
  {
   "cell_type": "markdown",
   "metadata": {},
   "source": [
    "# Implementation"
   ]
  },
  {
   "cell_type": "code",
   "execution_count": null,
   "metadata": {
    "collapsed": false
   },
   "outputs": [],
   "source": [
    "from dolfin import *\n",
    "%matplotlib inline\n",
    "\n",
    "# Optimization options for the form compiler\n",
    "# MBD: Disable these until I've finished optimizedquadraturetransformer.py\n",
    "#parameters[\"form_compiler\"][\"cpp_optimize\"] = True\n",
    "#parameters[\"form_compiler\"][\"optimize\"] = True\n",
    "\n",
    "# Make mesh ghosted for evaluation of DG terms\n",
    "parameters[\"ghost_mode\"] = \"shared_facet\"\n",
    "\n",
    "def biharmonic(V):\n",
    "    \"\"\"\n",
    "    This code is based on DOLFIN's homonymous demo, \n",
    "    (C) 2009 Kristian B. Oelgaard. Modified by Anders Logg, 2011\n",
    "    \n",
    "        V: FunctionSpace.\n",
    "    \"\"\"\n",
    "    \n",
    "    # Create mesh and define function space\n",
    "    mesh = V.mesh()\n",
    "\n",
    "    # Define Dirichlet boundary\n",
    "    class DirichletBoundary(SubDomain):\n",
    "        def inside(self, x, on_boundary):\n",
    "            return on_boundary\n",
    "\n",
    "    class Source(Expression):\n",
    "        def eval(self, values, x):\n",
    "            values[0] = 4.0*pi**4*sin(pi*x[0])*sin(pi*x[1])\n",
    "\n",
    "    # Define boundary condition\n",
    "    u0 = project(Constant(0.0), V)  # MBD: Need this for Hermite (interpolation doesn't work)\n",
    "    bc = DirichletBC(V, u0, DirichletBoundary())\n",
    "\n",
    "    # Define trial and test functions\n",
    "    u = TrialFunction(V)\n",
    "    v = TestFunction(V)\n",
    "\n",
    "    # Define normal component, mesh size and right-hand side\n",
    "    h = CellSize(mesh)\n",
    "    h_avg = (h('+') + h('-'))/2.0\n",
    "    n = FacetNormal(mesh)\n",
    "    f = Source(degree=3)\n",
    "\n",
    "    # Penalty parameter\n",
    "    alpha = Constant(8.0)\n",
    "\n",
    "    # Define bilinear form\n",
    "    a = inner(div(grad(u)), div(grad(v)))*dx \\\n",
    "      - inner(avg(div(grad(u))), jump(grad(v), n))*dS \\\n",
    "      - inner(jump(grad(u), n), avg(div(grad(v))))*dS \\\n",
    "      + alpha/h_avg*inner(jump(grad(u),n), jump(grad(v),n))*dS\n",
    "\n",
    "    # Define linear form\n",
    "    L = f*v*dx\n",
    "    \n",
    "    # Solve variational problem\n",
    "    u = Function(V)\n",
    "    #%debug -b /home/fenics/local/lib/python2.7/site-packages/ffc/quadrature/quadraturetransformerbase.py:347 solve(a == L, u, bc)\n",
    "    solve(a == L, u, bc)\n",
    "    \n",
    "    return u"
   ]
  },
  {
   "cell_type": "markdown",
   "metadata": {},
   "source": [
    "# Results"
   ]
  },
  {
   "cell_type": "code",
   "execution_count": null,
   "metadata": {
    "collapsed": false
   },
   "outputs": [],
   "source": [
    "W = FunctionSpace(UnitSquareMesh(32, 32), \"Lagrange\", 3)\n",
    "good = biharmonic(W)"
   ]
  },
  {
   "cell_type": "code",
   "execution_count": null,
   "metadata": {
    "collapsed": false
   },
   "outputs": [],
   "source": [
    "_ = plot(good, title=\"Lagrange elements\", cmap='hot')"
   ]
  },
  {
   "cell_type": "code",
   "execution_count": null,
   "metadata": {
    "collapsed": false
   },
   "outputs": [],
   "source": [
    "V = FunctionSpace(UnitSquareMesh(32, 32), \"Hermite\", 3)\n",
    "bad = biharmonic(V)"
   ]
  },
  {
   "cell_type": "code",
   "execution_count": null,
   "metadata": {
    "collapsed": false
   },
   "outputs": [],
   "source": [
    "_ = plot(bad, title=\"Hermite elements\", cmap='hot')"
   ]
  },
  {
   "cell_type": "code",
   "execution_count": null,
   "metadata": {
    "collapsed": false
   },
   "outputs": [],
   "source": [
    "good.vector().min(), good.vector().max(), bad.vector().min(), bad.vector().max()"
   ]
  },
  {
   "cell_type": "code",
   "execution_count": null,
   "metadata": {
    "collapsed": false
   },
   "outputs": [],
   "source": [
    "z = project(good-bad, V)\n",
    "_ = plot(z, title=\"Difference\", cmap='bone')"
   ]
  },
  {
   "cell_type": "code",
   "execution_count": null,
   "metadata": {
    "collapsed": false
   },
   "outputs": [],
   "source": [
    "%matplotlib inline\n",
    "import matplotlib.pyplot as pl\n",
    "import numpy as np"
   ]
  },
  {
   "cell_type": "code",
   "execution_count": null,
   "metadata": {
    "collapsed": false
   },
   "outputs": [],
   "source": [
    "xx = np.arange(0, 1, 0.01)\n",
    "error_threshold = 1.0\n",
    "for y in np.linspace(0.1,0.9,4):\n",
    "    #pl.plot(xx, [good(x, y) for x in xx], label='good')\n",
    "    #pl.plot(xx, [bad(x, y ) for x in xx], label='bad')\n",
    "    pl.plot(xx, [min(error_threshold, np.abs(z(x,y)/good(x,y))) for x in xx],\n",
    "            label='diff@%.1f' % y)\n",
    "pl.title(\"Relative error (capped at %.1f) at multiple ordinates\" % error_threshold)\n",
    "_ = pl.legend()"
   ]
  },
  {
   "cell_type": "code",
   "execution_count": null,
   "metadata": {
    "collapsed": true
   },
   "outputs": [],
   "source": [
    "# Save solution to file\n",
    "file = File(\"biharmonic-hermite.pvd\")\n",
    "file << bad"
   ]
  },
  {
   "cell_type": "code",
   "execution_count": null,
   "metadata": {
    "collapsed": true
   },
   "outputs": [],
   "source": [
    "#file = File(\"biharmonic-lagrange.pvd\")\n",
    "file << good"
   ]
  }
 ],
 "metadata": {
  "kernelspec": {
   "display_name": "Python 2",
   "language": "python",
   "name": "python2"
  },
  "language_info": {
   "codemirror_mode": {
    "name": "ipython",
    "version": 2
   },
   "file_extension": ".py",
   "mimetype": "text/x-python",
   "name": "python",
   "nbconvert_exporter": "python",
   "pygments_lexer": "ipython2",
   "version": "2.7.12"
  }
 },
 "nbformat": 4,
 "nbformat_minor": 1
}
