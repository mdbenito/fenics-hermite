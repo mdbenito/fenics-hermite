{
 "cells": [
  {
   "cell_type": "markdown",
   "metadata": {},
   "source": [
    "This demo program solves the Biharmonic equation,\n",
    "\n",
    "$$\\nabla^4 u(x, y) = f(x, y)$$\n",
    "\n",
    "on the unit square with source f given by\n",
    "\n",
    "$$f(x, y) = 4 \\pi^4 \\sin(\\pi x) \\sin(\\pi y)$$\n",
    "\n",
    "and boundary conditions given by\n",
    "\n",
    "$$u(x, y)         = 0$$\n",
    "$$\\nabla^2 u(x, y) = 0$$\n",
    "\n",
    "using a discontinuous Galerkin formulation (interior penalty method)."
   ]
  },
  {
   "cell_type": "code",
   "execution_count": null,
   "metadata": {
    "collapsed": false
   },
   "outputs": [],
   "source": [
    "# Copyright (C) 2009 Kristian B. Oelgaard\n",
    "#\n",
    "# This file is part of DOLFIN.\n",
    "#\n",
    "# DOLFIN is free software: you can redistribute it and/or modify\n",
    "# it under the terms of the GNU Lesser General Public License as published by\n",
    "# the Free Software Foundation, either version 3 of the License, or\n",
    "# (at your option) any later version.\n",
    "#\n",
    "# DOLFIN is distributed in the hope that it will be useful,\n",
    "# but WITHOUT ANY WARRANTY; without even the implied warranty of\n",
    "# MERCHANTABILITY or FITNESS FOR A PARTICULAR PURPOSE. See the\n",
    "# GNU Lesser General Public License for more details.\n",
    "#\n",
    "# You should have received a copy of the GNU Lesser General Public License\n",
    "# along with DOLFIN. If not, see <http://www.gnu.org/licenses/>.\n",
    "#\n",
    "# Modified by Anders Logg, 2011\n",
    "#\n",
    "# First added:  2009-06-26\n",
    "# Last changed: 2012-11-12\n",
    "\n",
    "# Begin demo\n",
    "\n",
    "from dolfin import *\n",
    "%matplotlib inline\n",
    "\n",
    "# Optimization options for the form compiler\n",
    "# MBD: Disable these until I've finished optimizedquadraturetransformer.py\n",
    "#parameters[\"form_compiler\"][\"cpp_optimize\"] = True\n",
    "#parameters[\"form_compiler\"][\"optimize\"] = True\n",
    "\n",
    "# Make mesh ghosted for evaluation of DG terms\n",
    "parameters[\"ghost_mode\"] = \"shared_facet\"\n",
    "\n",
    "# Create mesh and define function space\n",
    "mesh = UnitSquareMesh(32, 32)\n",
    "V = FunctionSpace(mesh, \"Lagrange\", 3)\n",
    "\n",
    "# Define Dirichlet boundary\n",
    "class DirichletBoundary(SubDomain):\n",
    "    def inside(self, x, on_boundary):\n",
    "        return on_boundary\n",
    "\n",
    "class Source(Expression):\n",
    "    def eval(self, values, x):\n",
    "        values[0] = 4.0*pi**4*sin(pi*x[0])*sin(pi*x[1])\n",
    "\n",
    "# Define boundary condition\n",
    "u0 = project(Constant(0.0), V)  # MBD: Need this for Hermite (interpolation doesn't work)\n",
    "bc = DirichletBC(V, u0, DirichletBoundary())\n",
    "\n",
    "# Define trial and test functions\n",
    "u = TrialFunction(V)\n",
    "v = TestFunction(V)\n",
    "\n",
    "# Define normal component, mesh size and right-hand side\n",
    "h = CellSize(mesh)\n",
    "h_avg = (h('+') + h('-'))/2.0\n",
    "n = FacetNormal(mesh)\n",
    "f = Source(degree=3)\n",
    "\n",
    "# Penalty parameter\n",
    "alpha = Constant(8.0)\n",
    "\n",
    "# Define bilinear form\n",
    "a = inner(div(grad(u)), div(grad(v)))*dx \\\n",
    "  - inner(avg(div(grad(u))), jump(grad(v), n))*dS \\\n",
    "  - inner(jump(grad(u), n), avg(div(grad(v))))*dS \\\n",
    "  + alpha/h_avg*inner(jump(grad(u),n), jump(grad(v),n))*dS\n",
    "\n",
    "# Define linear form\n",
    "L = f*v*dx"
   ]
  },
  {
   "cell_type": "code",
   "execution_count": null,
   "metadata": {
    "collapsed": false,
    "scrolled": false
   },
   "outputs": [],
   "source": [
    "# Solve variational problem\n",
    "u = Function(V)\n",
    "#%debug -b /home/fenics/local/lib/python2.7/site-packages/ffc/quadrature/quadraturetransformerbase.py:347 solve(a == L, u, bc)\n",
    "solve(a == L, u, bc)"
   ]
  },
  {
   "cell_type": "markdown",
   "metadata": {},
   "source": [
    "## Results"
   ]
  },
  {
   "cell_type": "code",
   "execution_count": null,
   "metadata": {
    "collapsed": false
   },
   "outputs": [],
   "source": [
    "_ = plot(u, title=\"Lagrange elements\")"
   ]
  },
  {
   "cell_type": "code",
   "execution_count": null,
   "metadata": {
    "collapsed": true
   },
   "outputs": [],
   "source": [
    "good = u.copy()"
   ]
  },
  {
   "cell_type": "markdown",
   "metadata": {},
   "source": [
    "**Repeat** the stuff above but using \n",
    "\n",
    "```python\n",
    "V = FunctionSpace(mesh, \"Hermite\", 3)\n",
    "```\n",
    "\n",
    "to obtain:"
   ]
  },
  {
   "cell_type": "code",
   "execution_count": null,
   "metadata": {
    "collapsed": false
   },
   "outputs": [],
   "source": [
    "_ = plot(u, title=\"Hermite elements\")"
   ]
  },
  {
   "cell_type": "code",
   "execution_count": null,
   "metadata": {
    "collapsed": false
   },
   "outputs": [],
   "source": [
    "bad = u.copy()"
   ]
  },
  {
   "cell_type": "code",
   "execution_count": null,
   "metadata": {
    "collapsed": false
   },
   "outputs": [],
   "source": [
    "good.vector().min(), good.vector().max(), bad.vector().min(), bad.vector().max()"
   ]
  },
  {
   "cell_type": "code",
   "execution_count": null,
   "metadata": {
    "collapsed": false
   },
   "outputs": [],
   "source": [
    "z = project(good-bad, V)"
   ]
  },
  {
   "cell_type": "code",
   "execution_count": null,
   "metadata": {
    "collapsed": false
   },
   "outputs": [],
   "source": [
    "_ = plot(z, title=\"Difference\")"
   ]
  },
  {
   "cell_type": "code",
   "execution_count": null,
   "metadata": {
    "collapsed": false
   },
   "outputs": [],
   "source": [
    "%matplotlib inline\n",
    "import matplotlib.pyplot as pl\n",
    "import numpy as np"
   ]
  },
  {
   "cell_type": "code",
   "execution_count": null,
   "metadata": {
    "collapsed": false
   },
   "outputs": [],
   "source": [
    "_ = pl.plot([good(x,0.5) for x in np.arange(0,1,0.01)])\n",
    "_ = pl.plot([bad(x,0.5)*3 for x in np.arange(0,1,0.01)])\n",
    "#_ = pl.plot([z(x,0.5) for x in np.arange(0,1,0.01)])"
   ]
  },
  {
   "cell_type": "code",
   "execution_count": null,
   "metadata": {
    "collapsed": true
   },
   "outputs": [],
   "source": [
    "# Save solution to file\n",
    "file = File(\"biharmonic-hermite.pvd\")\n",
    "file << bad"
   ]
  },
  {
   "cell_type": "code",
   "execution_count": null,
   "metadata": {
    "collapsed": true
   },
   "outputs": [],
   "source": [
    "#file = File(\"biharmonic-lagrange.pvd\")\n",
    "file << good"
   ]
  }
 ],
 "metadata": {
  "kernelspec": {
   "display_name": "Python 2",
   "language": "python",
   "name": "python2"
  },
  "language_info": {
   "codemirror_mode": {
    "name": "ipython",
    "version": 2
   },
   "file_extension": ".py",
   "mimetype": "text/x-python",
   "name": "python",
   "nbconvert_exporter": "python",
   "pygments_lexer": "ipython2",
   "version": "2.7.12"
  }
 },
 "nbformat": 4,
 "nbformat_minor": 1
}
