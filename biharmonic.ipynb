{
 "cells": [
  {
   "cell_type": "markdown",
   "metadata": {},
   "source": [
    "# Setting\n",
    "\n",
    "This notebook solves the Biharmonic equation,\n",
    "\n",
    "$$\\nabla^4 u(x, y) = f(x, y)$$\n",
    "\n",
    "on the unit square with source f given by\n",
    "\n",
    "$$f(x, y) = 4 \\pi^4 \\sin(\\pi x) \\sin(\\pi y)$$\n",
    "\n",
    "and boundary conditions given by\n",
    "\n",
    "$$u(x, y)         = 0$$\n",
    "$$\\nabla^2 u(x, y) = 0$$\n",
    "\n",
    "using a discontinuous Galerkin formulation (interior penalty method)."
   ]
  },
  {
   "cell_type": "markdown",
   "metadata": {},
   "source": [
    "# Implementation"
   ]
  },
  {
   "cell_type": "code",
   "execution_count": null,
   "metadata": {
    "collapsed": true
   },
   "outputs": [],
   "source": [
    "from dolfin import *\n",
    "%matplotlib inline\n",
    "import nbimporter\n",
    "from boundary import apply_dirichlet_hermite\n",
    "from dofs import list_hermite_dofs\n",
    "import matplotlib.pyplot as pl\n",
    "import numpy as np\n",
    "\n",
    "# Optimization options for the form compiler\n",
    "# MBD: Disable these until I've finished optimizedquadraturetransformer.py\n",
    "#parameters[\"form_compiler\"][\"cpp_optimize\"] = True\n",
    "#parameters[\"form_compiler\"][\"optimize\"] = True\n",
    "\n",
    "# Make mesh ghosted for evaluation of DG terms\n",
    "parameters[\"ghost_mode\"] = \"shared_facet\"\n",
    "\n",
    "def biharmonic(V):\n",
    "    \"\"\"\n",
    "    This code is based on DOLFIN's homonymous demo, \n",
    "    (C) 2009 Kristian B. Oelgaard. Modified by Anders Logg, 2011\n",
    "    \n",
    "        V: FunctionSpace.\n",
    "    \"\"\"\n",
    "    \n",
    "    # Create mesh and define function space\n",
    "    mesh = V.mesh()\n",
    "\n",
    "    # Define Dirichlet boundary\n",
    "    class DirichletBoundary(SubDomain):\n",
    "        def inside(self, x, on_boundary):\n",
    "            return on_boundary\n",
    "\n",
    "    class Source(Expression):\n",
    "        def eval(self, values, x):\n",
    "            values[0] = 4.0*pi**4*sin(pi*x[0])*sin(pi*x[1])\n",
    "\n",
    "    # Define boundary condition\n",
    "    u0 = project(Constant(0.0), V)  # MBD: Need this for Hermite (interpolation doesn't work)\n",
    "    bc = DirichletBC(V, u0, DirichletBoundary())\n",
    "\n",
    "    # Define trial and test functions\n",
    "    u = TrialFunction(V)\n",
    "    v = TestFunction(V)\n",
    "\n",
    "    # Define normal component, mesh size and right-hand side\n",
    "    h = CellSize(mesh)\n",
    "    h_avg = (h('+') + h('-'))/2.0\n",
    "    n = FacetNormal(mesh)\n",
    "    f = Source(degree=3)\n",
    "\n",
    "    # Penalty parameter\n",
    "    alpha = Constant(8.0)\n",
    "\n",
    "    # Define bilinear form\n",
    "    a = inner(div(grad(u)), div(grad(v)))*dx \\\n",
    "      - inner(avg(div(grad(u))), jump(grad(v), n))*dS \\\n",
    "      - inner(jump(grad(u), n), avg(div(grad(v))))*dS \\\n",
    "      + alpha/h_avg*inner(jump(grad(u),n), jump(grad(v),n))*dS\n",
    "\n",
    "    # Define linear form\n",
    "    L = f*v*dx\n",
    "    \n",
    "    # Solve variational problem\n",
    "    u = Function(V)\n",
    "    if V.ufl_element().family().lower() == 'hermite':\n",
    "        A = assemble(a)\n",
    "        b = assemble(L)\n",
    "        apply_dirichlet_hermite(A, b, bc)\n",
    "        solve(A, u.vector(), b)\n",
    "    else:\n",
    "        #%debug -b /home/fenics/local/lib/python2.7/site-packages/ffc/quadrature/quadraturetransformerbase.py:347 solve(a == L, u, bc)\n",
    "        solve(a == L, u, bc)\n",
    "    \n",
    "    return u"
   ]
  },
  {
   "cell_type": "markdown",
   "metadata": {},
   "source": [
    "# Results"
   ]
  },
  {
   "cell_type": "code",
   "execution_count": null,
   "metadata": {
    "collapsed": true
   },
   "outputs": [],
   "source": [
    "W = FunctionSpace(UnitSquareMesh(15, 15, 'crossed'), \"Lagrange\", 3)\n",
    "good = biharmonic(W)"
   ]
  },
  {
   "cell_type": "code",
   "execution_count": null,
   "metadata": {
    "collapsed": true
   },
   "outputs": [],
   "source": [
    "_ = plot(good, title=\"Lagrange elements\", cmap='hot')"
   ]
  },
  {
   "cell_type": "code",
   "execution_count": null,
   "metadata": {
    "collapsed": true
   },
   "outputs": [],
   "source": [
    "V = FunctionSpace(W.mesh(), \"Hermite\", 3)\n",
    "bad = biharmonic(V)"
   ]
  },
  {
   "cell_type": "code",
   "execution_count": null,
   "metadata": {
    "collapsed": true
   },
   "outputs": [],
   "source": [
    "_ = plot(bad, title=\"Hermite elements\", cmap='hot')"
   ]
  },
  {
   "cell_type": "markdown",
   "metadata": {},
   "source": [
    "We compute now the pointwise relative error, defined as the quotient $\\frac{u_h - u_l}{1+u_l}$:"
   ]
  },
  {
   "cell_type": "code",
   "execution_count": null,
   "metadata": {
    "collapsed": true
   },
   "outputs": [],
   "source": [
    "pl.figure(figsize=(12,6))\n",
    "xx = np.arange(0, 1, 0.01)\n",
    "for y in np.linspace(0.1,0.9,4):\n",
    "    pl.plot(xx, [np.abs((z(x,y)))/(1+np.abs(good(x,y))) for x in xx],\n",
    "            label='diff@%.1f' % y)\n",
    "pl.title(\"Relative error at several ordinates\")\n",
    "_ = pl.legend()"
   ]
  },
  {
   "cell_type": "markdown",
   "metadata": {},
   "source": [
    "The simple difference is strange:"
   ]
  },
  {
   "cell_type": "code",
   "execution_count": null,
   "metadata": {
    "collapsed": true
   },
   "outputs": [],
   "source": [
    "xx = np.linspace(0.,1,100)\n",
    "pl.figure(figsize=(12,12))\n",
    "for y in np.linspace(0.3,0.6,3):\n",
    "    pl.plot(xx, [bad(x, y) - good(x, y) for x in xx], label='@%.1f' % y)\n",
    "pl.title(\"$u_h - u_l$\")\n",
    "_ = pl.legend()"
   ]
  },
  {
   "cell_type": "markdown",
   "metadata": {},
   "source": [
    "The maximal difference is indeed around 0.4%:"
   ]
  },
  {
   "cell_type": "code",
   "execution_count": null,
   "metadata": {
    "collapsed": true
   },
   "outputs": [],
   "source": [
    "gv = good.vector().array()\n",
    "bv = bad.vector().array()\n",
    "lagrange_dofs = list(set(range(V.dim())) - set(list_hermite_dofs(V)))\n",
    "(gv.min(), gv.max(), bv[lagrange_dofs].min(), bv[lagrange_dofs].max())"
   ]
  },
  {
   "cell_type": "markdown",
   "metadata": {},
   "source": [
    "The following plot is weird:"
   ]
  },
  {
   "cell_type": "code",
   "execution_count": null,
   "metadata": {
    "collapsed": true
   },
   "outputs": [],
   "source": [
    "z = project(good-bad, V)\n",
    "print(norm(z))\n",
    "_ = plot(z, title=\"Difference\", cmap='bone')"
   ]
  },
  {
   "cell_type": "markdown",
   "metadata": {},
   "source": [
    "Save the solutions to files:"
   ]
  },
  {
   "cell_type": "code",
   "execution_count": null,
   "metadata": {
    "collapsed": true
   },
   "outputs": [],
   "source": [
    "File(\"biharmonic-hermite.pvd\") << bad\n",
    "File(\"biharmonic-lagrange.pvd\") << good"
   ]
  }
 ],
 "metadata": {
  "hide_input": false,
  "kernelspec": {
   "display_name": "Python 3",
   "language": "python",
   "name": "python3"
  },
  "language_info": {
   "codemirror_mode": {
    "name": "ipython",
    "version": 3
   },
   "file_extension": ".py",
   "mimetype": "text/x-python",
   "name": "python",
   "nbconvert_exporter": "python",
   "pygments_lexer": "ipython3",
   "version": "3.5.2"
  },
  "toc": {
   "colors": {
    "hover_highlight": "#DAA520",
    "running_highlight": "#FF0000",
    "selected_highlight": "#FFD700"
   },
   "moveMenuLeft": true,
   "nav_menu": {
    "height": "70px",
    "width": "254px"
   },
   "navigate_menu": true,
   "number_sections": true,
   "sideBar": true,
   "threshold": 4,
   "toc_cell": false,
   "toc_section_display": "block",
   "toc_window_display": false,
   "widenNotebook": false
  }
 },
 "nbformat": 4,
 "nbformat_minor": 1
}
