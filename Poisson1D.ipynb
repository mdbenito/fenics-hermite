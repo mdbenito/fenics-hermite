{
 "cells": [
  {
   "cell_type": "markdown",
   "metadata": {},
   "source": [
    "# Poisson 1D\n",
    "\n",
    "This notebook solves the linear problem:\n",
    "\n",
    "$$ -u(x)'' = f(x) \\text{ in } \\Omega = [-1,1]$$ \n",
    "\n",
    "with\n",
    "\n",
    "$$ f(x) = \\frac{\\pi^2}{4} \\cos{\\left(\\frac{\\pi x}{2}\\right)} $$\n",
    "\n",
    "and homogeneous Dirichlet boundary conditions using Hermite elements. The purpose is to find what the issues are while setting Dirichlet BCs and fix them. See [Manually rebuilding the mass matrix](#Manually-rebuilding-the-mass-matrix)."
   ]
  },
  {
   "cell_type": "code",
   "execution_count": null,
   "metadata": {
    "collapsed": true
   },
   "outputs": [],
   "source": [
    "from dolfin import *\n",
    "import numpy as np\n",
    "import matplotlib.pyplot as pl\n",
    "import FIAT\n",
    "%matplotlib inline\n",
    "u_exact = lambda x: np.cos(np.pi*x/2)"
   ]
  },
  {
   "cell_type": "code",
   "execution_count": null,
   "metadata": {
    "collapsed": false
   },
   "outputs": [],
   "source": [
    "def poisson1d(V):\n",
    "    deg = V.ufl_element().degree()\n",
    "    def boundary(x):\n",
    "        return x[0] < -1 + DOLFIN_EPS or x[0] > 1.0 - DOLFIN_EPS\n",
    "\n",
    "    # Need to project to work around lack of evaluate_dofs() for Hermite\n",
    "    u0 = project(Constant(0.0), V)\n",
    "    bc = DirichletBC(V, u0, boundary)\n",
    "\n",
    "    u = TrialFunction(V)\n",
    "    v = TestFunction(V)\n",
    "    f = Expression(\"pi*pi*cos(pi*x[0]/2)/4\", degree=deg)\n",
    "\n",
    "    a = u.dx(0)*v.dx(0)*dx\n",
    "    L = f*v*dx\n",
    "\n",
    "    u = Function(V)\n",
    "    solve(a == L, u, bc)\n",
    "    return u"
   ]
  },
  {
   "cell_type": "code",
   "execution_count": null,
   "metadata": {
    "collapsed": false
   },
   "outputs": [],
   "source": [
    "#mesh = UnitIntervalMesh(2)\n",
    "#MeshTransformation.translate(mesh, Point(1.0))\n",
    "mesh = IntervalMesh(2, -1, 1)\n",
    "\n",
    "V = FunctionSpace(mesh, \"Lagrange\", 3)\n",
    "u = poisson1d(V)"
   ]
  },
  {
   "cell_type": "code",
   "execution_count": null,
   "metadata": {
    "collapsed": false
   },
   "outputs": [],
   "source": [
    "xx = np.linspace(-1, 1, 100)\n",
    "pl.plot(xx, [u(x) for x in xx], label='$u_{l2}$')\n",
    "pl.plot(xx, [u_exact(x) for x in xx], label='$u_{ex}$')\n",
    "pl.ylim((0,1.1))\n",
    "_ = pl.legend()"
   ]
  },
  {
   "cell_type": "markdown",
   "metadata": {},
   "source": [
    "# Using Hermite elements\n",
    "\n",
    "Naively applying Dirichlet boundary conditions fails because first derivatives are set to 0 when `DirichletBC` clears all the rows of dofs of nodes at the boundary, since this includes Hermite dofs associated to partial derivatives."
   ]
  },
  {
   "cell_type": "code",
   "execution_count": null,
   "metadata": {
    "collapsed": false
   },
   "outputs": [],
   "source": [
    "V = FunctionSpace(mesh, \"Hermite\", 3)\n",
    "u = poisson1d(V)\n",
    "\n",
    "xx = np.linspace(-1, 1, 100)\n",
    "pl.plot(xx, [u(x) for x in xx], label='$u_h$')\n",
    "pl.plot(xx, [u_exact(x) for x in xx], label='$u_e$')\n",
    "pl.ylim((0, 1.1))\n",
    "_ = pl.legend()"
   ]
  },
  {
   "cell_type": "markdown",
   "metadata": {},
   "source": [
    "## Manually rebuilding the stiffness matrix\n",
    "\n",
    "The solution is to manually restore the relevant rows of the assembled matrix to their values before `DirichletBC.apply()` emptied them. The code has been factored out into [boundary.ipynb](boundary.ipynb).\n",
    "\n",
    "Analogously, the way one applies Neumann boundary conditions has to be adapted in e.g. 4th order problems like the beam equation: in this case Neumann bcs are essential and are included in the function space by setting the relevant dofs to the desired values. See [Euler-Bernoulli.ipynb](Euler-Bernoulli.ipynb)."
   ]
  },
  {
   "cell_type": "code",
   "execution_count": null,
   "metadata": {
    "collapsed": false
   },
   "outputs": [],
   "source": [
    "import nbimporter\n",
    "from boundary import apply_dirichlet_hermite #, plot_hermite_dofs\n",
    "from utils import fnor, one_arg\n",
    "\n",
    "def poisson1d_hermite(V):\n",
    "    \"\"\"\n",
    "        V: FunctionSpace.\n",
    "    \"\"\"\n",
    "    assert V.ufl_element().family() == 'Hermite', 'Please pay attention.'\n",
    "\n",
    "    _left = V.mesh().coordinates().min()\n",
    "    _right = V.mesh().coordinates().max()\n",
    "\n",
    "    def left(x):\n",
    "        return near(x[0], _left)\n",
    "    def right(x):\n",
    "        return near(x[0], _right)\n",
    "\n",
    "    # Need to project to work around lack of evaluate_dofs() for Hermite\n",
    "    u0 = project(Constant(0.0), V)\n",
    "    bc = DirichletBC(V, u0, one_arg(fnor(left,right)))\n",
    "    #plot_hermite_dofs(bc)\n",
    "\n",
    "    u = TrialFunction(V)\n",
    "    v = TestFunction(V)\n",
    "    f = Expression(\"pi*pi*cos(pi*x[0]/2)/4\",\n",
    "                   degree=V.ufl_element().degree())\n",
    "\n",
    "    a = u.dx(0)*v.dx(0)*dx\n",
    "    F = f*v*dx\n",
    "\n",
    "    A = assemble(a)\n",
    "    b = assemble(F)\n",
    "\n",
    "    apply_dirichlet_hermite(A, b, bc)\n",
    "\n",
    "    u = Function(V)\n",
    "    U = u.vector()\n",
    "    solve(A, U, b)\n",
    "    return u"
   ]
  },
  {
   "cell_type": "code",
   "execution_count": null,
   "metadata": {
    "collapsed": false
   },
   "outputs": [],
   "source": [
    "mesh = IntervalMesh(100, -1, 1)\n",
    "V = FunctionSpace(mesh, \"Hermite\", 3)\n",
    "u = poisson1d_hermite(V)"
   ]
  },
  {
   "cell_type": "code",
   "execution_count": null,
   "metadata": {
    "collapsed": false
   },
   "outputs": [],
   "source": [
    "xx = mesh.coordinates()\n",
    "pl.plot(xx, [u(x) for x in xx], label='$u_h$')\n",
    "pl.plot(xx, [u_exact(x) for x in xx], label='$u_e$')\n",
    "pl.ylim((0, 1.1))\n",
    "_ = pl.legend()"
   ]
  }
 ],
 "metadata": {
  "kernelspec": {
   "display_name": "Python 2",
   "language": "python",
   "name": "python2"
  },
  "language_info": {
   "codemirror_mode": {
    "name": "ipython",
    "version": 2
   },
   "file_extension": ".py",
   "mimetype": "text/x-python",
   "name": "python",
   "nbconvert_exporter": "python",
   "pygments_lexer": "ipython2",
   "version": "2.7.12"
  }
 },
 "nbformat": 4,
 "nbformat_minor": 1
}
