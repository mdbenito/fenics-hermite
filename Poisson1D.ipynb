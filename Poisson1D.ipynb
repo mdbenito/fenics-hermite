{
 "cells": [
  {
   "cell_type": "markdown",
   "metadata": {},
   "source": [
    "# Poisson 1D\n",
    "\n",
    "This notebook solves the linear problem:\n",
    "\n",
    "$$ -u(x)'' = f(x) \\text{ in } \\Omega = [-1,1]$$ \n",
    "\n",
    "with\n",
    "\n",
    "$$ f(x) = \\frac{\\pi^2}{4} \\cos{\\left(\\frac{\\pi x}{2}\\right)} $$\n",
    "\n",
    "and homogeneous Dirichlet boundary conditions using Hermite elements. The purpose is to find what the issues are while setting Dirichlet BCs and fix them. See [Manually rebuilding the mass matrix](#Manually-rebuilding-the-mass-matrix)."
   ]
  },
  {
   "cell_type": "code",
   "execution_count": null,
   "metadata": {
    "collapsed": true
   },
   "outputs": [],
   "source": [
    "from dolfin import *\n",
    "import numpy as np\n",
    "import matplotlib.pyplot as pl\n",
    "import FIAT\n",
    "%matplotlib inline\n",
    "u_exact = lambda x: np.cos(np.pi*x/2)"
   ]
  },
  {
   "cell_type": "code",
   "execution_count": null,
   "metadata": {
    "collapsed": false
   },
   "outputs": [],
   "source": [
    "def poisson1d(V):\n",
    "    deg = V.ufl_element().degree()\n",
    "    def boundary(x):\n",
    "        return x[0] < -1 + DOLFIN_EPS or x[0] > 1.0 - DOLFIN_EPS\n",
    "\n",
    "    # Need to project to work around lack of evaluate_dofs() for Hermite\n",
    "    u0 = project(Constant(0.0), V)\n",
    "    bc = DirichletBC(V, u0, boundary)\n",
    "\n",
    "    u = TrialFunction(V)\n",
    "    v = TestFunction(V)\n",
    "    f = Expression(\"pi*pi*cos(pi*x[0]/2)/4\", degree=deg)\n",
    "\n",
    "    a = u.dx(0)*v.dx(0)*dx\n",
    "    L = f*v*dx\n",
    "\n",
    "    u = Function(V)\n",
    "    solve(a == L, u, bc)\n",
    "    return u"
   ]
  },
  {
   "cell_type": "code",
   "execution_count": null,
   "metadata": {
    "collapsed": true
   },
   "outputs": [],
   "source": [
    "#mesh = UnitIntervalMesh(2)\n",
    "#MeshTransformation.translate(mesh, Point(1.0))\n",
    "mesh = IntervalMesh(2, -1, 1)\n",
    "\n",
    "V = FunctionSpace(mesh, \"Lagrange\", 3)\n",
    "u = poisson1d(V)"
   ]
  },
  {
   "cell_type": "code",
   "execution_count": null,
   "metadata": {
    "collapsed": false
   },
   "outputs": [],
   "source": [
    "xx = np.linspace(-1, 1, 100)\n",
    "pl.plot(xx, [u(x) for x in xx], label='$u_{l2}$')\n",
    "pl.plot(xx, [u_exact(x) for x in xx], label='$u_{ex}$')\n",
    "pl.ylim((0,1.1))\n",
    "_ = pl.legend()"
   ]
  },
  {
   "cell_type": "markdown",
   "metadata": {},
   "source": [
    "# Using Hermite elements\n",
    "\n",
    "**Fail:** first derivatives are set to 0 when DirichletBC clears all the rows of dofs of nodes at the boundary, since this includes Hermite dofs."
   ]
  },
  {
   "cell_type": "code",
   "execution_count": null,
   "metadata": {
    "collapsed": false
   },
   "outputs": [],
   "source": [
    "V = FunctionSpace(mesh, \"Hermite\", 3)\n",
    "u = poisson1d(V)\n",
    "\n",
    "xx = np.linspace(-1, 1, 100)\n",
    "pl.plot(xx, [u(x) for x in xx], label='$u_h$')\n",
    "pl.plot(xx, [u_exact(x) for x in xx], label='$u_e$')\n",
    "pl.ylim((0, 1.1))\n",
    "_ = pl.legend()"
   ]
  },
  {
   "cell_type": "markdown",
   "metadata": {},
   "source": [
    "# Manually rebuilding the mass matrix\n",
    "\n",
    "Hermite dofs are set to zero by bc.apply(): we manually find those and reset the relevant rows of the mass matrix.\n",
    "\n",
    "In the process of writing the following two functions (`find_hermite_boundary_dofs()` and `apply_dirichlet_partially()`) it was useful to look into the code for `dolfin/fem/DirichletBC.cpp, compute_bc_pointwise()`. Also there is a [bug](https://bugs.launchpad.net/dolfin/+bug/1063868) in the automatically generated documentation which affects [`GenericMatrix.set()`](https://fenicsproject.org/olddocs/dolfin/2016.2.0/python/programmers-reference/cpp/la/GenericMatrix.html?highlight=genericmatrix#dolfin.cpp.la.GenericMatrix.set) below. Only one function with three parameters is actually exposed by SWIG and the second and last are actually the indices of the rows and columns to modify.\n",
    "\n",
    "Note that we set the linear algebra backend to Eigen because the default PETSc uses sparse matrices whose sparsity patterns are initialised / fixed by assemble(), so we cannot freely change entries unless we directly talk to PETSc.\n",
    "\n",
    "This can be done with petsc4py (which is available in the docker container), see [this demo](https://bitbucket.org/cwilson/dolfin/src/883fcc4a12d53c7dae1bb9d5fc7e7302051b0bae/demo/undocumented/petsc4py/python/demo_petsc4py.py?at=master&fileviewer=file-view-default), but I'm too lazy now.\n",
    "\n",
    "**Note:** Another approach could be to \"fix\" DirichletBC: It seems like I need to define a special dofmap for Hermite elements which in dofmap.cell_dofs() returns only the Lagrange dofs (?). Won't this break lots of other things? Instead I could try to construct a copy of the function space with the right dofmap for the BCs and pass it to DirichletBC's constructor."
   ]
  },
  {
   "cell_type": "code",
   "execution_count": null,
   "metadata": {
    "collapsed": false
   },
   "outputs": [],
   "source": [
    "def find_hermite_boundary_dofs(bc):\n",
    "    \"\"\" Returns the Hermite dofs at the boundary as defined in the argument.\n",
    "        bc: Boundary condition.\n",
    "    \"\"\"\n",
    "    V = bc.function_space()\n",
    "    tdim = V.element().topological_dimension()\n",
    "    e = FIAT.CubicHermite(FIAT.reference_element.default_simplex(tdim), 3)\n",
    "    \n",
    "    # This mask filters out the Hermite dofs from the list of dofs of a cell:\n",
    "    mask = np.array(map(lambda f: isinstance(f, FIAT.functional.PointDerivative),\n",
    "                        e.dual_basis()))\n",
    "\n",
    "    # Compute the set of hermite dofs\n",
    "    hermite_dofs = set()\n",
    "    for i in range(V.mesh().num_cells()):\n",
    "        hermite_dofs = hermite_dofs.union(set(V.dofmap().cell_dofs(i)[mask]))\n",
    "        \n",
    "    # This is an easy way of retrieving the ids of dofs at the boundary:\n",
    "    boundary_dofs = bc.get_boundary_values().keys()\n",
    "    \n",
    "    return filter(lambda x: x in boundary_dofs, hermite_dofs)\n",
    "\n",
    "\n",
    "def apply_dirichlet_partially(A, b, bc):\n",
    "    \"\"\" Applies DirichletBC but fixes the rows corresponding to Hermite dofs.\n",
    "    Arguments:\n",
    "        A: assembled mass matrix, before applying bc\n",
    "        b: assembled right hand side, before applying bc\n",
    "        bc: DirichletBC\n",
    "    Returns:\n",
    "        Nothing. Arguments are modified in place.\n",
    "    \"\"\"\n",
    "    global parameters\n",
    "    assert parameters['linear_algebra_backend'] == 'Eigen', \"Need dense matrices for now.\"\n",
    "    assert isinstance(bc, DirichletBC), \"We only know how to manage Dirichlet BCs\"\n",
    "    \n",
    "    hermite_dofs = find_hermite_boundary_dofs(bc)\n",
    "    \n",
    "    A0 = A.copy()\n",
    "    b0 = b.copy()\n",
    "    bc.apply(A, b) # Applying BCs messes things up for Hermite dofs\n",
    "    \n",
    "    b[hermite_dofs] = b0[hermite_dofs]\n",
    "    block = A0.array()[hermite_dofs]\n",
    "\n",
    "    rows = np.array(hermite_dofs, dtype=np.intc)\n",
    "    cols = np.arange(A.size(1), dtype=np.intc) # FIXME A.size(1) is columns?\n",
    "\n",
    "    A.set(block, rows, cols)\n",
    "    A.apply(\"insert\")\n",
    "\n",
    "\n",
    "def plot_hermite_dofs(bc):\n",
    "    \"\"\" Plots the mesh and marks the Hermite dofs fulfilling the boundary condition.\n",
    "    Arguments:\n",
    "        bc: DirichletBC.\n",
    "    \"\"\"\n",
    "    V = bc.function_space()\n",
    "    tdim = V.mesh().topology().dim()\n",
    "    dofs = zip(V.dofmap().dofs(), V.tabulate_dof_coordinates().reshape((-1, tdim)))\n",
    "\n",
    "    hdofs = find_hermite_boundary_dofs(bc)\n",
    "    hdofs_coordinates = np.array([dof[1] for dof in filter(lambda p: p[0] in hdofs, dofs)])\n",
    "    plot(V.mesh())\n",
    "    if tdim > 1:\n",
    "        pl.scatter(hdofs_coordinates[:,0], hdofs_coordinates[:,1],\n",
    "                   s=15, c='red', linewidths=0, zorder=10)\n",
    "    else:\n",
    "        pl.ylim((-0.1,0.1))\n",
    "        pl.scatter(hdofs_coordinates[:,0], np.zeros_like(hdofs_coordinates[:,0]),\n",
    "                   c='red', linewidths=0, zorder=10)"
   ]
  },
  {
   "cell_type": "code",
   "execution_count": null,
   "metadata": {
    "collapsed": false
   },
   "outputs": [],
   "source": [
    "def poisson1d_hermite(V):\n",
    "    \"\"\"\n",
    "        V: FunctionSpace.\n",
    "    \"\"\"\n",
    "    assert V.ufl_element().family() == 'Hermite', 'Please pay attention.'\n",
    "\n",
    "    def boundary(x):\n",
    "        return near(x[0], -1.) or near(x[0], 1.)\n",
    "\n",
    "    # Need to project to work around lack of evaluate_dofs() for Hermite\n",
    "    u0 = project(Constant(0.0), V)\n",
    "    bc = DirichletBC(V, u0, boundary)\n",
    "    plot_hermite_dofs(bc)\n",
    "\n",
    "    u = TrialFunction(V)\n",
    "    v = TestFunction(V)\n",
    "    f = Expression(\"pi*pi*cos(pi*x[0]/2)/4\",\n",
    "                   degree=V.ufl_element().degree())\n",
    "\n",
    "    a = u.dx(0)*v.dx(0)*dx\n",
    "    F = f*v*dx\n",
    "\n",
    "    A = assemble(a)\n",
    "    b = assemble(F)\n",
    "    apply_dirichlet_partially(A, b, bc)\n",
    "    \n",
    "    u = Function(V)\n",
    "    U = u.vector()\n",
    "    solve(A, U, b)\n",
    "    return u"
   ]
  },
  {
   "cell_type": "code",
   "execution_count": null,
   "metadata": {
    "collapsed": false
   },
   "outputs": [],
   "source": [
    "parameters['linear_algebra_backend'] = 'Eigen'\n",
    "mesh = IntervalMesh(100, -1, 1)\n",
    "V = FunctionSpace(mesh, \"Hermite\", 3)\n",
    "u = poisson1d_hermite(V)"
   ]
  },
  {
   "cell_type": "code",
   "execution_count": null,
   "metadata": {
    "collapsed": false
   },
   "outputs": [],
   "source": [
    "xx = mesh.coordinates()\n",
    "pl.plot(xx, [u(x) for x in xx], label='$u_h$')\n",
    "pl.plot(xx, [u_exact(x) for x in xx], label='$u_e$')\n",
    "pl.ylim((0, 1.1))\n",
    "_ = pl.legend()"
   ]
  },
  {
   "cell_type": "markdown",
   "metadata": {},
   "source": [
    "# Poisson2D\n",
    "\n",
    "We can try and use the method above in higher dimensions. However, further issues seem to enter into play. In particular, it might be that some *inner* Hermite dofs are being set to 0 by mistake. See [Interior effects](#Interior-effects)."
   ]
  },
  {
   "cell_type": "code",
   "execution_count": null,
   "metadata": {
    "collapsed": false
   },
   "outputs": [],
   "source": [
    "from utils import fnand, fnor, one_arg\n",
    "\n",
    "mesh = UnitSquareMesh(10, 10)\n",
    "V = FunctionSpace(mesh, \"Hermite\", 3)\n",
    "\n",
    "top = lambda x: near(x[1], 1.)\n",
    "right = lambda x: near(x[0], 1.)\n",
    "bottom = lambda x: near(x[1], 0.)\n",
    "left = lambda x: near(x[0], 0.)\n",
    "\n",
    "# Need to project to work around lack of evaluate_dofs() for Hermite\n",
    "u0 = project(Constant(0.0), V)\n",
    "bc = DirichletBC(V, u0, one_arg(fnor(top, right, bottom, left)))\n",
    "\n",
    "class td_subdomain(SubDomain):\n",
    "    \"\"\" Top and bottom sides of the domain. \"\"\"\n",
    "    def inside(self, x, on_boundary):\n",
    "        # Careful using on_boundary: it's False if the DirichletBC method is 'pointwise'\n",
    "        return near(x[1], 0.) or near(x[1], 1.)\n",
    "\n",
    "class lr_subdomain(SubDomain):\n",
    "    \"\"\" Top and bottom sides of the domain. \"\"\"\n",
    "    def inside(self, x, on_boundary):\n",
    "        # Careful using on_boundary: it's False if the DirichletBC method is 'pointwise'\n",
    "        return near(x[0], 0.) or near(x[0], 1.)\n",
    "\n",
    "# We will use this to mark boundaries for natural boundary conditions\n",
    "exterior_facet_domains = FacetFunction(\"uint\", mesh)\n",
    "exterior_facet_domains.set_all(1)\n",
    "\n",
    "natural_boundary = td_subdomain()\n",
    "natural_boundary.mark(exterior_facet_domains, 0)\n",
    "ds = ds(subdomain_data = exterior_facet_domains)\n",
    "\n",
    "u = TrialFunction(V)\n",
    "v = TestFunction(V)\n",
    "f = project(Constant(4), V)\n",
    "#g = project(Constant(0.), V)\n",
    "a = inner(grad(u), grad(v))*dx\n",
    "F = f*v*dx # + g*v*ds\n",
    "\n",
    "# Compute solution\n",
    "A = assemble(a)\n",
    "b = assemble(F)\n",
    "apply_dirichlet_partially(A, b, bc)\n",
    "her = Function(V)\n",
    "H = her.vector()\n",
    "solve(A, H, b)"
   ]
  },
  {
   "cell_type": "code",
   "execution_count": null,
   "metadata": {
    "collapsed": false
   },
   "outputs": [],
   "source": [
    "plot_hermite_dofs(bc)"
   ]
  },
  {
   "cell_type": "code",
   "execution_count": null,
   "metadata": {
    "collapsed": false
   },
   "outputs": [],
   "source": [
    "pl.xlim((-0.1,1.1))\n",
    "pl.ylim((-0.1,1.1))\n",
    "plot(her, cmap='bone')\n",
    "_ = pl.title(\"P3 Hermite\")"
   ]
  },
  {
   "cell_type": "markdown",
   "metadata": {},
   "source": [
    "## Interior effects\n",
    "\n",
    "Notice the squiggly cross-sections in the following plot: it might be that (some of?) the Hermite dofs *inside* the domain are being set to zero..."
   ]
  },
  {
   "cell_type": "code",
   "execution_count": null,
   "metadata": {
    "collapsed": false
   },
   "outputs": [],
   "source": [
    "xx = np.linspace(0, 1, 100)\n",
    "for y in np.linspace(0.1,0.9,5):\n",
    "    pl.plot(xx, [her([x, y]) for x in xx], label=\"$y=%.1f$\" % y)\n",
    "_ = pl.legend(fancybox=True, framealpha=0.8)"
   ]
  },
  {
   "cell_type": "markdown",
   "metadata": {},
   "source": [
    "## Solution with P2 Lagrange elements"
   ]
  },
  {
   "cell_type": "code",
   "execution_count": null,
   "metadata": {
    "collapsed": false
   },
   "outputs": [],
   "source": [
    "W = FunctionSpace(mesh, \"Lagrange\", 2)\n",
    "u0 = Constant(0.0)\n",
    "bc = DirichletBC(W, u0, one_arg(fnor(top, right, bottom, left)))\n",
    "\n",
    "# Define variational problem\n",
    "u = TrialFunction(W)\n",
    "v = TestFunction(W)\n",
    "f = Constant(4.)\n",
    "#g = Constant(0.)\n",
    "a = inner(grad(u), grad(v))*dx\n",
    "F = f*v*dx #+ g*v*ds\n",
    "\n",
    "# Compute solution\n",
    "lag = Function(W)\n",
    "solve(a == F, lag, bc)"
   ]
  },
  {
   "cell_type": "code",
   "execution_count": null,
   "metadata": {
    "collapsed": false
   },
   "outputs": [],
   "source": [
    "pl.xlim((-0.1, 1.1))\n",
    "pl.ylim((-0.1, 1.1))\n",
    "plot(lag, cmap='bone')\n",
    "_ = pl.title(\"P2 Lagrange\")"
   ]
  },
  {
   "cell_type": "code",
   "execution_count": null,
   "metadata": {
    "collapsed": false
   },
   "outputs": [],
   "source": [
    "diff = project(lag - her, V)\n",
    "#diff.vector().abs()\n",
    "i = 2\n",
    "out =  '\\\\frac{||u_{\\\\text{l%d}} - u_{\\\\text{h3}}||_{L_2}}{||u_{\\\\text{l%d}}||_{L_2}} \\\\approx %.4f,\\ \\ \\ '\\\n",
    "       ' \\\\frac{||u_{\\\\text{l%d}} - u_{\\\\text{h3}}||_{H_1}}{||u_{\\\\text{l%d}}||_{H_1}} \\\\approx %.4f \\\\\\~ '\\\n",
    "       % (i, i, norm(diff, 'L2') / norm(lag, 'L2'), i, i, norm(diff, 'H1') / norm(lag, 'H1'))\n",
    "from IPython.display import Math\n",
    "Math(out)"
   ]
  },
  {
   "cell_type": "code",
   "execution_count": null,
   "metadata": {
    "collapsed": false
   },
   "outputs": [],
   "source": [
    "_ = plot(diff, title=\"$u_{l%d} - u_{h3}$\" % i, cmap='bone')"
   ]
  },
  {
   "cell_type": "code",
   "execution_count": null,
   "metadata": {
    "collapsed": false
   },
   "outputs": [],
   "source": [
    "xx = np.linspace(0, 1, 100)\n",
    "for y in np.linspace(0.1,0.9,5):\n",
    "    pl.plot(xx, [lag([x, y]) for x in xx], label=\"$y=%.1f$\" % y)\n",
    "_ = pl.legend(fancybox=True, framealpha=0.8)"
   ]
  }
 ],
 "metadata": {
  "kernelspec": {
   "display_name": "Python 2",
   "language": "python",
   "name": "python2"
  },
  "language_info": {
   "codemirror_mode": {
    "name": "ipython",
    "version": 2
   },
   "file_extension": ".py",
   "mimetype": "text/x-python",
   "name": "python",
   "nbconvert_exporter": "python",
   "pygments_lexer": "ipython2",
   "version": "2.7.12"
  }
 },
 "nbformat": 4,
 "nbformat_minor": 1
}
