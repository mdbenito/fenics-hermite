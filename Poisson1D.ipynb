{
 "cells": [
  {
   "cell_type": "markdown",
   "metadata": {},
   "source": [
    "# Poisson 1D\n",
    "\n",
    "This notebook solves the linear problem:\n",
    "\n",
    "$$ -u(x)'' = f(x) \\text{ in } \\Omega = [-1,1]$$ \n",
    "\n",
    "with\n",
    "\n",
    "$$ f(x) = \\frac{\\pi^2}{4} \\cos{\\left(\\frac{\\pi x}{2}\\right)} $$\n",
    "\n",
    "and homogeneous Dirichlet boundary conditions."
   ]
  },
  {
   "cell_type": "code",
   "execution_count": null,
   "metadata": {
    "collapsed": false
   },
   "outputs": [],
   "source": [
    "%matplotlib inline\n",
    "from dolfin import *\n",
    "import numpy as np\n",
    "import matplotlib.pyplot as pl\n",
    "\n",
    "# Generate code for evaluate_basis_derivatives for testing\n",
    "parameters[\"form_compiler\"][\"no-evaluate_basis_derivatives\"] = False\n",
    "\n",
    "u_exact = lambda x: np.cos(np.pi*x/2)\n",
    "\n",
    "def poisson1d(V):\n",
    "    deg = V.ufl_element().degree()\n",
    "    def boundary(x):\n",
    "        return x[0] < -1 + DOLFIN_EPS or x[0] > 1.0 - DOLFIN_EPS\n",
    "\n",
    "    # Need to project to work around lack of evaluate_dofs() for Hermite\n",
    "    u0 = project(Constant(0.0), V)\n",
    "    bc = DirichletBC(V, u0, boundary)\n",
    "\n",
    "    u = TrialFunction(V)\n",
    "    v = TestFunction(V)\n",
    "    f = Expression(\"pi*pi*cos(pi*x[0]/2)/4\", degree=deg)\n",
    "\n",
    "    a = u.dx(0)*v.dx(0)*dx\n",
    "    L = f*v*dx\n",
    "\n",
    "    u = Function(V)\n",
    "    solve(a == L, u, bc)\n",
    "    return u"
   ]
  },
  {
   "cell_type": "code",
   "execution_count": null,
   "metadata": {
    "collapsed": true
   },
   "outputs": [],
   "source": [
    "#mesh = UnitIntervalMesh(2)\n",
    "#MeshTransformation.translate(mesh, Point(1.0))\n",
    "mesh = IntervalMesh(2, -1, 1)"
   ]
  },
  {
   "cell_type": "code",
   "execution_count": null,
   "metadata": {
    "collapsed": false
   },
   "outputs": [],
   "source": [
    "V = FunctionSpace(mesh, \"Lagrange\", 3)\n",
    "u = poisson1d(V)"
   ]
  },
  {
   "cell_type": "code",
   "execution_count": null,
   "metadata": {
    "collapsed": false
   },
   "outputs": [],
   "source": [
    "xx = np.linspace(-1, 1, 100)\n",
    "pl.plot(xx, [u(x) for x in xx], label='$u_h$')\n",
    "pl.plot(xx, [u_exact(x) for x in xx], label='$u_e$')\n",
    "pl.ylim((0,1.1))\n",
    "_ = pl.legend()"
   ]
  },
  {
   "cell_type": "markdown",
   "metadata": {},
   "source": [
    "# Using Hermite elements\n",
    "\n",
    "Fail: first derivatives are set to 0."
   ]
  },
  {
   "cell_type": "code",
   "execution_count": null,
   "metadata": {
    "collapsed": false
   },
   "outputs": [],
   "source": [
    "V = FunctionSpace(mesh, \"Hermite\", 3)\n",
    "u = poisson1d(V)\n",
    "\n",
    "xx = np.linspace(-1, 1, 100)\n",
    "pl.plot(xx, [u(x) for x in xx], label='$u_h$')\n",
    "pl.plot(xx, [u_exact(x) for x in xx], label='$u_e$')\n",
    "pl.ylim((0, 1.1))\n",
    "_ = pl.legend()"
   ]
  },
  {
   "cell_type": "markdown",
   "metadata": {},
   "source": [
    "# Manually rebuilding the mass matrix\n",
    "\n",
    "Hermite dofs are set to zero by bc.apply(): we manually find those and reset the relevant rows of the mass matrix.\n",
    "\n",
    "**NOTE** that we set the linear algebra backend to Eigen because the default PETSc uses sparse matrices whose sparsity patterns are initialised / fixed by assemble(), so we cannot freely change entries unless we directly talk to PETSc.\n",
    "\n",
    "This can be done with petsc4py (which is available in the docker container), see [this demo](https://bitbucket.org/cwilson/dolfin/src/883fcc4a12d53c7dae1bb9d5fc7e7302051b0bae/demo/undocumented/petsc4py/python/demo_petsc4py.py?at=master&fileviewer=file-view-default), but I'm too lazy now."
   ]
  },
  {
   "cell_type": "code",
   "execution_count": null,
   "metadata": {
    "collapsed": true
   },
   "outputs": [],
   "source": [
    "parameters['linear_algebra_backend'] = 'Eigen'\n",
    "mesh = IntervalMesh(2, -1, 1)\n",
    "V = FunctionSpace(mesh, \"Hermite\", 3)\n",
    "deg = V.ufl_element().degree()\n",
    "\n",
    "def boundary(x):\n",
    "    return x[0] < -1 + DOLFIN_EPS or x[0] > 1.0 - DOLFIN_EPS\n",
    "\n",
    "# Need to project to work around lack of evaluate_dofs() for Hermite\n",
    "u0 = project(Constant(0.0), V)\n",
    "bc = DirichletBC(V, u0, boundary)\n",
    "\n",
    "u = TrialFunction(V)\n",
    "v = TestFunction(V)\n",
    "f = Expression(\"pi*pi*cos(pi*x[0]/2)/4\", degree=deg)\n",
    "\n",
    "a = u.dx(0)*v.dx(0)*dx\n",
    "L = f*v*dx"
   ]
  },
  {
   "cell_type": "markdown",
   "metadata": {},
   "source": [
    "**Plan:** Mimic some of the steps in `dolfin/fem/DirichletBC.cpp, compute_bc_pointwise()` to find out which are the dofs at boundary points marked by the Dirichlet boundary condition. Then manually assemble the system, apply the BCs and undo the changes to the rows corresponding to Hermite elements."
   ]
  },
  {
   "cell_type": "markdown",
   "metadata": {},
   "source": [
    "**Update:** It's easier to use:"
   ]
  },
  {
   "cell_type": "code",
   "execution_count": null,
   "metadata": {
    "collapsed": false
   },
   "outputs": [],
   "source": [
    "bc.get_boundary_values().keys()"
   ]
  },
  {
   "cell_type": "markdown",
   "metadata": {},
   "source": [
    "But in this very simple example we can deduce that from:"
   ]
  },
  {
   "cell_type": "code",
   "execution_count": null,
   "metadata": {
    "collapsed": true
   },
   "outputs": [],
   "source": [
    "element = V.element()\n",
    "dofmap = V.dofmap()\n",
    "\n",
    "dofmap.cell_dofs(0), dofmap.cell_dofs(1)"
   ]
  },
  {
   "cell_type": "markdown",
   "metadata": {},
   "source": [
    "Based on the usual ordering, dofs 3 and 5 should be the Hermite ones. So we need to copy back those two rows into the mass matrix and the RHS."
   ]
  },
  {
   "cell_type": "code",
   "execution_count": null,
   "metadata": {
    "collapsed": false
   },
   "outputs": [],
   "source": [
    "A = assemble(a)\n",
    "A0 = A.copy()  # Will need this to restore rows later\n",
    "b = assemble(L)\n",
    "b0 = b.copy()  # ditto\n",
    "\n",
    "bc.apply(A, b) # Applying BCs messes things up for dofs 3, 5"
   ]
  },
  {
   "cell_type": "code",
   "execution_count": null,
   "metadata": {
    "collapsed": true
   },
   "outputs": [],
   "source": [
    "b[[3,5]] = b0[[3,5]]"
   ]
  },
  {
   "cell_type": "markdown",
   "metadata": {},
   "source": [
    "There is a [bug](https://bugs.launchpad.net/dolfin/+bug/1063868) in the automatically generated documentation which affects set() below. Only one function with three parameters is actually exposed by SWIG and the second and last are actually the indices of the rows and columns to modify."
   ]
  },
  {
   "cell_type": "code",
   "execution_count": null,
   "metadata": {
    "collapsed": false
   },
   "outputs": [],
   "source": [
    "block = A0.array()[[3,5]]\n",
    "\n",
    "rows = np.array([3,5], dtype=np.intc)\n",
    "cols = np.arange(6, dtype=np.intc)\n",
    "\n",
    "A.set(block, rows, cols)\n",
    "A.apply(\"insert\")"
   ]
  },
  {
   "cell_type": "code",
   "execution_count": null,
   "metadata": {
    "collapsed": false
   },
   "outputs": [],
   "source": [
    "u = Function(V)\n",
    "U = u.vector()\n",
    "solve(A, U, b)"
   ]
  },
  {
   "cell_type": "code",
   "execution_count": null,
   "metadata": {
    "collapsed": false
   },
   "outputs": [],
   "source": [
    "xx = np.linspace(-1, 1, 100)\n",
    "pl.plot(xx, [u(x) for x in xx], label='$u_h$')\n",
    "pl.plot(xx, [u_exact(x) for x in xx], label='$u_e$')\n",
    "pl.ylim((0, 1.1))\n",
    "_ = pl.legend()"
   ]
  },
  {
   "cell_type": "markdown",
   "metadata": {},
   "source": [
    "YESSSSSSSSSS!"
   ]
  },
  {
   "cell_type": "markdown",
   "metadata": {},
   "source": [
    "# Fixing DirichletBC\n",
    "\n",
    "\n",
    "\n",
    "It seems like I need to define a special dofmap for Hermite elements which in dofmap.cell_dofs() returns only the Lagrange dofs (?). Won't this break lots of other things? Instead I could try to construct a copy of the function space with the right dofmap for the BCs and pass it to DirichletBC's constructor.\n",
    "\n",
    "## Another approach\n",
    "\n",
    "Identify all the global dofs corresponding to Hermite functionals:\n",
    "\n",
    "```\n",
    "# Pseudocode:\n",
    "A = assemble(a)\n",
    "A0 = A.copy()\n",
    "b = assemble(L)\n",
    "b0 = F.copy()\n",
    "\n",
    "for cell in cells:\n",
    "   local_dofs = cell.dofs()\n",
    "   hermite_dofs = filter(partial(is_hermite, element), local_dofs)\n",
    "   global_hermite_dofs = dofmap.local_to_global(hermite_dofs)\n",
    "   # Is it OK to rewrite all hermite dofs? Shouldn't I just use those in DirichletBC?\n",
    "   copy_rows(global_hermite_dofs, from=A0, to=A)\n",
    "   copy_rows(global_hermite_dofs, from=b0, to=b)\n",
    "```"
   ]
  },
  {
   "cell_type": "code",
   "execution_count": null,
   "metadata": {
    "collapsed": false
   },
   "outputs": [],
   "source": [
    "#for cell in (Cell(mesh, i) for i in range(mesh.num_cells)):\n",
    "for i, cell in (Cell(mesh, j) for j in range(mesh.num_cells())):\n",
    "    hermite_dof_indices = [1,3]\n",
    "    global_dofs = dofmap.cell_dofs(i)[hermite_dof_indices]\n",
    "    print(global_dofs)"
   ]
  },
  {
   "cell_type": "markdown",
   "metadata": {},
   "source": [
    "## Some tests"
   ]
  },
  {
   "cell_type": "code",
   "execution_count": null,
   "metadata": {
    "collapsed": false
   },
   "outputs": [],
   "source": [
    "cell = Cell(mesh, 0)\n",
    "dofmap.dofs()"
   ]
  },
  {
   "cell_type": "code",
   "execution_count": null,
   "metadata": {
    "collapsed": false
   },
   "outputs": [],
   "source": [
    "dofmap.cell_dofs(0)"
   ]
  },
  {
   "cell_type": "code",
   "execution_count": null,
   "metadata": {
    "collapsed": false
   },
   "outputs": [],
   "source": [
    "bc.get_boundary_values()"
   ]
  }
 ],
 "metadata": {
  "kernelspec": {
   "display_name": "Python 2",
   "language": "python",
   "name": "python2"
  },
  "language_info": {
   "codemirror_mode": {
    "name": "ipython",
    "version": 2
   },
   "file_extension": ".py",
   "mimetype": "text/x-python",
   "name": "python",
   "nbconvert_exporter": "python",
   "pygments_lexer": "ipython2",
   "version": "2.7.12"
  }
 },
 "nbformat": 4,
 "nbformat_minor": 1
}
