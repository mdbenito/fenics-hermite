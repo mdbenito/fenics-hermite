{
 "cells": [
  {
   "cell_type": "markdown",
   "metadata": {},
   "source": [
    "# Poisson 1D\n",
    "\n",
    "This notebook solves the linear problem:\n",
    "\n",
    "$$ -u(x)'' = f(x) \\text{ in } \\Omega = [-1,1]$$ \n",
    "\n",
    "with\n",
    "\n",
    "$$ f(x) = \\frac{\\pi^2}{4} \\cos{\\left(\\frac{\\pi x}{2}\\right)} $$\n",
    "\n",
    "and either homogeneous Dirichlet boundary conditions or mixed Dirichlet and Neumann using Hermite elements. The purpose is to find what the issues are while setting Dirichlet BCs and fix them. See [Manually rebuilding the mass matrix](#Manually-rebuilding-the-mass-matrix)."
   ]
  },
  {
   "cell_type": "code",
   "execution_count": null,
   "metadata": {
    "collapsed": true
   },
   "outputs": [],
   "source": [
    "from dolfin import *\n",
    "import numpy as np\n",
    "import matplotlib.pyplot as pl\n",
    "import FIAT\n",
    "%matplotlib inline\n",
    "\n",
    "# Exact solution with homogeneous Dirichlet BCs:\n",
    "u_exact = lambda x: np.cos(np.pi*x/2)"
   ]
  },
  {
   "cell_type": "code",
   "execution_count": null,
   "metadata": {},
   "outputs": [],
   "source": [
    "def poisson1d(V):\n",
    "    \"\"\" Solves -u'' = f on [-1,1] with f=... \"\"\"\n",
    "    deg = V.ufl_element().degree()\n",
    "    left = V.mesh().coordinates().min()\n",
    "    right = V.mesh().coordinates().max()\n",
    "\n",
    "    def dirichlet(x):\n",
    "        return near(x[0], left)# or near(x[0], right) #\n",
    "\n",
    "    # Test: note that this changes the exact solution!\n",
    "    class Neumann(SubDomain):\n",
    "        def inside(self, x, on_boundary):\n",
    "            return on_boundary and near(x[0], right)\n",
    "\n",
    "    NEUMANN_ID = 1\n",
    "    exterior = FacetFunction('uint', V.mesh())\n",
    "    neu_bdry = Neumann()\n",
    "    neu_bdry.mark(exterior, NEUMANN_ID)\n",
    "    \n",
    "    # Need to project to work around lack of evaluate_dofs() for Hermite\n",
    "    # (see interpolation.ipynb, interpolate_hermite())\n",
    "    u0 = project(Constant(0.0), V)\n",
    "    bc = DirichletBC(V, u0, dirichlet)\n",
    "\n",
    "    u = TrialFunction(V)\n",
    "    v = TestFunction(V)\n",
    "    f = Expression(\"pi*pi*cos(pi*x[0]/2)/4\", degree=deg)\n",
    "\n",
    "    a = u.dx(0)*v.dx(0)*dx\n",
    "    L = f*v*dx - v*ds(subdomain_data=exterior, subdomain_id=NEUMANN_ID)\n",
    "\n",
    "    u = Function(V)\n",
    "    solve(a == L, u, bc)\n",
    "    return u"
   ]
  },
  {
   "cell_type": "code",
   "execution_count": null,
   "metadata": {},
   "outputs": [],
   "source": [
    "#mesh = UnitIntervalMesh(2)\n",
    "#MeshTransformation.translate(mesh, Point(1.0))\n",
    "mesh = IntervalMesh(20, -1, 1)\n",
    "\n",
    "V = FunctionSpace(mesh, \"Lagrange\", 3)\n",
    "u_lag2 = poisson1d(V)"
   ]
  },
  {
   "cell_type": "code",
   "execution_count": null,
   "metadata": {},
   "outputs": [],
   "source": [
    "xx = np.linspace(-1, 1, 100)\n",
    "pl.plot(xx, [u_lag2(x) for x in xx], label='$u_{l}$')\n",
    "#pl.plot(xx, [u_exact(x) for x in xx], label='$u_{ex}$')\n",
    "pl.ylim((0, 2))\n",
    "pl.title(\"Solution with CG3 elements\")\n",
    "_ = pl.legend()"
   ]
  },
  {
   "cell_type": "markdown",
   "metadata": {},
   "source": [
    "# Using Hermite elements\n",
    "\n",
    "Naively applying Dirichlet boundary conditions fails because first derivatives are set to 0 when `DirichletBC` clears all the rows of dofs of nodes at the boundary, since this includes Hermite dofs associated to partial derivatives."
   ]
  },
  {
   "cell_type": "code",
   "execution_count": null,
   "metadata": {},
   "outputs": [],
   "source": [
    "V = FunctionSpace(mesh, \"Hermite\", 3)\n",
    "u = poisson1d(V)\n",
    "\n",
    "xx = np.linspace(-1, 1, 100)\n",
    "pl.figure(figsize=(8,4))\n",
    "pl.plot(xx, [u(x) for x in xx], label='$u_h$')\n",
    "pl.plot(xx, [u_lag2(x) for x in xx], label='$u_{l}$')\n",
    "pl.ylim((0, 2))\n",
    "_ = pl.legend()"
   ]
  },
  {
   "cell_type": "markdown",
   "metadata": {},
   "source": [
    "## Manually rebuilding the stiffness matrix\n",
    "\n",
    "The solution is to manually restore the relevant rows of the assembled matrix to their values before `DirichletBC.apply()` emptied them. The code has been factored out into [boundary.ipynb](boundary.ipynb).\n",
    "\n",
    "Analogously, the way one applies Neumann boundary conditions has to be adapted in e.g. 4th order problems like the beam equation: in this case Neumann bcs are essential and are included in the function space by setting the relevant dofs to the desired values. See [Euler-Bernoulli.ipynb](Euler-Bernoulli.ipynb)."
   ]
  },
  {
   "cell_type": "code",
   "execution_count": null,
   "metadata": {},
   "outputs": [],
   "source": [
    "import nbimporter\n",
    "from boundary import *\n",
    "from utils import fnor\n",
    "from interpolation import interpolate_hermite, make_constant\n",
    "\n",
    "def poisson1d_hermite(V):\n",
    "    \"\"\"\n",
    "        V: FunctionSpace.\n",
    "    \"\"\"\n",
    "    assert V.ufl_element().family() == 'Hermite', 'Please pay attention.'\n",
    "\n",
    "    _left = V.mesh().coordinates().min()\n",
    "    _right = V.mesh().coordinates().max()\n",
    "\n",
    "    def left(x):\n",
    "        return near(x[0], _left)\n",
    "    def right(x):\n",
    "        return near(x[0], _right)\n",
    "\n",
    "    u0 = make_constant(0, V)\n",
    "    dir_bc = DirichletBC(V, u0, left) #fnor(left, right))\n",
    "\n",
    "    u = TrialFunction(V)\n",
    "    v = TestFunction(V)\n",
    "    f = Expression(\"pi*pi*cos(pi*x[0]/2)/4\",\n",
    "                   degree=V.ufl_element().degree())\n",
    "\n",
    "    #g = Expression(\"x[0]\",\n",
    "    #               degree=V.ufl_element().degree())\n",
    "\n",
    "    class Right(SubDomain):\n",
    "        def inside(self, x, on_boundary):\n",
    "            return on_boundary and near(x[0], _right)\n",
    "\n",
    "    exterior = FacetFunction('uint', V.mesh(), value=0)\n",
    "    neu_bdry = Right()\n",
    "    neu_bdry.mark(exterior, 1)\n",
    "    \n",
    "    a = u.dx(0)*v.dx(0)*dx\n",
    "    F = f*v*dx - v*ds(subdomain_data=exterior, subdomain_id=1)\n",
    "\n",
    "    A = assemble(a)\n",
    "    b = assemble(F)\n",
    "    #Aok,bok = assemble_system(a, F, dir_bc)\n",
    "    #print(\"A0:\\n%s\" % A.array().round(2))\n",
    "    #print(\"Aok\\n%s\" % Aok.array().round(2))\n",
    "    apply_dirichlet_hermite(A, b, dir_bc)\n",
    "    #print(\"A1:\\n%s\" % A.array().round(2))\n",
    "    \n",
    "    u = Function(V)\n",
    "    U = u.vector()\n",
    "    solve(A, U, b)\n",
    "    return u"
   ]
  },
  {
   "cell_type": "code",
   "execution_count": null,
   "metadata": {},
   "outputs": [],
   "source": [
    "mesh = IntervalMesh(20, -1, 1)\n",
    "V = FunctionSpace(mesh, 'Hermite', 3)\n",
    "u_her = poisson1d_hermite(V)"
   ]
  },
  {
   "cell_type": "code",
   "execution_count": null,
   "metadata": {},
   "outputs": [],
   "source": [
    "xx = mesh.coordinates()\n",
    "pl.figure(figsize=(8,4))\n",
    "pl.plot(xx, [u_her(x) for x in xx], label='$u_h$')\n",
    "pl.plot(xx, [u_lag2(x) for x in xx], label='$u_{lag2}$')\n",
    "#pl.ylim((0, 1.1))\n",
    "pl.ylim((0, 2))\n",
    "#pl.xlim((0.9, 1))\n",
    "_ = pl.legend()"
   ]
  }
 ],
 "metadata": {
  "kernelspec": {
   "display_name": "Python 3",
   "language": "python",
   "name": "python3"
  },
  "language_info": {
   "codemirror_mode": {
    "name": "ipython",
    "version": 3
   },
   "file_extension": ".py",
   "mimetype": "text/x-python",
   "name": "python",
   "nbconvert_exporter": "python",
   "pygments_lexer": "ipython3",
   "version": "3.5.2"
  }
 },
 "nbformat": 4,
 "nbformat_minor": 1
}
