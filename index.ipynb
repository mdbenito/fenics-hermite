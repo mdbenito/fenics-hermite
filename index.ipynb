{
 "cells": [
  {
   "cell_type": "markdown",
   "metadata": {},
   "source": [
    "# Basic implementation\n",
    "\n",
    "* [fiat_hermite](fiat_hermite.ipynb): Implementation of Hermite elements in FIAT.\n",
    "* [fiat_dkt](fiat_dkt.ipynb): Implementation of Discrete Kirchhoff Triangle elements in FIAT.\n",
    "* [ffc_tests](ffc_tests.ipynb): Tests and routines used during the implementation\n",
    "  in FFC.\n",
    "* [quadrature](quadrature.ipynb): Progress during the implementation of\n",
    "   quadratures.\n",
    "* [interpolation](interpolation.ipynb): Nodal interpolation for elements using\n",
    "  PointDerivatives.\n",
    "* [discrete_gradient](discrete_gradient.ipynb): An implementation using PETSc matrices of\n",
    "  the discrete gradient operator from CG1 to DG0 and from DKT to\n",
    "  Vector&lt;P2&gt;\n",
    "* [boundary](boundary.ipynb): Steps towards the implementation of Dirichlet and\n",
    "  Neumann boundary conditions with Hermite elements. Mostly just a\n",
    "  hack on the assembled stiffness matrix.\n",
    "* [dofs](dofs.ipynb): Notes and routines on dof extraction, usage and plotting.\n",
    "* [meshing](meshing.ipynb): Notes on the creation and transformation of meshes.\n",
    "\n",
    "# Models\n",
    "\n",
    "* [Poisson1D](Poisson1D.ipynb): A simple 1D example to test essential BCs.\n",
    "* [Poisson2D](Poisson2D.ipynb): Dolfin's included 2D example, but with Hermite\n",
    "  elements. **TODO:** Find out why the solution is slightly\n",
    "  skewed.\n",
    "* [Euler-Bernoulli](Euler-Bernoulli.ipynb): The Euler Bernoulli beam model. The\n",
    "   mathematics are taken from (and possibly out of sync with)\n",
    "   `hermite.tm`.\n",
    "* [biharmonic](biharmonic.ipynb): A test (biharmonic with non conforming interior\n",
    "   penalty method) using Lagrange or Hermite elements.\n",
    "* [linear_kirchhoff](linear_kirchhoff.ipynb): A test for the non-conforming method\n",
    "  using the discrete gradient operator for Kirchhoff elements.\n",
    "\n",
    "# Other stuff\n",
    "\n",
    "* [debug](debug.ipynb): Some random tests.\n",
    "* [instant_test](instant_test.ipynb): Tests with instant.\n",
    "* [misc](misc.ipynb): duh!\n",
    "* [utils](../edit/utils.py): Differentiable Expressions, boolean operations on functions, logging, pretty printing of output..."
   ]
  }
 ],
 "metadata": {
  "hide_input": false,
  "kernelspec": {
   "display_name": "Python 3",
   "language": "python",
   "name": "python3"
  },
  "language_info": {
   "codemirror_mode": {
    "name": "ipython",
    "version": 3
   },
   "file_extension": ".py",
   "mimetype": "text/x-python",
   "name": "python",
   "nbconvert_exporter": "python",
   "pygments_lexer": "ipython3",
   "version": "3.5.2"
  },
  "toc": {
   "colors": {
    "hover_highlight": "#DAA520",
    "running_highlight": "#FF0000",
    "selected_highlight": "#FFD700"
   },
   "moveMenuLeft": true,
   "nav_menu": {
    "height": "70px",
    "width": "254px"
   },
   "navigate_menu": true,
   "number_sections": true,
   "sideBar": true,
   "threshold": 4,
   "toc_cell": false,
   "toc_section_display": "block",
   "toc_window_display": false,
   "widenNotebook": false
  }
 },
 "nbformat": 4,
 "nbformat_minor": 2
}
