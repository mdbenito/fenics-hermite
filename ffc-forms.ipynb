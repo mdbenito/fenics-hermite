{
 "cells": [
  {
   "cell_type": "markdown",
   "metadata": {},
   "source": [
    "# Intro\n",
    "\n",
    "This is my progress in the implementation of Hermite mappings for the quadrature representation of cell integrals. See hermite.tm for the math. The notebook [ffc-elements](ffc-elements.ipynb) contains definitions of: *finite element*, *dof* (and its action on functions), *intermediate representation*. There are also [Related commits and PRs](ffc-elements.ipynb#Related-commits-and-PRs).\n",
    "\n",
    "## Running and debugging\n",
    "\n",
    "Debugging in notebooks sucks. It's <strike>best</strike> better to use pdb inside emacs:\n",
    "\n",
    "1. Copy the code to a python file\n",
    "2. Run using pdb remotely via tramp+anaconda\n",
    "3. **Remember to set breakpoints in the files inside** `~/local/lib/python2.7/site-packages/` !!!\n",
    "\n",
    "## Current\n",
    "\n",
    "* Recall to work both in `quadraturetransformer.py` and `optimisedquadraturetransformer.py`.\n",
    "* Maybe you have to pass the whole `fiat_element.mapping()` array around?\n",
    "\n",
    "## Some definitions\n",
    "\n",
    "**Multiindex: ** An array like `[[0, 0], [0, 1], [1, 0], [1, 1]]`, where each element is a list of derivatives and each element in a derivative is the index of the spatial dimension along which it is taken. In the example we have $\\partial^2_x , \\partial_x \\partial_y , \\partial_y \\partial_x $ and $ \\partial^2_y$"
   ]
  },
  {
   "cell_type": "code",
   "execution_count": null,
   "metadata": {
    "collapsed": false
   },
   "outputs": [],
   "source": [
    "from __future__ import print_function\n",
    "from dolfin import *\n",
    "import ffc\n",
    "from ffc.log import add_logfile, set_level, DEBUG\n",
    "\n",
    "set_level(DEBUG)\n",
    "add_logfile(\"/tmp/fenics.log\")"
   ]
  },
  {
   "cell_type": "markdown",
   "metadata": {},
   "source": [
    "# FFC  form compilation\n",
    "\n",
    "The following snippet produces `/tmp/biharmonic.h`: a c++ header with code which is later wrapped into a python API for using the bilinear form\n",
    "\n",
    "$$ \\int \\Delta u \\Delta v \\ \\mathrm{d}x$$\n",
    "\n",
    "It contains classes with:\n",
    "\n",
    "* Finite elements.\n",
    "* Local to global DOF maps.\n",
    "* **Cell integral computation:** `class bh_cell_integral_0_otherwise: public ufc::cell_integral` This is what interests us now.\n",
    "* The form itself."
   ]
  },
  {
   "cell_type": "code",
   "execution_count": null,
   "metadata": {
    "collapsed": false,
    "scrolled": false
   },
   "outputs": [],
   "source": [
    "mesh = UnitSquareMesh(32, 32)\n",
    "V = FunctionSpace(mesh, \"Hermite\", 3)\n",
    "u = TrialFunction(V)\n",
    "v = TestFunction(V)\n",
    "#a = inner(div(grad(u)), div(grad(v)))*dx\n",
    "#with open(\"/tmp/biharmonic.h\", \"wt\") as f:\n",
    "#    out = ffc.compile_form(a, prefix=\"bh\")\n",
    "#    #print(out[1])\n",
    "#    f.write(out[0])\n",
    "F = div(avg(grad(v)))*dS\n",
    "#F = div(grad(v))*dx\n",
    "with open(\"/tmp/laplace.h\", \"wt\") as f:\n",
    "    out = ffc.compile_form(F, prefix=\"la\", parameters={'representation': 'quadrature',\n",
    "                                                       'quadrature_degree': 1})\n",
    "    f.write(out[0])"
   ]
  },
  {
   "cell_type": "markdown",
   "metadata": {},
   "source": [
    "# Integration of expressions\n",
    "\n"
   ]
  },
  {
   "cell_type": "code",
   "execution_count": null,
   "metadata": {
    "collapsed": false
   },
   "outputs": [],
   "source": [
    "import numpy as np\n",
    "\n",
    "grid_sizes = [32, 64, 128, 256]\n",
    "p_vals = range(1, 4)\n",
    "results_her = np.zeros(len(grid_sizes))\n",
    "results_lag = np.zeros((len(grid_sizes), len(p_vals)))\n",
    "\n",
    "for i, n in enumerate(grid_sizes):\n",
    "    mesh = UnitSquareMesh(n, n)\n",
    "    V = FunctionSpace(mesh, \"Hermite\", 3)\n",
    "    W = [None] + [FunctionSpace(mesh, \"Lagrange\", p) for p in p_vals]\n",
    "    f = Expression(\"x[0]*x[0]*x[1]*x[1]\", degree=3)\n",
    "    v = project(f, V)\n",
    "    w = [None] + [project(f, W[p]) for p in p_vals]\n",
    "    exact = 1./9.\n",
    "    results_her[i] = assemble(v*dx)\n",
    "    results_lag[i] = np.array([assemble(w[p]*dx) for p in p_vals])"
   ]
  },
  {
   "cell_type": "code",
   "execution_count": null,
   "metadata": {
    "collapsed": false
   },
   "outputs": [],
   "source": [
    "%matplotlib inline\n",
    "import matplotlib.pyplot as pl\n",
    "\n",
    "pl.figure(figsize=(10, 10))\n",
    "pl.plot(grid_sizes, np.log(results_her - exact), label=\"H3\")\n",
    "for p in p_vals:\n",
    "    pl.plot(grid_sizes, np.log(results_lag[:,p-1] - exact), label=\"L%d\" % p)\n",
    "pl.title(\"Log error\")\n",
    "pl.legend()\n",
    "_ = pl.show()"
   ]
  },
  {
   "cell_type": "code",
   "execution_count": null,
   "metadata": {
    "collapsed": true
   },
   "outputs": [],
   "source": []
  }
 ],
 "metadata": {
  "kernelspec": {
   "display_name": "Python 2",
   "language": "python",
   "name": "python2"
  },
  "language_info": {
   "codemirror_mode": {
    "name": "ipython",
    "version": 2
   },
   "file_extension": ".py",
   "mimetype": "text/x-python",
   "name": "python",
   "nbconvert_exporter": "python",
   "pygments_lexer": "ipython2",
   "version": "2.7.12"
  }
 },
 "nbformat": 4,
 "nbformat_minor": 1
}
