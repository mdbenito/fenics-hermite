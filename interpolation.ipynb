{
 "cells": [
  {
   "cell_type": "markdown",
   "metadata": {},
   "source": [
    "# Interpolation\n",
    "\n",
    "As mentioned in [ffc_tests.ipynb](ffc_tests.ipynb) `interpolate()` cannot work in Hermite function spaces without extending the interface for `ufc::function` to include differentiation. This comes from the fact that the standard (local) nodal interpolant is given by\n",
    "\n",
    "$$ I_K (f) = \\sum_{i = 1}^{n_K} L_i (f) \\phi_i $$\n",
    "\n",
    "for all dofs $L_i$ over cell $K$. In particular we need to let the partial differentiation along each spatial coordinate (in the notation of the paper $L_{\\alpha_i}, 1 \\leq i \\leq d$) act on the function $f$ and use this value as the coefficient for the corresponding shape function $\\phi_{\\alpha_i}$ in the representation in the global basis of $V_h$.\n",
    "\n",
    "This notebook will contain progress in this matter.\n",
    "\n",
    "## The current situation (FEniCS 2017.0.1)\n",
    "\n",
    "The default implementation (in `ffc/evaluatedof.py:_generate_body()`) of code generation for\n",
    "\n",
    "```c++\n",
    "double evaluate_dof(std::size_t i,\n",
    "                      const ufc::function& f,\n",
    "                      const double * coordinate_dofs,\n",
    "                      int cell_orientation,\n",
    "                      const ufc::cell& c) const final override\n",
    "```\n",
    "\n",
    "does the following:\n",
    "\n",
    "1. Get coordinate for dof `i`.\n",
    "2. Call `f.evaluate()` on this coordinate.\n",
    "\n",
    "I.e. it assumes that all dofs are point evaluations!"
   ]
  },
  {
   "cell_type": "markdown",
   "metadata": {},
   "source": [
    "## A hack for `interpolate()`"
   ]
  },
  {
   "cell_type": "code",
   "execution_count": null,
   "metadata": {
    "collapsed": true
   },
   "outputs": [],
   "source": [
    "from dolfin import *\n",
    "%matplotlib inline\n",
    "import matplotlib.pyplot as pl\n",
    "import autograd.numpy as np"
   ]
  },
  {
   "cell_type": "markdown",
   "metadata": {},
   "source": [
    "This won't work:"
   ]
  },
  {
   "cell_type": "code",
   "execution_count": null,
   "metadata": {
    "collapsed": false
   },
   "outputs": [],
   "source": [
    "V = FunctionSpace(UnitSquareMesh(10, 10), 'Hermite', 3)\n",
    "f = Expression(\"x[0]*x[1]\", degree=3)\n",
    "#v = interpolate(f, V)\n",
    "#_ = plot(v, cmap='bone')"
   ]
  },
  {
   "cell_type": "markdown",
   "metadata": {},
   "source": [
    "We need to be able to take derivatives. A first attempt might be to [use UFL](#Using-UFL) to compute derivatives of `Expressions` but I can't get this to work for some reason...\n",
    "\n",
    "Instead, we use actual python functions and compute their derivatives with `autograd` (see [utils.py](utils.py))."
   ]
  },
  {
   "cell_type": "code",
   "execution_count": null,
   "metadata": {
    "collapsed": false
   },
   "outputs": [],
   "source": [
    "from utils import make_derivatives\n",
    "@make_derivatives\n",
    "def fun2d(x, y):\n",
    "    return x*y**2+2*x"
   ]
  },
  {
   "cell_type": "code",
   "execution_count": null,
   "metadata": {
    "collapsed": false
   },
   "outputs": [],
   "source": [
    "tt = np.linspace(0, 1, 10)\n",
    "xx, yy = np.meshgrid(tt, tt)\n",
    "pp = np.dstack((xx,yy))\n",
    "\n",
    "points_shape = pp.shape[:-1]\n",
    "zz = np.zeros(points_shape)\n",
    "for i,j in np.ndindex(points_shape):\n",
    "    zz[i,j] = f.evaluate(pp[i,j], {f: fun2d}, (), None, derivatives=(0,1))"
   ]
  },
  {
   "cell_type": "code",
   "execution_count": null,
   "metadata": {
    "collapsed": false
   },
   "outputs": [],
   "source": [
    "_ = pl.imshow(zz, aspect='auto', cmap='bone')"
   ]
  },
  {
   "cell_type": "code",
   "execution_count": null,
   "metadata": {
    "collapsed": true
   },
   "outputs": [],
   "source": [
    "from FIAT import functional\n",
    "from ffc import fiatinterface\n",
    "\n",
    "def interpolate_hermite(f, V):\n",
    "    \"\"\" Nodal interpolation for elements  .\n",
    "    \n",
    "    If V is built with any elements other than hermite, use\n",
    "    dolfin.interpolate(). Otherwise:\n",
    "    \n",
    "    NOTE: This is just a hack and requires an actual python function\n",
    "          which we can evaluate and differentiate.\n",
    "    \n",
    "    Arguments:\n",
    "    ----------\n",
    "        f: Callable taking exactly one np.ndarray of size equal to the\n",
    "           topological dimension of the mesh.\n",
    "           Use the decorator @make_derivatives to use autograd's AD.\n",
    "           Example:\n",
    "\n",
    "                @make_derivatives\n",
    "                def fun2d(x, y):\n",
    "                    return x*y\n",
    "            \n",
    "            Now fun2d() has signature fun2d(np.ndarray, derivatives=())\n",
    "\n",
    "        V: FunctionSpace using Hermite elements.\n",
    "\n",
    "    Returns:\n",
    "    --------\n",
    "        A Function in V.\n",
    "    \"\"\"\n",
    "    print(\"WARNING: Nodal interpolation for Hermite dofs. HACK HACK.\")\n",
    "    tdim = V.element().topological_dimension()\n",
    "    e = fiatinterface.create_element(V.ufl_element())\n",
    "    \n",
    "    # This mask filters out the Hermite dofs from the list of dofs of a cell:\n",
    "    hmask = np.array(map(lambda f: isinstance(f, functional.PointDerivative),\n",
    "                        e.dual_basis()))\n",
    "    lmask = np.array(map(lambda f: isinstance(f, functional.PointEvaluation),\n",
    "                        e.dual_basis()))\n",
    "    assert ((hmask | lmask) == True).size == len(e.dual_basis()),\\\n",
    "           \"Only Lagrange and Hermite dofs supported.\"\n",
    "\n",
    "    #print(\"hmask = %s\" % hmask)\n",
    "    uv = np.zeros(V.dim())\n",
    "    dm = V.dofmap()\n",
    "    dof_coordinates = V.tabulate_dof_coordinates().reshape((-1, tdim))\n",
    "    if tdim == 1:\n",
    "        derivatives = [(1,)]*2\n",
    "    elif tdim == 2:\n",
    "        derivatives = [(1,0),(0,1)]*3\n",
    "    elif tdim == 3:\n",
    "        derivatives = [(1,0,0),(0,1,0),(0,0,1)]*4\n",
    "    for i in range(V.mesh().num_cells()):\n",
    "        dofs = dm.cell_dofs(i)\n",
    "        hermite_dofs = dofs[hmask]\n",
    "        lagrange_dofs = dofs[lmask]\n",
    "        for dd, hdof in zip(derivatives, hermite_dofs):\n",
    "            uv[hdof] = f(dof_coordinates[hdof], derivatives=dd)\n",
    "            #print(\"hdof=%d, coords=%s, derivs=%s\" % (hdof, dof_coordinates[hdof], dd))\n",
    "        for ldof in lagrange_dofs:\n",
    "            uv[ldof] = f(dof_coordinates[ldof], derivatives=())\n",
    "    u = Function(V)\n",
    "    u.vector().set_local(uv)\n",
    "\n",
    "    return u"
   ]
  },
  {
   "cell_type": "code",
   "execution_count": null,
   "metadata": {
    "collapsed": false
   },
   "outputs": [],
   "source": [
    "V = FunctionSpace(UnitSquareMesh(20, 20), 'DKT', 3)\n",
    "u = interpolate_hermite(fun2d, V)\n",
    "v = project(Expression(\"x[0]*x[1]*x[1]+2*x[0]\", degree=3), V)\n",
    "w = Function(V, u.vector() - v.vector())"
   ]
  },
  {
   "cell_type": "code",
   "execution_count": null,
   "metadata": {
    "collapsed": false
   },
   "outputs": [],
   "source": [
    "pl.figure(figsize=(12,4))\n",
    "pl.subplot(1,3,1)\n",
    "plot(u, title=\"Interpolation into H3\", cmap='bone')\n",
    "pl.subplot(1,3,2)\n",
    "plot(v, title=\"Projection onto H3\", cmap='bone')\n",
    "pl.subplot(1,3,3)\n",
    "_ = plot(w, title=\"Difference\", cmap='bone')"
   ]
  },
  {
   "cell_type": "code",
   "execution_count": null,
   "metadata": {
    "collapsed": false
   },
   "outputs": [],
   "source": [
    "from IPython.display import Math\n",
    "Math(\"$||u_h - u_p||_{L^2} = %.4f, \\  ||u_h - u_p||_{L^{\\infty}} = %.4f$\" % \n",
    "     (norm(w), norm(w.vector(), norm_type='linf')))"
   ]
  },
  {
   "cell_type": "code",
   "execution_count": null,
   "metadata": {
    "collapsed": false
   },
   "outputs": [],
   "source": [
    "u_vert = u.compute_vertex_values()\n",
    "v_vert = v.compute_vertex_values()\n",
    "print(\"%.2f%% of vertices where u and v disagree more than 1e-6\" % \n",
    "      (100.*np.nonzero(np.abs(u_vert-v_vert) > 1e-6)[0].size / V.dim()))"
   ]
  },
  {
   "cell_type": "markdown",
   "metadata": {},
   "source": [
    "# Constants"
   ]
  },
  {
   "cell_type": "code",
   "execution_count": null,
   "metadata": {
    "collapsed": true
   },
   "outputs": [],
   "source": [
    "def make_constant(value, V):\n",
    "    \"\"\" Returns a constant Function over V.\n",
    "    This only makes sense when V is built with elements using\n",
    "    Hermite dofs\n",
    "    \n",
    "    Arguments\n",
    "    ---------\n",
    "        value: a scalar.\n",
    "        V: FunctionSpace of elements using Hermite and Lagrange dofs.\n",
    "    Returns\n",
    "    -------\n",
    "        A Function in V.\n",
    "    \"\"\"\n",
    "    \n",
    "    def fun(x, derivatives=()):\n",
    "        return value if sum(derivatives) == 0 else 0.\n",
    "\n",
    "    return interpolate_hermite(fun, V)"
   ]
  },
  {
   "cell_type": "markdown",
   "metadata": {},
   "source": [
    "## Testing the norms\n",
    "\n",
    "Something is quite off..."
   ]
  },
  {
   "cell_type": "code",
   "execution_count": null,
   "metadata": {
    "collapsed": false
   },
   "outputs": [],
   "source": [
    "@make_derivatives\n",
    "def ftest(x, y):\n",
    "    return x**2+y**2\n",
    "\n",
    "V = FunctionSpace(UnitSquareMesh(20, 20), 'DKT', 3)\n",
    "w1 = interpolate_hermite(ftest, V)\n",
    "w2 = project(Expression(\"x[0]*x[0]+x[1]*x[1]\", degree=3), V)\n",
    "print(\"           w1\\t\\tw2\\t\\texact \" % ())\n",
    "print(\"L2       : %f, %f, %f\" % (norm(w1, 'L2'), norm(w2, 'L2'), np.sqrt(28/45.)))\n",
    "print(\"H10 norms: %f, %f, %f\" % (norm(w1, 'H10'), norm(w2, 'H10'), np.sqrt(8/3.)))\n",
    "print(\"H1 norms : %f, %f, %f\" % (norm(w1, 'H1'), norm(w2, 'H1'), np.sqrt(8/3. + 28/45.)))\n",
    "#Math(\"\\\\text{Exact: }||f||_{L^2} = %f,\\ ||f||_{H^1_0} = %f,\\ ||f||_{H^1} = %f\" %\n",
    "#      (np.sqrt(28/45.), np.sqrt(8/3.), np.sqrt(8/3. + 28/45.)))"
   ]
  },
  {
   "cell_type": "code",
   "execution_count": null,
   "metadata": {
    "collapsed": true
   },
   "outputs": [],
   "source": [
    "dw1 = grad(w1)\n",
    "ddw1 = inner(dw1, dw1)"
   ]
  },
  {
   "cell_type": "markdown",
   "metadata": {},
   "source": [
    "## Using UFL\n",
    "\n",
    "A couple of tests trying to use AD on expressions in order to implement an `interpolate()` "
   ]
  },
  {
   "cell_type": "code",
   "execution_count": null,
   "metadata": {
    "collapsed": false
   },
   "outputs": [],
   "source": [
    "from ufl.algorithms.apply_derivatives import apply_derivatives\n",
    "\n",
    "V = FunctionSpace(UnitIntervalMesh(2), 'Hermite', 3)\n",
    "x = SpatialCoordinate(V.mesh())\n",
    "f = x[0]**2\n",
    "str(f)\n",
    "#replace(f, {x:0.})  # Doesn't work\n",
    "dfdx = apply_derivatives(diff(f, x))\n",
    "#replace(dfdx, {x: 0.})  # Doesn't work"
   ]
  },
  {
   "cell_type": "markdown",
   "metadata": {},
   "source": [
    "## A test\n",
    "\n",
    "The first thing to check once `evaluate_dof()` has been implemented for Hermite elements is a constant:"
   ]
  },
  {
   "cell_type": "code",
   "execution_count": null,
   "metadata": {
    "collapsed": true
   },
   "outputs": [],
   "source": [
    "u = interpolate(Constant(2.0), V)\n",
    "_ = plot(u, cmap='bone')"
   ]
  },
  {
   "cell_type": "markdown",
   "metadata": {},
   "source": [
    "# Interface"
   ]
  },
  {
   "cell_type": "code",
   "execution_count": null,
   "metadata": {
    "collapsed": true
   },
   "outputs": [],
   "source": [
    "def __nbinit__():\n",
    "    global __all__\n",
    "    __all__ = ['interpolate_hermite', 'make_constant']"
   ]
  }
 ],
 "metadata": {
  "kernelspec": {
   "display_name": "Python 2",
   "language": "python",
   "name": "python2"
  },
  "language_info": {
   "codemirror_mode": {
    "name": "ipython",
    "version": 2
   },
   "file_extension": ".py",
   "mimetype": "text/x-python",
   "name": "python",
   "nbconvert_exporter": "python",
   "pygments_lexer": "ipython2",
   "version": "2.7.12"
  }
 },
 "nbformat": 4,
 "nbformat_minor": 1
}
