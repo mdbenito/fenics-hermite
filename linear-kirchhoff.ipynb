{
 "cells": [
  {
   "cell_type": "markdown",
   "metadata": {},
   "source": [
    "# Intro\n",
    "\n",
    "As a first test for DKT elements, in this notebook we find minimal configurations (of the vertical displacements $u$) for the energy\n",
    "\n",
    "$$ I_{K i}(w) = \\frac{1}{2} \\int_\\omega |D^2 w|^2 \\mathrm{d}x - \\int_\\omega f_3 w \\mathrm{d}x$$\n",
    "\n",
    "under homogeneous Dirichlet boundary conditions. This means solving the linear problem\n",
    "\n",
    "$$ (D^2w, D^2v) = (f_3,v),$$\n",
    "\n",
    "for all $v \\in W$, with the discretisation\n",
    "\n",
    "$$ (\\nabla \\nabla_h w_h, \\nabla \\nabla_h v_h) = (f_3, v_h), $$\n",
    "\n",
    "for all $v_h \\in W_{h,D} := ...$\n",
    "\n",
    "Recall that $\\nabla_h : W_h \\rightarrow \\Theta_h$ is defined as..."
   ]
  },
  {
   "cell_type": "code",
   "execution_count": 1,
   "metadata": {
    "collapsed": false,
    "scrolled": false
   },
   "outputs": [
    {
     "name": "stdout",
     "output_type": "stream",
     "text": [
      "Importing Jupyter notebook from discrete_gradient.ipynb\n",
      "Importing Jupyter notebook from boundary.ipynb\n",
      "Calling FFC just-in-time (JIT) compiler, this may take some time.\n",
      "  MBD: Hideous and probably bogus hack in representation.py,_evaluatebasis()\n",
      "  MBD: CHECK impl. of hermite map in evaluatebasisderivatives.py\n",
      "  MBD: CHECK impl. of hermite map in evaluatebasisderivatives.py\n",
      "  MBD: CHECK impl. of hermite map in evaluatebasisderivatives.py\n",
      "  MBD: CHECK impl. of hermite map in evaluatebasisderivatives.py\n",
      "  MBD: CHECK impl. of hermite map in evaluatebasisderivatives.py\n",
      "  MBD: CHECK impl. of hermite map in evaluatebasisderivatives.py\n",
      "Calling FFC just-in-time (JIT) compiler, this may take some time.\n",
      "Calling FFC just-in-time (JIT) compiler, this may take some time.\n",
      "This process owns the range 0 - 18\n",
      "This process owns the range 0 - 18\n"
     ]
    },
    {
     "ename": "AttributeError",
     "evalue": "'Argument' object has no attribute 'vector'",
     "output_type": "error",
     "traceback": [
      "\u001b[0;31m---------------------------------------------------------------------------\u001b[0m",
      "\u001b[0;31mAttributeError\u001b[0m                            Traceback (most recent call last)",
      "\u001b[0;32m<ipython-input-1-cb2c3a908668>\u001b[0m in \u001b[0;36m<module>\u001b[0;34m()\u001b[0m\n\u001b[1;32m     20\u001b[0m     \u001b[0;32mreturn\u001b[0m \u001b[0mcompute_dkt_gradient\u001b[0m\u001b[0;34m(\u001b[0m\u001b[0mW\u001b[0m\u001b[0;34m,\u001b[0m \u001b[0mT\u001b[0m\u001b[0;34m,\u001b[0m \u001b[0mu\u001b[0m\u001b[0;34m)\u001b[0m\u001b[0;34m\u001b[0m\u001b[0m\n\u001b[1;32m     21\u001b[0m \u001b[0;34m\u001b[0m\u001b[0m\n\u001b[0;32m---> 22\u001b[0;31m \u001b[0ma\u001b[0m \u001b[0;34m=\u001b[0m \u001b[0minner\u001b[0m\u001b[0;34m(\u001b[0m\u001b[0mgrad\u001b[0m\u001b[0;34m(\u001b[0m\u001b[0mgradh\u001b[0m\u001b[0;34m(\u001b[0m\u001b[0mw\u001b[0m\u001b[0;34m)\u001b[0m\u001b[0;34m)\u001b[0m\u001b[0;34m,\u001b[0m \u001b[0mgrad\u001b[0m\u001b[0;34m(\u001b[0m\u001b[0mgradh\u001b[0m\u001b[0;34m(\u001b[0m\u001b[0mv\u001b[0m\u001b[0;34m)\u001b[0m\u001b[0;34m)\u001b[0m\u001b[0;34m)\u001b[0m\u001b[0;34m*\u001b[0m\u001b[0mdx\u001b[0m\u001b[0;34m\u001b[0m\u001b[0m\n\u001b[0m\u001b[1;32m     23\u001b[0m \u001b[0mL\u001b[0m \u001b[0;34m=\u001b[0m \u001b[0minner\u001b[0m\u001b[0;34m(\u001b[0m\u001b[0mConstant\u001b[0m\u001b[0;34m(\u001b[0m\u001b[0;34m-\u001b[0m\u001b[0;36m9.8\u001b[0m\u001b[0;34m)\u001b[0m\u001b[0;34m,\u001b[0m \u001b[0mv\u001b[0m\u001b[0;34m)\u001b[0m\u001b[0;34m*\u001b[0m\u001b[0mdx\u001b[0m\u001b[0;34m\u001b[0m\u001b[0m\n\u001b[1;32m     24\u001b[0m \u001b[0;34m\u001b[0m\u001b[0m\n",
      "\u001b[0;32m<ipython-input-1-cb2c3a908668>\u001b[0m in \u001b[0;36mgradh\u001b[0;34m(u)\u001b[0m\n\u001b[1;32m     18\u001b[0m \u001b[0;32mdef\u001b[0m \u001b[0mgradh\u001b[0m\u001b[0;34m(\u001b[0m\u001b[0mu\u001b[0m\u001b[0;34m)\u001b[0m\u001b[0;34m:\u001b[0m\u001b[0;34m\u001b[0m\u001b[0m\n\u001b[1;32m     19\u001b[0m     \u001b[0;31m# FIXME: won't work for Arguments!\u001b[0m\u001b[0;34m\u001b[0m\u001b[0;34m\u001b[0m\u001b[0m\n\u001b[0;32m---> 20\u001b[0;31m     \u001b[0;32mreturn\u001b[0m \u001b[0mcompute_dkt_gradient\u001b[0m\u001b[0;34m(\u001b[0m\u001b[0mW\u001b[0m\u001b[0;34m,\u001b[0m \u001b[0mT\u001b[0m\u001b[0;34m,\u001b[0m \u001b[0mu\u001b[0m\u001b[0;34m)\u001b[0m\u001b[0;34m\u001b[0m\u001b[0m\n\u001b[0m\u001b[1;32m     21\u001b[0m \u001b[0;34m\u001b[0m\u001b[0m\n\u001b[1;32m     22\u001b[0m \u001b[0ma\u001b[0m \u001b[0;34m=\u001b[0m \u001b[0minner\u001b[0m\u001b[0;34m(\u001b[0m\u001b[0mgrad\u001b[0m\u001b[0;34m(\u001b[0m\u001b[0mgradh\u001b[0m\u001b[0;34m(\u001b[0m\u001b[0mw\u001b[0m\u001b[0;34m)\u001b[0m\u001b[0;34m)\u001b[0m\u001b[0;34m,\u001b[0m \u001b[0mgrad\u001b[0m\u001b[0;34m(\u001b[0m\u001b[0mgradh\u001b[0m\u001b[0;34m(\u001b[0m\u001b[0mv\u001b[0m\u001b[0;34m)\u001b[0m\u001b[0;34m)\u001b[0m\u001b[0;34m)\u001b[0m\u001b[0;34m*\u001b[0m\u001b[0mdx\u001b[0m\u001b[0;34m\u001b[0m\u001b[0m\n",
      "\u001b[0;32m/home/fenics/shared/hermite/discrete_gradient.ipynb\u001b[0m in \u001b[0;36mcompute_dkt_gradient\u001b[0;34m(V, Vp, u)\u001b[0m\n\u001b[1;32m     13\u001b[0m     \u001b[0;34m\"as defined in (Bartels, 2015) §8.2.1.\\n\"\u001b[0m\u001b[0;34m,\u001b[0m\u001b[0;34m\u001b[0m\u001b[0m\n\u001b[1;32m     14\u001b[0m     \u001b[0;34m\"\\n\"\u001b[0m\u001b[0;34m,\u001b[0m\u001b[0;34m\u001b[0m\u001b[0m\n\u001b[0;32m---> 15\u001b[0;31m     \u001b[0;34m\"## First goal: derivative of a piecewise linear function\\n\"\u001b[0m\u001b[0;34m,\u001b[0m\u001b[0;34m\u001b[0m\u001b[0m\n\u001b[0m\u001b[1;32m     16\u001b[0m     \u001b[0;34m\"\\n\"\u001b[0m\u001b[0;34m,\u001b[0m\u001b[0;34m\u001b[0m\u001b[0m\n\u001b[1;32m     17\u001b[0m     \u001b[0;34m\"** To do for this goal:** A rewrite in C++?\\n\"\u001b[0m\u001b[0;34m,\u001b[0m\u001b[0;34m\u001b[0m\u001b[0m\n",
      "\u001b[0;31mAttributeError\u001b[0m: 'Argument' object has no attribute 'vector'"
     ]
    }
   ],
   "source": [
    "from dolfin import *\n",
    "import nbimporter\n",
    "from discrete_gradient import dkt_gradient_operator, compute_dkt_gradient\n",
    "\n",
    "W = FunctionSpace(UnitSquareMesh(1,1), 'DKT', 3)\n",
    "T = VectorFunctionSpace(W.mesh(), 'Lagrange', 2, dim=2)\n",
    "w = TrialFunction(W)\n",
    "v = TestFunction(W)\n",
    "\n",
    "Dh = dkt_gradient_operator(W, T)\n",
    "\n",
    "class Boundary(SubDomain):\n",
    "    def inside(self, x, on_boundary):\n",
    "        return on_boundary\n",
    "\n",
    "bc = DirichletBC(W, Constant(0.), Boundary())\n",
    "\n",
    "def gradh(u):\n",
    "    # FIXME: won't work for Arguments!\n",
    "    return compute_dkt_gradient(W, T, u)\n",
    "\n",
    "a = inner(grad(gradh(w)), grad(gradh(v)))*dx\n",
    "L = inner(Constant(-9.8), v)*dx\n",
    "\n",
    "u = Function(W)\n",
    "solve(a == L, u)"
   ]
  },
  {
   "cell_type": "markdown",
   "metadata": {
    "collapsed": false
   },
   "source": [
    "```python\n",
    "W.tabulate_dof_coordinates().reshape((-1, 2)).shape,\\\n",
    "T.tabulate_dof_coordinates().reshape((-1, 2)).shape\n",
    "\n",
    "from boundary import plot_dofs\n",
    "%matplotlib inline\n",
    "plot_dofs(W, W.dofmap().dofs(), linewidth=2)\n",
    "plot_dofs(T, T.dofmap().dofs(), c='red')\n",
    "```"
   ]
  },
  {
   "cell_type": "code",
   "execution_count": null,
   "metadata": {
    "collapsed": true
   },
   "outputs": [],
   "source": []
  }
 ],
 "metadata": {
  "kernelspec": {
   "display_name": "Python 2",
   "language": "python",
   "name": "python2"
  },
  "language_info": {
   "codemirror_mode": {
    "name": "ipython",
    "version": 2
   },
   "file_extension": ".py",
   "mimetype": "text/x-python",
   "name": "python",
   "nbconvert_exporter": "python",
   "pygments_lexer": "ipython2",
   "version": "2.7.12"
  }
 },
 "nbformat": 4,
 "nbformat_minor": 2
}
