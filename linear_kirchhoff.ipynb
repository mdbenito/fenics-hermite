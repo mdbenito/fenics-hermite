{
 "cells": [
  {
   "cell_type": "markdown",
   "metadata": {},
   "source": [
    "# Intro\n",
    "\n",
    "As a first test for DKT elements, in this notebook we find minimal configurations (of the vertical displacements $u$) for the energy\n",
    "\n",
    "$$ I_{K i}(w) = \\frac{1}{2} \\int_\\omega |D^2 w|^2 \\mathrm{d}x - \\int_\\omega f_3 w \\mathrm{d}x$$\n",
    "\n",
    "under homogeneous Dirichlet boundary conditions. This means solving the linear problem\n",
    "\n",
    "$$ (D^2w, D^2v) = (f_3,v),$$\n",
    "\n",
    "for all $v \\in W$. We implement a the non-conforming discretisation\n",
    "\n",
    "$$ (\\nabla \\nabla_h w_h, \\nabla \\nabla_h v_h) = (f_3, v_h), $$\n",
    "\n",
    "for all $v_h \\in W_{h,D} := ...$\n",
    "\n",
    "The crux of the matter is the [discrete gradient operator](discrete_gradient.ipynb) $\\nabla_h$. Recall that $\\nabla_h : W_h \\rightarrow \\Theta_h$ is defined as..."
   ]
  },
  {
   "cell_type": "markdown",
   "metadata": {},
   "source": [
    "# DKT discrete gradient and UFL\n",
    "\n",
    "Our naive implementation of `compute_dkt_gradient()` for Functions won't work for `Arguments`: we would need to instruct UFL how to generate UFC code for the form and integrals. However, it is not clear that this is possible at all: UFL forms are element-agnostic, meaning that they have no knowledge of the basis of shape functions. In particular, they are meant to act on *one* generic basis function at a time, so that it seems impossible to define a discrete operator which acts on all basis functions of one cell."
   ]
  },
  {
   "cell_type": "code",
   "execution_count": null,
   "metadata": {
    "hide_input": false,
    "scrolled": false
   },
   "outputs": [],
   "source": [
    "from dolfin import *\n",
    "import nbimporter\n",
    "from discrete_gradient import dkt_gradient_operator, compute_dkt_gradient\n",
    "\n",
    "W = FunctionSpace(UnitSquareMesh(1,1), 'DKT', 3)\n",
    "T = VectorFunctionSpace(W.mesh(), 'Lagrange', 2, dim=2)\n",
    "w = TrialFunction(W)\n",
    "v = TestFunction(W)\n",
    "\n",
    "Dh = dkt_gradient_operator(W, T)\n",
    "\n",
    "class Boundary(SubDomain):\n",
    "    def inside(self, x, on_boundary):\n",
    "        return on_boundary\n",
    "\n",
    "bc = DirichletBC(W, Constant(0.), Boundary())\n",
    "\n",
    "def gradh(u):\n",
    "    # FIXME: won't work for Arguments!\n",
    "    return compute_dkt_gradient(W, T, u)\n",
    "\n",
    "a = inner(nabla_grad(gradh(w)), nabla_grad(gradh(v)))*dx\n",
    "L = inner(Constant(-9.8), v)*dx\n",
    "\n",
    "u = Function(W)\n",
    "solve(a == L, u)"
   ]
  },
  {
   "cell_type": "markdown",
   "metadata": {},
   "source": [
    "# Manual assembly of the stiffness matrix\n",
    "\n",
    "The alternative to extending UFL is to build the system matrix ourselves. Here is one possible way of doing this which reuses what FFC already provides. Let $T \\in \\mathcal{T}_h$ be one cell in the triangulation. We want to\n",
    "assemble the **local tensor** for the bilinear form over the DKT\n",
    "element, $P^{\\text{red}}_3 (T)$:\n",
    "\n",
    "$$ (\\nabla \\nabla_h \\phi_j, \\nabla \\nabla_h \\phi_i)\n",
    "  = (f_3, \\phi_i), \\text{ for all } \\phi_i, \\phi_j \\in P^{\\text{red}}_3 (T) . $$\n",
    "\n",
    "Let $\\theta_l, \\theta_k \\in P_2^2 (T)$ and let\n",
    "$$ A^{(2)}_{l  k} = (\\nabla \\theta_k, \\nabla \\theta_l), \\quad k, l \\in\n",
    "   [12] $$\n",
    "be the **local tensor** for the $P_2^2$ element over $T$. Recall that\n",
    "$M_T = (m_{p  q}) \\in \\mathbb{R}^{12 \\times 9}$ is the matrix for the\n",
    "local discrete gradient. Then, for every $\\phi_i, i \\in [9]$:\n",
    "\n",
    "$$ \\nabla_h \\phi_i = M_T  \\left(\\begin{array}{c}\n",
    "     0\\\\\n",
    "     \\vdots\\\\\n",
    "     1\\\\\n",
    "     \\vdots\\\\\n",
    "     0\n",
    "   \\end{array}\\right) = (M_T)_{l  i} \\theta_l = m_{l  i}\n",
    "   \\theta_l, $$\n",
    "and analogously $ \\nabla_h \\phi_j = m_{k  j} \\theta_k . $\n",
    "\n",
    "Substituting back in (\\ref{eq:local-tensor-lki}) we obtain\n",
    "\n",
    "$$ A_{i  j} = (\\nabla \\nabla_h \\phi_j, \\nabla \\nabla_h \\phi_i) = m_{k\n",
    "    j} m_{l  i}  (\\nabla \\theta_k, \\nabla \\theta_l) = m_{k\n",
    "    j} m_{l  i} A_{l  k}^{(2)} . $$\n",
    "\n",
    "To summarize:\n",
    "\n",
    "1. Compile with `ffc` the form inner$(\\nabla u, \\nabla v)$\\*dx for `VectorFunctionSpace<P2>`. This provides us with the local cell tensor $A^{(2)}$ in `cell_integral::tabulate_tensor`.\n",
    "2. Compile with `ffc` the form inner$(u, v)$\\*dx for `FunctionSpace<DKT>`. The dofmaps, etc. should be ok. This provides us with the **wrong** local cell tensor. In order to compute the right one, $A^{(1)}$:\n",
    "    1. Compute the local matrix for $\\nabla_h$ over simplex $t$: $M_t = (m_{p q})$.\n",
    "    2. Compute \n",
    "    $$A_{i j}^{(1)} = m_{k j} m_{l i} A_{l k}^{(2)} = (M_{: i})^T A^{(2)} M_{: j}$$\n",
    "    3. Do this inside `cell_integral::tabulate_tensor` for the form.\n",
    "3. Let dolfin assemble the matrix"
   ]
  },
  {
   "cell_type": "markdown",
   "metadata": {},
   "source": [
    "## The form in $P_2^2$\n",
    "\n",
    "We first generate the code for $(\\nabla u, \\nabla v)$ ('compile' in ffc terms):"
   ]
  },
  {
   "cell_type": "code",
   "execution_count": null,
   "metadata": {},
   "outputs": [],
   "source": [
    "from ffc import compile_form\n",
    "from dolfin import *\n",
    "\n",
    "V = VectorFunctionSpace(UnitSquareMesh(1,1), \"Lagrange\", 2, dim=2)\n",
    "u = TrialFunction(V)\n",
    "v = TestFunction(V)\n",
    "a = inner(nabla_grad(u), nabla_grad(v))*dx\n",
    "with open(\"grad-grad-vecP2.h\", \"wt\") as fd:\n",
    "    code = compile_form(a)\n",
    "    fd.write(code[0])"
   ]
  },
  {
   "cell_type": "markdown",
   "metadata": {},
   "source": [
    "[This guide](http://hplgit.github.io/fenics-mixed/doc/pub/sphinx-cbc/._part0003_fenics-mixed.html) offers info on how to compile C++ extensions and make them available as python modules, but this is not enough for forms and elements, since dolfin has to be aware of them. So the following code won't be enough:\n",
    "\n",
    "```python\n",
    "grad_grad_module = compile_extension_module(code=code[0], source_directory='.',\n",
    "                                            sources=[], include_dirs=[\".\"])\n",
    "```\n",
    "\n",
    "Instead, we mimic what dolfin does when we call `assemble` for a form and use `jit`:"
   ]
  },
  {
   "cell_type": "code",
   "execution_count": null,
   "metadata": {},
   "outputs": [],
   "source": [
    "from dolfin.fem.form import Form"
   ]
  },
  {
   "cell_type": "code",
   "execution_count": null,
   "metadata": {},
   "outputs": [],
   "source": [
    "# TODO... HERE..."
   ]
  },
  {
   "cell_type": "markdown",
   "metadata": {},
   "source": [
    "## The form in DKT"
   ]
  },
  {
   "cell_type": "code",
   "execution_count": null,
   "metadata": {
    "collapsed": true
   },
   "outputs": [],
   "source": [
    "W = FunctionSpace(V.mesh(), \"Hermite\", 3)\n",
    "u = TrialFunction(V)\n",
    "v = TestFunction(V)\n",
    "a = inner(u, v)*dx\n",
    "with open(\"u-v-her.h\", \"wt\") as fd:\n",
    "    out = compile_form(a)\n",
    "    fd.write(out[0])"
   ]
  },
  {
   "cell_type": "markdown",
   "metadata": {},
   "source": [
    "# ufc_utils\n",
    "\n",
    "One can use the templates in `ffc.backends.ufc` to generate the classes inheriting from `ufc::form` and `uf::cell_integral`."
   ]
  },
  {
   "cell_type": "code",
   "execution_count": null,
   "metadata": {
    "collapsed": true
   },
   "outputs": [],
   "source": [
    "from ffc.backends.ufc import form as uf\n",
    "\n",
    "impl = dict(classname = 'linear_kirchhoff',\n",
    "            constructor = '// Do nothing',\n",
    "            constructor_arguments = '',\n",
    "            create_cell_integral = '',\n",
    "            create_coordinate_dofmap = '',\n",
    "            create_coordinate_finite_element = '',\n",
    "            create_coordinate_mapping = '',\n",
    "            create_custom_integral = '',\n",
    "            create_cutcell_integral = '',\n",
    "            create_default_cell_integral = '',\n",
    "            create_default_custom_integral = '',\n",
    "            create_default_cutcell_integral = '',\n",
    "            create_default_exterior_facet_integral = '',\n",
    "            create_default_interface_integral = '',\n",
    "            create_default_interior_facet_integral = '',\n",
    "            create_default_overlap_integral = '',\n",
    "            create_default_vertex_integral = '',\n",
    "            create_dofmap = '',\n",
    "            create_exterior_facet_integral = '',\n",
    "            create_finite_element = '',\n",
    "            create_interface_integral = 'return 0;',\n",
    "            create_interior_facet_integral = 'return 0;',\n",
    "            create_overlap_integral = 'return 0;',\n",
    "            create_vertex_integral = '',\n",
    "            destructor = '// Do nothing',\n",
    "            has_cell_integrals = '',\n",
    "            has_custom_integrals = '',\n",
    "            has_cutcell_integrals = '',\n",
    "            has_exterior_facet_integrals = '',\n",
    "            has_interface_integrals = '',\n",
    "            has_interior_facet_integrals = '',\n",
    "            has_overlap_integrals = '',\n",
    "            has_vertex_integrals = '',\n",
    "            initializer_list = '',\n",
    "            max_cell_subdomain_id = '',\n",
    "            max_custom_subdomain_id = '',\n",
    "            max_cutcell_subdomain_id = '',\n",
    "            max_exterior_facet_subdomain_id = '',\n",
    "            max_interface_subdomain_id = '',\n",
    "            max_interior_facet_subdomain_id = '',\n",
    "            max_overlap_subdomain_id = '',\n",
    "            max_vertex_subdomain_id = '',\n",
    "            members = '',\n",
    "            num_coefficients = 'return 0;',\n",
    "            original_coefficient_position = 'return 0;',\n",
    "            rank = '',\n",
    "            signature = 'return \"Linear Kirchhoff plate\";')\n",
    "print(uf.form_header % impl)\n",
    "print(uf.form_implementation % impl)\n",
    "\n",
    "implementation = {}\n",
    "\n",
    "implementation[\"signature\"] = 'return \"my form\"'\n",
    "implementation[\"rank\"] = \"return 2;\" \n",
    "implementation[\"num_coefficients\"] = \"return 0;\" \n",
    "implementation[\"num_cell_domains\"] = \"return 3;\"\n",
    "implementation[\"num_interior_facet_domains\"] = \"return 1;\" \n",
    "implementation[\"num_exterior_facet_domains\"] = \"return 0;\" \n",
    "\n",
    "implementation[\"create_finite_element\"] = \"\"\"\n",
    "switch (i)\n",
    "{\n",
    "case 0:\n",
    "  return new my_finite_element_0();\n",
    "case 1:\n",
    "  return new my_finite_element_1();\n",
    "default:\n",
    "return 0; }\"\"\"\n",
    "implementation[\"create_dofmap\"] = \"\"\" switch (i)\n",
    "{\n",
    "case 0:\n",
    "  return new my_dofmap_0();\n",
    "case 1:\n",
    "  return new my_dofmap_1();\n",
    "default:\n",
    "return 0; }\"\"\"\n",
    "implementation[\"create_cell_integral\"] = \"\"\" switch (i)\n",
    "{\n",
    "case 0:\n",
    "  return new my_cell_integral_0();\n",
    "case 1:\n",
    "  return new my_cell_integral_1();\n",
    "case 2:\n",
    "  return new my_cell_integral_2();\n",
    "default:\n",
    "return 0; }\"\"\"\n",
    "implementation[\"create_exterior_facet_integral\"] = \"return new my_exterior_facet_integral();\""
   ]
  },
  {
   "cell_type": "code",
   "execution_count": null,
   "metadata": {
    "collapsed": true
   },
   "outputs": [],
   "source": []
  }
 ],
 "metadata": {
  "hide_input": false,
  "kernelspec": {
   "display_name": "Python 3",
   "language": "python",
   "name": "python3"
  },
  "language_info": {
   "codemirror_mode": {
    "name": "ipython",
    "version": 3
   },
   "file_extension": ".py",
   "mimetype": "text/x-python",
   "name": "python",
   "nbconvert_exporter": "python",
   "pygments_lexer": "ipython3",
   "version": "3.5.2"
  },
  "toc": {
   "colors": {
    "hover_highlight": "#DAA520",
    "running_highlight": "#FF0000",
    "selected_highlight": "#FFD700"
   },
   "moveMenuLeft": true,
   "nav_menu": {
    "height": "26px",
    "width": "254px"
   },
   "navigate_menu": true,
   "number_sections": true,
   "sideBar": true,
   "threshold": 4,
   "toc_cell": false,
   "toc_section_display": "block",
   "toc_window_display": false,
   "widenNotebook": false
  }
 },
 "nbformat": 4,
 "nbformat_minor": 2
}
