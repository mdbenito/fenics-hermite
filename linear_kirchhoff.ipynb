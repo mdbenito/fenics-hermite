{
 "cells": [
  {
   "cell_type": "markdown",
   "metadata": {},
   "source": [
    "# Intro\n",
    "\n",
    "As a first test for DKT elements, in this notebook we find minimal configurations (of the vertical displacements $u$) for the energy\n",
    "\n",
    "$$ I_{K i}(w) = \\frac{1}{2} \\int_\\omega |D^2 w|^2 \\mathrm{d}x - \\int_\\omega f_3 w \\mathrm{d}x$$\n",
    "\n",
    "under homogeneous Dirichlet boundary conditions. This means solving the linear problem\n",
    "\n",
    "$$ (D^2w, D^2v) = (f_3,v),$$\n",
    "\n",
    "for all $v \\in W$, with the discretisation\n",
    "\n",
    "$$ (\\nabla \\nabla_h w_h, \\nabla \\nabla_h v_h) = (f_3, v_h), $$\n",
    "\n",
    "for all $v_h \\in W_{h,D} := ...$\n",
    "\n",
    "The crux of the matter is the [discrete gradient operator](discrete_gradient.ipynb) $\\nabla_h$. Recall that $\\nabla_h : W_h \\rightarrow \\Theta_h$ is defined as...\n",
    "\n",
    "Computing the gradient on whole Functions is not what we need here, though. Instead we need to incorporate it cell-wise into the assembly process. This requires writing our own `ufc::form` and `ufc::cell_integral`, etc. for dolfin's assembler to use."
   ]
  },
  {
   "cell_type": "markdown",
   "metadata": {},
   "source": [
    "## Failing test"
   ]
  },
  {
   "cell_type": "code",
   "execution_count": null,
   "metadata": {
    "collapsed": true,
    "scrolled": false
   },
   "outputs": [],
   "source": [
    "from dolfin import *\n",
    "import nbimporter\n",
    "from discrete_gradient import dkt_gradient_operator, compute_dkt_gradient\n",
    "\n",
    "W = FunctionSpace(UnitSquareMesh(1,1), 'DKT', 3)\n",
    "T = VectorFunctionSpace(W.mesh(), 'Lagrange', 2, dim=2)\n",
    "w = TrialFunction(W)\n",
    "v = TestFunction(W)\n",
    "\n",
    "Dh = dkt_gradient_operator(W, T)\n",
    "\n",
    "class Boundary(SubDomain):\n",
    "    def inside(self, x, on_boundary):\n",
    "        return on_boundary\n",
    "\n",
    "bc = DirichletBC(W, Constant(0.), Boundary())\n",
    "\n",
    "def gradh(u):\n",
    "    # FIXME: won't work for Arguments!\n",
    "    return compute_dkt_gradient(W, T, u)\n",
    "\n",
    "a = inner(grad(gradh(w)), grad(gradh(v)))*dx\n",
    "L = inner(Constant(-9.8), v)*dx\n",
    "\n",
    "u = Function(W)\n",
    "solve(a == L, u)"
   ]
  },
  {
   "cell_type": "markdown",
   "metadata": {},
   "source": [
    "## ufc_utils"
   ]
  },
  {
   "cell_type": "code",
   "execution_count": null,
   "metadata": {},
   "outputs": [],
   "source": [
    "from ffc.backends.ufc import form as uf"
   ]
  },
  {
   "cell_type": "code",
   "execution_count": null,
   "metadata": {},
   "outputs": [],
   "source": [
    "impl = dict(classname = 'linear_kirchhoff',\n",
    "            constructor = '// Do nothing',\n",
    "            constructor_arguments = '',\n",
    "            create_cell_integral = '',\n",
    "            create_coordinate_dofmap = '',\n",
    "            create_coordinate_finite_element = '',\n",
    "            create_coordinate_mapping = '',\n",
    "            create_custom_integral = '',\n",
    "            create_cutcell_integral = '',\n",
    "            create_default_cell_integral = '',\n",
    "            create_default_custom_integral = '',\n",
    "            create_default_cutcell_integral = '',\n",
    "            create_default_exterior_facet_integral = '',\n",
    "            create_default_interface_integral = '',\n",
    "            create_default_interior_facet_integral = '',\n",
    "            create_default_overlap_integral = '',\n",
    "            create_default_vertex_integral = '',\n",
    "            create_dofmap = '',\n",
    "            create_exterior_facet_integral = '',\n",
    "            create_finite_element = '',\n",
    "            create_interface_integral = 'return 0;',\n",
    "            create_interior_facet_integral = 'return 0;',\n",
    "            create_overlap_integral = 'return 0;',\n",
    "            create_vertex_integral = '',\n",
    "            destructor = '// Do nothing',\n",
    "            has_cell_integrals = '',\n",
    "            has_custom_integrals = '',\n",
    "            has_cutcell_integrals = '',\n",
    "            has_exterior_facet_integrals = '',\n",
    "            has_interface_integrals = '',\n",
    "            has_interior_facet_integrals = '',\n",
    "            has_overlap_integrals = '',\n",
    "            has_vertex_integrals = '',\n",
    "            initializer_list = '',\n",
    "            max_cell_subdomain_id = '',\n",
    "            max_custom_subdomain_id = '',\n",
    "            max_cutcell_subdomain_id = '',\n",
    "            max_exterior_facet_subdomain_id = '',\n",
    "            max_interface_subdomain_id = '',\n",
    "            max_interior_facet_subdomain_id = '',\n",
    "            max_overlap_subdomain_id = '',\n",
    "            max_vertex_subdomain_id = '',\n",
    "            members = '',\n",
    "            num_coefficients = '',\n",
    "            original_coefficient_position = '',\n",
    "            rank = '',\n",
    "            signature = 'return \"Linear Kirchhoff plate\";')\n",
    "print(uf.form_header % impl)\n",
    "print(uf.form_implementation % impl)"
   ]
  },
  {
   "cell_type": "code",
   "execution_count": null,
   "metadata": {},
   "outputs": [],
   "source": [
    "implementation = {}\n",
    "\n",
    "implementation[\"signature\"] = 'return \"my form\"'\n",
    "implementation[\"rank\"] = \"return 2;\" \n",
    "implementation[\"num_coefficients\"] = \"return 0;\" \n",
    "implementation[\"num_cell_domains\"] = \"return 3;\"\n",
    "implementation[\"num_interior_facet_domains\"] = \"return 1;\" \n",
    "implementation[\"num_exterior_facet_domains\"] = \"return 0;\" \n",
    "\n",
    "implementation[\"create_finite_element\"] = \"\"\"\n",
    "switch (i)\n",
    "{\n",
    "case 0:\n",
    "  return new my_finite_element_0();\n",
    "case 1:\n",
    "  return new my_finite_element_1();\n",
    "default:\n",
    "return 0; }\"\"\"\n",
    "implementation[\"create_dofmap\"] = \"\"\" switch (i)\n",
    "{\n",
    "case 0:\n",
    "  return new my_dofmap_0();\n",
    "case 1:\n",
    "  return new my_dofmap_1();\n",
    "default:\n",
    "return 0; }\"\"\"\n",
    "implementation[\"create_cell_integral\"] = \"\"\" switch (i)\n",
    "{\n",
    "case 0:\n",
    "  return new my_cell_integral_0();\n",
    "case 1:\n",
    "  return new my_cell_integral_1();\n",
    "case 2:\n",
    "  return new my_cell_integral_2();\n",
    "default:\n",
    "return 0; }\"\"\"\n",
    "implementation[\"create_exterior_facet_integral\"] = \"return new my_exterior_facet_integral();\""
   ]
  },
  {
   "cell_type": "code",
   "execution_count": null,
   "metadata": {
    "collapsed": true
   },
   "outputs": [],
   "source": []
  }
 ],
 "metadata": {
  "hide_input": false,
  "kernelspec": {
   "display_name": "Python 3",
   "language": "python",
   "name": "python3"
  },
  "language_info": {
   "codemirror_mode": {
    "name": "ipython",
    "version": 3
   },
   "file_extension": ".py",
   "mimetype": "text/x-python",
   "name": "python",
   "nbconvert_exporter": "python",
   "pygments_lexer": "ipython3",
   "version": "3.5.2"
  },
  "toc": {
   "colors": {
    "hover_highlight": "#DAA520",
    "running_highlight": "#FF0000",
    "selected_highlight": "#FFD700"
   },
   "moveMenuLeft": true,
   "nav_menu": {
    "height": "26px",
    "width": "254px"
   },
   "navigate_menu": true,
   "number_sections": true,
   "sideBar": true,
   "threshold": 4,
   "toc_cell": false,
   "toc_section_display": "block",
   "toc_window_display": false,
   "widenNotebook": false
  }
 },
 "nbformat": 4,
 "nbformat_minor": 2
}
