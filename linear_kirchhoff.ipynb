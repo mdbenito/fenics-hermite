{
 "cells": [
  {
   "cell_type": "markdown",
   "metadata": {},
   "source": [
    "# The linear Kirchhoff model\n",
    "\n",
    "As a first test for DKT elements, in this notebook we find minimal configurations (of the vertical displacements $u$) for the energy\n",
    "\n",
    "$$ I_{K i}(w) = \\frac{1}{2} \\int_\\omega |D^2 w|^2 \\mathrm{d}x - \\int_\\omega f_3 w \\mathrm{d}x$$\n",
    "\n",
    "under homogeneous Dirichlet boundary conditions. This means finding critical points (which will be minima ...) solving the linear problem\n",
    "\n",
    "$$ (D^2w, D^2v) = (f_3,v),$$\n",
    "\n",
    "for all $v \\in W$. Following [Bartels2015, Chapter 8.2], we implement a non-conforming discretisation\n",
    "\n",
    "$$ (\\nabla \\nabla_h w_h, \\nabla \\nabla_h v_h) = (f_3, v_h), $$\n",
    "\n",
    "for all $v_h \\in W_{h,D} := \\{w_h \\in C(\\bar{\\omega}) : w_h|T \\in P_3^{\\text{red}}(T)\\ \\text{for all}\\ T \\in \\mathcal{T}_h \\ \\text{with continuous gradients at all nodes}\\}$, where the crux of the matter is the **discrete gradient operator** $\\nabla_h : W_h \\rightarrow \\Theta_h$, with $\\Theta_h$ which interpolates the gradient of $w_h$ into a (two-dimensional) vector-valued $P_2$ space. See [Discrete gradient operators](discrete_gradient.ipynb) for more details."
   ]
  },
  {
   "cell_type": "markdown",
   "metadata": {},
   "source": [
    "# DKT discrete gradient and UFL\n",
    "\n",
    "Our naive implementation of `compute_dkt_gradient()` for Functions won't work for UFL `Arguments`: we would need to instruct UFL how to generate UFC code for the form and integrals. However, it is not clear that this is possible at all: UFL forms are element-agnostic, meaning that they have no knowledge of the basis of shape functions. In particular, they are meant to act on *one* generic basis function at a time, so that it seems impossible to define a discrete operator which acts on all basis functions of one cell.\n",
    "\n",
    "However, for the very simple form $ (\\nabla \\nabla_h w_h, \\nabla \\nabla_h v_h) = (f_3, v_h)$ it is possible to reuse that code to modify the system matrix. Ideally, we would assemble the stiffness matrix by traversing all cells while applying the discrete gradient operator where required. Let $T \\in \\mathcal{T}_h$ be one cell in the triangulation. We want to\n",
    "assemble the **local tensor** for the bilinear form over the DKT\n",
    "element, $P^{\\text{red}}_3 (T)$:\n",
    "\n",
    "$$ (\\nabla \\nabla_h \\phi_j, \\nabla \\nabla_h \\phi_i)\n",
    "  = (f_3, \\phi_i), \\text{ for all } \\phi_i, \\phi_j \\in P^{\\text{red}}_3 (T) . $$\n",
    "\n",
    "Let $\\theta_l, \\theta_k \\in P_2^2 (T)$ and let\n",
    "$$ A^{(2)}_{l  k} = (\\nabla \\theta_k, \\nabla \\theta_l), \\quad k, l \\in\n",
    "   [12] $$\n",
    "be the **local tensor** for the $P_2^2$ element over $T$. Recall that\n",
    "$M_T = (m_{p  q}) \\in \\mathbb{R}^{12 \\times 9}$ is the matrix for the\n",
    "local discrete gradient. Then, for every $\\phi_i, i \\in [9]$:\n",
    "\n",
    "$$ \\nabla_h \\phi_i = M_T  \\left(\\begin{array}{c}\n",
    "     0\\\\\n",
    "     \\vdots\\\\\n",
    "     1\\\\\n",
    "     \\vdots\\\\\n",
    "     0\n",
    "   \\end{array}\\right) = (M_T)_{l  i} \\theta_l = m_{l  i}\n",
    "   \\theta_l, $$\n",
    "and analogously $ \\nabla_h \\phi_j = m_{k  j} \\theta_k . $\n",
    "\n",
    "Substituting back in (\\ref{eq:local-tensor-lki}) we obtain\n",
    "\n",
    "$$ A_{i  j} = (\\nabla \\nabla_h \\phi_j, \\nabla \\nabla_h \\phi_i) = m_{k\n",
    "    j} m_{l  i}  (\\nabla \\theta_k, \\nabla \\theta_l) = m_{k\n",
    "    j} m_{l  i} A_{l  k}^{(2)} . $$\n",
    "\n",
    "However this requires access to the local tensor, provided by `ufc::cell_integral::tabulate_tensor()`, which is not wrapped with SWIG, so we would need a C++ implementation. As a first approximation, we can just use the **global** matrix for $\\nabla_h$, as computed in [Discrete gradient operators](discrete_gradient.ipynb#Discrete-gradient-for-DKT-3) and compute\n",
    "\n",
    "$$ A = M^T A^{(2)} M. $$"
   ]
  },
  {
   "cell_type": "code",
   "execution_count": null,
   "metadata": {
    "hide_input": true
   },
   "outputs": [],
   "source": [
    "from dolfin import *\n",
    "dolfin.DEBUG = 1000\n",
    "\n",
    "import nbimporter\n",
    "from discrete_gradient import dkt_gradient_operator, compute_dkt_gradient\n",
    "from boundary import apply_dirichlet_hermite\n",
    "from interpolation import make_constant\n",
    "from utils import Msg\n",
    "from petsc4py import PETSc\n",
    "\n",
    "import numpy as np\n",
    "import matplotlib.pyplot as pl\n",
    "\n",
    "%matplotlib inline"
   ]
  },
  {
   "cell_type": "markdown",
   "metadata": {},
   "source": [
    "We start with a standard problem definition. We can define the boundary condition (clamped plate) and body force (gravity) right away:"
   ]
  },
  {
   "cell_type": "code",
   "execution_count": null,
   "metadata": {
    "hide_input": false,
    "scrolled": false
   },
   "outputs": [],
   "source": [
    "# Some boilerplate hidden above...\n",
    "\n",
    "domain = UnitSquareMesh(10, 10, 'crossed')\n",
    "W = FunctionSpace(domain, 'DKT', 3)\n",
    "T = VectorFunctionSpace(domain, 'Lagrange', 2, dim=2)\n",
    "\n",
    "Dh = dkt_gradient_operator(W, T)  # A petsc4py.PETSc.Mat object\n",
    "\n",
    "class Boundary(SubDomain):\n",
    "    def inside(self, x, on_boundary):\n",
    "        return on_boundary\n",
    "\n",
    "v = TestFunction(W)\n",
    "L = -9.8*v*dx\n",
    "b = assemble(L)\n",
    "\n",
    "bc = DirichletBC(W, make_constant(0, W), Boundary())"
   ]
  },
  {
   "cell_type": "markdown",
   "metadata": {},
   "source": [
    "## Manual assembly of the system matrix (fixme)\n",
    "\n",
    "We then compute the system matrix for the gradients and multiply it from both sides with the discrete gradient matrix. Our first attempt is to just instantiate a `dolfin.PETScMatrix` from the `petsc4py.PETSc.Mat` object resulting from the matrix product. However this matrix seems to be in an inconsistent state or at least in one which `DirichletBC::apply()` dislikes. This results in a `RuntimeError` which dolfin reports is about diagonal elements but is actually (according to [this answer]()) a PETSc 'Object in wrong state' error."
   ]
  },
  {
   "cell_type": "code",
   "execution_count": null,
   "metadata": {},
   "outputs": [],
   "source": [
    "with Msg(\"Assembling P2 system\"):\n",
    "    a = inner(nabla_grad(TrialFunction(T)), nabla_grad(TestFunction(T)))*dx\n",
    "    A = assemble(a)\n",
    "    _A = as_backend_type(A).mat()\n",
    "\n",
    "with Msg(\"Computing M^t A_2 M\"):\n",
    "    system_matrix = Dh.transposeMatMult(_A.matMult(Dh))\n",
    "    \n",
    "    MtAM = PETScMatrix(system_matrix)\n",
    "    nnz = np.where(np.abs(MtAM.array()) > 1e-12)[0].size / MtAM.array().size\n",
    "    truennz = MtAM.nnz() / (MtAM.size(0)*MtAM.size(1))\n",
    "    MtAM.apply('insert')\n",
    "\n",
    "print(\"%.2f%% of entries are not (almost) zero\" % (100*nnz))\n",
    "print(\"But the PETSc matrix thinks it is %.2f%% \" % (100*truennz))"
   ]
  },
  {
   "cell_type": "markdown",
   "metadata": {},
   "source": [
    "For faster testing of alternatives above, we wrap the problematic call in a try/except and default to gruesomely slow manual copying through a dense array. I really need to find a better way"
   ]
  },
  {
   "cell_type": "code",
   "execution_count": null,
   "metadata": {},
   "outputs": [],
   "source": [
    "try:\n",
    "    apply_dirichlet_hermite(MtAM, b, bc)\n",
    "except RuntimeError as e:\n",
    "    print(\"    [bc.apply() seems to have failed. Defaulting to slow approach]\")\n",
    "    with Msg(\"Assembling DKT system\"):\n",
    "        a = inner(TrialFunction(W), TestFunction(W))*dx\n",
    "        MtAM = assemble(a)  # Wrong name (for now), this is just A\n",
    "\n",
    "    with Msg(\"Overwriting DKT system\"):\n",
    "        n, m = system_matrix.size\n",
    "        rows, cols = np.arange(n, dtype=np.intc), np.arange(m, dtype=np.intc)\n",
    "        vals = system_matrix.getValues(rows, cols)\n",
    "        _MtAM = as_backend_type(MtAM).mat()\n",
    "        _MtAM.setOption(PETSc.Mat.Option.NEW_NONZERO_ALLOCATION_ERR, False)\n",
    "        MtAM.set(vals, rows, cols)\n",
    "        MtAM.apply('insert')\n",
    "    apply_dirichlet_hermite(MtAM, b, bc)"
   ]
  },
  {
   "cell_type": "markdown",
   "metadata": {},
   "source": [
    "## Results\n",
    "\n",
    "I need some analytic solution to test this..."
   ]
  },
  {
   "cell_type": "code",
   "execution_count": null,
   "metadata": {},
   "outputs": [],
   "source": [
    "u = Function(W)\n",
    "solve(MtAM, u.vector(), b)\n",
    "pl.figure(figsize=(16,8))\n",
    "pl.subplot(1,2,1)\n",
    "plot(u, cmap='hot')\n",
    "pl.title('Solution (vertical displacement)')\n",
    "pl.subplot(1,2,2)\n",
    "xx = np.array(sorted(list(set(domain.coordinates()[:,0]))))\n",
    "yy = np.array(sorted(list(set(domain.coordinates()[:,1]))))\n",
    "for y in yy[::6]:\n",
    "    pl.plot(xx, [u(x, y) for x in xx], label='@y=%.2f' % y)\n",
    "pl.legend()\n",
    "_ = pl.title('Cross section at several ordinates')\n",
    "#pl.savefig('img/linear-kirchhoff.eps')"
   ]
  },
  {
   "cell_type": "markdown",
   "metadata": {},
   "source": [
    "# Using forms instead of the assembly (don't!)\n",
    "\n",
    "FORGET THIS, just assemble the matrix manually using both forms (and their dofmaps, tensors or whatever necessary).\n",
    "\n",
    "In a nutshell:\n",
    "\n",
    "1. Compile with `ffc` the form inner$(\\nabla u, \\nabla v)$\\*dx for `VectorFunctionSpace<P2>`. This provides us with the local cell tensor $A^{(2)}$ in `cell_integral::tabulate_tensor`.\n",
    "2. Compile with `ffc` the form inner$(u, v)$\\*dx for `FunctionSpace<DKT>`. The dofmaps, etc. should be ok. This provides us with the **wrong** local cell tensor. In order to compute the right one, $A^{(1)}$:\n",
    "    1. Compute the local matrix for $\\nabla_h$ over simplex $t$: $M_t = (m_{p q})$.\n",
    "    2. Compute \n",
    "    $$A_{i j}^{(1)} = m_{k j} m_{l i} A_{l k}^{(2)} = (M_{: i})^T A^{(2)} M_{: j}$$\n",
    "    i.e.\n",
    "    $$ A = M^T A^{(2)} M $$\n",
    "    3. Do this inside `cell_integral::tabulate_tensor` for the form.\n",
    "3. Let dolfin assemble the matrix."
   ]
  },
  {
   "cell_type": "markdown",
   "metadata": {},
   "source": [
    "## The form in $P_2^2$\n",
    "\n",
    "We first generate the code for $(\\nabla u, \\nabla v)$ ('compile' in ffc terms):"
   ]
  },
  {
   "cell_type": "code",
   "execution_count": null,
   "metadata": {
    "collapsed": true
   },
   "outputs": [],
   "source": [
    "from ffc import compile_form\n",
    "from dolfin import *\n",
    "\n",
    "domain = UnitSquareMesh(1,1)\n",
    "W = VectorFunctionSpace(domain, \"Lagrange\", 2, dim=2)\n",
    "u = TrialFunction(W)\n",
    "v = TestFunction(W)\n",
    "a = inner(nabla_grad(u), nabla_grad(v))*dx\n",
    "with open(\"grad-grad-vecP2.h\", \"wt\") as fd:\n",
    "    code = compile_form(a)\n",
    "    fd.write(code[0])"
   ]
  },
  {
   "cell_type": "markdown",
   "metadata": {},
   "source": [
    "[This guide](http://hplgit.github.io/fenics-mixed/doc/pub/sphinx-cbc/._part0003_fenics-mixed.html) offers info on how to compile C++ extensions and make them available as python modules, but this is not enough for forms and elements, since dolfin has to be aware of them. So the following code won't be enough:\n",
    "\n",
    "```python\n",
    "grad_grad_module = compile_extension_module(code=code[0], source_directory='.',\n",
    "                                            sources=[], include_dirs=[\".\"])\n",
    "```\n",
    "\n",
    "Instead, we mimic what dolfin does when we call `assemble` for a form and use `jit`.\n",
    "\n",
    "For forms this amounts basically to calling `ffc.jit()` on the UFL form. This returns a triple `compiled_form, module, prefix`, where `compiled_form` is a pointer (an integer which swig `reinterpret_cast`s to `ufc::form *`) which `cpp.make_ufc_form()` uses to build a swig object.\n",
    "\n",
    "The form is however of little use from python since most of the `ufc` namespace is hidden away in `dolfin/swig/common/pre.i`, in particular `ufc::cell_integral` is unavailable and we need it (`tabulate_tensor()`) to compute the local tensor and assemble the system matrix. So it seems that I'd have to implement the assembler in C++, but then why compile a specific form in the first place?"
   ]
  },
  {
   "cell_type": "code",
   "execution_count": null,
   "metadata": {},
   "outputs": [],
   "source": [
    "from dolfin.fem.form import Form\n",
    "from dolfin.compilemodules.jit import jit\n",
    "\n",
    "import dolfin.cpp as cpp\n",
    "import ffc\n",
    "\n",
    "jit_result = jit(a)\n",
    "ffc_jit_result = ffc.jit(a)\n",
    "fm = cpp.make_ufc_form(ffc_jit_result[0])\n",
    "jit_result, ffc_jit_result"
   ]
  },
  {
   "cell_type": "markdown",
   "metadata": {},
   "source": [
    "## The form in DKT"
   ]
  },
  {
   "cell_type": "code",
   "execution_count": null,
   "metadata": {
    "collapsed": true
   },
   "outputs": [],
   "source": [
    "V = FunctionSpace(domain, \"DKT\", 3)\n",
    "u = TrialFunction(V)\n",
    "v = TestFunction(V)\n",
    "a = inner(u, v)*dx\n",
    "with open(\"u-v-her.h\", \"wt\") as fd:\n",
    "    out = compile_form(a)\n",
    "    fd.write(out[0])"
   ]
  },
  {
   "cell_type": "markdown",
   "metadata": {},
   "source": [
    "# ufc_utils (don't)\n",
    "\n",
    "One can use the templates in `ffc.backends.ufc` to generate the classes inheriting from `ufc::form` and `uf::cell_integral`. However it is not trivial to then compile and link the code generated so that `dolfin.assemble` can use it."
   ]
  },
  {
   "cell_type": "code",
   "execution_count": null,
   "metadata": {
    "collapsed": true
   },
   "outputs": [],
   "source": [
    "from ffc.backends.ufc import form as uf\n",
    "\n",
    "impl = dict(classname = 'linear_kirchhoff',\n",
    "            constructor = '// Do nothing',\n",
    "            constructor_arguments = '',\n",
    "            create_cell_integral = '',\n",
    "            create_coordinate_dofmap = '',\n",
    "            create_coordinate_finite_element = '',\n",
    "            create_coordinate_mapping = '',\n",
    "            create_custom_integral = '',\n",
    "            create_cutcell_integral = '',\n",
    "            create_default_cell_integral = '',\n",
    "            create_default_custom_integral = '',\n",
    "            create_default_cutcell_integral = '',\n",
    "            create_default_exterior_facet_integral = '',\n",
    "            create_default_interface_integral = '',\n",
    "            create_default_interior_facet_integral = '',\n",
    "            create_default_overlap_integral = '',\n",
    "            create_default_vertex_integral = '',\n",
    "            create_dofmap = '',\n",
    "            create_exterior_facet_integral = '',\n",
    "            create_finite_element = '',\n",
    "            create_interface_integral = 'return 0;',\n",
    "            create_interior_facet_integral = 'return 0;',\n",
    "            create_overlap_integral = 'return 0;',\n",
    "            create_vertex_integral = '',\n",
    "            destructor = '// Do nothing',\n",
    "            has_cell_integrals = '',\n",
    "            has_custom_integrals = '',\n",
    "            has_cutcell_integrals = '',\n",
    "            has_exterior_facet_integrals = '',\n",
    "            has_interface_integrals = '',\n",
    "            has_interior_facet_integrals = '',\n",
    "            has_overlap_integrals = '',\n",
    "            has_vertex_integrals = '',\n",
    "            initializer_list = '',\n",
    "            max_cell_subdomain_id = '',\n",
    "            max_custom_subdomain_id = '',\n",
    "            max_cutcell_subdomain_id = '',\n",
    "            max_exterior_facet_subdomain_id = '',\n",
    "            max_interface_subdomain_id = '',\n",
    "            max_interior_facet_subdomain_id = '',\n",
    "            max_overlap_subdomain_id = '',\n",
    "            max_vertex_subdomain_id = '',\n",
    "            members = '',\n",
    "            num_coefficients = 'return 0;',\n",
    "            original_coefficient_position = 'return 0;',\n",
    "            rank = '',\n",
    "            signature = 'return \"Linear Kirchhoff plate\";')\n",
    "print(uf.form_header % impl)\n",
    "print(uf.form_implementation % impl)\n",
    "\n",
    "implementation = {}\n",
    "\n",
    "implementation[\"signature\"] = 'return \"my form\"'\n",
    "implementation[\"rank\"] = \"return 2;\" \n",
    "implementation[\"num_coefficients\"] = \"return 0;\" \n",
    "implementation[\"num_cell_domains\"] = \"return 3;\"\n",
    "implementation[\"num_interior_facet_domains\"] = \"return 1;\" \n",
    "implementation[\"num_exterior_facet_domains\"] = \"return 0;\" \n",
    "\n",
    "implementation[\"create_finite_element\"] = \"\"\"\n",
    "switch (i)\n",
    "{\n",
    "case 0:\n",
    "  return new my_finite_element_0();\n",
    "case 1:\n",
    "  return new my_finite_element_1();\n",
    "default:\n",
    "return 0; }\"\"\"\n",
    "implementation[\"create_dofmap\"] = \"\"\" switch (i)\n",
    "{\n",
    "case 0:\n",
    "  return new my_dofmap_0();\n",
    "case 1:\n",
    "  return new my_dofmap_1();\n",
    "default:\n",
    "return 0; }\"\"\"\n",
    "implementation[\"create_cell_integral\"] = \"\"\" switch (i)\n",
    "{\n",
    "case 0:\n",
    "  return new my_cell_integral_0();\n",
    "case 1:\n",
    "  return new my_cell_integral_1();\n",
    "case 2:\n",
    "  return new my_cell_integral_2();\n",
    "default:\n",
    "return 0; }\"\"\"\n",
    "implementation[\"create_exterior_facet_integral\"] = \"return new my_exterior_facet_integral();\""
   ]
  }
 ],
 "metadata": {
  "hide_input": false,
  "kernelspec": {
   "display_name": "Python 3",
   "language": "python",
   "name": "python3"
  },
  "language_info": {
   "codemirror_mode": {
    "name": "ipython",
    "version": 3
   },
   "file_extension": ".py",
   "mimetype": "text/x-python",
   "name": "python",
   "nbconvert_exporter": "python",
   "pygments_lexer": "ipython3",
   "version": "3.5.2"
  },
  "toc": {
   "colors": {
    "hover_highlight": "#DAA520",
    "running_highlight": "#FF0000",
    "selected_highlight": "#FFD700"
   },
   "moveMenuLeft": true,
   "nav_menu": {
    "height": "26px",
    "width": "254px"
   },
   "navigate_menu": true,
   "number_sections": true,
   "sideBar": true,
   "threshold": 4,
   "toc_cell": false,
   "toc_section_display": "block",
   "toc_window_display": false,
   "widenNotebook": false
  }
 },
 "nbformat": 4,
 "nbformat_minor": 2
}
