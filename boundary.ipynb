{
 "cells": [
  {
   "cell_type": "markdown",
   "metadata": {},
   "source": [
    "# Manually rebuilding the stiffness matrix\n",
    "\n",
    "Hermite dofs at the boundary are also set to zero by `DirichletBC.apply()`: we manually find those and reset the relevant rows of the mass matrix.\n",
    "\n",
    "In the process of writing `list_hermite_boundary_dofs()` and `apply_dirichlet_hermite()` it was useful to look into the code for `dolfin/fem/DirichletBC.cpp, compute_bc_pointwise()`. Also there is a [bug](https://bugs.launchpad.net/dolfin/+bug/1063868) in the automatically generated documentation which affects [`GenericMatrix.set()`](https://fenicsproject.org/olddocs/dolfin/2016.2.0/python/programmers-reference/cpp/la/GenericMatrix.html?highlight=genericmatrix#dolfin.cpp.la.GenericMatrix.set) below. Only one function with three parameters is actually exposed by SWIG and the second and last are actually the indices of the rows and columns to modify. Finally, modifying a sparse (AIJ) PETSc matrix after assembly raises [error #63 (out of bounds)](https://www.mcs.anl.gov/petsc/petsc-current/include/petscerror.h.html) for insertions violating the sparsity pattern. In order to fix this we can use `setOption(PETSc.Mat.Option.NEW_NONZERO_ALLOCATION_ERR, False)`, see below.\n",
    "\n",
    "## To do\n",
    "\n",
    "* Check whether `apply_dirichlet_hermite()` breaks symmetries and try to fix that.\n",
    "* Implement `apply_neumann_hermite()` for dim > 1.\n",
    "\n",
    "**Note:** A better approach would be to \"fix\" `DirichletBC`: It seems like I need to define a special dofmap for Hermite elements which in `dofmap.cell_dofs()` returns only the Lagrange dofs (?). Won't this break lots of other things? Instead I could try to construct a copy of the function space with the right dofmap for the BCs and pass it to DirichletBC's constructor. What is the right approach? **See how it's done for periodic boundary conditions.**\n",
    "What about sub dofmaps? See `DirichletBC::compute_bc_pointwise|topological|whatever()`."
   ]
  },
  {
   "cell_type": "code",
   "execution_count": null,
   "metadata": {
    "collapsed": true
   },
   "outputs": [],
   "source": [
    "from dolfin import *\n",
    "import FIAT\n",
    "import ffc\n",
    "import numpy as np\n",
    "import matplotlib.pyplot as pl\n",
    "%matplotlib inline\n",
    "from petsc4py import PETS\n",
    "from utils import Msg\n",
    "import nbimporter\n",
    "from dofs import list_hermite_dofs, plot_dofs\n",
    "\n",
    "def __nbinit__():\n",
    "    \"\"\" Initialisation for nbimporter. \"\"\"\n",
    "    global NeumannBC\n",
    "    NeumannBC = DirichletBC\n",
    "\n",
    "    global __all__\n",
    "    __all__ = ['apply_dirichlet_hermite', 'apply_neumann_hermite', \n",
    "               'list_hermite_boundary_dofs', 'NeumannBC']\n",
    "__nbinit__()"
   ]
  },
  {
   "cell_type": "code",
   "execution_count": null,
   "metadata": {
    "collapsed": true
   },
   "outputs": [],
   "source": [
    "def list_hermite_boundary_dofs(bc:DirichletBC) -> np.ndarray:\n",
    "    \"\"\" Returns the Hermite dofs at the boundary as defined in the argument.\n",
    "    \n",
    "    Arguments\n",
    "    ---------\n",
    "        bc: Boundary condition implementing get_boundary_values()\n",
    "\n",
    "    Returns\n",
    "    -------\n",
    "        Global indices of hermite dofs on the boundary.\n",
    "    \"\"\"\n",
    "    hermite_dofs = list_hermite_dofs(bc.function_space())\n",
    "    # This is an easy way of retrieving the ids of dofs at the boundary:\n",
    "    boundary_dofs = list(bc.get_boundary_values())\n",
    "\n",
    "    return np.array(list(filter(lambda x: x in boundary_dofs, hermite_dofs)),\n",
    "                    dtype=np.intc)"
   ]
  },
  {
   "cell_type": "markdown",
   "metadata": {},
   "source": [
    "From the [mailing list](http://lists.mcs.anl.gov/pipermail/petsc-users/2012-February/012242.html):\n",
    "\n",
    "    \"Preallocation routines now automatically set MAT_NEW_NONZERO_ALLOCATION_ERR,\n",
    "     if you intentionally preallocate less than necessary then use\n",
    "     MatSetOption(mat,MAT_NEW_NONZERO_ALLOCATION_ERR,PETSC_FALSE) to disable the\n",
    "     error generation\"\n",
    "\n",
    "See: [PETScBool](http://www.mcs.anl.gov/petsc/petsc-current/docs/manualpages/Sys/PetscBool.html), [PETSc MatOption](http://www.mcs.anl.gov/petsc/petsc-current/docs/manualpages/Mat/MatOption.html), [PETSc error codes](https://www.mcs.anl.gov/petsc/petsc-current/include/petscerror.h.html)."
   ]
  },
  {
   "cell_type": "code",
   "execution_count": null,
   "metadata": {},
   "outputs": [],
   "source": [
    "def apply_dirichlet_hermite(A:Matrix, b:Vector, bc:DirichletBC):\n",
    "    \"\"\" Applies DirichletBC bc to A, b in place but fixes the rows\n",
    "    corresponding to Hermite dofs.\n",
    "    \n",
    "    Arguments:\n",
    "    ----------\n",
    "        A: assembled mass matrix, before applying bc. (I/O)\n",
    "        b: assembled right hand side, before applying bc. (I/O)\n",
    "        bc: DirichletBC\n",
    "    Returns:\n",
    "    --------\n",
    "        Nothing. Arguments are modified in place.\n",
    "    \"\"\"\n",
    "    assert isinstance(bc, DirichletBC),\\\n",
    "           \"We only know how to manage Dirichlet BCs\"\n",
    "    warning(\"This won't work in parallel!\")\n",
    "    \n",
    "    rows = list_hermite_boundary_dofs(bc)\n",
    "    cols = np.arange(A.size(1), dtype=np.intc)\n",
    "    saved_block = np.empty((rows.size, cols.size), dtype=np.float)\n",
    "    A.get(saved_block, rows, cols)\n",
    "    \n",
    "    saved_vec = b[rows].copy()\n",
    "    \n",
    "    # Applying BCs messes things up for Hermite dofs\n",
    "    # NOTE: DirichletBC.apply() does not enforce symmetry of A\n",
    "    with Msg(\"Applying vanilla BC\", level=20):\n",
    "        bc.apply(A, b)\n",
    "    \n",
    "    # So we fix them now:\n",
    "    with Msg(\"Restoring RHS\", level=20):\n",
    "        b[rows] = saved_vec\n",
    "    M = as_backend_type(A)\n",
    "    if isinstance(M, dolfin.cpp.la.PETScMatrix):\n",
    "        M.mat().setOption(PETSc.Mat.Option.NEW_NONZERO_ALLOCATION_ERR, False)\n",
    "        \n",
    "    # This will be slow:\n",
    "    with Msg(\"Restoring LHS\", level=20):\n",
    "        M.set(saved_block, rows, cols)\n",
    "    # No need to reset the columns: bc.apply() does not enforce symmetry\n",
    "    # (dolfin.assemble_system() does, though)\n",
    "    with Msg(\"Applying\", level=20):\n",
    "        M.apply('insert')\n",
    "    \n",
    "    # FIXME: should I set MAT_NEW_NONZERO_ALLOCATION_ERR back to TRUE?"
   ]
  },
  {
   "cell_type": "markdown",
   "metadata": {},
   "source": [
    "# THIS NEEDS TESTING!\n",
    "\n",
    "I need to check the symmetrization in `apply_neumann_hermite()`:"
   ]
  },
  {
   "cell_type": "code",
   "execution_count": null,
   "metadata": {
    "collapsed": true
   },
   "outputs": [],
   "source": [
    "def apply_neumann_hermite(A:Matrix, b:Vector, bc):\n",
    "    \"\"\" Applies an *essential* NeumannBC bc to A, b in place by \n",
    "    setting rows for Hermite dofs.\n",
    "\n",
    "    WARNING: it is essential that the BC *be essential* in the\n",
    "    weak formulation of the PDE. :P\n",
    "    \n",
    "    Arguments:\n",
    "    ----------\n",
    "        A: assembled mass matrix, before applying bc\n",
    "        b: assembled right hand side, before applying bc\n",
    "        bc: NeumannBC (alias for DirichletBC) encoding the value\n",
    "            of the normal derivative\n",
    "    \"\"\"\n",
    "    if bc is None:     # HACK (what for?)\n",
    "        return\n",
    "    global parameters\n",
    "    assert isinstance(bc, NeumannBC),\\\n",
    "           \"We only know how to manage NeumannBCs\"\n",
    "    assert bc.function_space().element().geometric_dimension() == 1,\\\n",
    "           \"FIXME: I can only manage 1 dimensional normal derivatives.\"\n",
    "\n",
    "    warning(\"This won't work in parallel!\")\n",
    "    warning(\"Probably this won't work at all!\")\n",
    "    \n",
    "    rows = list_hermite_boundary_dofs(bc)\n",
    "    \n",
    "    vals = bc.get_boundary_values()  # This is a dict\n",
    "    for dof in rows:\n",
    "        b[dof] = vals[dof]\n",
    "\n",
    "    ncols = A.size(1)\n",
    "    nrows = rows.size\n",
    "    block = np.zeros((nrows, ncols))\n",
    "    block[range(nrows),rows] = 1.\n",
    "    \n",
    "    cols = np.arange(ncols, dtype=np.intc)\n",
    "    M = as_backend_type(A)\n",
    "    if isinstance(M, dolfin.cpp.la.PETScMatrix):\n",
    "        M.mat().setOption(PETSc.Mat.Option.NEW_NONZERO_ALLOCATION_ERR, False)\n",
    "\n",
    "    # This will be slow:\n",
    "    with Msg(\"Applying Neumann BC\", level=20):\n",
    "        M.set(block, rows, cols)\n",
    "        M.apply('insert')\n",
    "\n",
    "    # FIXME: should I set MAT_NEW_NONZERO_ALLOCATION_ERR back to TRUE?\n",
    "    \n",
    "    # Enforce symmetry by Gaussian elimination\n",
    "    with Msg(\"Symmetrizing\", level=20):\n",
    "        # Slow! Should be done at the element level\n",
    "        lhs_column = np.empty((A.size(0), 1), dtype=np.float)\n",
    "        all_rows = np.arange(A.size(0), dtype=np.intc)\n",
    "        dofs = np.array(rows, dtype=np.intc).reshape((-1,1))\n",
    "        for dof in dofs:\n",
    "            M.get(lhs_column, all_rows, dof)\n",
    "            save = b[dof]\n",
    "            b -= lhs_column*save\n",
    "            b[dof] = save\n",
    "            lhs_column.fill(0.)\n",
    "            lhs_column[dof] = 1.\n",
    "            M.set(lhs_column, all_rows, dof)\n",
    "            M.apply('insert')"
   ]
  },
  {
   "cell_type": "code",
   "execution_count": null,
   "metadata": {
    "collapsed": true
   },
   "outputs": [],
   "source": [
    "def plot_hermite_dofs(bc:DirichletBC):\n",
    "    \"\"\" Plots the mesh and marks the Hermite dofs fulfilling \n",
    "    the boundary condition bc.\n",
    "    \"\"\"\n",
    "    plot_dofs(bc.function_space(), list_hermite_boundary_dofs(bc), c='red')"
   ]
  },
  {
   "cell_type": "code",
   "execution_count": null,
   "metadata": {
    "collapsed": true
   },
   "outputs": [],
   "source": [
    "def get_facets_vertices(facetfun:FacetFunction, value:int) -> list:\n",
    "    \"\"\" Returns the indices of all vertices in facets marked by facetfun.\n",
    "\n",
    "    Arguments:\n",
    "    ----------\n",
    "        facetfun: FacetFunction.\n",
    "        value: operate on facets where facetfun takes this value.\n",
    "    Returns:\n",
    "    --------\n",
    "        A python list of indices.\n",
    "    \"\"\"\n",
    "    assert isinstance(facetfun, dolfin.cpp.mesh.FacetFunctionSizet), \"Blah\"\n",
    "    \n",
    "    mesh = facetfun.mesh()\n",
    "    ff = facetfun.where_equal(value)\n",
    "    vv = set()\n",
    "    for fa in facets(mesh):\n",
    "        if fa.index() in ff:\n",
    "            vv = vv.union(set(fa.entities(0)))\n",
    "    return list(vv)"
   ]
  }
 ],
 "metadata": {
  "hide_input": false,
  "kernelspec": {
   "display_name": "Python 3",
   "language": "python",
   "name": "python3"
  },
  "language_info": {
   "codemirror_mode": {
    "name": "ipython",
    "version": 3
   },
   "file_extension": ".py",
   "mimetype": "text/x-python",
   "name": "python",
   "nbconvert_exporter": "python",
   "pygments_lexer": "ipython3",
   "version": "3.5.2"
  },
  "toc": {
   "colors": {
    "hover_highlight": "#DAA520",
    "running_highlight": "#FF0000",
    "selected_highlight": "#FFD700"
   },
   "moveMenuLeft": true,
   "nav_menu": {
    "height": "79px",
    "width": "254px"
   },
   "navigate_menu": true,
   "number_sections": true,
   "sideBar": true,
   "threshold": 4,
   "toc_cell": false,
   "toc_section_display": "block",
   "toc_window_display": false,
   "widenNotebook": false
  }
 },
 "nbformat": 4,
 "nbformat_minor": 1
}
