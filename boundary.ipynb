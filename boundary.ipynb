{
 "cells": [
  {
   "cell_type": "markdown",
   "metadata": {},
   "source": [
    "# Manually rebuilding the stiffness matrix\n",
    "\n",
    "Hermite dofs at the boundary are also set to zero by `DirichletBC.apply()`: we manually find those and reset the relevant rows of the mass matrix.\n",
    "\n",
    "In the process of writing the following two functions (`find_hermite_boundary_dofs()` and `apply_dirichlet_partially()`) it was useful to look into the code for `dolfin/fem/DirichletBC.cpp, compute_bc_pointwise()`. Also there is a [bug](https://bugs.launchpad.net/dolfin/+bug/1063868) in the automatically generated documentation which affects [`GenericMatrix.set()`](https://fenicsproject.org/olddocs/dolfin/2016.2.0/python/programmers-reference/cpp/la/GenericMatrix.html?highlight=genericmatrix#dolfin.cpp.la.GenericMatrix.set) below. Only one function with three parameters is actually exposed by SWIG and the second and last are actually the indices of the rows and columns to modify. Finally, modifying a sparse (AIJ) PETSc matrix after assembly raises [error #63 (out of bounds)](https://www.mcs.anl.gov/petsc/petsc-current/include/petscerror.h.html) for insertions violating the sparsity pattern. In order to fix this we can use `setOption(MAT_NEW_NONZERO_ALLOCATION_ERR, PETSc_FALSE)`, see below.\n",
    "\n",
    "## To do\n",
    "\n",
    "* Check whether `apply_dirichlet_hermite()` breaks symmetries and try to fix that.\n",
    "* Implement `apply_neumann_hermite()` for dim > 1.\n",
    "\n",
    "**Note:** A better approach would be to \"fix\" `DirichletBC`: It seems like I need to define a special dofmap for Hermite elements which in `dofmap.cell_dofs()` returns only the Lagrange dofs (?). Won't this break lots of other things? Instead I could try to construct a copy of the function space with the right dofmap for the BCs and pass it to DirichletBC's constructor. What is the right approach? **See how it's done for periodic boundary conditions.**"
   ]
  },
  {
   "cell_type": "code",
   "execution_count": null,
   "metadata": {
    "collapsed": true
   },
   "outputs": [],
   "source": [
    "from dolfin import *\n",
    "import FIAT\n",
    "import numpy as np\n",
    "import matplotlib.pyplot as pl\n",
    "from petsc4py import PETSc\n",
    "\n",
    "def __nbinit__():\n",
    "    \"\"\" Initialisation for nbimporter. \"\"\"\n",
    "\n",
    "    # HACK: These constants taken from PETSc's doc.\n",
    "    # http://www.mcs.anl.gov/petsc/petsc-current/docs/manualpages/Mat/MatOption.html\n",
    "    PETSc.MAT_NEW_NONZERO_ALLOCATION_ERR = 19\n",
    "    PETSc.PETSc_FALSE = 0\n",
    "    PETSc.PETSc_TRUE = 1\n",
    "\n",
    "    global NeumannBC\n",
    "    NeumannBC = DirichletBC\n",
    "\n",
    "    global __all__\n",
    "    __all__ = ['apply_dirichlet_hermite', 'apply_neumann_hermite', \n",
    "               'plot_dofs', 'plot_hermite_dofs',\n",
    "               'NeumannBC']"
   ]
  },
  {
   "cell_type": "code",
   "execution_count": null,
   "metadata": {
    "collapsed": true
   },
   "outputs": [],
   "source": [
    "def find_hermite_boundary_dofs(bc):\n",
    "    \"\"\" Returns the Hermite dofs at the boundary as defined in the argument.\n",
    "    \n",
    "    Arguments:\n",
    "    ----------\n",
    "        bc: Boundary condition (e.g. DirichletBC) implementing\n",
    "            get_boundary_values()\n",
    "\n",
    "    Returns:\n",
    "    --------\n",
    "        A numpy.ndarray of type intc with the dof indices.\n",
    "    \"\"\"\n",
    "    V = bc.function_space()\n",
    "    tdim = V.element().topological_dimension()\n",
    "    e = FIAT.CubicHermite(FIAT.reference_element.default_simplex(tdim), 3)\n",
    "    \n",
    "    # This mask filters out the Hermite dofs from the list of dofs of a cell:\n",
    "    mask = np.array(map(lambda f: isinstance(f, FIAT.functional.PointDerivative),\n",
    "                        e.dual_basis()))\n",
    "\n",
    "    # Compute the set of hermite dofs\n",
    "    hermite_dofs = set()\n",
    "    dm = V.dofmap()\n",
    "    for i in range(V.mesh().num_cells()):\n",
    "        hermite_dofs = hermite_dofs.union(set(dm.cell_dofs(i)[mask]))\n",
    "        \n",
    "    # This is an easy way of retrieving the ids of dofs at the boundary:\n",
    "    boundary_dofs = bc.get_boundary_values().keys()\n",
    "    \n",
    "    return np.array(filter(lambda x: x in boundary_dofs, hermite_dofs),\n",
    "                    dtype=np.intc)"
   ]
  },
  {
   "cell_type": "markdown",
   "metadata": {},
   "source": [
    "From the [mailing list](http://lists.mcs.anl.gov/pipermail/petsc-users/2012-February/012242.html):\n",
    "\n",
    "    \"Preallocation routines now automatically set MAT_NEW_NONZERO_ALLOCATION_ERR,\n",
    "     if you intentionally preallocate less than necessary then use\n",
    "     MatSetOption(mat,MAT_NEW_NONZERO_ALLOCATION_ERR,PETSC_FALSE) to disable the\n",
    "     error generation\"\n",
    "\n",
    "See: [PETScBool](http://www.mcs.anl.gov/petsc/petsc-current/docs/manualpages/Sys/PetscBool.html), [PETSc MatOption](http://www.mcs.anl.gov/petsc/petsc-current/docs/manualpages/Mat/MatOption.html), [PETSc error codes](https://www.mcs.anl.gov/petsc/petsc-current/include/petscerror.h.html)."
   ]
  },
  {
   "cell_type": "code",
   "execution_count": null,
   "metadata": {
    "collapsed": true
   },
   "outputs": [],
   "source": [
    "def apply_dirichlet_hermite(A, b, bc):\n",
    "    \"\"\" Applies DirichletBC bc to A, b in place but fixes the rows\n",
    "    corresponding to Hermite dofs.\n",
    "    \n",
    "    Arguments:\n",
    "    ----------\n",
    "        A: assembled mass matrix, before applying bc. (I/O)\n",
    "        b: assembled right hand side, before applying bc. (I/O)\n",
    "        bc: DirichletBC\n",
    "    Returns:\n",
    "    --------\n",
    "        Nothing. Arguments are modified in place.\n",
    "    \"\"\"\n",
    "    global parameters\n",
    "    assert isinstance(bc, DirichletBC),\\\n",
    "           \"We only know how to manage Dirichlet BCs\"\n",
    "    warning(\"This won't work in parallel!\")\n",
    "    \n",
    "    rows = find_hermite_boundary_dofs(bc)\n",
    "    cols = np.arange(A.size(1), dtype=np.intc)\n",
    "    saved_block = np.empty((rows.size, cols.size), dtype=np.float)\n",
    "    A.get(saved_block, rows, cols)\n",
    "    \n",
    "    saved_vec = b[rows].copy()\n",
    "    \n",
    "    # Applying BCs messes things up for Hermite dofs\n",
    "    bc.apply(A, b)\n",
    "    \n",
    "    # So we fix them now:\n",
    "    b[rows] = saved_vec\n",
    "    M = as_backend_type(A)\n",
    "    if isinstance(M, dolfin.cpp.la.PETScMatrix):\n",
    "        M.mat().setOption(PETSc.MAT_NEW_NONZERO_ALLOCATION_ERR,\n",
    "                          PETSc.PETSc_FALSE)\n",
    "        \n",
    "    # This will be slow:\n",
    "    M.set(saved_block, rows, cols)\n",
    "    M.apply('insert')\n",
    "    \n",
    "    # FIXME: should I set MAT_NEW_NONZERO_ALLOCATION_ERR back to TRUE?"
   ]
  },
  {
   "cell_type": "code",
   "execution_count": null,
   "metadata": {
    "collapsed": true
   },
   "outputs": [],
   "source": [
    "def apply_neumann_hermite(A, b, bc):\n",
    "    \"\"\" Applies an essential NeumannBC bc to A, b in place by \n",
    "    setting rows for Hermite dofs.\n",
    "    \n",
    "    Arguments:\n",
    "    ----------\n",
    "        A: assembled mass matrix, before applying bc\n",
    "        b: assembled right hand side, before applying bc\n",
    "        bc: NeumannBC (alias for DirichletBC) encoding the value\n",
    "            of the normal derivative\n",
    "    \"\"\"\n",
    "    if bc is None:\n",
    "        return\n",
    "    global parameters\n",
    "    assert isinstance(bc, DirichletBC),\\\n",
    "           \"We only know how to manage Dirichlet BCs\"\n",
    "    assert bc.function_space().element().geometric_dimension() == 1,\\\n",
    "           \"FIXME: I can only manage 1 dimensional normal derivatives.\"\n",
    "\n",
    "    warning(\"This won't work in parallel!\")\n",
    "    \n",
    "    rows = find_hermite_boundary_dofs(bc)\n",
    "    \n",
    "    vals = bc.get_boundary_values()  # This is a dict\n",
    "    for dof in rows:\n",
    "        b[dof] = vals[dof]\n",
    "\n",
    "    ncols = A.size(1)\n",
    "    nrows = rows.size\n",
    "    block = np.zeros((nrows, ncols))\n",
    "    block[range(nrows),rows] = 1.\n",
    "    \n",
    "    cols = np.arange(ncols, dtype=np.intc)\n",
    "    M = as_backend_type(A)\n",
    "    if isinstance(M, dolfin.cpp.la.PETScMatrix):\n",
    "        M.mat().setOption(PETSc.MAT_NEW_NONZERO_ALLOCATION_ERR,\n",
    "                          PETSc.PETSc_FALSE)\n",
    "\n",
    "    # This will be slow:\n",
    "    M.set(block, rows, cols)\n",
    "    M.apply('insert')\n",
    "\n",
    "    # FIXME: should I set MAT_NEW_NONZERO_ALLOCATION_ERR back to TRUE?"
   ]
  },
  {
   "cell_type": "code",
   "execution_count": null,
   "metadata": {
    "collapsed": true
   },
   "outputs": [],
   "source": [
    "def plot_dofs(V, dofs, color='red'):\n",
    "    \"\"\" Plots the mesh and the coordinates of dofs in it\n",
    "    with colored dots.\n",
    "    \n",
    "    Arguments:\n",
    "    ----------\n",
    "        V: FunctionSpace\n",
    "        dofs: list of indices\n",
    "        color: anything that matplotlib accepts\"\"\"\n",
    "    tdim = V.mesh().topology().dim()\n",
    "    all_dofs = zip(V.dofmap().dofs(), \n",
    "                   V.tabulate_dof_coordinates().reshape((-1, tdim)))\n",
    "    dofs_coordinates = np.array([dof[1] for dof in \n",
    "                                 filter(lambda p: p[0] in dofs, all_dofs)])\n",
    "    plot(V.mesh())\n",
    "\n",
    "    if dofs_coordinates.size == 0:\n",
    "        return\n",
    "    \n",
    "    if tdim > 1:\n",
    "        pl.scatter(dofs_coordinates[:,0], dofs_coordinates[:,1],\n",
    "                   s=15, c=color, linewidths=0, zorder=10)\n",
    "    else:\n",
    "        pl.ylim((-0.1,0.1))\n",
    "        pl.scatter(dofs_coordinates, np.zeros_like(dofs_coordinates),\n",
    "                   c=color, linewidths=0, zorder=10)"
   ]
  },
  {
   "cell_type": "code",
   "execution_count": null,
   "metadata": {
    "collapsed": true
   },
   "outputs": [],
   "source": [
    "def plot_hermite_dofs(bc):\n",
    "    \"\"\" Plots the mesh and marks the Hermite dofs fulfilling \n",
    "    the boundary condition.\n",
    "\n",
    "    Arguments:\n",
    "    ----------\n",
    "        bc: DirichletBC.\n",
    "    \"\"\"\n",
    "    plot_dofs(bc.function_space(), find_hermite_boundary_dofs(bc), 'red')"
   ]
  },
  {
   "cell_type": "code",
   "execution_count": null,
   "metadata": {
    "collapsed": true
   },
   "outputs": [],
   "source": [
    "def get_facets_vertices(facetfun, value):\n",
    "    \"\"\" Returns the indices of all vertices in facets marked by facetfun.\n",
    "\n",
    "    Arguments:\n",
    "    ----------\n",
    "        facetfun: FacetFunction.\n",
    "        value: operate on facets where facetfun takes this value.\n",
    "    Returns:\n",
    "    --------\n",
    "        A python list of indices.\n",
    "    \"\"\"\n",
    "    assert isinstance(facetfun, dolfin.cpp.mesh.FacetFunctionSizet), \"Blah\"\n",
    "    \n",
    "    mesh = facetfun.mesh()\n",
    "    ff = facetfun.where_equal(value)\n",
    "    vv = set()\n",
    "    for fa in facets(mesh):\n",
    "        if fa.index() in ff:\n",
    "            vv = vv.union(set(fa.entities(0)))\n",
    "    return list(vv)"
   ]
  }
 ],
 "metadata": {
  "kernelspec": {
   "display_name": "Python 2",
   "language": "python",
   "name": "python2"
  },
  "language_info": {
   "codemirror_mode": {
    "name": "ipython",
    "version": 2
   },
   "file_extension": ".py",
   "mimetype": "text/x-python",
   "name": "python",
   "nbconvert_exporter": "python",
   "pygments_lexer": "ipython2",
   "version": "2.7.12"
  }
 },
 "nbformat": 4,
 "nbformat_minor": 1
}
