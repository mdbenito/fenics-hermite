{
 "cells": [
  {
   "cell_type": "code",
   "execution_count": null,
   "metadata": {
    "collapsed": false
   },
   "outputs": [],
   "source": [
    "from dolfin import *\n",
    "from petsc4py import *\n",
    "%matplotlib inline\n",
    "import numpy as np\n",
    "\n",
    "mesh = UnitSquareMesh(10,10)\n",
    "V = FunctionSpace(mesh, \"Lagrange\", 2)\n",
    "f = Constant(4.)\n",
    "#g = FacetArea(mesh)\n",
    "\n",
    "u = TrialFunction(V)\n",
    "v = TestFunction(V)\n",
    "\n",
    "a = inner(grad(u), grad(v))*dx\n",
    "L = v*f*dx\n",
    "\n",
    "def bdry(x):\n",
    "    return near(x[0],0) or near(x[0],1)# or near(x[1],0) or near(x[1],1)\n",
    "\n",
    "bc = DirichletBC(V, Constant(0.0), bdry)\n",
    "u = Function(V)\n",
    "A = assemble(a)\n",
    "b = assemble(L)\n",
    "bc.apply(A, b)\n",
    "uv = u.vector()\n",
    "_ = solve(A, uv, b)\n",
    "\n",
    "#_ = plot(u)"
   ]
  },
  {
   "cell_type": "code",
   "execution_count": null,
   "metadata": {
    "collapsed": false
   },
   "outputs": [],
   "source": [
    "M = as_backend_type(A)\n",
    "type(M)"
   ]
  },
  {
   "cell_type": "code",
   "execution_count": null,
   "metadata": {
    "collapsed": false
   },
   "outputs": [],
   "source": [
    "m = PETSc.Mat().create() #AIJ(10, nnz=True)\n",
    "m.setType('aij')\n",
    "m.setOption(19, 0)  #MAT_NEW_NONZERO_ALLOCATION_ERR, PETSC_FALSE"
   ]
  },
  {
   "cell_type": "code",
   "execution_count": null,
   "metadata": {
    "collapsed": true
   },
   "outputs": [],
   "source": [
    "PETSc.MAT_NEW_NONZERO_ALLOCATION_ERR = 19\n",
    "PETSc.PETSc_FALSE = 0"
   ]
  },
  {
   "cell_type": "code",
   "execution_count": null,
   "metadata": {
    "collapsed": false
   },
   "outputs": [],
   "source": [
    "row_indices = np.array([1,2], dtype=np.intc)\n",
    "col_indices = np.array([1,2,6], dtype=np.intc)\n",
    "block = np.ones((len(row_indices), len(col_indices)), order='C', dtype=np.float)\n",
    "\n",
    "M.mat().setOption(PETSc.MAT_NEW_NONZERO_ALLOCATION_ERR, PETSc.PETSc_FALSE)\n",
    "M.set(block, row_indices, col_indices)\n",
    "M.apply(\"insert\")"
   ]
  },
  {
   "cell_type": "code",
   "execution_count": null,
   "metadata": {
    "collapsed": false
   },
   "outputs": [],
   "source": [
    "M.array().round(1)"
   ]
  },
  {
   "cell_type": "code",
   "execution_count": null,
   "metadata": {
    "collapsed": false
   },
   "outputs": [],
   "source": [
    "from dolfin import *\n",
    "import numpy as np\n",
    "import matplotlib.pyplot as pl\n",
    "import nbimporter\n",
    "from boundary import apply_dirichlet_hermite, apply_neumann_hermite\n",
    "\n",
    "%matplotlib inline"
   ]
  },
  {
   "cell_type": "code",
   "execution_count": null,
   "metadata": {
    "collapsed": false
   },
   "outputs": [],
   "source": [
    "mesh = UnitSquareMesh(2, 2)\n",
    "V = FunctionSpace(mesh, \"Hermite\", 3)\n",
    "\n",
    "u = TrialFunction(V)\n",
    "v = TestFunction(V)\n",
    "n = FacetNormal(V.mesh()) ## unused\n",
    "\n",
    "\n",
    "a = inner(grad(u), grad(v))*dx\n",
    "f = project(Constant(-4.0), V)\n",
    "g = project(Constant(1.0), V)\n",
    "d = project(Constant(0.), V)\n",
    "\n",
    "def top(x):\n",
    "    return near(x[1], 1.)\n",
    "\n",
    "class NeumannBoundary(SubDomain):\n",
    "    def inside(self, x, on_boundary):\n",
    "        return on_boundary #and not top(x)\n",
    "\n",
    "exterior_facets = FacetFunction('uint', V.mesh(), value=0)\n",
    "neu = NeumannBoundary()\n",
    "neu.mark(exterior_facets, 1)\n",
    "\n",
    "bc = DirichletBC(V, d, top)\n",
    "L = f*v*dx(domain=V.mesh())\n",
    "#bp = assemble(L)\n",
    "Lneumann = L + g*v*ds(subdomain_data=exterior_facets, subdomain_id=1)\n",
    "\n",
    "A = assemble(a)\n",
    "b = assemble(Lneumann)\n",
    "\n",
    "apply_dirichlet_hermite(A, b, bc)\n",
    "\n",
    "u = Function(V)\n",
    "uv = u.vector()\n",
    "solve(A, uv, b)\n",
    "\n",
    "nn = assemble(inner(n, grad(u))*ds(subdomain_data=exterior_facets, subdomain_id=1))\n",
    "print(\"Error in boundary integral of normal derivative = |4 - nn| = %f\" % np.abs(4 - nn))\n",
    "_ = plot(u)"
   ]
  },
  {
   "cell_type": "markdown",
   "metadata": {},
   "source": [
    "# More..."
   ]
  },
  {
   "cell_type": "code",
   "execution_count": null,
   "metadata": {
    "collapsed": true
   },
   "outputs": [],
   "source": [
    "import nbimporter\n",
    "from boundary import plot_dofs, get_facets_vertices, find_hermite_boundary_dofs"
   ]
  },
  {
   "cell_type": "code",
   "execution_count": null,
   "metadata": {
    "collapsed": false
   },
   "outputs": [],
   "source": [
    "neumann_dofs = vertex_to_dof_map(V)[get_facets_vertices(exterior_facets, 1)]\n",
    "plot_dofs(V, neumann_dofs)"
   ]
  },
  {
   "cell_type": "code",
   "execution_count": null,
   "metadata": {
    "collapsed": false
   },
   "outputs": [],
   "source": [
    "(bp.array() - b.array())[neumann_dofs].round(2)"
   ]
  },
  {
   "cell_type": "code",
   "execution_count": null,
   "metadata": {
    "collapsed": false
   },
   "outputs": [],
   "source": [
    "be = assemble(v*ds)\n",
    "be.array().round(2)"
   ]
  },
  {
   "cell_type": "code",
   "execution_count": null,
   "metadata": {
    "collapsed": false
   },
   "outputs": [],
   "source": [
    "import matplotlib.pyplot as pl\n",
    "import numpy as np\n",
    "\n",
    "xx = np.linspace(0,1,100)\n",
    "for y in np.linspace(0,1,5):\n",
    "    pl.plot(xx, [u(x, y) for x in xx], label=\"%.1f\" % y)\n",
    "_ = pl.legend()"
   ]
  },
  {
   "cell_type": "code",
   "execution_count": null,
   "metadata": {
    "collapsed": false
   },
   "outputs": [],
   "source": [
    "pl.figure(figsize=(10,4))\n",
    "pl.subplot(1,2,1)\n",
    "plot(u.dx(0), title=\"dx\", cmap='bone')\n",
    "pl.subplot(1,2,2)\n",
    "_ = plot(u.dx(1), title=\"dy\", cmap='bone')"
   ]
  },
  {
   "cell_type": "code",
   "execution_count": null,
   "metadata": {
    "collapsed": true
   },
   "outputs": [],
   "source": [
    "import nbimporter"
   ]
  },
  {
   "cell_type": "code",
   "execution_count": null,
   "metadata": {
    "collapsed": false
   },
   "outputs": [],
   "source": [
    "from boundary import *"
   ]
  },
  {
   "cell_type": "code",
   "execution_count": null,
   "metadata": {
    "collapsed": false
   },
   "outputs": [],
   "source": [
    "d = {'a':1, 'b':2, 'c':3, '_d':4}\n",
    "names = ['a', 'b', 'c']\n",
    "all = ['a', 'b']\n",
    "for name in set(names) - set(all):\n",
    "    del d[name]\n",
    "d"
   ]
  },
  {
   "cell_type": "code",
   "execution_count": null,
   "metadata": {
    "collapsed": true
   },
   "outputs": [],
   "source": []
  }
 ],
 "metadata": {
  "kernelspec": {
   "display_name": "Python 2",
   "language": "python",
   "name": "python2"
  },
  "language_info": {
   "codemirror_mode": {
    "name": "ipython",
    "version": 2
   },
   "file_extension": ".py",
   "mimetype": "text/x-python",
   "name": "python",
   "nbconvert_exporter": "python",
   "pygments_lexer": "ipython2",
   "version": "2.7.12"
  }
 },
 "nbformat": 4,
 "nbformat_minor": 1
}
