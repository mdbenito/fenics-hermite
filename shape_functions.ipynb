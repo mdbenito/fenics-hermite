{
 "cells": [
  {
   "cell_type": "markdown",
   "metadata": {},
   "source": [
    "# Hermite shape functions in 1D\n",
    "\n",
    "Let $T = [0,1]$. We choose the monomial basis $G=\\{1, x, x^2, x^3\\}$ of $P_3(T)$ to express the shape functions in. The four degrees of freedom $L = \\{l_i\\}_{i=1}^4 \\subset P_3(T)'$ are point evaluation and differentiation at $0$ and $1$. We build the Vandermonde matrix $V_{i j} = L_i(G_j)$ and invert it. The columns of $V^{-1}$ are the coefficients of the shape functions expressed in the basis $G$. The manual computation is easy in 1D, but since we will do it in 2D and 3D as well, we use Automatic Differentiation and a bit of Python to do the job."
   ]
  },
  {
   "cell_type": "code",
   "execution_count": null,
   "metadata": {
    "collapsed": true
   },
   "outputs": [],
   "source": [
    "from __future__ import print_function\n",
    "import autograd as ad\n",
    "import autograd.numpy as np\n",
    "\n",
    "# Partial derivatives\n",
    "def dx(f):\n",
    "    return ad.grad(f, 0)\n",
    "def dy(f):\n",
    "    return ad.grad(f, 1)\n",
    "def dz(f):\n",
    "    return ad.grad(f, 2)"
   ]
  },
  {
   "cell_type": "code",
   "execution_count": null,
   "metadata": {
    "collapsed": true
   },
   "outputs": [],
   "source": [
    "def create_shape_functions_code(basis, basis_strings, dofs, varname='sh', num_constraints=0):\n",
    "    \"\"\"Create python code with shape functions.\n",
    "    This can be used for plotting or be pasted into ffc/tests/unit/test_elements.py.\n",
    "\n",
    "    Arguments:\n",
    "    ----------\n",
    "        basis: list of callables. This is the polynomial basis in which \n",
    "               to express the shape functions.\n",
    "                   E.g. [lambda x: 1, lambda x: x]\n",
    "        basis_strings: string representation of the callables used to\n",
    "                       output the code.\n",
    "        dofs: list of callables. This are the linear functionals whose dual\n",
    "              basis will be the shape functions. They should be unisolvent.\n",
    "        varname: name for the variable defined in the code returned.\n",
    "        num_constraints: Number of constraints in the dofs\n",
    "\n",
    "    Returns:\n",
    "    -------\n",
    "        A string of python code which can be exec()'d or pasted elsewhere\n",
    "        containing an assigment:\n",
    "        \n",
    "            varname = [lambda x: ..., lambda x: ..., ...]\n",
    "            \n",
    "        The list will be of length = len(dofs), but the last num_constraints\n",
    "        will be 0.\n",
    "    \"\"\"\n",
    "    \n",
    "    n = len(basis)\n",
    "    assert n == len(dofs) == len(basis_strings), \"Dimensions don't match.\"\n",
    "\n",
    "    # Build Vandermonde matrix\n",
    "    V = np.zeros((n, n))\n",
    "    for i, j in np.ndindex(V.shape):\n",
    "        V[i,j] = dofs[i](basis[j])\n",
    "\n",
    "    # Invert and read linear combinations of basis functions in G\n",
    "    # from the columns\n",
    "    Vinv = np.linalg.inv(V)\n",
    "    M = np.zeros_like(Vinv)\n",
    "    n = len(dofs)-num_constraints\n",
    "    M[:,:n] = Vinv[:, :n]\n",
    "\n",
    "    s = \"%s = [\" % varname\n",
    "    newline = \",\\n      \"\n",
    "    for j in range(n):\n",
    "        lam = \"lambda x: \"\n",
    "        l = []\n",
    "        for i, basis_elem in enumerate(basis_strings):\n",
    "            coeff = M[i,j]\n",
    "            if not np.isclose(coeff, 0):\n",
    "                sign = \"+\" if coeff > 0 else \"-\"\n",
    "                coeff = np.abs(coeff)\n",
    "                prefix = \"\"\n",
    "                if np.isclose(coeff, 1):\n",
    "                    prefix = sign\n",
    "                elif np.isclose(coeff, int(coeff)):\n",
    "                    prefix = \"%s %d *\" % (sign, int(coeff))\n",
    "                else:\n",
    "                    prefix = \"%s %f *\" % (sign, coeff)\n",
    "                l.append(prefix)\n",
    "                l.append(basis_elem)\n",
    "        if not l:\n",
    "            lam = \"\"\n",
    "        elif l[0] == '+': # Remove unnecessary sign (confuses autograd)\n",
    "            l.pop(0) \n",
    "        s += lam + \" \".join(l) + newline\n",
    "    s = s[:-len(newline)]    # Remove last \",\\n      \"\n",
    "    return s + \"]\"\n",
    "\n",
    "def hermite_shapes_1d(varname='sh1'):\n",
    "    \"\"\" Returns the code for the Hermite shape functions in 1D\n",
    "\n",
    "    Returns:\n",
    "    --------\n",
    "        String with List of callables (of one variable) with the shape functions.\n",
    "    \"\"\"\n",
    "    # Monomial basis for $P_3(R)$\n",
    "    G = [lambda x: 1.0, lambda x: x, lambda x: x**2, lambda x: x**3]\n",
    "\n",
    "    # String representation of monomial basis\n",
    "    S = [\"1\", \"x\", \"x**2\", \"x**3\"]\n",
    "\n",
    "    # Hermite degrees of freedom on the reference interval [(0,0),(1,0)]:\n",
    "    # Point evaluation and partial derivatives at each endpoint\n",
    "    L = [lambda f: f(0.), lambda f: dx(f)(0.), lambda f: f(1.), lambda f: dx(f)(1.)]\n",
    "    \n",
    "    return create_shape_functions_code(G, S, L, varname)"
   ]
  },
  {
   "cell_type": "code",
   "execution_count": null,
   "metadata": {},
   "outputs": [],
   "source": [
    "code = hermite_shapes_1d('sh')\n",
    "print(code)\n",
    "exec(code)"
   ]
  },
  {
   "cell_type": "code",
   "execution_count": null,
   "metadata": {},
   "outputs": [],
   "source": [
    "import matplotlib.pyplot as pl\n",
    "%matplotlib inline\n",
    "\n",
    "pl.figure(figsize=(10,4))\n",
    "pl.subplot(1,2,1)\n",
    "xx = np.linspace(0, 1, 100)\n",
    "for i, f in enumerate(sh):\n",
    "    pl.plot(xx, [f(x) for x in xx], label='sh%d' % i)\n",
    "_ = pl.legend()\n",
    "\n",
    "pl.subplot(1,2,2)\n",
    "for i, f in enumerate(sh):\n",
    "    pl.plot(xx, [dx(f)(x) for x in xx], label='sh%d\\'' % i)\n",
    "_ = pl.legend()"
   ]
  },
  {
   "cell_type": "markdown",
   "metadata": {},
   "source": [
    "# Hermite shape functions in 2D\n",
    "\n",
    "Now $G=\\{1, x, y, x^2, x y, y^2, x^3, x^2 y, x y^2, y^3\\}$."
   ]
  },
  {
   "cell_type": "code",
   "execution_count": null,
   "metadata": {
    "collapsed": true
   },
   "outputs": [],
   "source": [
    "def hermite_shapes_2d(varname='sh2'):\n",
    "    \"\"\" Returns python code for the Hermite shape functions in 2D.\n",
    "\n",
    "    Returns:\n",
    "    --------\n",
    "        List of callables (of two variables) with the shape functions.\n",
    "    \"\"\"\n",
    "    # Monomial basis for $P_3(R^2)$\n",
    "    G = [lambda x,y: 1.0,\n",
    "         lambda x,y: x, lambda x,y: y,\n",
    "         lambda x,y: x**2, lambda x,y: x*y, lambda x,y: y**2,\n",
    "         lambda x,y: x**3, lambda x,y: x**2*y, lambda x,y: x*y**2, lambda x,y: y**3]\n",
    "\n",
    "    # String representation of monomial basis for the code output\n",
    "    S = [\"1\", \"x[0]\", \"x[1]\", \"x[0]**2\", \"x[0]*x[1]\", \"x[1]**2\",\n",
    "         \"x[0]**3\", \"x[0]**2*x[1]\", \"x[0]*x[1]**2\", \"x[1]**3\"]\n",
    "\n",
    "    # Hermite degrees of freedom on the reference triangle [(0,0),(1,0),(0,1)]:\n",
    "    # point evaluation and partial derivatives at each vertex, plus evaluation at the barycenter.\n",
    "    L = [lambda f: f(0., 0.), lambda f: dx(f)(0., 0.), lambda f: dy(f)(0., 0.),\n",
    "         lambda f: f(1., 0.), lambda f: dx(f)(1., 0.), lambda f: dy(f)(1., 0.),\n",
    "         lambda f: f(0., 1.), lambda f: dx(f)(0., 1.), lambda f: dy(f)(0., 1.),\n",
    "         lambda f: f(1./3., 1./3.)]\n",
    "\n",
    "    return create_shape_functions_code(G, S, L, varname)"
   ]
  },
  {
   "cell_type": "code",
   "execution_count": null,
   "metadata": {},
   "outputs": [],
   "source": [
    "code = hermite_shapes_2d('sh2')\n",
    "print(code)\n",
    "exec(code)"
   ]
  },
  {
   "cell_type": "code",
   "execution_count": null,
   "metadata": {
    "collapsed": true,
    "scrolled": false
   },
   "outputs": [],
   "source": [
    "from mpl_toolkits.mplot3d import Axes3D\n",
    "from matplotlib import cm\n",
    "import matplotlib.pyplot as pl\n",
    "\n",
    "def plot_2dshapes(shapes, num_points=100, savefigs=None,\n",
    "                  colors=['red', 'blue', 'green']):\n",
    "    \"\"\" Plots scalar (shape) functions over the reference unit triangle.\n",
    "\n",
    "    Arguments:\n",
    "    ----------\n",
    "        shapes: one or more (zipped) arrays of functions to evaluate.\n",
    "                Each function must take one numpy.ndarray of shape (2,)\n",
    "                and return one scalar.\n",
    "        num_points: number of evaluation points per dimension \n",
    "                    (we use a square grid restricted to the unit triangle).\n",
    "        savefigs: It not None, a string like \"hermite2d-w-%d.eps\"\n",
    "                  with exactly one format string \"%d\" in it.\n",
    "        colors: List of matplotlib colors, one for each family of shapes.\n",
    "    \"\"\"\n",
    "    X = np.linspace(0, 1, num_points)\n",
    "    Y = np.linspace(0, 1, num_points)\n",
    "    xx, yy = np.meshgrid(X, Y)\n",
    "    # Test for zipped shape functions\n",
    "    funs = np.array(shapes)\n",
    "    if len(funs.shape) == 1:\n",
    "        funs = funs[:, None]\n",
    "    num_funs = funs.shape[1]\n",
    "    zz = np.zeros((num_funs, xx.shape[0], xx.shape[1]))\n",
    "    for i, ff in enumerate(funs):\n",
    "        fig = pl.figure()\n",
    "        ax = fig.gca(projection='3d', title=\"$\\phi_{%d}$\" % i)\n",
    "        for j,m,n in np.ndindex(num_funs, num_points, num_points):\n",
    "            zz[j,m,n] = ff[j]([xx[m,n], yy[m,n]]) if n <= num_points - m\\\n",
    "                                                  else np.nan\n",
    "        vmin, vmax = np.min(zz[~np.isnan(zz)]), np.max(zz[~np.isnan(zz)])\n",
    "        for k in range(num_funs):\n",
    "            ax.plot_wireframe(xx, yy, zz[k], color=colors[k],\n",
    "                              linewidth=0.2, rstride=2, cstride=2)\n",
    "            #ax.plot_surface(xx, yy, zz, cmap=cm.bone, linewidth=0,\n",
    "            #                rstride=5, cstride=5, vmin=-0.5, vmax=1.0)\n",
    "        \n",
    "        # Get rid of the panes\n",
    "        white = (1.0, 1.0, 1.0, 0.0)\n",
    "        ax.w_xaxis.set_pane_color(white)\n",
    "        ax.w_yaxis.set_pane_color(white)\n",
    "        ax.w_zaxis.set_pane_color(white)\n",
    "\n",
    "        ax.xaxis.set_ticks([0., 1.])\n",
    "        ax.yaxis.set_ticks([0., 1.])\n",
    "        ax.zaxis.set_ticks([vmin, 0, vmax])\n",
    "        if savefigs is not None:\n",
    "            pl.savefig(savefigs % i)"
   ]
  },
  {
   "cell_type": "code",
   "execution_count": null,
   "metadata": {
    "scrolled": false
   },
   "outputs": [],
   "source": [
    "plot_2dshapes(sh2)"
   ]
  },
  {
   "cell_type": "markdown",
   "metadata": {},
   "source": [
    "# Hermite shape functions in 3D\n",
    "\n",
    "Now $G=\\{1, x, y, z, x^2, y^2, z^2, x y, x z, y z, x^2 y, x^2 z, y^2 z, x y^2, x z^2, y z^2, x y z, x^3, y^3, z^3\\}$, i.e. $\\text{dim}\\ P_3(\\mathbb{R}^3) = 20$."
   ]
  },
  {
   "cell_type": "code",
   "execution_count": null,
   "metadata": {
    "collapsed": true,
    "scrolled": false
   },
   "outputs": [],
   "source": [
    "def hermite_shapes_3d(varname='sh3'):\n",
    "    \"\"\" Returns python code for the Hermite shape functions in 3D.\n",
    "\n",
    "    Returns:\n",
    "    --------\n",
    "        List of callables (of three variables) with the shape functions.\n",
    "    \"\"\"    \n",
    "    # Monomial basis for $P_3(R^3)$\n",
    "    G = [lambda x,y,z: 1.0,\n",
    "         lambda x,y,z: x,      lambda x,y,z: y,      lambda x,y,z: z,\n",
    "         lambda x,y,z: x**2,   lambda x,y,z: y**2,   lambda x,y,z: z**2,\n",
    "         lambda x,y,z: x*y,    lambda x,y,z: y*z,    lambda x,y,z: x*z,\n",
    "         lambda x,y,z: x**2*y, lambda x,y,z: x**2*z, lambda x,y,z: y**2*z,\n",
    "         lambda x,y,z: x*y**2, lambda x,y,z: x*z**2, lambda x,y,z: y*z**2,\n",
    "         lambda x,y,z: x*y*z,\n",
    "         lambda x,y,z: x**3,   lambda x,y,z: y**3,   lambda x,y,z: z**3]\n",
    "\n",
    "    # String representation of monomial basis for the code output\n",
    "    S = [\"1\",\n",
    "         \"x[0]\", \"x[1]\", \"x[2]\" ,\n",
    "         \"x[0]**2\", \"x[1]**2\", \"x[2]**2\",\n",
    "         \"x[0]*x[1]\", \"x[1]*x[2]\", \"x[0]*x[2]\",\n",
    "         \"x[0]**2*x[1]\", \"x[0]**2*x[2]\", \"x[1]**2*x[2]\",\n",
    "         \"x[0]*x[1]**2\", \"x[0]*x[2]**2\", \"x[1]*x[2]**2\",\n",
    "         \"x[0]*x[1]*x[2]\",\n",
    "         \"x[0]**3\", \"x[1]**3\", \"x[2]**3\"]\n",
    "\n",
    "    # Hermite degrees of freedom on the reference tetrahedron [(0, 0, 0), (1, 0, 0), (0, 1, 0), (0, 0, 1)]:\n",
    "    # point evaluation and partial derivatives at each vertex, plus evaluation at the barycenter of each face.\n",
    "    # NOTE that we need to use the same ordering as in the FIAT code in order for the tests to pass.\n",
    "    # To see in which sequence the barycenters were created use:\n",
    "    #import FIAT\n",
    "    #e = FIAT.CubicHermite(FIAT.reference_element.UFCTetrahedron(), 3)\n",
    "    #ll = e.dual_basis()\n",
    "    #for l in ll:\n",
    "    #    print(l.pt_dict.keys())\n",
    "\n",
    "    L = [lambda f: f(0., 0., 0.), lambda f: dx(f)(0., 0., 0.), lambda f: dy(f)(0., 0., 0.), lambda f: dz(f)(0., 0., 0.),\n",
    "         lambda f: f(1., 0., 0.), lambda f: dx(f)(1., 0., 0.), lambda f: dy(f)(1., 0., 0.), lambda f: dz(f)(1., 0., 0.),\n",
    "         lambda f: f(0., 1., 0.), lambda f: dx(f)(0., 1., 0.), lambda f: dy(f)(0., 1., 0.), lambda f: dz(f)(0., 1., 0.),\n",
    "         lambda f: f(0., 0., 1.), lambda f: dx(f)(0., 0., 1.), lambda f: dy(f)(0., 0., 1.), lambda f: dz(f)(0., 0., 1.),\n",
    "         lambda f: f(1./3., 1./3., 1./3.),\n",
    "         lambda f: f(0., 1./3., 1./3.), lambda f: f(1./3., 0., 1./3.), lambda f: f(1./3., 1./3., 0.)]\n",
    "\n",
    "    return create_shape_functions_code(G, S, L, varname)"
   ]
  },
  {
   "cell_type": "code",
   "execution_count": null,
   "metadata": {},
   "outputs": [],
   "source": [
    "code = hermite_shapes_3d('sh')\n",
    "print(code)\n",
    "exec(code)"
   ]
  },
  {
   "cell_type": "markdown",
   "metadata": {},
   "source": [
    "## Discrete Kirchhoff Triangles"
   ]
  },
  {
   "cell_type": "code",
   "execution_count": null,
   "metadata": {
    "collapsed": true
   },
   "outputs": [],
   "source": [
    "def kirchhoff_shapes_code(varname='kh'):\n",
    "    \"\"\" Returns python code for Kirchhoff shape functions (Discrete Kirchhoff Elements).\n",
    "    \n",
    "    FIXME: does it?\n",
    "    \n",
    "    Returns:\n",
    "    --------\n",
    "        List of callables (of two variables) with the shape functions.\n",
    "    \"\"\"\n",
    "    # Monomial basis for $P_3(R^2)$\n",
    "    G = [lambda x,y: 1.0, lambda x,y: x, lambda x,y: y, lambda x,y: x**2,\n",
    "         lambda x,y: x*y, lambda x,y: y**2, lambda x,y: x**3,\n",
    "         lambda x,y: x**2*y, lambda x,y: x*y**2, lambda x,y: y**3]\n",
    "\n",
    "    # String representation of monomial basis for the code output\n",
    "    S = [\"1\", \"x[0]\", \"x[1]\", \"x[0]**2\", \"x[0]*x[1]\", \"x[1]**2\",\n",
    "         \"x[0]**3\", \"x[0]**2*x[1]\", \"x[0]*x[1]**2\", \"x[1]**3\"]\n",
    "\n",
    "    def constraint(f):\n",
    "        xt, yt = 1./3, 1./3\n",
    "        r = -f(xt,yt)\n",
    "        for x,y in [(0.,0.), (1.,0.), (0.,1.)]:\n",
    "            r += (f(x,y) + dx(f)(x,y)*(xt-x) + dy(f)(x,y)*(yt-y))/3.\n",
    "        return r\n",
    "\n",
    "    # 9 of the 10 Hermite degrees of freedom on the reference triangle:\n",
    "    # point evaluation and partial derivatives at each vertex\n",
    "    L = [lambda f: f(0., 0.), lambda f: dx(f)(0., 0.), lambda f: dy(f)(0., 0.),\n",
    "         lambda f: f(1., 0.), lambda f: dx(f)(1., 0.), lambda f: dy(f)(1., 0.),\n",
    "         lambda f: f(0., 1.), lambda f: dx(f)(0., 1.), lambda f: dy(f)(0., 1.),\n",
    "         constraint]\n",
    "\n",
    "    return create_shape_functions_code(G, S, L, varname, num_constraints=1)"
   ]
  },
  {
   "cell_type": "code",
   "execution_count": null,
   "metadata": {},
   "outputs": [],
   "source": [
    "s = kirchhoff_shapes_code('kh')\n",
    "print(s)\n",
    "exec(s)"
   ]
  },
  {
   "cell_type": "code",
   "execution_count": null,
   "metadata": {
    "scrolled": false
   },
   "outputs": [],
   "source": [
    "#plot_2dshapes(zip(sh2, kh), colors=['blue', 'red'])\n",
    "plot_2dshapes(kh)"
   ]
  },
  {
   "cell_type": "markdown",
   "metadata": {},
   "source": [
    "# Interface"
   ]
  },
  {
   "cell_type": "code",
   "execution_count": null,
   "metadata": {
    "collapsed": true
   },
   "outputs": [],
   "source": [
    "def hermite_shapes(dim):\n",
    "    if dim == 1:\n",
    "        code = hermite_shapes_1d(varname='sh')\n",
    "    elif dim == 2:\n",
    "        code = hermite_shapes_2d(varname='sh')\n",
    "    elif dim == 3:\n",
    "        code = hermite_shapes_3d(varname='sh')\n",
    "    else:\n",
    "        raise ValueError(\"dim should be 1,2 or 3\")\n",
    "    context = {}\n",
    "    exec(code, context)\n",
    "    return context['sh']\n",
    "\n",
    "def kirchhoff_shapes():\n",
    "    code = kirchhoff_shapes_code(varname='sh')\n",
    "    context = {}\n",
    "    exec(code, context)\n",
    "    return context['sh']"
   ]
  },
  {
   "cell_type": "code",
   "execution_count": null,
   "metadata": {
    "collapsed": true
   },
   "outputs": [],
   "source": [
    "def __nbinit__():\n",
    "    global __all__\n",
    "    \n",
    "    __all__ = ['hermite_shapes', 'kirchhoff_shapes', 'plot_2dshapes']"
   ]
  },
  {
   "cell_type": "markdown",
   "metadata": {},
   "source": [
    "# Testing"
   ]
  },
  {
   "cell_type": "markdown",
   "metadata": {},
   "source": [
    "\n",
    "This is basically a bunch of redundant tests. **Careful!** They can also be misleading: if I mess up the geometric or Hermite transformations it might seem that the shape functions are at fault."
   ]
  },
  {
   "cell_type": "markdown",
   "metadata": {},
   "source": [
    "## Hermite trafo"
   ]
  },
  {
   "cell_type": "code",
   "execution_count": null,
   "metadata": {
    "collapsed": true
   },
   "outputs": [],
   "source": [
    "def pt(x,y):\n",
    "    return np.array((x,y))  # setting dtype here annoys autograd\n",
    "\n",
    "def compute_trafo(v1, v2, v3):\n",
    "    \"\"\" Returns the affine trafo from the reference triangle\n",
    "    to the triangle with vertices at v1, v2, v3.\n",
    "\n",
    "    Arguments\n",
    "    ---------\n",
    "        v1, v2, v3: np.ndarrays of shape (2,)\n",
    "    \n",
    "    Returns\n",
    "    -------\n",
    "        A function accepting one np.ndarray of shape (2,)\n",
    "        and returning another np.ndarray of shape (2,).\n",
    "    \"\"\"\n",
    "\n",
    "    assert v1.shape == v2.shape == v3.shape == (2,),\\\n",
    "           \"Wrong shapes\"\n",
    "    M = np.vstack((v2-v1, v3-v1)).T\n",
    "    def trafo(x):\n",
    "        return v1 + np.dot(M, x)\n",
    "    return trafo\n",
    "\n",
    "def compute_inverse_trafo(v1, v2, v3):\n",
    "    \"\"\" Returns the affine trafo from the triangle with\n",
    "    vertices at v1, v2, v3. to the reference triangle.\n",
    "    \n",
    "    Arguments\n",
    "    ---------\n",
    "        v1, v2, v3: np.ndarrays of shape (2,)\n",
    "    \n",
    "    Returns\n",
    "    -------\n",
    "        A function accepting one np.ndarray of shape (2,)\n",
    "        and returning another np.ndarray of shape (2,).\n",
    "    \"\"\"\n",
    "\n",
    "    assert v1.shape == v2.shape == v3.shape == (2,),\\\n",
    "           \"Wrong shapes\"\n",
    "    Minv = np.linalg.inv(np.vstack((v2-v1, v3-v1)).T)\n",
    "    def trafo(x):\n",
    "        return np.dot(Minv, x-v1)\n",
    "    return trafo"
   ]
  },
  {
   "cell_type": "code",
   "execution_count": null,
   "metadata": {},
   "outputs": [],
   "source": [
    "v1,v2,v3 = pt(0., 0.), pt(1., 0.), pt(1., 1)\n",
    "F = compute_trafo(v1,v2,v3)\n",
    "Finv = compute_inverse_trafo(v1,v2,v3)\n",
    "np.alltrue([np.allclose(x, F(Finv(x))) and np.allclose(x, Finv(F(x)))\n",
    "            for x in np.random.rand(20,2)])"
   ]
  },
  {
   "cell_type": "markdown",
   "metadata": {},
   "source": [
    "## Duality"
   ]
  },
  {
   "cell_type": "code",
   "execution_count": null,
   "metadata": {
    "collapsed": true
   },
   "outputs": [],
   "source": [
    "def hermite_shapes_2d_physical(v1, v2, v3):\n",
    "    \"\"\" Return Hermite shape functions for a physical element.\n",
    "\n",
    "    Arguments\n",
    "    ---------\n",
    "        v1,v2,v3: vertices of the triangle where the shape functions\n",
    "                  will be supported.\n",
    "    Returns\n",
    "    -------\n",
    "        List of callables each accepting a 2d point. They correspond, in order,\n",
    "        to evaluation, dx, dy at v1, then v2 then v3, followed by a last evaluation\n",
    "        at the barycenter.\n",
    "    \"\"\"\n",
    "    \n",
    "    F = compute_trafo(v1,v2,v3)\n",
    "    Finv = compute_inverse_trafo(v1, v2, v3)\n",
    "    phi_hat = hermite_shapes(dim=2)\n",
    "\n",
    "    # Build Hermite transformation matrix\n",
    "    J = ad.jacobian(F)(v1)  # TODO: assert this is constant\n",
    "    H = np.identity(3)\n",
    "    H[1:,1:] = J\n",
    "\n",
    "    # Transform basis functions:\n",
    "    phi = []\n",
    "    #for i in range(9):\n",
    "    #    phi.append(lambda x: np.dot(H, [f(F(x)) for f in phi_hat[i/3:3+i/3]])[i%3])\n",
    "    phi.append(lambda x: np.dot(H, [f(Finv(x)) for f in phi_hat[0:3]])[0])\n",
    "    phi.append(lambda x: np.dot(H, [f(Finv(x)) for f in phi_hat[0:3]])[1])\n",
    "    phi.append(lambda x: np.dot(H, [f(Finv(x)) for f in phi_hat[0:3]])[2])\n",
    "    phi.append(lambda x: np.dot(H, [f(Finv(x)) for f in phi_hat[3:6]])[0])\n",
    "    phi.append(lambda x: np.dot(H, [f(Finv(x)) for f in phi_hat[3:6]])[1])\n",
    "    phi.append(lambda x: np.dot(H, [f(Finv(x)) for f in phi_hat[3:6]])[2])\n",
    "    phi.append(lambda x: np.dot(H, [f(Finv(x)) for f in phi_hat[6:9]])[0])\n",
    "    phi.append(lambda x: np.dot(H, [f(Finv(x)) for f in phi_hat[6:9]])[1])\n",
    "    phi.append(lambda x: np.dot(H, [f(Finv(x)) for f in phi_hat[6:9]])[2])\n",
    "    # Check the values obtained in test_duality when Finv(x) is left out in the following:\n",
    "    phi.append(lambda x: phi_hat[9](Finv(x)))\n",
    "    \n",
    "    return phi"
   ]
  },
  {
   "cell_type": "code",
   "execution_count": null,
   "metadata": {
    "code_folding": [],
    "collapsed": true
   },
   "outputs": [],
   "source": [
    "def test_duality(funs, v1, v2, v3):\n",
    "    \"\"\" Check whether the duality property holds for the transformed\n",
    "    Hermite shape functions.\n",
    "    \n",
    "    Arguments\n",
    "    ---------\n",
    "        funs: (Callables) Hermite shape functions, after Hermite trafo.\n",
    "        v1, v2, v3: 2D points (np.ndarray of shape (2,))\n",
    "    \"\"\"\n",
    "    v4 = 1/3.*(v1 + v2 + v3)\n",
    "    \n",
    "    L = [lambda f: f(v1), lambda f: dx(f)(v1)[0], lambda f: dx(f)(v1)[1],\n",
    "         lambda f: f(v2), lambda f: dx(f)(v2)[0], lambda f: dx(f)(v2)[1],\n",
    "         lambda f: f(v3), lambda f: dx(f)(v3)[0], lambda f: dx(f)(v3)[1],\n",
    "         lambda f: f(v4)]\n",
    "\n",
    "    n = len(funs)\n",
    "    A = np.zeros((n, n))\n",
    "    for i,j in np.ndindex(A.shape):\n",
    "        A[i,j] = L[i](funs[j])\n",
    "\n",
    "    if np.allclose(A, np.identity(n)):\n",
    "        print(\"Everything ok.\")\n",
    "        return True\n",
    "    else:\n",
    "        print(\"Failed! Returning A\")\n",
    "        return np.round(A,1)"
   ]
  },
  {
   "cell_type": "code",
   "execution_count": null,
   "metadata": {},
   "outputs": [],
   "source": [
    "test_duality(hermite_shapes(dim=2), pt(0., 0.), pt(1., 0.), pt(0., 1)) and \\\n",
    "test_duality(hermite_shapes_2d_physical(v1,v2,v3), v1,v2,v3) and \\\n",
    "test_duality(kirchhoff_shapes(), pt(0., 0.), pt(1., 0.), pt(0., 1)) "
   ]
  },
  {
   "cell_type": "markdown",
   "metadata": {},
   "source": [
    "## Matrix assembly"
   ]
  },
  {
   "cell_type": "markdown",
   "metadata": {},
   "source": [
    "We \"manually\" assemble a very simple mass matrix for a mesh with two cells and a simple form $\\int_\\Omega \\nabla u \\nabla v \\mathrm{d}x$. We first compute the local matrices and using the local-to-global dofmap to add them into a global one. Note that we take the integrals over the physical domain, instead of performing the change of coordinates. This is to reduce in one the number of places where we can mess up... :("
   ]
  },
  {
   "cell_type": "code",
   "execution_count": null,
   "metadata": {},
   "outputs": [],
   "source": [
    "from scipy.integrate import dblquad\n",
    "np.set_printoptions(precision=2, linewidth=150, suppress=True)\n",
    "import dolfin as df    # don't import *: we have defined a dx() above\n",
    "import nbimporter\n",
    "from utils import Msg\n",
    "import autograd as ad\n",
    "ad.core.warnings.filterwarnings(\"ignore\", \".*Output seems independent of input.*\")\n",
    "\n",
    "# Remember that we only implement Hermite elements in quadrature representation\n",
    "df.parameters['form_compiler']['representation'] = 'quadrature'\n",
    "df.parameters['form_compiler']['optimize'] = False\n",
    "df.parameters['form_compiler']['cpp_optimize'] = False"
   ]
  },
  {
   "cell_type": "code",
   "execution_count": null,
   "metadata": {
    "collapsed": true
   },
   "outputs": [],
   "source": [
    "def tensor_indices(dofs):\n",
    "    \"\"\" Takes a list of dofs and returns indices for the global tensor\n",
    "    This returns a tuple of indices (r,c) such that if $T$ is the global,\n",
    "    tensor then T[r,c] are the entries of the local tensor.\n",
    "    \n",
    "    Arguments\n",
    "    ---------\n",
    "        dofs: local to global mapping\n",
    "    Returns\n",
    "    -------\n",
    "        Tuple (rows, cols) of indices into the global array,\n",
    "        returning dofs in local order\n",
    "        \"\"\"\n",
    "    cols = np.tile(dofs, (len(dofs),1))\n",
    "    rows = cols.copy().T\n",
    "    return rows, cols"
   ]
  },
  {
   "cell_type": "code",
   "execution_count": null,
   "metadata": {},
   "outputs": [],
   "source": [
    "def apply_local_tensor(V:df.FunctionSpace, cell:int, global_tensor:np.ndarray, local_tensor:np.ndarray):\n",
    "    \"\"\" Inserts entries from a local cell tensor into the global one. \"\"\"\n",
    "    d = V.element().space_dimension()\n",
    "    D = V.dim()\n",
    "    assert local_tensor.shape == (d,d), \"Finite element dimension and local tensor size don't match\"\n",
    "    assert global_tensor.shape == (D,D), \"Space dimension and global tensor size don't match\"\n",
    "    \n",
    "    dm = V.dofmap()\n",
    "    dofs = dm.cell_dofs(cell)\n",
    "    gr, gc = tensor_indices(dofs)\n",
    "    lr, lc = tensor_indices(range(d))\n",
    "    global_tensor[gr, gc] += local_tensor[lr, lc]    "
   ]
  },
  {
   "cell_type": "code",
   "execution_count": null,
   "metadata": {
    "collapsed": true
   },
   "outputs": [],
   "source": [
    "V = df.FunctionSpace(df.UnitSquareMesh(1,1, 'right'), 'Hermite', 3)\n",
    "u, v = df.TrialFunction(V), df.TestFunction(V)\n",
    "A = df.assemble(df.inner(df.nabla_grad(u), df.nabla_grad(v))*df.dx).array()"
   ]
  },
  {
   "cell_type": "code",
   "execution_count": null,
   "metadata": {},
   "outputs": [],
   "source": [
    "def integrand(funs, i, j, swap=True):\n",
    "    \"\"\" Returns the integrand in the physical domain for use in dblquad.\"\"\"\n",
    "    # dblquad requires y first, x second\n",
    "    if swap:\n",
    "        return lambda y, x: np.dot(dx(funs[i])(pt(x,y)), dx(funs[j])(pt(x,y)))\n",
    "    else: # This is for the upper cell in a UnitSquareMesh with right diagonal and two cells\n",
    "        return lambda x, y: np.dot(dx(funs[i])(pt(x,y)), dx(funs[j])(pt(x,y)))\n",
    "\n",
    "d = V.element().space_dimension()\n",
    "D = V.dim()\n",
    "B = np.zeros((D, D))    \n",
    "\n",
    "M = np.zeros((d, d))\n",
    "with Msg(\"Computing local tensor for first cell\"):\n",
    "    v1,v2,v3 = pt(0., 0.), pt(1., 0.), pt(1., 1)\n",
    "    phi = hermite_shapes_2d_physical(v1,v2,v3)  # Ten functions in 2D\n",
    "    for i,j in np.ndindex(M.shape):\n",
    "        if i > j:  # the matrix is symmetric\n",
    "            continue\n",
    "        quad = dblquad(integrand(phi, i, j), 0, 1, lambda x:0., lambda x:x)\n",
    "        assert quad[1] < 1e-10, \"Integration error too high\"\n",
    "        M[i,j] = quad[0]\n",
    "# Contruct the full matrix for convenience\n",
    "M = (M+M.T)\n",
    "M[range(d), range(d)] /= 2.\n",
    "\n",
    "apply_local_tensor(V, 0, B, M)\n",
    "\n",
    "#### Repeat for the upper cell\n",
    "M = np.zeros((d, d))\n",
    "with Msg(\"Computing local tensor for second cell\"):\n",
    "    v1,v2,v3 = pt(0., 0.), pt(0., 1.), pt(1., 1)\n",
    "    phi = hermite_shapes_2d_physical(v1,v2,v3)  # Ten functions in 2D\n",
    "    for i,j in np.ndindex(M.shape):\n",
    "        if i > j:  # the matrix is symmetric\n",
    "            continue\n",
    "        quad = dblquad(integrand(phi, i, j, False), 0, 1, lambda y:0., lambda y:y)\n",
    "        assert quad[1] < 1e-10, \"Integration error too high\"\n",
    "        M[i,j] += quad[0]\n",
    "\n",
    "# Contruct the full matrix for convenience\n",
    "M = (M+M.T)\n",
    "M[range(d), range(d)] /= 2.\n",
    "apply_local_tensor(V, 1, B, M)\n",
    "\n",
    "np.allclose(A,B)"
   ]
  },
  {
   "cell_type": "markdown",
   "metadata": {},
   "source": [
    "Compute another matrix, now only over the ref. triangle. This is for comparison with Cell(0) of a 1x1 mesh with **left** diagonal. Note that we are interested in a cell whose transformation is the identity, so we need not use `hermite_shapes_physical`."
   ]
  },
  {
   "cell_type": "code",
   "execution_count": null,
   "metadata": {
    "collapsed": true
   },
   "outputs": [],
   "source": [
    "phihat = hermite_shapes(dim=2)\n",
    "Mhat = np.zeros_like(M)\n",
    "for i,j in np.ndindex(M.shape):\n",
    "    if i>j:\n",
    "        continue\n",
    "    quad = dblquad(integrand(phihat, i, j), 0, 1, lambda x:0., lambda x:1-x)\n",
    "    assert quad[1] < 1e-10, \"Integration error too high\"\n",
    "    Mhat[i,j] = quad[0]\n",
    "Mhat = Mhat+Mhat.T\n",
    "Mhat[range(len(phi)), range(len(phi))] /= 2."
   ]
  },
  {
   "cell_type": "code",
   "execution_count": null,
   "metadata": {
    "collapsed": true
   },
   "outputs": [],
   "source": [
    "W = df.FunctionSpace(df.UnitSquareMesh(1,1,'left'), 'Hermite', 3)\n",
    "u, v = df.TrialFunction(W), df.TestFunction(W)\n",
    "Ahat = df.assemble(df.inner(df.nabla_grad(u), df.nabla_grad(v))*df.dx).array()\n",
    "dm = W.dofmap()\n",
    "dofs = dm.cell_dofs(0)\n",
    "# Extract entries for cell 0 from the tensor and arrange them in local (reference) dof order\n",
    "rows, cols = tensor_indices(dofs)\n",
    "Rhat = Ahat[rows, cols] / Mhat\n",
    "\n",
    "# We must have 1s where dofs contribute only once to the global matrix, 2s where they do twice.\n",
    "np.allclose(Rhat.diagonal(), [1,1,1,2,2,2,2,2,2,1])"
   ]
  }
 ],
 "metadata": {
  "hide_input": false,
  "kernelspec": {
   "display_name": "Python 3",
   "language": "python",
   "name": "python3"
  },
  "language_info": {
   "codemirror_mode": {
    "name": "ipython",
    "version": 3
   },
   "file_extension": ".py",
   "mimetype": "text/x-python",
   "name": "python",
   "nbconvert_exporter": "python",
   "pygments_lexer": "ipython3",
   "version": "3.5.2"
  },
  "toc": {
   "nav_menu": {},
   "number_sections": true,
   "sideBar": true,
   "skip_h1_title": false,
   "toc_cell": false,
   "toc_position": {},
   "toc_section_display": "block",
   "toc_window_display": false
  },
  "varInspector": {
   "cols": {
    "lenName": 16,
    "lenType": 16,
    "lenVar": 40
   },
   "kernels_config": {
    "python": {
     "delete_cmd_postfix": "",
     "delete_cmd_prefix": "del ",
     "library": "var_list.py",
     "varRefreshCmd": "print(var_dic_list())"
    },
    "r": {
     "delete_cmd_postfix": ") ",
     "delete_cmd_prefix": "rm(",
     "library": "var_list.r",
     "varRefreshCmd": "cat(var_dic_list()) "
    }
   },
   "types_to_exclude": [
    "module",
    "function",
    "builtin_function_or_method",
    "instance",
    "_Feature"
   ],
   "window_display": false
  }
 },
 "nbformat": 4,
 "nbformat_minor": 1
}
