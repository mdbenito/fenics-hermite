{
 "cells": [
  {
   "cell_type": "markdown",
   "metadata": {},
   "source": [
    "# Hermite shape functions in 1D\n",
    "\n",
    "We choose a monomial basis $G=\\{1, x, x^2, x^3\\}$ to express the shape functions in. The degrees of freedom $L \\subset P_3(T)'$ are point evaluation and differentiation at $0$ and $1$. We build the Vandermonde matrix $V_{i j} = L_i(G_j)$ and invert it. The columns of $V^{-1}$ are the coefficients of the shape functions expressed in the basis $G$. The manual computation is easy in 1D, but since we will do it in 2D and 3D as well, we use Automatic Differentiation and a bit of Python to do the job."
   ]
  },
  {
   "cell_type": "code",
   "execution_count": null,
   "metadata": {
    "collapsed": true
   },
   "outputs": [],
   "source": [
    "from __future__ import print_function\n",
    "import autograd as ad\n",
    "import autograd.numpy as np\n",
    "\n",
    "# Partial derivatives\n",
    "def dx(f):\n",
    "    return ad.elementwise_grad(f, 0)\n",
    "def dy(f):\n",
    "    return ad.grad(f, 1)\n",
    "def dz(f):\n",
    "    return ad.grad(f, 2)"
   ]
  },
  {
   "cell_type": "code",
   "execution_count": null,
   "metadata": {
    "collapsed": false
   },
   "outputs": [],
   "source": [
    "def create_shape_functions_code(basis, basis_strings, dofs, varname='sh'):\n",
    "    \"\"\"Create python code with shape functions.\n",
    "    This can be used for plotting or be pasted into ffc/tests/unit/test_elements.py.\n",
    "    Arguments:\n",
    "    ----------\n",
    "        basis: list of callables. This is the polynomial basis in which \n",
    "               to express the shape functions.\n",
    "                   E.g. [lambda x: 1, lambda x: x]\n",
    "        basis_strings: string representation of the callables used to\n",
    "                       output the code.\n",
    "        dofs: list of callables. This are the linear functionals whose dual\n",
    "              basis will be the shape functions. They should be unisolvent.\n",
    "    Return:\n",
    "    -------\n",
    "        String of python code which can be exec()'d or pasted elsewhere.\n",
    "    \"\"\"\n",
    "    \n",
    "    n = len(basis)\n",
    "    assert n == len(dofs) == len(basis_strings) , \"Dimensions don't match.\"\n",
    "\n",
    "    # Build Vandermonde matrix\n",
    "    V = np.zeros((n, n))\n",
    "    for i, j in np.ndindex(V.shape):\n",
    "        V[i,j] = dofs[i](basis[j])\n",
    "\n",
    "    # Invert and read linear combinations of basis functions from G from the columns\n",
    "    Vinv = np.linalg.inv(V)\n",
    "\n",
    "    s = \"%s = [\" % varname\n",
    "    for j in range(n):\n",
    "        s += \"lambda x: \"\n",
    "        l = []\n",
    "        for i, basis_elem in enumerate(basis_strings):\n",
    "            coeff = Vinv[i,j]\n",
    "            if not np.isclose(coeff, 0):\n",
    "                sign = \"+\" if coeff > 0 else \"-\"\n",
    "                coeff = np.abs(coeff)\n",
    "                prefix = \"%s %d *\" % (sign, coeff) if not np.isclose(coeff, 1) else sign\n",
    "                l.append(prefix)\n",
    "                l.append(basis_elem)\n",
    "        if l[0] == '+': # Remove unnecessary sign (confuses autograd)\n",
    "            l.pop(0)\n",
    "        s += \" \".join(l) + \",\\n      \"\n",
    "    s = s[:-8]    # Remove last \",\\n      \"\n",
    "    return s + \"]\"\n",
    "\n",
    "def hermite_shapes_1d(varname='sh1'):\n",
    "    \"\"\" Returns the code for the Hermite shape functions in 1D\n",
    "\n",
    "    Returns:\n",
    "    --------\n",
    "        String with List of callables (of one variable) with the shape functions.\n",
    "    \"\"\"\n",
    "    # Monomial basis for $P_3(R)$\n",
    "    G = [lambda x: 1, lambda x: x, lambda x: x**2, lambda x: x**3]\n",
    "\n",
    "    # String representation of monomial basis\n",
    "    S = [\"1\", \"x\", \"x**2\", \"x**3\"]\n",
    "\n",
    "    # Hermite degrees of freedom on the reference interval [(0,0),(1,0)]:\n",
    "    # Point evaluation and partial derivatives at each endpoint\n",
    "    L = [lambda f: f(0.), lambda f: dx(f)(0.), lambda f: f(1.), lambda f: dx(f)(1.)]\n",
    "    \n",
    "    return create_shape_functions_code(G, S, L, varname)\n",
    "    "
   ]
  },
  {
   "cell_type": "code",
   "execution_count": null,
   "metadata": {
    "collapsed": false
   },
   "outputs": [],
   "source": [
    "code = hermite_shapes_1d('sh')\n",
    "print(code)\n",
    "exec(code)"
   ]
  },
  {
   "cell_type": "code",
   "execution_count": null,
   "metadata": {
    "collapsed": false
   },
   "outputs": [],
   "source": [
    "import matplotlib.pyplot as pl\n",
    "%matplotlib inline\n",
    "\n",
    "pl.figure(figsize=(10,4))\n",
    "pl.subplot(1,2,1)\n",
    "xx = np.linspace(0, 1, 100)\n",
    "for i, f in enumerate(sh):\n",
    "    pl.plot(xx, f(xx), label='sh%d' % i)\n",
    "_ = pl.legend()\n",
    "\n",
    "pl.subplot(1,2,2)\n",
    "for i, f in enumerate(sh):\n",
    "    pl.plot(xx, dx(f)(xx), label='sh%d\\'' % i)\n",
    "_ = pl.legend()"
   ]
  },
  {
   "cell_type": "markdown",
   "metadata": {},
   "source": [
    "# Hermite shape functions in 2D\n",
    "\n",
    "Now $G=\\{1, x, y, x^2, x y, y^2, x^3, x^2 y, x y^2, y^3\\}$."
   ]
  },
  {
   "cell_type": "code",
   "execution_count": null,
   "metadata": {
    "collapsed": false
   },
   "outputs": [],
   "source": [
    "def hermite_shapes_2d(varname='sh2'):\n",
    "    \"\"\" Returns python code for the Hermite shape functions in 2D.\n",
    "\n",
    "    Returns:\n",
    "    --------\n",
    "        List of callables (of two variables) with the shape functions.\n",
    "    \"\"\"\n",
    "    # Monomial basis for $P_3(R^2)$\n",
    "    G = [lambda x,y: 1, lambda x,y: x, lambda x,y: y, lambda x,y: x**2, lambda x,y: x*y, lambda x,y: y**2,\n",
    "         lambda x,y: x**3, lambda x,y: x**2*y, lambda x,y: x*y**2, lambda x,y: y**3]\n",
    "\n",
    "    # String representation of monomial basis for the code output\n",
    "    S = [\"1\", \"x[0]\", \"x[1]\", \"x[0]**2\", \"x[0]*x[1]\", \"x[1]**2\",\n",
    "         \"x[0]**3\", \"x[0]**2*x[1]\", \"x[0]*x[1]**2\", \"x[1]**3\"]\n",
    "\n",
    "    # Hermite degrees of freedom on the reference triangle [(0,0),(1,0),(0,1)]:\n",
    "    # point evaluation and partial derivatives at each vertex, plus evaluation at the barycenter.\n",
    "    L = [lambda f: f(0., 0.), lambda f: dx(f)(0., 0.), lambda f: dy(f)(0., 0.),\n",
    "         lambda f: f(1., 0.), lambda f: dx(f)(1., 0.), lambda f: dy(f)(1., 0.),\n",
    "         lambda f: f(0., 1.), lambda f: dx(f)(0., 1.), lambda f: dy(f)(0., 1.),\n",
    "         lambda f: f(1./3., 1./3.)]\n",
    "\n",
    "    return create_shape_functions_code(G, S, L, varname)"
   ]
  },
  {
   "cell_type": "code",
   "execution_count": null,
   "metadata": {
    "collapsed": false
   },
   "outputs": [],
   "source": [
    "code = hermite_shapes_2d('sh')\n",
    "print(code)\n",
    "exec(code)"
   ]
  },
  {
   "cell_type": "code",
   "execution_count": null,
   "metadata": {
    "collapsed": false
   },
   "outputs": [],
   "source": [
    "from mpl_toolkits.mplot3d import Axes3D\n",
    "from matplotlib import cm\n",
    "\n",
    "npoints = 100\n",
    "X = np.linspace(0, 1, npoints)\n",
    "Y = np.linspace(0, 1, npoints)\n",
    "xx, yy = np.meshgrid(X,Y)\n",
    "for i in range(10):\n",
    "    fig = pl.figure() #figsize=(12,10))\n",
    "    #ax = fig.add_subplot(3, 3, i+1, projection='3d', label=\"th%d\" % i)\n",
    "    ax = fig.gca(projection='3d', label=\"sh%d\" % i)\n",
    "    zz = np.zeros_like(xx)\n",
    "    for m in range(npoints):\n",
    "        for n in range(npoints):\n",
    "            zz[m,n] = sh[i]([xx[m,n], yy[m,n]]) if n <= npoints - m else np.nan\n",
    "    vmin, vmax = np.min(zz[~np.isnan(zz)]), np.max(zz[~np.isnan(zz)])\n",
    "    ax.plot_wireframe(xx, yy, zz, color='grey', linewidth=0.2, rstride=2, cstride=2)\n",
    "    #ax.plot_surface(xx, yy, zz, cmap=cm.bone, linewidth=0, rstride=5, cstride=5, vmin=-0.5, vmax=1.0)\n",
    "    # Get rid of the panes\n",
    "    ax.w_xaxis.set_pane_color((1.0, 1.0, 1.0, 0.0))\n",
    "    ax.w_yaxis.set_pane_color((1.0, 1.0, 1.0, 0.0))\n",
    "    ax.w_zaxis.set_pane_color((1.0, 1.0, 1.0, 0.0))\n",
    "    \n",
    "    ax.xaxis.set_ticks([0.,1.])\n",
    "    ax.yaxis.set_ticks([0.,1.])\n",
    "    ax.zaxis.set_ticks([vmin, 0, vmax])\n",
    "    #pl.savefig(\"hermite2d-w-%d.eps\" % i)"
   ]
  },
  {
   "cell_type": "markdown",
   "metadata": {},
   "source": [
    "# Hermite shape functions in 3D\n",
    "\n",
    "Now $G=\\{1, x, y, z, x^2, y^2, z^2, x y, x z, y z, x^2 y, x^2 z, y^2 z, x y^2, x z^2, y z^2, x y z, x^3, y^3, z^3\\}$, i.e. $\\text{dim}\\ P_3(\\mathbb{R}^3) = 20$."
   ]
  },
  {
   "cell_type": "code",
   "execution_count": null,
   "metadata": {
    "collapsed": false,
    "scrolled": false
   },
   "outputs": [],
   "source": [
    "def hermite_shapes_3d(varname='sh3'):\n",
    "    \"\"\" Returns python code for the Hermite shape functions in 3D.\n",
    "\n",
    "    Returns:\n",
    "    --------\n",
    "        List of callables (of three variables) with the shape functions.\n",
    "    \"\"\"    \n",
    "    # Monomial basis for $P_3(R^3)$\n",
    "    G = [lambda x,y,z: 1,\n",
    "         lambda x,y,z: x,      lambda x,y,z: y,      lambda x,y,z: z,\n",
    "         lambda x,y,z: x**2,   lambda x,y,z: y**2,   lambda x,y,z: z**2,\n",
    "         lambda x,y,z: x*y,    lambda x,y,z: y*z,    lambda x,y,z: x*z,\n",
    "         lambda x,y,z: x**2*y, lambda x,y,z: x**2*z, lambda x,y,z: y**2*z,\n",
    "         lambda x,y,z: x*y**2, lambda x,y,z: x*z**2, lambda x,y,z: y*z**2,\n",
    "         lambda x,y,z: x*y*z,\n",
    "         lambda x,y,z: x**3,   lambda x,y,z: y**3,   lambda x,y,z: z**3]\n",
    "\n",
    "    # String representation of monomial basis for the code output\n",
    "    S = [\"1\",\n",
    "         \"x[0]\", \"x[1]\", \"x[2]\" ,\n",
    "         \"x[0]**2\", \"x[1]**2\", \"x[2]**2\",\n",
    "         \"x[0]*x[1]\", \"x[1]*x[2]\", \"x[0]*x[2]\",\n",
    "         \"x[0]**2*x[1]\", \"x[0]**2*x[2]\", \"x[1]**2*x[2]\",\n",
    "         \"x[0]*x[1]**2\", \"x[0]*x[2]**2\", \"x[1]*x[2]**2\",\n",
    "         \"x[0]*x[1]*x[2]\",\n",
    "         \"x[0]**3\", \"x[1]**3\", \"x[2]**3\"]\n",
    "\n",
    "    # Hermite degrees of freedom on the reference tetrahedron [(0, 0, 0), (1, 0, 0), (0, 1, 0), (0, 0, 1)]:\n",
    "    # point evaluation and partial derivatives at each vertex, plus evaluation at the barycenter of each face.\n",
    "    # NOTE that we need to use the same ordering as in the FIAT code in order for the tests to pass.\n",
    "    # To see in which sequence the barycenters were created use:\n",
    "    #import FIAT\n",
    "    #e = FIAT.CubicHermite(FIAT.reference_element.UFCTetrahedron(), 3)\n",
    "    #ll = e.dual_basis()\n",
    "    #for l in ll:\n",
    "    #    print(l.pt_dict.keys())\n",
    "\n",
    "    L = [lambda f: f(0., 0., 0.), lambda f: dx(f)(0., 0., 0.), lambda f: dy(f)(0., 0., 0.), lambda f: dz(f)(0., 0., 0.),\n",
    "         lambda f: f(1., 0., 0.), lambda f: dx(f)(1., 0., 0.), lambda f: dy(f)(1., 0., 0.), lambda f: dz(f)(1., 0., 0.),\n",
    "         lambda f: f(0., 1., 0.), lambda f: dx(f)(0., 1., 0.), lambda f: dy(f)(0., 1., 0.), lambda f: dz(f)(0., 1., 0.),\n",
    "         lambda f: f(0., 0., 1.), lambda f: dx(f)(0., 0., 1.), lambda f: dy(f)(0., 0., 1.), lambda f: dz(f)(0., 0., 1.),\n",
    "         lambda f: f(1./3., 1./3., 1./3.),\n",
    "         lambda f: f(0., 1./3., 1./3.), lambda f: f(1./3., 0., 1./3.), lambda f: f(1./3., 1./3., 0.)]\n",
    "\n",
    "    return create_shape_functions_code(G, S, L, varname)"
   ]
  },
  {
   "cell_type": "code",
   "execution_count": null,
   "metadata": {
    "collapsed": true
   },
   "outputs": [],
   "source": [
    "code = hermite_shapes_3d('sh')\n",
    "print(code)\n",
    "exec(code)"
   ]
  },
  {
   "cell_type": "markdown",
   "metadata": {},
   "source": [
    "# Interface"
   ]
  },
  {
   "cell_type": "code",
   "execution_count": null,
   "metadata": {
    "collapsed": true
   },
   "outputs": [],
   "source": [
    "def hermite_shapes(dim):\n",
    "    if dim == 1:\n",
    "        code = hermite_shapes_1d(varname='sh')\n",
    "    elif dim == 2:\n",
    "        code = hermite_shapes_2d(varname='sh')\n",
    "    elif dim == 3:\n",
    "        code = hermite_shapes_3d(varname='sh')\n",
    "    else:\n",
    "        raise ValueError(\"dim should be 1,2 or 3\")\n",
    "    exec(code)\n",
    "    return sh"
   ]
  }
 ],
 "metadata": {
  "kernelspec": {
   "display_name": "Python 2",
   "language": "python",
   "name": "python2"
  },
  "language_info": {
   "codemirror_mode": {
    "name": "ipython",
    "version": 2
   },
   "file_extension": ".py",
   "mimetype": "text/x-python",
   "name": "python",
   "nbconvert_exporter": "python",
   "pygments_lexer": "ipython2",
   "version": "2.7.12"
  }
 },
 "nbformat": 4,
 "nbformat_minor": 1
}
