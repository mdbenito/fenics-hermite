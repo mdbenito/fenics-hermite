{
 "cells": [
  {
   "cell_type": "markdown",
   "metadata": {},
   "source": [
    "# Non linear elasticity\n",
    "\n",
    "Compressible neo hookean material, clamped bottom and top. Twist the top. Some traction at the sides.\n",
    "\n",
    "Elastic strain energy density:\n",
    "\n",
    "\\\\[ W = \\frac{\\mu}{2}  (\\operatorname{tr} ((I + \\nabla u)^{\\top} (I + \\nabla u)) - 3) - \n",
    "   \\mu \\ln \\det (I + \\nabla u) + \\frac{\\lambda}{2} (\\ln \\det (I+\\nabla u))^2 \\\\]\n",
    "\n",
    "Total energy:\n",
    "\n",
    "\\\\[ E = \\int_{\\Omega} W \\mathrm{d} x + \\int_{\\Omega} B \\cdot u \\mathrm{d} x +\n",
    "   \\int_{\\partial \\Omega} T \\cdot u \\mathrm{d} s \\\\]\n",
    "\n",
    "\n",
    "\\\\[ F (u, v) = \\delta E (u ; v) \\\\]"
   ]
  },
  {
   "cell_type": "code",
   "execution_count": 3,
   "metadata": {},
   "outputs": [],
   "source": [
    "from dolfin import *\n",
    "%matplotlib inline\n",
    "\n",
    "# Optimization options for the form compiler\n",
    "parameters[\"form_compiler\"][\"cpp_optimize\"] = True\n",
    "parameters[\"form_compiler\"][\"representation\"] = \"uflacs\"\n",
    "\n",
    "# Create mesh and define function space\n",
    "mesh = UnitCubeMesh(24, 16, 16)\n",
    "V = VectorFunctionSpace(mesh, \"Lagrange\", 1)\n",
    "\n",
    "# Mark boundary subdomains\n",
    "left =  CompiledSubDomain(\"near(x[0], side) && on_boundary\", side = 0.0)\n",
    "right = CompiledSubDomain(\"near(x[0], side) && on_boundary\", side = 1.0)\n",
    "\n",
    "# Define Dirichlet boundary (x = 0 or x = 1)\n",
    "c = Constant((0.0, 0.0, 0.0))\n",
    "r = Expression((\"scale*0.0\",\n",
    "                \"scale*(y0 + (x[1] - y0)*cos(theta) - (x[2] - z0)*sin(theta) - x[1])\",\n",
    "                \"scale*(z0 + (x[1] - y0)*sin(theta) + (x[2] - z0)*cos(theta) - x[2])\"),\n",
    "                scale = 0.5, y0 = 0.5, z0 = 0.5, theta = pi/3, degree=2)\n",
    "\n",
    "bcl = DirichletBC(V, c, left)\n",
    "bcr = DirichletBC(V, r, right)\n",
    "bcs = [bcl, bcr]\n",
    "\n",
    "# Define functions\n",
    "du = TrialFunction(V)            # Incremental displacement\n",
    "v  = TestFunction(V)             # Test function\n",
    "u  = Function(V)                 # Displacement from previous iteration\n",
    "B  = Constant((0.0, -0.5, 0.0))  # Body force per unit volume\n",
    "T  = Constant((0.1,  0.0, 0.0))  # Traction force on the boundary\n",
    "\n",
    "# Kinematics\n",
    "d = len(u)\n",
    "I = Identity(d)             # Identity tensor\n",
    "F = I + grad(u)             # Deformation gradient\n",
    "C = F.T*F                   # Right Cauchy-Green tensor\n",
    "\n",
    "# Invariants of deformation tensors\n",
    "Ic = tr(C)\n",
    "J  = det(F)\n",
    "\n",
    "# Elasticity parameters\n",
    "E, nu = 10.0, 0.3\n",
    "mu, lmbda = Constant(E/(2*(1 + nu))), Constant(E*nu/((1 + nu)*(1 - 2*nu)))"
   ]
  },
  {
   "cell_type": "code",
   "execution_count": 4,
   "metadata": {
    "collapsed": true
   },
   "outputs": [],
   "source": [
    "# Stored strain energy density\n",
    "W = (mu/2)*(Ic - 3) - mu*ln(J) + (lmbda/2)*(ln(J))**2\n",
    "\n",
    "# Total potential energy\n",
    "E = W*dx - dot(B, u)*dx - dot(T, u)*ds\n",
    "\n",
    "# Compute first variation of E (about u, in direction v)\n",
    "# and its Jacobian\n",
    "F = derivative(E, u, v)\n",
    "J = derivative(F, u, du)\n",
    "\n",
    "# Solve and save\n",
    "solve(F == 0, u, bcs, J=J)\n",
    "\n",
    "file = File(\"displacement.pvd\");\n",
    "file << u;"
   ]
  }
 ],
 "metadata": {
  "kernelspec": {
   "display_name": "Python 3",
   "language": "python",
   "name": "python3"
  },
  "language_info": {
   "codemirror_mode": {
    "name": "ipython",
    "version": 3
   },
   "file_extension": ".py",
   "mimetype": "text/x-python",
   "name": "python",
   "nbconvert_exporter": "python",
   "pygments_lexer": "ipython3",
   "version": "3.5.2"
  }
 },
 "nbformat": 4,
 "nbformat_minor": 2
}
