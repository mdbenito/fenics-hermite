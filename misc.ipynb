{
 "cells": [
  {
   "cell_type": "markdown",
   "metadata": {
    "collapsed": true
   },
   "source": [
    "# Misc tests"
   ]
  },
  {
   "cell_type": "code",
   "execution_count": null,
   "metadata": {
    "collapsed": false
   },
   "outputs": [],
   "source": [
    "from dolfin import *\n",
    "# create mesh and define function space\n",
    "mesh = UnitCubeMesh(32, 32, 32)\n",
    "V = FunctionSpace(mesh, \"Lagrange\", 1)\n",
    "# define Dirichlet Boundary at bottom face\n",
    "def boundary(x):\n",
    "    return x[0] < DOLFIN_EPS\n",
    "\n",
    "# define boundary condition\n",
    "bc = DirichletBC(V, Constant(0.0), boundary)\n",
    "# define variational problem\n",
    "u = TrialFunction(V)\n",
    "v = TestFunction(V)\n",
    "f = Expression(\"10 * exp(-(pow(x[0] - 0.5, 2) + pow(x[1] - 0.5, 2) + pow(x[2] - 0.5, 2)) / 0.02)\", degree=1)\n",
    "a = inner(grad(u), grad(v)) * dx\n",
    "L = f*v*dx\n",
    "\n",
    "# Compute solution\n",
    "u = Function(V)\n",
    "solve(a == L, u, bc)"
   ]
  },
  {
   "cell_type": "code",
   "execution_count": null,
   "metadata": {
    "collapsed": false
   },
   "outputs": [],
   "source": [
    "plot(u, cmap='bone')"
   ]
  },
  {
   "cell_type": "code",
   "execution_count": null,
   "metadata": {
    "collapsed": false
   },
   "outputs": [],
   "source": [
    "print(\"This sometimes screws the notebook...\")\n",
    "#from IPython.core.display import HTML\n",
    "\n",
    "#HTML(X3DOM.html(u))"
   ]
  },
  {
   "cell_type": "markdown",
   "metadata": {},
   "source": [
    "# Periodic boundary conditions"
   ]
  },
  {
   "cell_type": "code",
   "execution_count": null,
   "metadata": {
    "collapsed": false
   },
   "outputs": [],
   "source": [
    "from dolfin import *\n",
    "from ffc.log import add_logfile, set_level, DEBUG\n",
    "set_level(DEBUG)\n",
    "add_logfile(\"/tmp/fenics.log\")\n",
    "\n",
    "class PeriodicBoundary(SubDomain):\n",
    "\n",
    "    def inside(self, x, on_boundary):\n",
    "        return bool((near(x[0], 0) or near(x[1], 0)) and \n",
    "                (not ((near(x[0], 0) and near(x[1], 1)) or \n",
    "                        (near(x[0], 1) and near(x[1], 0)))) and on_boundary)\n",
    "\n",
    "    def map(self, x, y):\n",
    "        if near(x[0], 1) and near(x[1], 1):\n",
    "            y[0] = x[0] - 1.\n",
    "            y[1] = x[1] - 1.\n",
    "        elif near(x[0], 1):\n",
    "            y[0] = x[0] - 1.\n",
    "            y[1] = x[1]\n",
    "        else:  \n",
    "            y[0] = x[0]\n",
    "            y[1] = x[1] - 1.\n",
    "\n",
    "k = 5\n",
    "n = 2**k \n",
    "mesh = UnitSquareMesh(n,n)\n",
    "V = VectorFunctionSpace(mesh, \"CG\", 1, constrained_domain = PeriodicBoundary())"
   ]
  },
  {
   "cell_type": "code",
   "execution_count": null,
   "metadata": {
    "collapsed": false
   },
   "outputs": [],
   "source": [
    "u = TrialFunction(V)\n",
    "v = TestFunction(V)\n",
    "s = Constant(\"1.0\")\n",
    "uex = Expression((\"-cos(2*DOLFIN_PI*x[1])\",\"-sin(2*DOLFIN_PI*x[0])\"), element=V.ufl_element())\n",
    "t = Expression((\"4*DOLFIN_PI*DOLFIN_PI*cos(2*DOLFIN_PI*x[1])\",\"4*DOLFIN_PI*DOLFIN_PI*sin(2*DOLFIN_PI*x[0])\"), element = V.ufl_element())\n",
    "a = -s*inner(grad(u), grad(v))*dx\n",
    "L = +s*div(v)*dx + inner(t, v)*dx\n",
    "\n",
    "u = Function(V)"
   ]
  },
  {
   "cell_type": "code",
   "execution_count": null,
   "metadata": {
    "collapsed": false
   },
   "outputs": [],
   "source": [
    "problem = LinearVariationalProblem(a, L, u, bcs=[])"
   ]
  },
  {
   "cell_type": "code",
   "execution_count": null,
   "metadata": {
    "collapsed": false
   },
   "outputs": [],
   "source": [
    "solver = LinearVariationalSolver(problem) \n",
    "solver.parameters[\"linear_solver\"] = \"gmres\"\n",
    "solver.parameters[\"preconditioner\"] = \"hypre_amg\"\n",
    "solver.parameters[\"krylov_solver\"][\"monitor_convergence\"] = False\n",
    "solver.parameters[\"krylov_solver\"][\"relative_tolerance\"] = 1e-10"
   ]
  },
  {
   "cell_type": "code",
   "execution_count": null,
   "metadata": {
    "collapsed": true
   },
   "outputs": [],
   "source": [
    "solver.solve()"
   ]
  },
  {
   "cell_type": "code",
   "execution_count": null,
   "metadata": {
    "collapsed": false
   },
   "outputs": [],
   "source": [
    "file = File(\"periodic_trial_%i.pvd\" % k)\n",
    "file << u\n",
    "file2 = File(\"periodic_exact.pvd\")\n",
    "u_exact =interpolate(uex, V) \n",
    "file2 << u_exact\n",
    "print(\"error %f\" % assemble(inner(u-u_exact, u-u_exact) * dx))"
   ]
  }
 ],
 "metadata": {
  "kernelspec": {
   "display_name": "Python 2",
   "language": "python",
   "name": "python2"
  },
  "language_info": {
   "codemirror_mode": {
    "name": "ipython",
    "version": 2
   },
   "file_extension": ".py",
   "mimetype": "text/x-python",
   "name": "python",
   "nbconvert_exporter": "python",
   "pygments_lexer": "ipython2",
   "version": "2.7.12"
  }
 },
 "nbformat": 4,
 "nbformat_minor": 1
}
