{
 "cells": [
  {
   "cell_type": "markdown",
   "metadata": {},
   "source": [
    "## Running and debugging\n",
    "\n",
    "Debugging in notebooks sucks. It's <strike>best</strike> better to use pdb inside emacs:\n",
    "\n",
    "1. Copy the code to a python file\n",
    "2. Run using pdb remotely via tramp+anaconda\n",
    "3. **Remember to set breakpoints in the files inside** `~/local/lib/python2.7/site-packages/` !!!\n",
    "\n",
    "## Current\n",
    "\n",
    "* Remember to work both in `quadraturetransformer.py` and `optimisedquadraturetransformer.py`.\n",
    "* Maybe you have to pass the whole `fiat_element.mapping()` array around?\n",
    "\n",
    "## Some definitions\n",
    "\n",
    "**Multiindex: ** An array like `[[0, 0], [0, 1], [1, 0], [1, 1]]`, where each element is a list of derivatives and each element in a derivative is the index of the spatial dimension along which it is taken. In the example we have $\\partial^2_x , \\partial_x \\partial_y , \\partial_y \\partial_x $ and $ \\partial^2_y$"
   ]
  },
  {
   "cell_type": "markdown",
   "metadata": {
    "collapsed": true
   },
   "source": [
    "# Misc tests"
   ]
  },
  {
   "cell_type": "code",
   "execution_count": null,
   "metadata": {
    "collapsed": false
   },
   "outputs": [],
   "source": [
    "from dolfin import *\n",
    "# create mesh and define function space\n",
    "mesh = UnitCubeMesh(32, 32, 32)\n",
    "V = FunctionSpace(mesh, \"Lagrange\", 1)\n",
    "# define Dirichlet Boundary at bottom face\n",
    "def boundary(x):\n",
    "    return x[0] < DOLFIN_EPS\n",
    "\n",
    "# define boundary condition\n",
    "bc = DirichletBC(V, Constant(0.0), boundary)\n",
    "# define variational problem\n",
    "u = TrialFunction(V)\n",
    "v = TestFunction(V)\n",
    "f = Expression(\"10 * exp(-(pow(x[0] - 0.5, 2) + pow(x[1] - 0.5, 2) + pow(x[2] - 0.5, 2)) / 0.02)\", degree=1)\n",
    "a = inner(grad(u), grad(v)) * dx\n",
    "L = f*v*dx\n",
    "\n",
    "# Compute solution\n",
    "u = Function(V)\n",
    "solve(a == L, u, bc)"
   ]
  },
  {
   "cell_type": "code",
   "execution_count": null,
   "metadata": {
    "collapsed": false
   },
   "outputs": [],
   "source": [
    "plot(u, cmap='bone')"
   ]
  },
  {
   "cell_type": "code",
   "execution_count": null,
   "metadata": {
    "collapsed": false
   },
   "outputs": [],
   "source": [
    "print(\"This sometimes screws the notebook...\")\n",
    "#from IPython.core.display import HTML\n",
    "\n",
    "#HTML(X3DOM.html(u))"
   ]
  },
  {
   "cell_type": "markdown",
   "metadata": {},
   "source": [
    "# DOFs & co\n",
    "\n",
    "Don't forget these..."
   ]
  },
  {
   "cell_type": "code",
   "execution_count": null,
   "metadata": {
    "collapsed": true
   },
   "outputs": [],
   "source": [
    "V = FunctionSpace(UnitIntervalMesh(4), \"Lagrange\", 1)\n",
    "u = interpolate(Expression(\"x[0]**2\", degree=1), V)\n",
    "\n",
    "# These only work on spaces where every vertex has exactly one dof\n",
    "dof_to_vertex_map(V)\n",
    "vertex_to_dof_map(V)\n",
    "\n",
    "# How to get expansion coefs on cell.\n",
    "# An alternative to this is u.restrict()\n",
    "cell_id = 1\n",
    "dofs = V.dofmap().cell_dofs(cell_id)\n",
    "dofs = u.vector()[dofs]"
   ]
  },
  {
   "cell_type": "markdown",
   "metadata": {},
   "source": [
    "# Building sparse matrices with PETSc4Py\n",
    "\n",
    "See:\n",
    "* https://github.com/pyHPC/pyhpc-tutorial/blob/master/markdown/scale/petsc4py-tutorial.md\n",
    "* https://www.bu.edu/pasi/files/2011/01/Lisandro-Dalcin-petsc4py.pdf\n",
    "* [This demo](https://bitbucket.org/cwilson/dolfin/src/883fcc4a12d53c7dae1bb9d5fc7e7302051b0bae/demo/undocumented/petsc4py/python/demo_petsc4py.py?at=master&fileviewer=file-view-default)\n",
    "\n",
    "There is a [bug](https://bugs.launchpad.net/dolfin/+bug/1063868) in the automatically generated documentation which affects [`GenericMatrix.set()`](https://fenicsproject.org/olddocs/dolfin/2016.2.0/python/programmers-reference/cpp/la/GenericMatrix.html?highlight=genericmatrix#dolfin.cpp.la.GenericMatrix.set) and `get()`. Only one function with three parameters is actually exposed by SWIG and the second and last are actually the indices of the rows and columns to modify."
   ]
  },
  {
   "cell_type": "code",
   "execution_count": null,
   "metadata": {
    "collapsed": false
   },
   "outputs": [],
   "source": [
    "from petsc4py import PETSc\n",
    "import numpy as np\n",
    "\n",
    "A = PETSc.Mat().create()\n",
    "A.setSizes([100, 100])\n",
    "#A.setType('python')\n",
    "#shell = Del2Mat(n) # what is this?\n",
    "#A.setPythonContext(shell)\n",
    "A.setType(\"aij\")\n",
    "A.setUp()\n",
    "\n",
    "A.setValues([1,2,3], [0,5,9], np.eye(3))\n",
    "A.assemble()\n",
    "\n",
    "B = A.convert(\"dense\")\n",
    "B.getDenseArray()"
   ]
  },
  {
   "cell_type": "markdown",
   "metadata": {},
   "source": [
    "## Inserting new data into PETSc matrices\n",
    "\n",
    "If we try to to `set()` or `add()` rows/cols of an already initialised sparse PETSc matrix, PETSc can complain with an \"out of range\" error (code #63) if the insertions don't agree with the sparsity pattern. From the [mailing list](http://lists.mcs.anl.gov/pipermail/petsc-users/2012-February/012242.html):\n",
    "\n",
    "    \"Preallocation routines now automatically set MAT_NEW_NONZERO_ALLOCATION_ERR,\n",
    "    if you intentionally preallocate less than necessary then use\n",
    "    MatSetOption(mat,MAT_NEW_NONZERO_ALLOCATION_ERR,PETSC_FALSE) to disable the\n",
    "    error generation\"\n",
    "\n",
    "Here are some constants: [PETScBool](http://www.mcs.anl.gov/petsc/petsc-current/docs/manualpages/Sys/PetscBool.html), [MatOption](http://www.mcs.anl.gov/petsc/petsc-current/docs/manualpages/Mat/MatOption.html), [PETSc error codes](https://www.mcs.anl.gov/petsc/petsc-current/include/petscerror.h.html)."
   ]
  },
  {
   "cell_type": "code",
   "execution_count": null,
   "metadata": {
    "collapsed": true
   },
   "outputs": [],
   "source": [
    "# Inject necessary constants into petsc4py's \"namespace\"\n",
    "PETSc.MAT_NEW_NONZERO_ALLOCATION_ERR = 19\n",
    "PETSc.PETSc_FALSE = 0\n",
    "\n",
    "# mock example:\n",
    "A = assemble(a)\n",
    "#A.set(block, row_indices, col_indices)   # error\n",
    "A.mat().setOption(PETSc.MAT_NEW_NONZERO_ALLOCATION_ERR, PETSc.FALSE)\n",
    "A.set(block, row_indices, col_indices)   # all good\n",
    "A.apply('insert')"
   ]
  },
  {
   "cell_type": "markdown",
   "metadata": {},
   "source": [
    "# Periodic boundary conditions"
   ]
  },
  {
   "cell_type": "code",
   "execution_count": null,
   "metadata": {
    "collapsed": false
   },
   "outputs": [],
   "source": [
    "from dolfin import *\n",
    "from ffc.log import add_logfile, set_level, DEBUG\n",
    "set_level(DEBUG)\n",
    "add_logfile(\"/tmp/fenics.log\")\n",
    "\n",
    "class PeriodicBoundary(SubDomain):\n",
    "\n",
    "    def inside(self, x, on_boundary):\n",
    "        return bool((near(x[0], 0) or near(x[1], 0)) and \n",
    "                (not ((near(x[0], 0) and near(x[1], 1)) or \n",
    "                        (near(x[0], 1) and near(x[1], 0)))) and on_boundary)\n",
    "\n",
    "    def map(self, x, y):\n",
    "        if near(x[0], 1) and near(x[1], 1):\n",
    "            y[0] = x[0] - 1.\n",
    "            y[1] = x[1] - 1.\n",
    "        elif near(x[0], 1):\n",
    "            y[0] = x[0] - 1.\n",
    "            y[1] = x[1]\n",
    "        else:  \n",
    "            y[0] = x[0]\n",
    "            y[1] = x[1] - 1.\n",
    "\n",
    "k = 5\n",
    "n = 2**k \n",
    "mesh = UnitSquareMesh(n, n)\n",
    "V = VectorFunctionSpace(mesh, 'CG', 1, constrained_domain = PeriodicBoundary())"
   ]
  },
  {
   "cell_type": "code",
   "execution_count": null,
   "metadata": {
    "collapsed": false
   },
   "outputs": [],
   "source": [
    "u = TrialFunction(V)\n",
    "v = TestFunction(V)\n",
    "s = Constant(\"1.0\")\n",
    "uex = Expression((\"-cos(2*DOLFIN_PI*x[1])\",\"-sin(2*DOLFIN_PI*x[0])\"), element=V.ufl_element())\n",
    "t = Expression((\"4*DOLFIN_PI*DOLFIN_PI*cos(2*DOLFIN_PI*x[1])\",\"4*DOLFIN_PI*DOLFIN_PI*sin(2*DOLFIN_PI*x[0])\"), element = V.ufl_element())\n",
    "a = -s*inner(grad(u), grad(v))*dx\n",
    "L = +s*div(v)*dx + inner(t, v)*dx\n",
    "\n",
    "u = Function(V)"
   ]
  },
  {
   "cell_type": "code",
   "execution_count": null,
   "metadata": {
    "collapsed": false
   },
   "outputs": [],
   "source": [
    "problem = LinearVariationalProblem(a, L, u, bcs=[])"
   ]
  },
  {
   "cell_type": "code",
   "execution_count": null,
   "metadata": {
    "collapsed": false
   },
   "outputs": [],
   "source": [
    "solver = LinearVariationalSolver(problem) \n",
    "solver.parameters[\"linear_solver\"] = \"gmres\"\n",
    "solver.parameters[\"preconditioner\"] = \"hypre_amg\"\n",
    "solver.parameters[\"krylov_solver\"][\"monitor_convergence\"] = False\n",
    "solver.parameters[\"krylov_solver\"][\"relative_tolerance\"] = 1e-10"
   ]
  },
  {
   "cell_type": "code",
   "execution_count": null,
   "metadata": {
    "collapsed": true
   },
   "outputs": [],
   "source": [
    "solver.solve()"
   ]
  },
  {
   "cell_type": "code",
   "execution_count": null,
   "metadata": {
    "collapsed": false
   },
   "outputs": [],
   "source": [
    "file = File(\"periodic_trial_%i.pvd\" % k)\n",
    "file << u\n",
    "file2 = File(\"periodic_exact.pvd\")\n",
    "u_exact =interpolate(uex, V) \n",
    "file2 << u_exact\n",
    "print(\"error %f\" % assemble(inner(u-u_exact, u-u_exact) * dx))"
   ]
  }
 ],
 "metadata": {
  "kernelspec": {
   "display_name": "Python 2",
   "language": "python",
   "name": "python2"
  },
  "language_info": {
   "codemirror_mode": {
    "name": "ipython",
    "version": 2
   },
   "file_extension": ".py",
   "mimetype": "text/x-python",
   "name": "python",
   "nbconvert_exporter": "python",
   "pygments_lexer": "ipython2",
   "version": "2.7.12"
  }
 },
 "nbformat": 4,
 "nbformat_minor": 1
}
