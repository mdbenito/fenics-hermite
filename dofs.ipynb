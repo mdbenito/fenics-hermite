{
 "cells": [
  {
   "cell_type": "markdown",
   "metadata": {},
   "source": [
    "# DOFs & co\n",
    "\n",
    "* This notebooks provides some toosl but is also a quick cheat sheet.\n",
    "\n",
    "A couple of reminders:\n",
    "\n",
    "* \"Local\" and \"global\" qualifiers applied to dofs are not always meant in the same sense. The usual sense is \"local to a cell\", \"global to the function space\", but sometimes local seems to mean \"local to a process\"!\n",
    "* `dolfin.vertex_to_dof_map()`, `dolfin.dof_to_vertex_map()` only work if all dofs are Lagrange."
   ]
  },
  {
   "cell_type": "code",
   "execution_count": null,
   "metadata": {
    "collapsed": true
   },
   "outputs": [],
   "source": [
    "# Boilerplate\n",
    "from dolfin import *\n",
    "import numpy as np\n",
    "import matplotlib.pyplot as pl\n",
    "%matplotlib inline\n",
    "\n",
    "def __nbinit__():\n",
    "    \"\"\" Initialisation for nbimporter. \"\"\"\n",
    "    global __all__\n",
    "    __all__ = ['plot_dofs', 'extract_dofs_with_mask',\n",
    "               'list_hermite_dofs', 'list_bubble_dofs']\n",
    "__nbinit__()"
   ]
  },
  {
   "cell_type": "markdown",
   "metadata": {},
   "source": [
    "# Plotting and extracting"
   ]
  },
  {
   "cell_type": "code",
   "execution_count": null,
   "metadata": {
    "collapsed": true
   },
   "outputs": [],
   "source": [
    "def plot_dofs(V:FunctionSpace, dofs:list, **kwargs):\n",
    "    \"\"\" Plots the mesh and the coordinates of dofs in it\n",
    "    with colored dots.\n",
    "    \n",
    "    Arguments\n",
    "    ---------\n",
    "        V: FunctionSpace of dimension 1,2 or 3\n",
    "        dofs: list of indices.\n",
    "        **kwargs: anything that matplotlib accepts.\n",
    "    \"\"\"\n",
    "    tdim = V.mesh().topology().dim()\n",
    "    all_dofs = zip(V.dofmap().dofs(), \n",
    "                   V.tabulate_dof_coordinates().reshape((-1, tdim)))\n",
    "    dofs_coordinates = np.array([dof[1] for dof in \n",
    "                                 filter(lambda p: p[0] in dofs, all_dofs)])\n",
    "    plot(V.mesh(), alpha=0.8)\n",
    "\n",
    "    if dofs_coordinates.size == 0:\n",
    "        return\n",
    "\n",
    "    kwargs.setdefault('linewidths', 0)\n",
    "    kwargs.setdefault('zorder', 10)\n",
    "    if tdim > 1:\n",
    "        kwargs.setdefault('s', 15)\n",
    "        pl.scatter(dofs_coordinates[:,0], dofs_coordinates[:,1], **kwargs)\n",
    "    else:\n",
    "        pl.ylim((-0.1, 0.1))\n",
    "        pl.scatter(dofs_coordinates, np.zeros_like(dofs_coordinates), **kwargs)"
   ]
  },
  {
   "cell_type": "code",
   "execution_count": null,
   "metadata": {
    "collapsed": true
   },
   "outputs": [],
   "source": [
    "def extract_dofs_with_mask(V:FunctionSpace, mask:list) -> list:\n",
    "    \"\"\" Given a local (per-cell) dof mask, return the list of global dofs which applies.\n",
    "    E.g. for a function space of elements with 10 dofs, and a mask [1,4,7], return the\n",
    "    list of all global dof indices corresponding to those local ones at each cell.\n",
    "    \"\"\"\n",
    "    dofs = set()\n",
    "    dm = V.dofmap()\n",
    "    for i in range(V.mesh().num_cells()):\n",
    "        dofs = dofs.union(set(dm.cell_dofs(i)[mask]))\n",
    "    return list(dofs)"
   ]
  },
  {
   "cell_type": "code",
   "execution_count": null,
   "metadata": {},
   "outputs": [],
   "source": [
    "def list_hermite_dofs(V:FunctionSpace) -> np.ndarray:\n",
    "    \"\"\" Returns the global indices of Hermite dofs in V.\n",
    "\n",
    "    Arguments\n",
    "    ---------\n",
    "        V: Any FunctionSpace. If it has Hermite (or DKT) elements, then\n",
    "           the indices of those dofs associated to PointDerivatives will\n",
    "           be returned.\n",
    "    Returns\n",
    "    -------\n",
    "        Global indices of hermite dofs.\n",
    "    \"\"\"\n",
    "    tdim = V.element().topological_dimension()\n",
    "    e = ffc.fiatinterface.create_element(V.ufl_element())\n",
    "    \n",
    "    # This mask filters out the Hermite dofs from the list of dofs of a cell:\n",
    "    mask = np.array(list(map(lambda f: isinstance(f, FIAT.functional.PointDerivative),\n",
    "                             e.dual_basis())))\n",
    "\n",
    "    return np.array(extract_dofs_with_mask(V, mask), dtype=np.uintc)"
   ]
  },
  {
   "cell_type": "code",
   "execution_count": null,
   "metadata": {},
   "outputs": [],
   "source": [
    "def list_bubble_dofs(V:FunctionSpace) -> np.ndarray:\n",
    "    \"\"\" Returns a list of all bubble dofs in V.\n",
    "    This only handles a couple of cases that I've needed.\n",
    "    \"\"\"\n",
    "    family = V.ufl_element().family().lower()\n",
    "    tdim = V.ufl_cell().topological_dimension()\n",
    "    degree = V.ufl_element().degree()\n",
    "    if family == 'hermite' and tdim == 2:\n",
    "        mask = [-1]\n",
    "    elif family == 'lagrange' and tdim == 2 and degree == 3:\n",
    "        mask = [-1]\n",
    "\n",
    "    return np.array(extract_dofs_with_mask(V, mask), dtype=np.uintc)"
   ]
  },
  {
   "cell_type": "code",
   "execution_count": null,
   "metadata": {},
   "outputs": [],
   "source": [
    "V = FunctionSpace(UnitSquareMesh(5,5), \"Lagrange\", 3)\n",
    "plot_dofs(V, list_bubble_dofs(V))"
   ]
  },
  {
   "cell_type": "markdown",
   "metadata": {},
   "source": [
    "# Pot-pourri"
   ]
  },
  {
   "cell_type": "code",
   "execution_count": null,
   "metadata": {
    "collapsed": true
   },
   "outputs": [],
   "source": [
    "V = FunctionSpace(UnitIntervalMesh(4), \"Lagrange\", 1)\n",
    "u = interpolate(Expression(\"x[0]*x[0]\", degree=1), V)\n",
    "\n",
    "# These only work on spaces where every vertex has exactly one dof\n",
    "dof_to_vertex_map(V)\n",
    "vertex_to_dof_map(V)\n",
    "\n",
    "# How to get expansion coefs on cell.\n",
    "# An alternative to this is u.restrict()\n",
    "cell_id = 1\n",
    "dofs = V.dofmap().cell_dofs(cell_id)\n",
    "dofs = u.vector()[dofs]\n",
    "\n",
    "# Global to local mapping (not needed):\n",
    "\n",
    "dm = V.dofmap()\n",
    "g2l = {}\n",
    "for cell in range(V.mesh().num_cells()):\n",
    "    l2g = dm.cell_dofs(cell)\n",
    "    g2l.update({v:k for k,v in zip(range(len(l2g)), l2g)})"
   ]
  },
  {
   "cell_type": "code",
   "execution_count": null,
   "metadata": {
    "collapsed": true
   },
   "outputs": [],
   "source": [
    "mesh = refine(refine(refine(UnitTriangleMesh())))\n",
    "cell_id = mesh.bounding_box_tree().compute_first_entity_collision(Point(np.array([0.1, 0.1])))\n",
    "cell = Cell(mesh, cell_id)\n",
    "\n",
    "# The following two should coincide if all dofs are on vertices.\n",
    "print(\"Cell.get_coordinate_dofs() returns the physical coordinates associated to the DOFs in the cell.\")\n",
    "print(cell.get_coordinate_dofs())\n",
    "print(\"Cell.get_vertex_coordinates() returns the physical coordinates of the vertices in the cell.\")\n",
    "print(cell.get_vertex_coordinates())"
   ]
  },
  {
   "cell_type": "code",
   "execution_count": null,
   "metadata": {
    "collapsed": true
   },
   "outputs": [],
   "source": [
    "def tabulate_cell_data(V):\n",
    "    \"\"\" Print some info on dofs and coords of cells in a mesh.\n",
    "\n",
    "    Arguments:\n",
    "    ----------\n",
    "        V: FunctionSpace.\n",
    "    \"\"\"\n",
    "    mesh = V.mesh()\n",
    "    element = V.element()\n",
    "    dm = V.dofmap()\n",
    "    for cell in cells(mesh):\n",
    "        print(\"At cell: %s\" % cell)\n",
    "        print(\"\\tDOF coordinates: %s\" % np.round(element.tabulate_dof_coordinates(cell), 3).T)\n",
    "        l2g = [\"%d -> %d\" % (i, j) for i,j in enumerate(dm.cell_dofs(cell.index()))]\n",
    "        print(\"\\tLocal to global DOF map: %s\" % \", \".join(l2g))\n",
    "        print(\"\\tCell coordinate DOFs: %s\" % cell.get_coordinate_dofs())"
   ]
  },
  {
   "cell_type": "code",
   "execution_count": null,
   "metadata": {
    "collapsed": true
   },
   "outputs": [],
   "source": [
    "tabulate_cell_data(V)"
   ]
  },
  {
   "cell_type": "markdown",
   "metadata": {},
   "source": [
    "# Dofs in VectorFunctionSpace&lt;CG2&gt;\n",
    "\n",
    "The first six are for one component, the second six for the second one (i.e. they go in pairs (n, n+6)). It seems that the ordering is $z_1, z_2, z_3$ then $s_1, s_2, s_3$ with $s_l$ on the side facing $z_l$. ** CHECK THIS **"
   ]
  },
  {
   "cell_type": "code",
   "execution_count": null,
   "metadata": {
    "collapsed": true
   },
   "outputs": [],
   "source": [
    "mesh = UnitSquareMesh(1, 1)\n",
    "V = FunctionSpace(mesh, 'DKT', 3)\n",
    "Vp = VectorFunctionSpace(mesh, \"Lagrange\", 2, dim=2)\n",
    "dm = V.dofmap()\n",
    "dmp1, dmp2 = Vp.sub(0).dofmap(), Vp.sub(1).dofmap()\n",
    "\n",
    "coords = Vp.tabulate_dof_coordinates().reshape((-1,2))\n",
    "for i in range(2):\n",
    "    print(\"=====Cell %d=====\" % i)\n",
    "    for dof, xy in zip(dmp1.cell_dofs(i), coords[dmp1.cell_dofs(i)]):\n",
    "        print(\"%d -> %s\" %(dof, xy))\n",
    "\n",
    "plot_dofs(Vp, dmp1.cell_dofs(0))"
   ]
  },
  {
   "cell_type": "markdown",
   "metadata": {},
   "source": [
    "We need to remap the indices to have both components for each dof consecutively listed:"
   ]
  },
  {
   "cell_type": "code",
   "execution_count": null,
   "metadata": {
    "collapsed": true
   },
   "outputs": [],
   "source": [
    "from itertools import chain\n",
    "\n",
    "dofs = list(chain.from_iterable(zip(dmp1.cell_dofs(0), dmp2.cell_dofs(0))))\n",
    "dofs"
   ]
  }
 ],
 "metadata": {
  "hide_input": false,
  "kernelspec": {
   "display_name": "Python 3",
   "language": "python",
   "name": "python3"
  },
  "language_info": {
   "codemirror_mode": {
    "name": "ipython",
    "version": 3
   },
   "file_extension": ".py",
   "mimetype": "text/x-python",
   "name": "python",
   "nbconvert_exporter": "python",
   "pygments_lexer": "ipython3",
   "version": "3.5.2"
  },
  "toc": {
   "colors": {
    "hover_highlight": "#DAA520",
    "running_highlight": "#FF0000",
    "selected_highlight": "#FFD700"
   },
   "moveMenuLeft": true,
   "nav_menu": {
    "height": "123px",
    "width": "254px"
   },
   "navigate_menu": true,
   "number_sections": true,
   "sideBar": true,
   "threshold": 4,
   "toc_cell": false,
   "toc_section_display": "block",
   "toc_window_display": false,
   "widenNotebook": false
  }
 },
 "nbformat": 4,
 "nbformat_minor": 1
}
