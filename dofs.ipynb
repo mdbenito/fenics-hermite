{
 "cells": [
  {
   "cell_type": "markdown",
   "metadata": {},
   "source": [
    "# DOFs & co\n",
    "\n",
    "Don't forget these..."
   ]
  },
  {
   "cell_type": "code",
   "execution_count": null,
   "metadata": {
    "collapsed": true
   },
   "outputs": [],
   "source": [
    "V = FunctionSpace(UnitIntervalMesh(4), \"Lagrange\", 1)\n",
    "u = interpolate(Expression(\"x[0]**2\", degree=1), V)\n",
    "\n",
    "# These only work on spaces where every vertex has exactly one dof\n",
    "dof_to_vertex_map(V)\n",
    "vertex_to_dof_map(V)\n",
    "\n",
    "# How to get expansion coefs on cell.\n",
    "# An alternative to this is u.restrict()\n",
    "cell_id = 1\n",
    "dofs = V.dofmap().cell_dofs(cell_id)\n",
    "dofs = u.vector()[dofs]\n",
    "\n",
    "# Global to local mapping (not needed):\n",
    "\n",
    "dm = V.dofmap()\n",
    "g2l = {}\n",
    "for cell in range(V.mesh().num_cells()):\n",
    "    l2g = dm.cell_dofs(cell)\n",
    "    g2l.update({v:k for k,v in zip(range(len(l2g)), l2g)})"
   ]
  },
  {
   "cell_type": "code",
   "execution_count": null,
   "metadata": {},
   "outputs": [],
   "source": [
    "mesh = refine(refine(refine(UnitTriangleMesh())))\n",
    "cell_id = mesh.bounding_box_tree().compute_first_entity_collision(Point(np.array([0.1, 0.1])))\n",
    "cell = Cell(mesh, cell_id)\n",
    "\n",
    "# The following two should coincide if all dofs are on vertices.\n",
    "print(\"Cell.get_coordinate_dofs() returns the physical coordinates associated to the DOFs in the cell.\")\n",
    "print(cell.get_coordinate_dofs())\n",
    "print(\"Cell.get_vertex_coordinates() returns the physical coordinates of the vertices in the cell.\")\n",
    "print(cell.get_vertex_coordinates())"
   ]
  },
  {
   "cell_type": "code",
   "execution_count": null,
   "metadata": {
    "collapsed": true
   },
   "outputs": [],
   "source": [
    "def tabulate_cell_data(V):\n",
    "    \"\"\" Print some info on dofs and coords of cells in a mesh.\n",
    "\n",
    "    Arguments:\n",
    "    ----------\n",
    "        V: FunctionSpace.\n",
    "    \"\"\"\n",
    "    mesh = V.mesh()\n",
    "    element = V.element()\n",
    "    dm = V.dofmap()\n",
    "    for cell in cells(mesh):\n",
    "        print(\"At cell: %s\" % cell)\n",
    "        print(\"\\tDOF coordinates: %s\" % np.round(element.tabulate_dof_coordinates(cell), 3).T)\n",
    "        l2g = [\"%d -> %d\" % (i, j) for i,j in enumerate(dm.cell_dofs(cell.index()))]\n",
    "        print(\"\\tLocal to global DOF map: %s\" % \", \".join(l2g))\n",
    "        print(\"\\tCell coordinate DOFs: %s\" % cell.get_coordinate_dofs())"
   ]
  },
  {
   "cell_type": "code",
   "execution_count": null,
   "metadata": {},
   "outputs": [],
   "source": [
    "tabulate_cell_data(V)"
   ]
  },
  {
   "cell_type": "markdown",
   "metadata": {},
   "source": [
    "## Dofs in VectorFunctionSpace&lt;CG2&gt;\n",
    "\n",
    "The first six are for one component, the second six for the second one (i.e. they go in pairs (n, n+6)). It seems that the ordering is $z_1, z_2, z_3$ then $s_1, s_2, s_3$ with $s_l$ on the side facing $z_l$. ** CHECK THIS **"
   ]
  },
  {
   "cell_type": "code",
   "execution_count": null,
   "metadata": {},
   "outputs": [],
   "source": [
    "from dolfin import *\n",
    "import nbimporter\n",
    "from boundary import plot_dofs\n",
    "%matplotlib inline\n",
    "\n",
    "mesh = UnitSquareMesh(1, 1)\n",
    "V = FunctionSpace(mesh, 'DKT', 3)\n",
    "Vp = VectorFunctionSpace(mesh, \"Lagrange\", 2, dim=2)\n",
    "dm = V.dofmap()\n",
    "dmp1, dmp2 = Vp.sub(0).dofmap(), Vp.sub(1).dofmap()\n",
    "\n",
    "coords = Vp.tabulate_dof_coordinates().reshape((-1,2))\n",
    "for i in range(2):\n",
    "    print(\"=====Cell %d=====\" % i)\n",
    "    for dof, xy in zip(dmp1.cell_dofs(i), coords[dmp1.cell_dofs(i)]):\n",
    "        print(\"%d -> %s\" %(dof, xy))\n",
    "\n",
    "plot_dofs(Vp, dmp1.cell_dofs(0))"
   ]
  },
  {
   "cell_type": "markdown",
   "metadata": {},
   "source": [
    "We need to remap the indices to have both components for each dof consecutively listed:"
   ]
  },
  {
   "cell_type": "code",
   "execution_count": null,
   "metadata": {},
   "outputs": [],
   "source": [
    "from itertools import chain\n",
    "\n",
    "dofs = list(chain.from_iterable(zip(dmp1.cell_dofs(0), dmp2.cell_dofs(0))))\n",
    "dofs"
   ]
  }
 ],
 "metadata": {
  "kernelspec": {
   "display_name": "Python 3",
   "language": "python",
   "name": "python3"
  },
  "language_info": {
   "codemirror_mode": {
    "name": "ipython",
    "version": 3
   },
   "file_extension": ".py",
   "mimetype": "text/x-python",
   "name": "python",
   "nbconvert_exporter": "python",
   "pygments_lexer": "ipython3",
   "version": "3.5.2"
  }
 },
 "nbformat": 4,
 "nbformat_minor": 1
}
